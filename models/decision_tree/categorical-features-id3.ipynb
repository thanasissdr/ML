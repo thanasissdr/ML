{
 "cells": [
  {
   "cell_type": "code",
   "execution_count": 1,
   "id": "fb5b86e7",
   "metadata": {},
   "outputs": [
    {
     "data": {
      "application/javascript": [
       "\n",
       "            setTimeout(function() {\n",
       "                var nbb_cell_id = 1;\n",
       "                var nbb_unformatted_code = \"%load_ext nb_black\";\n",
       "                var nbb_formatted_code = \"%load_ext nb_black\";\n",
       "                var nbb_cells = Jupyter.notebook.get_cells();\n",
       "                for (var i = 0; i < nbb_cells.length; ++i) {\n",
       "                    if (nbb_cells[i].input_prompt_number == nbb_cell_id) {\n",
       "                        if (nbb_cells[i].get_text() == nbb_unformatted_code) {\n",
       "                             nbb_cells[i].set_text(nbb_formatted_code);\n",
       "                        }\n",
       "                        break;\n",
       "                    }\n",
       "                }\n",
       "            }, 500);\n",
       "            "
      ],
      "text/plain": [
       "<IPython.core.display.Javascript object>"
      ]
     },
     "metadata": {},
     "output_type": "display_data"
    }
   ],
   "source": [
    "%load_ext nb_black"
   ]
  },
  {
   "cell_type": "code",
   "execution_count": 2,
   "id": "e2b8760b",
   "metadata": {},
   "outputs": [
    {
     "data": {
      "application/javascript": [
       "\n",
       "            setTimeout(function() {\n",
       "                var nbb_cell_id = 2;\n",
       "                var nbb_unformatted_code = \"import matplotlib.pyplot as plt\\nimport pandas as pd\\n\\nfrom collections import Counter\\nfrom math import log\\n\\n\\nfrom sklearn import tree\\nfrom sklearn.base import BaseEstimator, TransformerMixin\\nfrom sklearn.compose import ColumnTransformer\\nfrom sklearn.preprocessing import OrdinalEncoder, OneHotEncoder\\nfrom sklearn.pipeline import Pipeline, FeatureUnion\\nfrom sklearn.tree import DecisionTreeClassifier\\n\\n\\n\\n\\nfrom categorical_features_id3 import GiniRunner, EntropyRunner, TreeBaseRunner\";\n",
       "                var nbb_formatted_code = \"import matplotlib.pyplot as plt\\nimport pandas as pd\\n\\nfrom collections import Counter\\nfrom math import log\\n\\n\\nfrom sklearn import tree\\nfrom sklearn.base import BaseEstimator, TransformerMixin\\nfrom sklearn.compose import ColumnTransformer\\nfrom sklearn.preprocessing import OrdinalEncoder, OneHotEncoder\\nfrom sklearn.pipeline import Pipeline, FeatureUnion\\nfrom sklearn.tree import DecisionTreeClassifier\\n\\n\\nfrom categorical_features_id3 import GiniRunner, EntropyRunner, TreeBaseRunner\";\n",
       "                var nbb_cells = Jupyter.notebook.get_cells();\n",
       "                for (var i = 0; i < nbb_cells.length; ++i) {\n",
       "                    if (nbb_cells[i].input_prompt_number == nbb_cell_id) {\n",
       "                        if (nbb_cells[i].get_text() == nbb_unformatted_code) {\n",
       "                             nbb_cells[i].set_text(nbb_formatted_code);\n",
       "                        }\n",
       "                        break;\n",
       "                    }\n",
       "                }\n",
       "            }, 500);\n",
       "            "
      ],
      "text/plain": [
       "<IPython.core.display.Javascript object>"
      ]
     },
     "metadata": {},
     "output_type": "display_data"
    }
   ],
   "source": [
    "import matplotlib.pyplot as plt\n",
    "import pandas as pd\n",
    "\n",
    "from collections import Counter\n",
    "from math import log\n",
    "\n",
    "\n",
    "from sklearn import tree\n",
    "from sklearn.base import BaseEstimator, TransformerMixin\n",
    "from sklearn.compose import ColumnTransformer\n",
    "from sklearn.preprocessing import OrdinalEncoder, OneHotEncoder\n",
    "from sklearn.pipeline import Pipeline, FeatureUnion\n",
    "from sklearn.tree import DecisionTreeClassifier\n",
    "\n",
    "\n",
    "\n",
    "\n",
    "from categorical_features_id3 import GiniRunner, EntropyRunner, TreeBaseRunner\n"
   ]
  },
  {
   "cell_type": "markdown",
   "id": "e55c8517",
   "metadata": {},
   "source": [
    "# Create the data"
   ]
  },
  {
   "cell_type": "code",
   "execution_count": 3,
   "id": "73b95b01",
   "metadata": {},
   "outputs": [
    {
     "data": {
      "application/javascript": [
       "\n",
       "            setTimeout(function() {\n",
       "                var nbb_cell_id = 3;\n",
       "                var nbb_unformatted_code = \"OUTLOOK = [\\n    \\\"sunny\\\",\\n    \\\"sunny\\\",\\n    \\\"overcast\\\",\\n    \\\"rainy\\\",\\n    \\\"rainy\\\",\\n    \\\"rainy\\\",\\n    \\\"overcast\\\",\\n    \\\"sunny\\\",\\n    \\\"sunny\\\",\\n    \\\"rainy\\\",\\n    \\\"sunny\\\",\\n    \\\"overcast\\\",\\n    \\\"overcast\\\",\\n    \\\"rainy\\\",\\n]\\n\\nTEMPERATURE = [\\n    \\\"hot\\\",\\n    \\\"hot\\\",\\n    \\\"hot\\\",\\n    \\\"mild\\\",\\n    \\\"cool\\\",\\n    \\\"cool\\\",\\n    \\\"cool\\\",\\n    \\\"mild\\\",\\n    \\\"cool\\\",\\n    \\\"mild\\\",\\n    \\\"mild\\\",\\n    \\\"mild\\\",\\n    \\\"hot\\\",\\n    \\\"mild\\\",\\n]\\nHUMIDITY = [\\n    \\\"high\\\",\\n    \\\"high\\\",\\n    \\\"high\\\",\\n    \\\"high\\\",\\n    \\\"normal\\\",\\n    \\\"normal\\\",\\n    \\\"normal\\\",\\n    \\\"high\\\",\\n    \\\"normal\\\",\\n    \\\"normal\\\",\\n    \\\"normal\\\",\\n    \\\"high\\\",\\n    \\\"normal\\\",\\n    \\\"high\\\",\\n]\\nWINDY = [\\n    False,\\n    True,\\n    False,\\n    False,\\n    False,\\n    True,\\n    True,\\n    False,\\n    False,\\n    False,\\n    True,\\n    True,\\n    False,\\n    True,\\n]\\nTARGET = [\\n    \\\"no\\\",\\n    \\\"no\\\",\\n    \\\"yes\\\",\\n    \\\"yes\\\",\\n    \\\"yes\\\",\\n    \\\"no\\\",\\n    \\\"yes\\\",\\n    \\\"no\\\",\\n    \\\"yes\\\",\\n    \\\"yes\\\",\\n    \\\"yes\\\",\\n    \\\"yes\\\",\\n    \\\"yes\\\",\\n    \\\"no\\\",\\n]\";\n",
       "                var nbb_formatted_code = \"OUTLOOK = [\\n    \\\"sunny\\\",\\n    \\\"sunny\\\",\\n    \\\"overcast\\\",\\n    \\\"rainy\\\",\\n    \\\"rainy\\\",\\n    \\\"rainy\\\",\\n    \\\"overcast\\\",\\n    \\\"sunny\\\",\\n    \\\"sunny\\\",\\n    \\\"rainy\\\",\\n    \\\"sunny\\\",\\n    \\\"overcast\\\",\\n    \\\"overcast\\\",\\n    \\\"rainy\\\",\\n]\\n\\nTEMPERATURE = [\\n    \\\"hot\\\",\\n    \\\"hot\\\",\\n    \\\"hot\\\",\\n    \\\"mild\\\",\\n    \\\"cool\\\",\\n    \\\"cool\\\",\\n    \\\"cool\\\",\\n    \\\"mild\\\",\\n    \\\"cool\\\",\\n    \\\"mild\\\",\\n    \\\"mild\\\",\\n    \\\"mild\\\",\\n    \\\"hot\\\",\\n    \\\"mild\\\",\\n]\\nHUMIDITY = [\\n    \\\"high\\\",\\n    \\\"high\\\",\\n    \\\"high\\\",\\n    \\\"high\\\",\\n    \\\"normal\\\",\\n    \\\"normal\\\",\\n    \\\"normal\\\",\\n    \\\"high\\\",\\n    \\\"normal\\\",\\n    \\\"normal\\\",\\n    \\\"normal\\\",\\n    \\\"high\\\",\\n    \\\"normal\\\",\\n    \\\"high\\\",\\n]\\nWINDY = [\\n    False,\\n    True,\\n    False,\\n    False,\\n    False,\\n    True,\\n    True,\\n    False,\\n    False,\\n    False,\\n    True,\\n    True,\\n    False,\\n    True,\\n]\\nTARGET = [\\n    \\\"no\\\",\\n    \\\"no\\\",\\n    \\\"yes\\\",\\n    \\\"yes\\\",\\n    \\\"yes\\\",\\n    \\\"no\\\",\\n    \\\"yes\\\",\\n    \\\"no\\\",\\n    \\\"yes\\\",\\n    \\\"yes\\\",\\n    \\\"yes\\\",\\n    \\\"yes\\\",\\n    \\\"yes\\\",\\n    \\\"no\\\",\\n]\";\n",
       "                var nbb_cells = Jupyter.notebook.get_cells();\n",
       "                for (var i = 0; i < nbb_cells.length; ++i) {\n",
       "                    if (nbb_cells[i].input_prompt_number == nbb_cell_id) {\n",
       "                        if (nbb_cells[i].get_text() == nbb_unformatted_code) {\n",
       "                             nbb_cells[i].set_text(nbb_formatted_code);\n",
       "                        }\n",
       "                        break;\n",
       "                    }\n",
       "                }\n",
       "            }, 500);\n",
       "            "
      ],
      "text/plain": [
       "<IPython.core.display.Javascript object>"
      ]
     },
     "metadata": {},
     "output_type": "display_data"
    }
   ],
   "source": [
    "OUTLOOK = [\n",
    "    \"sunny\",\n",
    "    \"sunny\",\n",
    "    \"overcast\",\n",
    "    \"rainy\",\n",
    "    \"rainy\",\n",
    "    \"rainy\",\n",
    "    \"overcast\",\n",
    "    \"sunny\",\n",
    "    \"sunny\",\n",
    "    \"rainy\",\n",
    "    \"sunny\",\n",
    "    \"overcast\",\n",
    "    \"overcast\",\n",
    "    \"rainy\",\n",
    "]\n",
    "\n",
    "TEMPERATURE = [\n",
    "    \"hot\",\n",
    "    \"hot\",\n",
    "    \"hot\",\n",
    "    \"mild\",\n",
    "    \"cool\",\n",
    "    \"cool\",\n",
    "    \"cool\",\n",
    "    \"mild\",\n",
    "    \"cool\",\n",
    "    \"mild\",\n",
    "    \"mild\",\n",
    "    \"mild\",\n",
    "    \"hot\",\n",
    "    \"mild\",\n",
    "]\n",
    "HUMIDITY = [\n",
    "    \"high\",\n",
    "    \"high\",\n",
    "    \"high\",\n",
    "    \"high\",\n",
    "    \"normal\",\n",
    "    \"normal\",\n",
    "    \"normal\",\n",
    "    \"high\",\n",
    "    \"normal\",\n",
    "    \"normal\",\n",
    "    \"normal\",\n",
    "    \"high\",\n",
    "    \"normal\",\n",
    "    \"high\",\n",
    "]\n",
    "WINDY = [\n",
    "    False,\n",
    "    True,\n",
    "    False,\n",
    "    False,\n",
    "    False,\n",
    "    True,\n",
    "    True,\n",
    "    False,\n",
    "    False,\n",
    "    False,\n",
    "    True,\n",
    "    True,\n",
    "    False,\n",
    "    True,\n",
    "]\n",
    "TARGET = [\n",
    "    \"no\",\n",
    "    \"no\",\n",
    "    \"yes\",\n",
    "    \"yes\",\n",
    "    \"yes\",\n",
    "    \"no\",\n",
    "    \"yes\",\n",
    "    \"no\",\n",
    "    \"yes\",\n",
    "    \"yes\",\n",
    "    \"yes\",\n",
    "    \"yes\",\n",
    "    \"yes\",\n",
    "    \"no\",\n",
    "]"
   ]
  },
  {
   "cell_type": "code",
   "execution_count": 4,
   "id": "4ac296ed",
   "metadata": {},
   "outputs": [
    {
     "data": {
      "text/html": [
       "<div>\n",
       "<style scoped>\n",
       "    .dataframe tbody tr th:only-of-type {\n",
       "        vertical-align: middle;\n",
       "    }\n",
       "\n",
       "    .dataframe tbody tr th {\n",
       "        vertical-align: top;\n",
       "    }\n",
       "\n",
       "    .dataframe thead th {\n",
       "        text-align: right;\n",
       "    }\n",
       "</style>\n",
       "<table border=\"1\" class=\"dataframe\">\n",
       "  <thead>\n",
       "    <tr style=\"text-align: right;\">\n",
       "      <th></th>\n",
       "      <th>outlook</th>\n",
       "      <th>temperature</th>\n",
       "      <th>humidity</th>\n",
       "      <th>windy</th>\n",
       "      <th>target</th>\n",
       "    </tr>\n",
       "  </thead>\n",
       "  <tbody>\n",
       "    <tr>\n",
       "      <th>0</th>\n",
       "      <td>sunny</td>\n",
       "      <td>hot</td>\n",
       "      <td>high</td>\n",
       "      <td>False</td>\n",
       "      <td>no</td>\n",
       "    </tr>\n",
       "    <tr>\n",
       "      <th>1</th>\n",
       "      <td>sunny</td>\n",
       "      <td>hot</td>\n",
       "      <td>high</td>\n",
       "      <td>True</td>\n",
       "      <td>no</td>\n",
       "    </tr>\n",
       "    <tr>\n",
       "      <th>2</th>\n",
       "      <td>overcast</td>\n",
       "      <td>hot</td>\n",
       "      <td>high</td>\n",
       "      <td>False</td>\n",
       "      <td>yes</td>\n",
       "    </tr>\n",
       "    <tr>\n",
       "      <th>3</th>\n",
       "      <td>rainy</td>\n",
       "      <td>mild</td>\n",
       "      <td>high</td>\n",
       "      <td>False</td>\n",
       "      <td>yes</td>\n",
       "    </tr>\n",
       "    <tr>\n",
       "      <th>4</th>\n",
       "      <td>rainy</td>\n",
       "      <td>cool</td>\n",
       "      <td>normal</td>\n",
       "      <td>False</td>\n",
       "      <td>yes</td>\n",
       "    </tr>\n",
       "    <tr>\n",
       "      <th>5</th>\n",
       "      <td>rainy</td>\n",
       "      <td>cool</td>\n",
       "      <td>normal</td>\n",
       "      <td>True</td>\n",
       "      <td>no</td>\n",
       "    </tr>\n",
       "    <tr>\n",
       "      <th>6</th>\n",
       "      <td>overcast</td>\n",
       "      <td>cool</td>\n",
       "      <td>normal</td>\n",
       "      <td>True</td>\n",
       "      <td>yes</td>\n",
       "    </tr>\n",
       "    <tr>\n",
       "      <th>7</th>\n",
       "      <td>sunny</td>\n",
       "      <td>mild</td>\n",
       "      <td>high</td>\n",
       "      <td>False</td>\n",
       "      <td>no</td>\n",
       "    </tr>\n",
       "    <tr>\n",
       "      <th>8</th>\n",
       "      <td>sunny</td>\n",
       "      <td>cool</td>\n",
       "      <td>normal</td>\n",
       "      <td>False</td>\n",
       "      <td>yes</td>\n",
       "    </tr>\n",
       "    <tr>\n",
       "      <th>9</th>\n",
       "      <td>rainy</td>\n",
       "      <td>mild</td>\n",
       "      <td>normal</td>\n",
       "      <td>False</td>\n",
       "      <td>yes</td>\n",
       "    </tr>\n",
       "    <tr>\n",
       "      <th>10</th>\n",
       "      <td>sunny</td>\n",
       "      <td>mild</td>\n",
       "      <td>normal</td>\n",
       "      <td>True</td>\n",
       "      <td>yes</td>\n",
       "    </tr>\n",
       "    <tr>\n",
       "      <th>11</th>\n",
       "      <td>overcast</td>\n",
       "      <td>mild</td>\n",
       "      <td>high</td>\n",
       "      <td>True</td>\n",
       "      <td>yes</td>\n",
       "    </tr>\n",
       "    <tr>\n",
       "      <th>12</th>\n",
       "      <td>overcast</td>\n",
       "      <td>hot</td>\n",
       "      <td>normal</td>\n",
       "      <td>False</td>\n",
       "      <td>yes</td>\n",
       "    </tr>\n",
       "    <tr>\n",
       "      <th>13</th>\n",
       "      <td>rainy</td>\n",
       "      <td>mild</td>\n",
       "      <td>high</td>\n",
       "      <td>True</td>\n",
       "      <td>no</td>\n",
       "    </tr>\n",
       "  </tbody>\n",
       "</table>\n",
       "</div>"
      ],
      "text/plain": [
       "     outlook temperature humidity  windy target\n",
       "0      sunny         hot     high  False     no\n",
       "1      sunny         hot     high   True     no\n",
       "2   overcast         hot     high  False    yes\n",
       "3      rainy        mild     high  False    yes\n",
       "4      rainy        cool   normal  False    yes\n",
       "5      rainy        cool   normal   True     no\n",
       "6   overcast        cool   normal   True    yes\n",
       "7      sunny        mild     high  False     no\n",
       "8      sunny        cool   normal  False    yes\n",
       "9      rainy        mild   normal  False    yes\n",
       "10     sunny        mild   normal   True    yes\n",
       "11  overcast        mild     high   True    yes\n",
       "12  overcast         hot   normal  False    yes\n",
       "13     rainy        mild     high   True     no"
      ]
     },
     "execution_count": 4,
     "metadata": {},
     "output_type": "execute_result"
    },
    {
     "data": {
      "application/javascript": [
       "\n",
       "            setTimeout(function() {\n",
       "                var nbb_cell_id = 4;\n",
       "                var nbb_unformatted_code = \"df = pd.DataFrame(\\n    {\\n        \\\"outlook\\\": OUTLOOK,\\n        \\\"temperature\\\": TEMPERATURE,\\n        \\\"humidity\\\": HUMIDITY,\\n        \\\"windy\\\": WINDY,\\n        \\\"target\\\": TARGET,\\n    }\\n)\\ndf[\\\"windy\\\"] = df[\\\"windy\\\"].astype(\\\"str\\\")\\n\\ndf\";\n",
       "                var nbb_formatted_code = \"df = pd.DataFrame(\\n    {\\n        \\\"outlook\\\": OUTLOOK,\\n        \\\"temperature\\\": TEMPERATURE,\\n        \\\"humidity\\\": HUMIDITY,\\n        \\\"windy\\\": WINDY,\\n        \\\"target\\\": TARGET,\\n    }\\n)\\ndf[\\\"windy\\\"] = df[\\\"windy\\\"].astype(\\\"str\\\")\\n\\ndf\";\n",
       "                var nbb_cells = Jupyter.notebook.get_cells();\n",
       "                for (var i = 0; i < nbb_cells.length; ++i) {\n",
       "                    if (nbb_cells[i].input_prompt_number == nbb_cell_id) {\n",
       "                        if (nbb_cells[i].get_text() == nbb_unformatted_code) {\n",
       "                             nbb_cells[i].set_text(nbb_formatted_code);\n",
       "                        }\n",
       "                        break;\n",
       "                    }\n",
       "                }\n",
       "            }, 500);\n",
       "            "
      ],
      "text/plain": [
       "<IPython.core.display.Javascript object>"
      ]
     },
     "metadata": {},
     "output_type": "display_data"
    }
   ],
   "source": [
    "df = pd.DataFrame(\n",
    "    {\n",
    "        \"outlook\": OUTLOOK,\n",
    "        \"temperature\": TEMPERATURE,\n",
    "        \"humidity\": HUMIDITY,\n",
    "        \"windy\": WINDY,\n",
    "        \"target\": TARGET,\n",
    "    }\n",
    ")\n",
    "df[\"windy\"] = df[\"windy\"].astype(\"str\")\n",
    "\n",
    "df"
   ]
  },
  {
   "cell_type": "code",
   "execution_count": 5,
   "id": "821f5c56",
   "metadata": {},
   "outputs": [
    {
     "data": {
      "application/javascript": [
       "\n",
       "            setTimeout(function() {\n",
       "                var nbb_cell_id = 5;\n",
       "                var nbb_unformatted_code = \"X = df.drop(\\\"target\\\", axis=1)\\ny = df[\\\"target\\\"]\";\n",
       "                var nbb_formatted_code = \"X = df.drop(\\\"target\\\", axis=1)\\ny = df[\\\"target\\\"]\";\n",
       "                var nbb_cells = Jupyter.notebook.get_cells();\n",
       "                for (var i = 0; i < nbb_cells.length; ++i) {\n",
       "                    if (nbb_cells[i].input_prompt_number == nbb_cell_id) {\n",
       "                        if (nbb_cells[i].get_text() == nbb_unformatted_code) {\n",
       "                             nbb_cells[i].set_text(nbb_formatted_code);\n",
       "                        }\n",
       "                        break;\n",
       "                    }\n",
       "                }\n",
       "            }, 500);\n",
       "            "
      ],
      "text/plain": [
       "<IPython.core.display.Javascript object>"
      ]
     },
     "metadata": {},
     "output_type": "display_data"
    }
   ],
   "source": [
    "X = df.drop(\"target\", axis=1)\n",
    "y = df[\"target\"]"
   ]
  },
  {
   "cell_type": "code",
   "execution_count": 6,
   "id": "87e4799a",
   "metadata": {},
   "outputs": [
    {
     "name": "stdout",
     "output_type": "stream",
     "text": [
      "False entropy: 0.8112781244591328\n",
      "True entropy: 1.0\n",
      "windy entropy: 0.8921589282623617\n",
      "windy gain information: 0.04812703040826927\n",
      "\n",
      "\n",
      "high entropy: 0.9852281360342516\n",
      "normal entropy: 0.5916727785823275\n",
      "humidity entropy: 0.7884504573082896\n",
      "humidity gain information: 0.15183550136234136\n",
      "\n",
      "\n",
      "hot entropy: 1.0\n",
      "mild entropy: 0.9182958340544896\n",
      "cool entropy: 0.8112781244591328\n",
      "temperature entropy: 0.9110633930116763\n",
      "temperature gain information: 0.029222565658954647\n",
      "\n",
      "\n",
      "sunny entropy: 0.9709505944546686\n",
      "overcast entropy: -0.0\n",
      "rainy entropy: 0.9709505944546686\n",
      "outlook entropy: 0.6935361388961918\n",
      "outlook gain information: 0.2467498197744391\n",
      "\n",
      "\n"
     ]
    },
    {
     "data": {
      "application/javascript": [
       "\n",
       "            setTimeout(function() {\n",
       "                var nbb_cell_id = 6;\n",
       "                var nbb_unformatted_code = \"def normalized_counts(df, feature):\\n    return df[feature].value_counts(normalize=True)\\n\\n\\ndef calc_entropy_target(df, target: str):\\n    normed_counts = normalized_counts(df, target)\\n    return -sum(normed_counts * normed_counts.map(lambda x: log(x, 2)))\\n\\n\\ndef calc_entropy_feature(df, feature: str, target: str):\\n    entropy = 0\\n    feature_labels = df[feature].unique()\\n    feature_labels_prob = normalized_counts(df, feature)\\n\\n    for label in feature_labels:\\n        masked_df = df[df[feature] == label]\\n        label_entropy = calc_entropy_target(masked_df, target)\\n\\n        label_prob = feature_labels_prob[label]\\n\\n        entropy += label_prob * label_entropy\\n\\n        print(f\\\"{label} entropy: {label_entropy}\\\")\\n    print(f\\\"{feature} entropy: {entropy}\\\")\\n    return entropy\\n\\n\\ndef gain_information_feature(df, feature, target):\\n    target_entropy = calc_entropy_target(df, target)\\n    feature_entropy = calc_entropy_feature(df, feature, target)\\n    return target_entropy - feature_entropy\\n\\n\\nfor feature_name in set(df.columns).difference([\\\"target\\\"]):\\n    print(\\n        f'{feature_name} gain information: {gain_information_feature(df, feature_name, \\\"target\\\")}'\\n    )\\n    print(\\\"\\\\n\\\")\";\n",
       "                var nbb_formatted_code = \"def normalized_counts(df, feature):\\n    return df[feature].value_counts(normalize=True)\\n\\n\\ndef calc_entropy_target(df, target: str):\\n    normed_counts = normalized_counts(df, target)\\n    return -sum(normed_counts * normed_counts.map(lambda x: log(x, 2)))\\n\\n\\ndef calc_entropy_feature(df, feature: str, target: str):\\n    entropy = 0\\n    feature_labels = df[feature].unique()\\n    feature_labels_prob = normalized_counts(df, feature)\\n\\n    for label in feature_labels:\\n        masked_df = df[df[feature] == label]\\n        label_entropy = calc_entropy_target(masked_df, target)\\n\\n        label_prob = feature_labels_prob[label]\\n\\n        entropy += label_prob * label_entropy\\n\\n        print(f\\\"{label} entropy: {label_entropy}\\\")\\n    print(f\\\"{feature} entropy: {entropy}\\\")\\n    return entropy\\n\\n\\ndef gain_information_feature(df, feature, target):\\n    target_entropy = calc_entropy_target(df, target)\\n    feature_entropy = calc_entropy_feature(df, feature, target)\\n    return target_entropy - feature_entropy\\n\\n\\nfor feature_name in set(df.columns).difference([\\\"target\\\"]):\\n    print(\\n        f'{feature_name} gain information: {gain_information_feature(df, feature_name, \\\"target\\\")}'\\n    )\\n    print(\\\"\\\\n\\\")\";\n",
       "                var nbb_cells = Jupyter.notebook.get_cells();\n",
       "                for (var i = 0; i < nbb_cells.length; ++i) {\n",
       "                    if (nbb_cells[i].input_prompt_number == nbb_cell_id) {\n",
       "                        if (nbb_cells[i].get_text() == nbb_unformatted_code) {\n",
       "                             nbb_cells[i].set_text(nbb_formatted_code);\n",
       "                        }\n",
       "                        break;\n",
       "                    }\n",
       "                }\n",
       "            }, 500);\n",
       "            "
      ],
      "text/plain": [
       "<IPython.core.display.Javascript object>"
      ]
     },
     "metadata": {},
     "output_type": "display_data"
    }
   ],
   "source": [
    "def normalized_counts(df, feature):\n",
    "    return df[feature].value_counts(normalize=True)\n",
    "\n",
    "\n",
    "def calc_entropy_target(df, target: str):\n",
    "    normed_counts = normalized_counts(df, target)\n",
    "    return -sum(normed_counts * normed_counts.map(lambda x: log(x, 2)))\n",
    "\n",
    "\n",
    "def calc_entropy_feature(df, feature: str, target: str):\n",
    "    entropy = 0\n",
    "    feature_labels = df[feature].unique()\n",
    "    feature_labels_prob = normalized_counts(df, feature)\n",
    "\n",
    "    for label in feature_labels:\n",
    "        masked_df = df[df[feature] == label]\n",
    "        label_entropy = calc_entropy_target(masked_df, target)\n",
    "\n",
    "        label_prob = feature_labels_prob[label]\n",
    "\n",
    "        entropy += label_prob * label_entropy\n",
    "\n",
    "        print(f\"{label} entropy: {label_entropy}\")\n",
    "    print(f\"{feature} entropy: {entropy}\")\n",
    "    return entropy\n",
    "\n",
    "\n",
    "def gain_information_feature(df, feature, target):\n",
    "    target_entropy = calc_entropy_target(df, target)\n",
    "    feature_entropy = calc_entropy_feature(df, feature, target)\n",
    "    return target_entropy - feature_entropy\n",
    "\n",
    "\n",
    "for feature_name in set(df.columns).difference([\"target\"]):\n",
    "    print(\n",
    "        f'{feature_name} gain information: {gain_information_feature(df, feature_name, \"target\")}'\n",
    "    )\n",
    "    print(\"\\n\")"
   ]
  },
  {
   "cell_type": "markdown",
   "id": "0dc90153",
   "metadata": {},
   "source": [
    "The outlook feature has the highest gain information so that is going to be the first node we will split the decision tree. Thus we will have three branches:\n",
    "- sunny_df\n",
    "- overcast_df\n",
    "- rainy_df"
   ]
  },
  {
   "cell_type": "code",
   "execution_count": 7,
   "id": "4d85c170",
   "metadata": {
    "scrolled": true
   },
   "outputs": [
    {
     "name": "stdout",
     "output_type": "stream",
     "text": [
      "False entropy: 0.9182958340544896\n",
      "True entropy: 1.0\n",
      "windy entropy: 0.9509775004326937\n",
      "windy gain information: 0.01997309402197489\n",
      "\n",
      "high entropy: -0.0\n",
      "normal entropy: -0.0\n",
      "humidity entropy: 0.0\n",
      "humidity gain information: 0.9709505944546686\n",
      "\n",
      "hot entropy: -0.0\n",
      "mild entropy: 1.0\n",
      "cool entropy: -0.0\n",
      "temperature entropy: 0.4\n",
      "temperature gain information: 0.5709505944546686\n",
      "\n",
      "sunny entropy: 0.9709505944546686\n",
      "outlook entropy: 0.9709505944546686\n",
      "outlook gain information: 0.0\n",
      "\n"
     ]
    },
    {
     "data": {
      "application/javascript": [
       "\n",
       "            setTimeout(function() {\n",
       "                var nbb_cell_id = 7;\n",
       "                var nbb_unformatted_code = \"for feature_name in set(df[df[\\\"outlook\\\"] == \\\"sunny\\\"].columns).difference([\\\"target\\\"]):\\n    print(\\n        f'{feature_name} gain information: {gain_information_feature(df[df[\\\"outlook\\\"] == \\\"sunny\\\"], feature_name, \\\"target\\\")}\\\\n'\\n    )\";\n",
       "                var nbb_formatted_code = \"for feature_name in set(df[df[\\\"outlook\\\"] == \\\"sunny\\\"].columns).difference([\\\"target\\\"]):\\n    print(\\n        f'{feature_name} gain information: {gain_information_feature(df[df[\\\"outlook\\\"] == \\\"sunny\\\"], feature_name, \\\"target\\\")}\\\\n'\\n    )\";\n",
       "                var nbb_cells = Jupyter.notebook.get_cells();\n",
       "                for (var i = 0; i < nbb_cells.length; ++i) {\n",
       "                    if (nbb_cells[i].input_prompt_number == nbb_cell_id) {\n",
       "                        if (nbb_cells[i].get_text() == nbb_unformatted_code) {\n",
       "                             nbb_cells[i].set_text(nbb_formatted_code);\n",
       "                        }\n",
       "                        break;\n",
       "                    }\n",
       "                }\n",
       "            }, 500);\n",
       "            "
      ],
      "text/plain": [
       "<IPython.core.display.Javascript object>"
      ]
     },
     "metadata": {},
     "output_type": "display_data"
    }
   ],
   "source": [
    "for feature_name in set(df[df[\"outlook\"] == \"sunny\"].columns).difference([\"target\"]):\n",
    "    print(\n",
    "        f'{feature_name} gain information: {gain_information_feature(df[df[\"outlook\"] == \"sunny\"], feature_name, \"target\")}\\n'\n",
    "    )"
   ]
  },
  {
   "cell_type": "code",
   "execution_count": 8,
   "id": "17883946",
   "metadata": {},
   "outputs": [
    {
     "name": "stdout",
     "output_type": "stream",
     "text": [
      "False entropy: -0.0\n",
      "True entropy: -0.0\n",
      "windy entropy: 0.0\n",
      "windy gain information: 0.9709505944546686\n",
      "\n",
      "high entropy: 1.0\n",
      "normal entropy: 0.9182958340544896\n",
      "humidity entropy: 0.9509775004326937\n",
      "humidity gain information: 0.01997309402197489\n",
      "\n",
      "mild entropy: 0.9182958340544896\n",
      "cool entropy: 1.0\n",
      "temperature entropy: 0.9509775004326937\n",
      "temperature gain information: 0.01997309402197489\n",
      "\n",
      "rainy entropy: 0.9709505944546686\n",
      "outlook entropy: 0.9709505944546686\n",
      "outlook gain information: 0.0\n",
      "\n"
     ]
    },
    {
     "data": {
      "application/javascript": [
       "\n",
       "            setTimeout(function() {\n",
       "                var nbb_cell_id = 8;\n",
       "                var nbb_unformatted_code = \"for feature_name in set(df[df[\\\"outlook\\\"] == \\\"rainy\\\"].columns).difference([\\\"target\\\"]):\\n    print(\\n        f'{feature_name} gain information: {gain_information_feature(df[df[\\\"outlook\\\"] == \\\"rainy\\\"], feature_name, \\\"target\\\")}\\\\n'\\n    )\";\n",
       "                var nbb_formatted_code = \"for feature_name in set(df[df[\\\"outlook\\\"] == \\\"rainy\\\"].columns).difference([\\\"target\\\"]):\\n    print(\\n        f'{feature_name} gain information: {gain_information_feature(df[df[\\\"outlook\\\"] == \\\"rainy\\\"], feature_name, \\\"target\\\")}\\\\n'\\n    )\";\n",
       "                var nbb_cells = Jupyter.notebook.get_cells();\n",
       "                for (var i = 0; i < nbb_cells.length; ++i) {\n",
       "                    if (nbb_cells[i].input_prompt_number == nbb_cell_id) {\n",
       "                        if (nbb_cells[i].get_text() == nbb_unformatted_code) {\n",
       "                             nbb_cells[i].set_text(nbb_formatted_code);\n",
       "                        }\n",
       "                        break;\n",
       "                    }\n",
       "                }\n",
       "            }, 500);\n",
       "            "
      ],
      "text/plain": [
       "<IPython.core.display.Javascript object>"
      ]
     },
     "metadata": {},
     "output_type": "display_data"
    }
   ],
   "source": [
    "for feature_name in set(df[df[\"outlook\"] == \"rainy\"].columns).difference([\"target\"]):\n",
    "    print(\n",
    "        f'{feature_name} gain information: {gain_information_feature(df[df[\"outlook\"] == \"rainy\"], feature_name, \"target\")}\\n'\n",
    "    )"
   ]
  },
  {
   "cell_type": "code",
   "execution_count": 9,
   "id": "1207770e",
   "metadata": {},
   "outputs": [
    {
     "name": "stdout",
     "output_type": "stream",
     "text": [
      "False entropy: -0.0\n",
      "True entropy: -0.0\n",
      "windy entropy: 0.0\n",
      "windy gain information: -0.0\n",
      "\n",
      "high entropy: -0.0\n",
      "normal entropy: -0.0\n",
      "humidity entropy: 0.0\n",
      "humidity gain information: -0.0\n",
      "\n",
      "hot entropy: -0.0\n",
      "cool entropy: -0.0\n",
      "mild entropy: -0.0\n",
      "temperature entropy: 0.0\n",
      "temperature gain information: -0.0\n",
      "\n",
      "overcast entropy: -0.0\n",
      "outlook entropy: 0.0\n",
      "outlook gain information: -0.0\n",
      "\n"
     ]
    },
    {
     "data": {
      "application/javascript": [
       "\n",
       "            setTimeout(function() {\n",
       "                var nbb_cell_id = 9;\n",
       "                var nbb_unformatted_code = \"for feature_name in set(df[df[\\\"outlook\\\"] == \\\"overcast\\\"].columns).difference([\\\"target\\\"]):\\n    print(\\n        f'{feature_name} gain information: {gain_information_feature(df[df[\\\"outlook\\\"] == \\\"overcast\\\"], feature_name, \\\"target\\\")}\\\\n'\\n    )\";\n",
       "                var nbb_formatted_code = \"for feature_name in set(df[df[\\\"outlook\\\"] == \\\"overcast\\\"].columns).difference([\\\"target\\\"]):\\n    print(\\n        f'{feature_name} gain information: {gain_information_feature(df[df[\\\"outlook\\\"] == \\\"overcast\\\"], feature_name, \\\"target\\\")}\\\\n'\\n    )\";\n",
       "                var nbb_cells = Jupyter.notebook.get_cells();\n",
       "                for (var i = 0; i < nbb_cells.length; ++i) {\n",
       "                    if (nbb_cells[i].input_prompt_number == nbb_cell_id) {\n",
       "                        if (nbb_cells[i].get_text() == nbb_unformatted_code) {\n",
       "                             nbb_cells[i].set_text(nbb_formatted_code);\n",
       "                        }\n",
       "                        break;\n",
       "                    }\n",
       "                }\n",
       "            }, 500);\n",
       "            "
      ],
      "text/plain": [
       "<IPython.core.display.Javascript object>"
      ]
     },
     "metadata": {},
     "output_type": "display_data"
    }
   ],
   "source": [
    "for feature_name in set(df[df[\"outlook\"] == \"overcast\"].columns).difference([\"target\"]):\n",
    "    print(\n",
    "        f'{feature_name} gain information: {gain_information_feature(df[df[\"outlook\"] == \"overcast\"], feature_name, \"target\")}\\n'\n",
    "    )"
   ]
  },
  {
   "cell_type": "markdown",
   "id": "8f36b0e0",
   "metadata": {},
   "source": [
    "1st level: OUTLOOK\n",
    "\n",
    "2nd level\n",
    "- Sunny: HUMIDITY\n",
    "- Rainy: WINDY\n",
    "- Overcast: -\n",
    "\n",
    "3rd level:\n",
    "\n",
    "\n"
   ]
  },
  {
   "cell_type": "code",
   "execution_count": 10,
   "id": "b910b692",
   "metadata": {},
   "outputs": [
    {
     "name": "stdout",
     "output_type": "stream",
     "text": [
      "False entropy: -0.0\n",
      "True entropy: -0.0\n",
      "windy entropy: 0.0\n",
      "windy gain information: -0.0\n",
      "\n",
      "high entropy: -0.0\n",
      "humidity entropy: 0.0\n",
      "humidity gain information: -0.0\n",
      "\n",
      "hot entropy: -0.0\n",
      "mild entropy: -0.0\n",
      "temperature entropy: 0.0\n",
      "temperature gain information: -0.0\n",
      "\n",
      "sunny entropy: -0.0\n",
      "outlook entropy: 0.0\n",
      "outlook gain information: -0.0\n",
      "\n"
     ]
    },
    {
     "data": {
      "text/html": [
       "<div>\n",
       "<style scoped>\n",
       "    .dataframe tbody tr th:only-of-type {\n",
       "        vertical-align: middle;\n",
       "    }\n",
       "\n",
       "    .dataframe tbody tr th {\n",
       "        vertical-align: top;\n",
       "    }\n",
       "\n",
       "    .dataframe thead th {\n",
       "        text-align: right;\n",
       "    }\n",
       "</style>\n",
       "<table border=\"1\" class=\"dataframe\">\n",
       "  <thead>\n",
       "    <tr style=\"text-align: right;\">\n",
       "      <th></th>\n",
       "      <th>outlook</th>\n",
       "      <th>temperature</th>\n",
       "      <th>humidity</th>\n",
       "      <th>windy</th>\n",
       "      <th>target</th>\n",
       "    </tr>\n",
       "  </thead>\n",
       "  <tbody>\n",
       "    <tr>\n",
       "      <th>0</th>\n",
       "      <td>sunny</td>\n",
       "      <td>hot</td>\n",
       "      <td>high</td>\n",
       "      <td>False</td>\n",
       "      <td>no</td>\n",
       "    </tr>\n",
       "    <tr>\n",
       "      <th>1</th>\n",
       "      <td>sunny</td>\n",
       "      <td>hot</td>\n",
       "      <td>high</td>\n",
       "      <td>True</td>\n",
       "      <td>no</td>\n",
       "    </tr>\n",
       "    <tr>\n",
       "      <th>7</th>\n",
       "      <td>sunny</td>\n",
       "      <td>mild</td>\n",
       "      <td>high</td>\n",
       "      <td>False</td>\n",
       "      <td>no</td>\n",
       "    </tr>\n",
       "  </tbody>\n",
       "</table>\n",
       "</div>"
      ],
      "text/plain": [
       "  outlook temperature humidity  windy target\n",
       "0   sunny         hot     high  False     no\n",
       "1   sunny         hot     high   True     no\n",
       "7   sunny        mild     high  False     no"
      ]
     },
     "execution_count": 10,
     "metadata": {},
     "output_type": "execute_result"
    },
    {
     "data": {
      "application/javascript": [
       "\n",
       "            setTimeout(function() {\n",
       "                var nbb_cell_id = 10;\n",
       "                var nbb_unformatted_code = \"mask = (df[\\\"outlook\\\"] == \\\"sunny\\\") & (df[\\\"humidity\\\"] == \\\"high\\\")\\nmasked_df = df[mask]\\n\\nfor feature_name in set(masked_df.columns).difference([\\\"target\\\"]):\\n    print(\\n        f'{feature_name} gain information: {gain_information_feature(masked_df, feature_name, \\\"target\\\")}\\\\n'\\n    )\\n\\nmasked_df\";\n",
       "                var nbb_formatted_code = \"mask = (df[\\\"outlook\\\"] == \\\"sunny\\\") & (df[\\\"humidity\\\"] == \\\"high\\\")\\nmasked_df = df[mask]\\n\\nfor feature_name in set(masked_df.columns).difference([\\\"target\\\"]):\\n    print(\\n        f'{feature_name} gain information: {gain_information_feature(masked_df, feature_name, \\\"target\\\")}\\\\n'\\n    )\\n\\nmasked_df\";\n",
       "                var nbb_cells = Jupyter.notebook.get_cells();\n",
       "                for (var i = 0; i < nbb_cells.length; ++i) {\n",
       "                    if (nbb_cells[i].input_prompt_number == nbb_cell_id) {\n",
       "                        if (nbb_cells[i].get_text() == nbb_unformatted_code) {\n",
       "                             nbb_cells[i].set_text(nbb_formatted_code);\n",
       "                        }\n",
       "                        break;\n",
       "                    }\n",
       "                }\n",
       "            }, 500);\n",
       "            "
      ],
      "text/plain": [
       "<IPython.core.display.Javascript object>"
      ]
     },
     "metadata": {},
     "output_type": "display_data"
    }
   ],
   "source": [
    "mask = (df[\"outlook\"] == \"sunny\") & (df[\"humidity\"] == \"high\")\n",
    "masked_df = df[mask]\n",
    "\n",
    "for feature_name in set(masked_df.columns).difference([\"target\"]):\n",
    "    print(\n",
    "        f'{feature_name} gain information: {gain_information_feature(masked_df, feature_name, \"target\")}\\n'\n",
    "    )\n",
    "\n",
    "masked_df"
   ]
  },
  {
   "cell_type": "code",
   "execution_count": 11,
   "id": "422abfeb",
   "metadata": {},
   "outputs": [
    {
     "name": "stdout",
     "output_type": "stream",
     "text": [
      "False entropy: -0.0\n",
      "True entropy: -0.0\n",
      "windy entropy: 0.0\n",
      "windy gain information: -0.0\n",
      "\n",
      "normal entropy: -0.0\n",
      "humidity entropy: 0.0\n",
      "humidity gain information: -0.0\n",
      "\n",
      "cool entropy: -0.0\n",
      "mild entropy: -0.0\n",
      "temperature entropy: 0.0\n",
      "temperature gain information: -0.0\n",
      "\n",
      "sunny entropy: -0.0\n",
      "outlook entropy: 0.0\n",
      "outlook gain information: -0.0\n",
      "\n"
     ]
    },
    {
     "data": {
      "text/html": [
       "<div>\n",
       "<style scoped>\n",
       "    .dataframe tbody tr th:only-of-type {\n",
       "        vertical-align: middle;\n",
       "    }\n",
       "\n",
       "    .dataframe tbody tr th {\n",
       "        vertical-align: top;\n",
       "    }\n",
       "\n",
       "    .dataframe thead th {\n",
       "        text-align: right;\n",
       "    }\n",
       "</style>\n",
       "<table border=\"1\" class=\"dataframe\">\n",
       "  <thead>\n",
       "    <tr style=\"text-align: right;\">\n",
       "      <th></th>\n",
       "      <th>outlook</th>\n",
       "      <th>temperature</th>\n",
       "      <th>humidity</th>\n",
       "      <th>windy</th>\n",
       "      <th>target</th>\n",
       "    </tr>\n",
       "  </thead>\n",
       "  <tbody>\n",
       "    <tr>\n",
       "      <th>8</th>\n",
       "      <td>sunny</td>\n",
       "      <td>cool</td>\n",
       "      <td>normal</td>\n",
       "      <td>False</td>\n",
       "      <td>yes</td>\n",
       "    </tr>\n",
       "    <tr>\n",
       "      <th>10</th>\n",
       "      <td>sunny</td>\n",
       "      <td>mild</td>\n",
       "      <td>normal</td>\n",
       "      <td>True</td>\n",
       "      <td>yes</td>\n",
       "    </tr>\n",
       "  </tbody>\n",
       "</table>\n",
       "</div>"
      ],
      "text/plain": [
       "   outlook temperature humidity  windy target\n",
       "8    sunny        cool   normal  False    yes\n",
       "10   sunny        mild   normal   True    yes"
      ]
     },
     "execution_count": 11,
     "metadata": {},
     "output_type": "execute_result"
    },
    {
     "data": {
      "application/javascript": [
       "\n",
       "            setTimeout(function() {\n",
       "                var nbb_cell_id = 11;\n",
       "                var nbb_unformatted_code = \"mask = (df[\\\"outlook\\\"] == \\\"sunny\\\") & (df[\\\"humidity\\\"] == \\\"normal\\\")\\nmasked_df = df[mask]\\n\\nfor feature_name in set(masked_df.columns).difference([\\\"target\\\"]):\\n    print(\\n        f'{feature_name} gain information: {gain_information_feature(masked_df, feature_name, \\\"target\\\")}\\\\n'\\n    )\\nmasked_df\";\n",
       "                var nbb_formatted_code = \"mask = (df[\\\"outlook\\\"] == \\\"sunny\\\") & (df[\\\"humidity\\\"] == \\\"normal\\\")\\nmasked_df = df[mask]\\n\\nfor feature_name in set(masked_df.columns).difference([\\\"target\\\"]):\\n    print(\\n        f'{feature_name} gain information: {gain_information_feature(masked_df, feature_name, \\\"target\\\")}\\\\n'\\n    )\\nmasked_df\";\n",
       "                var nbb_cells = Jupyter.notebook.get_cells();\n",
       "                for (var i = 0; i < nbb_cells.length; ++i) {\n",
       "                    if (nbb_cells[i].input_prompt_number == nbb_cell_id) {\n",
       "                        if (nbb_cells[i].get_text() == nbb_unformatted_code) {\n",
       "                             nbb_cells[i].set_text(nbb_formatted_code);\n",
       "                        }\n",
       "                        break;\n",
       "                    }\n",
       "                }\n",
       "            }, 500);\n",
       "            "
      ],
      "text/plain": [
       "<IPython.core.display.Javascript object>"
      ]
     },
     "metadata": {},
     "output_type": "display_data"
    }
   ],
   "source": [
    "mask = (df[\"outlook\"] == \"sunny\") & (df[\"humidity\"] == \"normal\")\n",
    "masked_df = df[mask]\n",
    "\n",
    "for feature_name in set(masked_df.columns).difference([\"target\"]):\n",
    "    print(\n",
    "        f'{feature_name} gain information: {gain_information_feature(masked_df, feature_name, \"target\")}\\n'\n",
    "    )\n",
    "masked_df"
   ]
  },
  {
   "cell_type": "code",
   "execution_count": 12,
   "id": "5292b249",
   "metadata": {},
   "outputs": [
    {
     "name": "stdout",
     "output_type": "stream",
     "text": [
      "False entropy: -0.0\n",
      "windy entropy: 0.0\n",
      "windy gain information: -0.0\n",
      "\n",
      "high entropy: -0.0\n",
      "normal entropy: -0.0\n",
      "humidity entropy: 0.0\n",
      "humidity gain information: -0.0\n",
      "\n",
      "mild entropy: -0.0\n",
      "cool entropy: -0.0\n",
      "temperature entropy: 0.0\n",
      "temperature gain information: -0.0\n",
      "\n",
      "rainy entropy: -0.0\n",
      "outlook entropy: 0.0\n",
      "outlook gain information: -0.0\n",
      "\n"
     ]
    },
    {
     "data": {
      "text/html": [
       "<div>\n",
       "<style scoped>\n",
       "    .dataframe tbody tr th:only-of-type {\n",
       "        vertical-align: middle;\n",
       "    }\n",
       "\n",
       "    .dataframe tbody tr th {\n",
       "        vertical-align: top;\n",
       "    }\n",
       "\n",
       "    .dataframe thead th {\n",
       "        text-align: right;\n",
       "    }\n",
       "</style>\n",
       "<table border=\"1\" class=\"dataframe\">\n",
       "  <thead>\n",
       "    <tr style=\"text-align: right;\">\n",
       "      <th></th>\n",
       "      <th>outlook</th>\n",
       "      <th>temperature</th>\n",
       "      <th>humidity</th>\n",
       "      <th>windy</th>\n",
       "      <th>target</th>\n",
       "    </tr>\n",
       "  </thead>\n",
       "  <tbody>\n",
       "    <tr>\n",
       "      <th>3</th>\n",
       "      <td>rainy</td>\n",
       "      <td>mild</td>\n",
       "      <td>high</td>\n",
       "      <td>False</td>\n",
       "      <td>yes</td>\n",
       "    </tr>\n",
       "    <tr>\n",
       "      <th>4</th>\n",
       "      <td>rainy</td>\n",
       "      <td>cool</td>\n",
       "      <td>normal</td>\n",
       "      <td>False</td>\n",
       "      <td>yes</td>\n",
       "    </tr>\n",
       "    <tr>\n",
       "      <th>9</th>\n",
       "      <td>rainy</td>\n",
       "      <td>mild</td>\n",
       "      <td>normal</td>\n",
       "      <td>False</td>\n",
       "      <td>yes</td>\n",
       "    </tr>\n",
       "  </tbody>\n",
       "</table>\n",
       "</div>"
      ],
      "text/plain": [
       "  outlook temperature humidity  windy target\n",
       "3   rainy        mild     high  False    yes\n",
       "4   rainy        cool   normal  False    yes\n",
       "9   rainy        mild   normal  False    yes"
      ]
     },
     "execution_count": 12,
     "metadata": {},
     "output_type": "execute_result"
    },
    {
     "data": {
      "application/javascript": [
       "\n",
       "            setTimeout(function() {\n",
       "                var nbb_cell_id = 12;\n",
       "                var nbb_unformatted_code = \"mask = (df[\\\"outlook\\\"] == \\\"rainy\\\") & (df[\\\"windy\\\"] == \\\"False\\\")\\nmasked_df = df[mask]\\n\\nfor feature_name in set(masked_df.columns).difference([\\\"target\\\"]):\\n    print(\\n        f'{feature_name} gain information: {gain_information_feature(masked_df, feature_name, \\\"target\\\")}\\\\n'\\n    )\\nmasked_df\";\n",
       "                var nbb_formatted_code = \"mask = (df[\\\"outlook\\\"] == \\\"rainy\\\") & (df[\\\"windy\\\"] == \\\"False\\\")\\nmasked_df = df[mask]\\n\\nfor feature_name in set(masked_df.columns).difference([\\\"target\\\"]):\\n    print(\\n        f'{feature_name} gain information: {gain_information_feature(masked_df, feature_name, \\\"target\\\")}\\\\n'\\n    )\\nmasked_df\";\n",
       "                var nbb_cells = Jupyter.notebook.get_cells();\n",
       "                for (var i = 0; i < nbb_cells.length; ++i) {\n",
       "                    if (nbb_cells[i].input_prompt_number == nbb_cell_id) {\n",
       "                        if (nbb_cells[i].get_text() == nbb_unformatted_code) {\n",
       "                             nbb_cells[i].set_text(nbb_formatted_code);\n",
       "                        }\n",
       "                        break;\n",
       "                    }\n",
       "                }\n",
       "            }, 500);\n",
       "            "
      ],
      "text/plain": [
       "<IPython.core.display.Javascript object>"
      ]
     },
     "metadata": {},
     "output_type": "display_data"
    }
   ],
   "source": [
    "mask = (df[\"outlook\"] == \"rainy\") & (df[\"windy\"] == \"False\")\n",
    "masked_df = df[mask]\n",
    "\n",
    "for feature_name in set(masked_df.columns).difference([\"target\"]):\n",
    "    print(\n",
    "        f'{feature_name} gain information: {gain_information_feature(masked_df, feature_name, \"target\")}\\n'\n",
    "    )\n",
    "masked_df"
   ]
  },
  {
   "cell_type": "code",
   "execution_count": 13,
   "id": "2ca5e524",
   "metadata": {},
   "outputs": [
    {
     "name": "stdout",
     "output_type": "stream",
     "text": [
      "True entropy: -0.0\n",
      "windy entropy: 0.0\n",
      "windy gain information: -0.0\n",
      "\n",
      "normal entropy: -0.0\n",
      "high entropy: -0.0\n",
      "humidity entropy: 0.0\n",
      "humidity gain information: -0.0\n",
      "\n",
      "cool entropy: -0.0\n",
      "mild entropy: -0.0\n",
      "temperature entropy: 0.0\n",
      "temperature gain information: -0.0\n",
      "\n",
      "rainy entropy: -0.0\n",
      "outlook entropy: 0.0\n",
      "outlook gain information: -0.0\n",
      "\n"
     ]
    },
    {
     "data": {
      "text/html": [
       "<div>\n",
       "<style scoped>\n",
       "    .dataframe tbody tr th:only-of-type {\n",
       "        vertical-align: middle;\n",
       "    }\n",
       "\n",
       "    .dataframe tbody tr th {\n",
       "        vertical-align: top;\n",
       "    }\n",
       "\n",
       "    .dataframe thead th {\n",
       "        text-align: right;\n",
       "    }\n",
       "</style>\n",
       "<table border=\"1\" class=\"dataframe\">\n",
       "  <thead>\n",
       "    <tr style=\"text-align: right;\">\n",
       "      <th></th>\n",
       "      <th>outlook</th>\n",
       "      <th>temperature</th>\n",
       "      <th>humidity</th>\n",
       "      <th>windy</th>\n",
       "      <th>target</th>\n",
       "    </tr>\n",
       "  </thead>\n",
       "  <tbody>\n",
       "    <tr>\n",
       "      <th>5</th>\n",
       "      <td>rainy</td>\n",
       "      <td>cool</td>\n",
       "      <td>normal</td>\n",
       "      <td>True</td>\n",
       "      <td>no</td>\n",
       "    </tr>\n",
       "    <tr>\n",
       "      <th>13</th>\n",
       "      <td>rainy</td>\n",
       "      <td>mild</td>\n",
       "      <td>high</td>\n",
       "      <td>True</td>\n",
       "      <td>no</td>\n",
       "    </tr>\n",
       "  </tbody>\n",
       "</table>\n",
       "</div>"
      ],
      "text/plain": [
       "   outlook temperature humidity windy target\n",
       "5    rainy        cool   normal  True     no\n",
       "13   rainy        mild     high  True     no"
      ]
     },
     "execution_count": 13,
     "metadata": {},
     "output_type": "execute_result"
    },
    {
     "data": {
      "application/javascript": [
       "\n",
       "            setTimeout(function() {\n",
       "                var nbb_cell_id = 13;\n",
       "                var nbb_unformatted_code = \"mask = (df[\\\"outlook\\\"] == \\\"rainy\\\") & (df[\\\"windy\\\"] == \\\"True\\\")\\nmasked_df = df[mask]\\n\\nfor feature_name in set(masked_df.columns).difference([\\\"target\\\"]):\\n    print(\\n        f'{feature_name} gain information: {gain_information_feature(masked_df, feature_name, \\\"target\\\")}\\\\n'\\n    )\\nmasked_df\";\n",
       "                var nbb_formatted_code = \"mask = (df[\\\"outlook\\\"] == \\\"rainy\\\") & (df[\\\"windy\\\"] == \\\"True\\\")\\nmasked_df = df[mask]\\n\\nfor feature_name in set(masked_df.columns).difference([\\\"target\\\"]):\\n    print(\\n        f'{feature_name} gain information: {gain_information_feature(masked_df, feature_name, \\\"target\\\")}\\\\n'\\n    )\\nmasked_df\";\n",
       "                var nbb_cells = Jupyter.notebook.get_cells();\n",
       "                for (var i = 0; i < nbb_cells.length; ++i) {\n",
       "                    if (nbb_cells[i].input_prompt_number == nbb_cell_id) {\n",
       "                        if (nbb_cells[i].get_text() == nbb_unformatted_code) {\n",
       "                             nbb_cells[i].set_text(nbb_formatted_code);\n",
       "                        }\n",
       "                        break;\n",
       "                    }\n",
       "                }\n",
       "            }, 500);\n",
       "            "
      ],
      "text/plain": [
       "<IPython.core.display.Javascript object>"
      ]
     },
     "metadata": {},
     "output_type": "display_data"
    }
   ],
   "source": [
    "mask = (df[\"outlook\"] == \"rainy\") & (df[\"windy\"] == \"True\")\n",
    "masked_df = df[mask]\n",
    "\n",
    "for feature_name in set(masked_df.columns).difference([\"target\"]):\n",
    "    print(\n",
    "        f'{feature_name} gain information: {gain_information_feature(masked_df, feature_name, \"target\")}\\n'\n",
    "    )\n",
    "masked_df"
   ]
  },
  {
   "cell_type": "markdown",
   "id": "0d042322",
   "metadata": {},
   "source": [
    "# Classifier"
   ]
  },
  {
   "cell_type": "code",
   "execution_count": 14,
   "id": "281acfd5",
   "metadata": {},
   "outputs": [
    {
     "data": {
      "text/plain": [
       "array([[0., 0., 1., 0., 1., 0., 1., 0., 1., 0.],\n",
       "       [0., 0., 1., 0., 1., 0., 1., 0., 0., 1.],\n",
       "       [1., 0., 0., 0., 1., 0., 1., 0., 1., 0.],\n",
       "       [0., 1., 0., 0., 0., 1., 1., 0., 1., 0.],\n",
       "       [0., 1., 0., 1., 0., 0., 0., 1., 1., 0.],\n",
       "       [0., 1., 0., 1., 0., 0., 0., 1., 0., 1.],\n",
       "       [1., 0., 0., 1., 0., 0., 0., 1., 0., 1.],\n",
       "       [0., 0., 1., 0., 0., 1., 1., 0., 1., 0.],\n",
       "       [0., 0., 1., 1., 0., 0., 0., 1., 1., 0.],\n",
       "       [0., 1., 0., 0., 0., 1., 0., 1., 1., 0.],\n",
       "       [0., 0., 1., 0., 0., 1., 0., 1., 0., 1.],\n",
       "       [1., 0., 0., 0., 0., 1., 1., 0., 0., 1.],\n",
       "       [1., 0., 0., 0., 1., 0., 0., 1., 1., 0.],\n",
       "       [0., 1., 0., 0., 0., 1., 1., 0., 0., 1.]])"
      ]
     },
     "metadata": {},
     "output_type": "display_data"
    },
    {
     "data": {
      "application/javascript": [
       "\n",
       "            setTimeout(function() {\n",
       "                var nbb_cell_id = 14;\n",
       "                var nbb_unformatted_code = \"pipeline = ColumnTransformer(\\n    [\\n        (\\n            \\\"ohe\\\",\\n            OneHotEncoder(),\\n            [\\\"outlook\\\", \\\"temperature\\\", \\\"humidity\\\", \\\"windy\\\"],\\n        )\\n    ]\\n)\\n\\nX_transformed = pipeline.fit_transform(X)\\ndisplay(X_transformed)\";\n",
       "                var nbb_formatted_code = \"pipeline = ColumnTransformer(\\n    [\\n        (\\n            \\\"ohe\\\",\\n            OneHotEncoder(),\\n            [\\\"outlook\\\", \\\"temperature\\\", \\\"humidity\\\", \\\"windy\\\"],\\n        )\\n    ]\\n)\\n\\nX_transformed = pipeline.fit_transform(X)\\ndisplay(X_transformed)\";\n",
       "                var nbb_cells = Jupyter.notebook.get_cells();\n",
       "                for (var i = 0; i < nbb_cells.length; ++i) {\n",
       "                    if (nbb_cells[i].input_prompt_number == nbb_cell_id) {\n",
       "                        if (nbb_cells[i].get_text() == nbb_unformatted_code) {\n",
       "                             nbb_cells[i].set_text(nbb_formatted_code);\n",
       "                        }\n",
       "                        break;\n",
       "                    }\n",
       "                }\n",
       "            }, 500);\n",
       "            "
      ],
      "text/plain": [
       "<IPython.core.display.Javascript object>"
      ]
     },
     "metadata": {},
     "output_type": "display_data"
    }
   ],
   "source": [
    "pipeline = ColumnTransformer(\n",
    "    [\n",
    "        (\n",
    "            \"ohe\",\n",
    "            OneHotEncoder(),\n",
    "            [\"outlook\", \"temperature\", \"humidity\", \"windy\"],\n",
    "        )\n",
    "    ]\n",
    ")\n",
    "\n",
    "X_transformed = pipeline.fit_transform(X)\n",
    "display(X_transformed)"
   ]
  },
  {
   "cell_type": "code",
   "execution_count": 15,
   "id": "fdb93b5f",
   "metadata": {},
   "outputs": [
    {
     "data": {
      "text/html": [
       "<div>\n",
       "<style scoped>\n",
       "    .dataframe tbody tr th:only-of-type {\n",
       "        vertical-align: middle;\n",
       "    }\n",
       "\n",
       "    .dataframe tbody tr th {\n",
       "        vertical-align: top;\n",
       "    }\n",
       "\n",
       "    .dataframe thead th {\n",
       "        text-align: right;\n",
       "    }\n",
       "</style>\n",
       "<table border=\"1\" class=\"dataframe\">\n",
       "  <thead>\n",
       "    <tr style=\"text-align: right;\">\n",
       "      <th></th>\n",
       "      <th>outlook_overcast</th>\n",
       "      <th>outlook_rainy</th>\n",
       "      <th>outlook_sunny</th>\n",
       "      <th>temperature_cool</th>\n",
       "      <th>temperature_hot</th>\n",
       "      <th>temperature_cool</th>\n",
       "      <th>humidity_high</th>\n",
       "      <th>humidity_normal</th>\n",
       "      <th>windy_False</th>\n",
       "      <th>windy_True</th>\n",
       "    </tr>\n",
       "  </thead>\n",
       "  <tbody>\n",
       "    <tr>\n",
       "      <th>0</th>\n",
       "      <td>0.0</td>\n",
       "      <td>0.0</td>\n",
       "      <td>1.0</td>\n",
       "      <td>0.0</td>\n",
       "      <td>1.0</td>\n",
       "      <td>0.0</td>\n",
       "      <td>1.0</td>\n",
       "      <td>0.0</td>\n",
       "      <td>1.0</td>\n",
       "      <td>0.0</td>\n",
       "    </tr>\n",
       "    <tr>\n",
       "      <th>1</th>\n",
       "      <td>0.0</td>\n",
       "      <td>0.0</td>\n",
       "      <td>1.0</td>\n",
       "      <td>0.0</td>\n",
       "      <td>1.0</td>\n",
       "      <td>0.0</td>\n",
       "      <td>1.0</td>\n",
       "      <td>0.0</td>\n",
       "      <td>0.0</td>\n",
       "      <td>1.0</td>\n",
       "    </tr>\n",
       "    <tr>\n",
       "      <th>2</th>\n",
       "      <td>1.0</td>\n",
       "      <td>0.0</td>\n",
       "      <td>0.0</td>\n",
       "      <td>0.0</td>\n",
       "      <td>1.0</td>\n",
       "      <td>0.0</td>\n",
       "      <td>1.0</td>\n",
       "      <td>0.0</td>\n",
       "      <td>1.0</td>\n",
       "      <td>0.0</td>\n",
       "    </tr>\n",
       "    <tr>\n",
       "      <th>3</th>\n",
       "      <td>0.0</td>\n",
       "      <td>1.0</td>\n",
       "      <td>0.0</td>\n",
       "      <td>0.0</td>\n",
       "      <td>0.0</td>\n",
       "      <td>1.0</td>\n",
       "      <td>1.0</td>\n",
       "      <td>0.0</td>\n",
       "      <td>1.0</td>\n",
       "      <td>0.0</td>\n",
       "    </tr>\n",
       "    <tr>\n",
       "      <th>4</th>\n",
       "      <td>0.0</td>\n",
       "      <td>1.0</td>\n",
       "      <td>0.0</td>\n",
       "      <td>1.0</td>\n",
       "      <td>0.0</td>\n",
       "      <td>0.0</td>\n",
       "      <td>0.0</td>\n",
       "      <td>1.0</td>\n",
       "      <td>1.0</td>\n",
       "      <td>0.0</td>\n",
       "    </tr>\n",
       "    <tr>\n",
       "      <th>5</th>\n",
       "      <td>0.0</td>\n",
       "      <td>1.0</td>\n",
       "      <td>0.0</td>\n",
       "      <td>1.0</td>\n",
       "      <td>0.0</td>\n",
       "      <td>0.0</td>\n",
       "      <td>0.0</td>\n",
       "      <td>1.0</td>\n",
       "      <td>0.0</td>\n",
       "      <td>1.0</td>\n",
       "    </tr>\n",
       "    <tr>\n",
       "      <th>6</th>\n",
       "      <td>1.0</td>\n",
       "      <td>0.0</td>\n",
       "      <td>0.0</td>\n",
       "      <td>1.0</td>\n",
       "      <td>0.0</td>\n",
       "      <td>0.0</td>\n",
       "      <td>0.0</td>\n",
       "      <td>1.0</td>\n",
       "      <td>0.0</td>\n",
       "      <td>1.0</td>\n",
       "    </tr>\n",
       "    <tr>\n",
       "      <th>7</th>\n",
       "      <td>0.0</td>\n",
       "      <td>0.0</td>\n",
       "      <td>1.0</td>\n",
       "      <td>0.0</td>\n",
       "      <td>0.0</td>\n",
       "      <td>1.0</td>\n",
       "      <td>1.0</td>\n",
       "      <td>0.0</td>\n",
       "      <td>1.0</td>\n",
       "      <td>0.0</td>\n",
       "    </tr>\n",
       "    <tr>\n",
       "      <th>8</th>\n",
       "      <td>0.0</td>\n",
       "      <td>0.0</td>\n",
       "      <td>1.0</td>\n",
       "      <td>1.0</td>\n",
       "      <td>0.0</td>\n",
       "      <td>0.0</td>\n",
       "      <td>0.0</td>\n",
       "      <td>1.0</td>\n",
       "      <td>1.0</td>\n",
       "      <td>0.0</td>\n",
       "    </tr>\n",
       "    <tr>\n",
       "      <th>9</th>\n",
       "      <td>0.0</td>\n",
       "      <td>1.0</td>\n",
       "      <td>0.0</td>\n",
       "      <td>0.0</td>\n",
       "      <td>0.0</td>\n",
       "      <td>1.0</td>\n",
       "      <td>0.0</td>\n",
       "      <td>1.0</td>\n",
       "      <td>1.0</td>\n",
       "      <td>0.0</td>\n",
       "    </tr>\n",
       "    <tr>\n",
       "      <th>10</th>\n",
       "      <td>0.0</td>\n",
       "      <td>0.0</td>\n",
       "      <td>1.0</td>\n",
       "      <td>0.0</td>\n",
       "      <td>0.0</td>\n",
       "      <td>1.0</td>\n",
       "      <td>0.0</td>\n",
       "      <td>1.0</td>\n",
       "      <td>0.0</td>\n",
       "      <td>1.0</td>\n",
       "    </tr>\n",
       "    <tr>\n",
       "      <th>11</th>\n",
       "      <td>1.0</td>\n",
       "      <td>0.0</td>\n",
       "      <td>0.0</td>\n",
       "      <td>0.0</td>\n",
       "      <td>0.0</td>\n",
       "      <td>1.0</td>\n",
       "      <td>1.0</td>\n",
       "      <td>0.0</td>\n",
       "      <td>0.0</td>\n",
       "      <td>1.0</td>\n",
       "    </tr>\n",
       "    <tr>\n",
       "      <th>12</th>\n",
       "      <td>1.0</td>\n",
       "      <td>0.0</td>\n",
       "      <td>0.0</td>\n",
       "      <td>0.0</td>\n",
       "      <td>1.0</td>\n",
       "      <td>0.0</td>\n",
       "      <td>0.0</td>\n",
       "      <td>1.0</td>\n",
       "      <td>1.0</td>\n",
       "      <td>0.0</td>\n",
       "    </tr>\n",
       "    <tr>\n",
       "      <th>13</th>\n",
       "      <td>0.0</td>\n",
       "      <td>1.0</td>\n",
       "      <td>0.0</td>\n",
       "      <td>0.0</td>\n",
       "      <td>0.0</td>\n",
       "      <td>1.0</td>\n",
       "      <td>1.0</td>\n",
       "      <td>0.0</td>\n",
       "      <td>0.0</td>\n",
       "      <td>1.0</td>\n",
       "    </tr>\n",
       "  </tbody>\n",
       "</table>\n",
       "</div>"
      ],
      "text/plain": [
       "    outlook_overcast  outlook_rainy  outlook_sunny  temperature_cool  \\\n",
       "0                0.0            0.0            1.0               0.0   \n",
       "1                0.0            0.0            1.0               0.0   \n",
       "2                1.0            0.0            0.0               0.0   \n",
       "3                0.0            1.0            0.0               0.0   \n",
       "4                0.0            1.0            0.0               1.0   \n",
       "5                0.0            1.0            0.0               1.0   \n",
       "6                1.0            0.0            0.0               1.0   \n",
       "7                0.0            0.0            1.0               0.0   \n",
       "8                0.0            0.0            1.0               1.0   \n",
       "9                0.0            1.0            0.0               0.0   \n",
       "10               0.0            0.0            1.0               0.0   \n",
       "11               1.0            0.0            0.0               0.0   \n",
       "12               1.0            0.0            0.0               0.0   \n",
       "13               0.0            1.0            0.0               0.0   \n",
       "\n",
       "    temperature_hot  temperature_cool  humidity_high  humidity_normal  \\\n",
       "0               1.0               0.0            1.0              0.0   \n",
       "1               1.0               0.0            1.0              0.0   \n",
       "2               1.0               0.0            1.0              0.0   \n",
       "3               0.0               1.0            1.0              0.0   \n",
       "4               0.0               0.0            0.0              1.0   \n",
       "5               0.0               0.0            0.0              1.0   \n",
       "6               0.0               0.0            0.0              1.0   \n",
       "7               0.0               1.0            1.0              0.0   \n",
       "8               0.0               0.0            0.0              1.0   \n",
       "9               0.0               1.0            0.0              1.0   \n",
       "10              0.0               1.0            0.0              1.0   \n",
       "11              0.0               1.0            1.0              0.0   \n",
       "12              1.0               0.0            0.0              1.0   \n",
       "13              0.0               1.0            1.0              0.0   \n",
       "\n",
       "    windy_False  windy_True  \n",
       "0           1.0         0.0  \n",
       "1           0.0         1.0  \n",
       "2           1.0         0.0  \n",
       "3           1.0         0.0  \n",
       "4           1.0         0.0  \n",
       "5           0.0         1.0  \n",
       "6           0.0         1.0  \n",
       "7           1.0         0.0  \n",
       "8           1.0         0.0  \n",
       "9           1.0         0.0  \n",
       "10          0.0         1.0  \n",
       "11          0.0         1.0  \n",
       "12          1.0         0.0  \n",
       "13          0.0         1.0  "
      ]
     },
     "execution_count": 15,
     "metadata": {},
     "output_type": "execute_result"
    },
    {
     "data": {
      "application/javascript": [
       "\n",
       "            setTimeout(function() {\n",
       "                var nbb_cell_id = 15;\n",
       "                var nbb_unformatted_code = \"X_prepared = pd.DataFrame(X_transformed).rename(\\n    columns={\\n        0: \\\"outlook_overcast\\\",\\n        1: \\\"outlook_rainy\\\",\\n        2: \\\"outlook_sunny\\\",\\n        3: \\\"temperature_cool\\\",\\n        4: \\\"temperature_hot\\\",\\n        5: \\\"temperature_cool\\\",\\n        6: \\\"humidity_high\\\",\\n        7: \\\"humidity_normal\\\",\\n        8: \\\"windy_False\\\",\\n        9: \\\"windy_True\\\",\\n    }\\n)\\nX_prepared\";\n",
       "                var nbb_formatted_code = \"X_prepared = pd.DataFrame(X_transformed).rename(\\n    columns={\\n        0: \\\"outlook_overcast\\\",\\n        1: \\\"outlook_rainy\\\",\\n        2: \\\"outlook_sunny\\\",\\n        3: \\\"temperature_cool\\\",\\n        4: \\\"temperature_hot\\\",\\n        5: \\\"temperature_cool\\\",\\n        6: \\\"humidity_high\\\",\\n        7: \\\"humidity_normal\\\",\\n        8: \\\"windy_False\\\",\\n        9: \\\"windy_True\\\",\\n    }\\n)\\nX_prepared\";\n",
       "                var nbb_cells = Jupyter.notebook.get_cells();\n",
       "                for (var i = 0; i < nbb_cells.length; ++i) {\n",
       "                    if (nbb_cells[i].input_prompt_number == nbb_cell_id) {\n",
       "                        if (nbb_cells[i].get_text() == nbb_unformatted_code) {\n",
       "                             nbb_cells[i].set_text(nbb_formatted_code);\n",
       "                        }\n",
       "                        break;\n",
       "                    }\n",
       "                }\n",
       "            }, 500);\n",
       "            "
      ],
      "text/plain": [
       "<IPython.core.display.Javascript object>"
      ]
     },
     "metadata": {},
     "output_type": "display_data"
    }
   ],
   "source": [
    "X_prepared = pd.DataFrame(X_transformed).rename(\n",
    "    columns={\n",
    "        0: \"outlook_overcast\",\n",
    "        1: \"outlook_rainy\",\n",
    "        2: \"outlook_sunny\",\n",
    "        3: \"temperature_cool\",\n",
    "        4: \"temperature_hot\",\n",
    "        5: \"temperature_cool\",\n",
    "        6: \"humidity_high\",\n",
    "        7: \"humidity_normal\",\n",
    "        8: \"windy_False\",\n",
    "        9: \"windy_True\",\n",
    "    }\n",
    ")\n",
    "X_prepared"
   ]
  },
  {
   "cell_type": "markdown",
   "id": "56051aa2",
   "metadata": {},
   "source": [
    "# Feature importance"
   ]
  },
  {
   "cell_type": "code",
   "execution_count": 16,
   "id": "0fa91199",
   "metadata": {},
   "outputs": [
    {
     "data": {
      "text/html": [
       "<div>\n",
       "<style scoped>\n",
       "    .dataframe tbody tr th:only-of-type {\n",
       "        vertical-align: middle;\n",
       "    }\n",
       "\n",
       "    .dataframe tbody tr th {\n",
       "        vertical-align: top;\n",
       "    }\n",
       "\n",
       "    .dataframe thead th {\n",
       "        text-align: right;\n",
       "    }\n",
       "</style>\n",
       "<table border=\"1\" class=\"dataframe\">\n",
       "  <thead>\n",
       "    <tr style=\"text-align: right;\">\n",
       "      <th></th>\n",
       "      <th>feature_importance</th>\n",
       "    </tr>\n",
       "  </thead>\n",
       "  <tbody>\n",
       "    <tr>\n",
       "      <th>outlook_overcast</th>\n",
       "      <td>0.226000</td>\n",
       "    </tr>\n",
       "    <tr>\n",
       "      <th>outlook_rainy</th>\n",
       "      <td>0.114974</td>\n",
       "    </tr>\n",
       "    <tr>\n",
       "      <th>outlook_sunny</th>\n",
       "      <td>0.142857</td>\n",
       "    </tr>\n",
       "    <tr>\n",
       "      <th>temperature_cool</th>\n",
       "      <td>0.000000</td>\n",
       "    </tr>\n",
       "    <tr>\n",
       "      <th>temperature_hot</th>\n",
       "      <td>0.000000</td>\n",
       "    </tr>\n",
       "    <tr>\n",
       "      <th>temperature_cool</th>\n",
       "      <td>0.000000</td>\n",
       "    </tr>\n",
       "    <tr>\n",
       "      <th>humidity_high</th>\n",
       "      <td>0.000000</td>\n",
       "    </tr>\n",
       "    <tr>\n",
       "      <th>humidity_normal</th>\n",
       "      <td>0.198623</td>\n",
       "    </tr>\n",
       "    <tr>\n",
       "      <th>windy_False</th>\n",
       "      <td>0.257831</td>\n",
       "    </tr>\n",
       "    <tr>\n",
       "      <th>windy_True</th>\n",
       "      <td>0.000000</td>\n",
       "    </tr>\n",
       "  </tbody>\n",
       "</table>\n",
       "</div>"
      ],
      "text/plain": [
       "                  feature_importance\n",
       "outlook_overcast            0.226000\n",
       "outlook_rainy               0.114974\n",
       "outlook_sunny               0.142857\n",
       "temperature_cool            0.000000\n",
       "temperature_hot             0.000000\n",
       "temperature_cool            0.000000\n",
       "humidity_high               0.000000\n",
       "humidity_normal             0.198623\n",
       "windy_False                 0.257831\n",
       "windy_True                  0.000000"
      ]
     },
     "execution_count": 16,
     "metadata": {},
     "output_type": "execute_result"
    },
    {
     "data": {
      "application/javascript": [
       "\n",
       "            setTimeout(function() {\n",
       "                var nbb_cell_id = 16;\n",
       "                var nbb_unformatted_code = \"clf = DecisionTreeClassifier(random_state=42, criterion=\\\"entropy\\\")\\n\\nclf.fit(X_prepared, y)\\n\\npd.DataFrame(\\n    index=X_prepared.columns,\\n    data=clf.tree_.compute_feature_importances(normalize=False),\\n    columns=[\\\"feature_importance\\\"],\\n)\";\n",
       "                var nbb_formatted_code = \"clf = DecisionTreeClassifier(random_state=42, criterion=\\\"entropy\\\")\\n\\nclf.fit(X_prepared, y)\\n\\npd.DataFrame(\\n    index=X_prepared.columns,\\n    data=clf.tree_.compute_feature_importances(normalize=False),\\n    columns=[\\\"feature_importance\\\"],\\n)\";\n",
       "                var nbb_cells = Jupyter.notebook.get_cells();\n",
       "                for (var i = 0; i < nbb_cells.length; ++i) {\n",
       "                    if (nbb_cells[i].input_prompt_number == nbb_cell_id) {\n",
       "                        if (nbb_cells[i].get_text() == nbb_unformatted_code) {\n",
       "                             nbb_cells[i].set_text(nbb_formatted_code);\n",
       "                        }\n",
       "                        break;\n",
       "                    }\n",
       "                }\n",
       "            }, 500);\n",
       "            "
      ],
      "text/plain": [
       "<IPython.core.display.Javascript object>"
      ]
     },
     "metadata": {},
     "output_type": "display_data"
    }
   ],
   "source": [
    "clf = DecisionTreeClassifier(random_state=42, criterion=\"entropy\")\n",
    "\n",
    "clf.fit(X_prepared, y)\n",
    "\n",
    "pd.DataFrame(\n",
    "    index=X_prepared.columns,\n",
    "    data=clf.tree_.compute_feature_importances(normalize=False),\n",
    "    columns=[\"feature_importance\"],\n",
    ")"
   ]
  },
  {
   "cell_type": "markdown",
   "id": "982d3dc7",
   "metadata": {},
   "source": [
    "# Runner"
   ]
  },
  {
   "cell_type": "code",
   "execution_count": 19,
   "id": "27b62e42",
   "metadata": {},
   "outputs": [
    {
     "data": {
      "application/javascript": [
       "\n",
       "            setTimeout(function() {\n",
       "                var nbb_cell_id = 19;\n",
       "                var nbb_unformatted_code = \"IMPURITY_RUNNER = EntropyRunner()\";\n",
       "                var nbb_formatted_code = \"IMPURITY_RUNNER = EntropyRunner()\";\n",
       "                var nbb_cells = Jupyter.notebook.get_cells();\n",
       "                for (var i = 0; i < nbb_cells.length; ++i) {\n",
       "                    if (nbb_cells[i].input_prompt_number == nbb_cell_id) {\n",
       "                        if (nbb_cells[i].get_text() == nbb_unformatted_code) {\n",
       "                             nbb_cells[i].set_text(nbb_formatted_code);\n",
       "                        }\n",
       "                        break;\n",
       "                    }\n",
       "                }\n",
       "            }, 500);\n",
       "            "
      ],
      "text/plain": [
       "<IPython.core.display.Javascript object>"
      ]
     },
     "metadata": {},
     "output_type": "display_data"
    }
   ],
   "source": [
    "IMPURITY_RUNNER = EntropyRunner()"
   ]
  },
  {
   "cell_type": "code",
   "execution_count": 20,
   "id": "fe09777b",
   "metadata": {},
   "outputs": [
    {
     "data": {
      "application/javascript": [
       "\n",
       "            setTimeout(function() {\n",
       "                var nbb_cell_id = 20;\n",
       "                var nbb_unformatted_code = \"from typing import Dict, List, Tuple\\n\\n\\ndef iteration(x, y, impurity_runner=EntropyRunner()) -> Dict:\\n    tree_runner = TreeBaseRunner(x, y, impurity_runner)\\n    return tree_runner.run()\";\n",
       "                var nbb_formatted_code = \"from typing import Dict, List, Tuple\\n\\n\\ndef iteration(x, y, impurity_runner=EntropyRunner()) -> Dict:\\n    tree_runner = TreeBaseRunner(x, y, impurity_runner)\\n    return tree_runner.run()\";\n",
       "                var nbb_cells = Jupyter.notebook.get_cells();\n",
       "                for (var i = 0; i < nbb_cells.length; ++i) {\n",
       "                    if (nbb_cells[i].input_prompt_number == nbb_cell_id) {\n",
       "                        if (nbb_cells[i].get_text() == nbb_unformatted_code) {\n",
       "                             nbb_cells[i].set_text(nbb_formatted_code);\n",
       "                        }\n",
       "                        break;\n",
       "                    }\n",
       "                }\n",
       "            }, 500);\n",
       "            "
      ],
      "text/plain": [
       "<IPython.core.display.Javascript object>"
      ]
     },
     "metadata": {},
     "output_type": "display_data"
    }
   ],
   "source": [
    "from typing import Dict, List, Tuple\n",
    "\n",
    "\n",
    "def iteration(x, y, impurity_runner=EntropyRunner()) -> Dict:\n",
    "    tree_runner = TreeBaseRunner(x, y, impurity_runner)\n",
    "    return tree_runner.run()\n",
    "\n",
    "\n"
   ]
  },
  {
   "cell_type": "code",
   "execution_count": 21,
   "id": "e6a9a4e2",
   "metadata": {
    "scrolled": false
   },
   "outputs": [
    {
     "name": "stdout",
     "output_type": "stream",
     "text": [
      "impurity: 0.9402859586706311\n",
      "samples: 14\n",
      "value: Counter({'yes': 9, 'no': 5})\n",
      "best_feature_to_split_on: outlook\n",
      "\n",
      "\n"
     ]
    },
    {
     "data": {
      "application/javascript": [
       "\n",
       "            setTimeout(function() {\n",
       "                var nbb_cell_id = 21;\n",
       "                var nbb_unformatted_code = \"dfs = iteration(X, y)\";\n",
       "                var nbb_formatted_code = \"dfs = iteration(X, y)\";\n",
       "                var nbb_cells = Jupyter.notebook.get_cells();\n",
       "                for (var i = 0; i < nbb_cells.length; ++i) {\n",
       "                    if (nbb_cells[i].input_prompt_number == nbb_cell_id) {\n",
       "                        if (nbb_cells[i].get_text() == nbb_unformatted_code) {\n",
       "                             nbb_cells[i].set_text(nbb_formatted_code);\n",
       "                        }\n",
       "                        break;\n",
       "                    }\n",
       "                }\n",
       "            }, 500);\n",
       "            "
      ],
      "text/plain": [
       "<IPython.core.display.Javascript object>"
      ]
     },
     "metadata": {},
     "output_type": "display_data"
    }
   ],
   "source": [
    "dfs = iteration(X, y)"
   ]
  },
  {
   "cell_type": "code",
   "execution_count": 22,
   "id": "513bc270",
   "metadata": {},
   "outputs": [
    {
     "name": "stdout",
     "output_type": "stream",
     "text": [
      "feature label: sunny\n",
      "impurity: 0.9709505944546686\n",
      "samples: 5\n",
      "value: Counter({'no': 3, 'yes': 2})\n",
      "best_feature_to_split_on: humidity\n",
      "\n",
      "\n",
      "feature label: rainy\n",
      "impurity: 0.9709505944546686\n",
      "samples: 5\n",
      "value: Counter({'yes': 3, 'no': 2})\n",
      "best_feature_to_split_on: windy\n",
      "\n",
      "\n",
      "feature label: overcast\n",
      "impurity: -0.0\n",
      "samples: 4\n",
      "value: Counter({'yes': 4})\n",
      "best_feature_to_split_on: temperature\n"
     ]
    },
    {
     "data": {
      "application/javascript": [
       "\n",
       "            setTimeout(function() {\n",
       "                var nbb_cell_id = 22;\n",
       "                var nbb_unformatted_code = \"feature_to_split = \\\"outlook\\\"\\n\\n\\nfor feature_label, (x, y) in dfs[feature_to_split].items():\\n    print(\\\"feature label:\\\", feature_label)\\n    dfs[feature_to_split][feature_label] = iteration(x, y)\";\n",
       "                var nbb_formatted_code = \"feature_to_split = \\\"outlook\\\"\\n\\n\\nfor feature_label, (x, y) in dfs[feature_to_split].items():\\n    print(\\\"feature label:\\\", feature_label)\\n    dfs[feature_to_split][feature_label] = iteration(x, y)\";\n",
       "                var nbb_cells = Jupyter.notebook.get_cells();\n",
       "                for (var i = 0; i < nbb_cells.length; ++i) {\n",
       "                    if (nbb_cells[i].input_prompt_number == nbb_cell_id) {\n",
       "                        if (nbb_cells[i].get_text() == nbb_unformatted_code) {\n",
       "                             nbb_cells[i].set_text(nbb_formatted_code);\n",
       "                        }\n",
       "                        break;\n",
       "                    }\n",
       "                }\n",
       "            }, 500);\n",
       "            "
      ],
      "text/plain": [
       "<IPython.core.display.Javascript object>"
      ]
     },
     "metadata": {},
     "output_type": "display_data"
    }
   ],
   "source": [
    "feature_to_split = \"outlook\"\n",
    "\n",
    "\n",
    "for feature_label, (x, y) in dfs[feature_to_split].items():\n",
    "    print(\"feature label:\", feature_label)\n",
    "    dfs[feature_to_split][feature_label] = iteration(x, y)"
   ]
  },
  {
   "cell_type": "code",
   "execution_count": 23,
   "id": "49652682",
   "metadata": {},
   "outputs": [
    {
     "name": "stdout",
     "output_type": "stream",
     "text": [
      "first_feature: outlook\n",
      "first_feature_label: sunny\n",
      "second_feature: humidity\n",
      "second_feature_label: high\n",
      "impurity: -0.0\n",
      "samples: 3\n",
      "value: Counter({'no': 3})\n",
      "best_feature_to_split_on: temperature\n",
      "\n",
      "\n",
      "first_feature: outlook\n",
      "first_feature_label: sunny\n",
      "second_feature: humidity\n",
      "second_feature_label: normal\n",
      "impurity: -0.0\n",
      "samples: 2\n",
      "value: Counter({'yes': 2})\n",
      "best_feature_to_split_on: temperature\n",
      "\n",
      "\n",
      "first_feature: outlook\n",
      "first_feature_label: rainy\n",
      "second_feature: windy\n",
      "second_feature_label: False\n",
      "impurity: -0.0\n",
      "samples: 3\n",
      "value: Counter({'yes': 3})\n",
      "best_feature_to_split_on: temperature\n",
      "\n",
      "\n",
      "first_feature: outlook\n",
      "first_feature_label: rainy\n",
      "second_feature: windy\n",
      "second_feature_label: True\n",
      "impurity: -0.0\n",
      "samples: 2\n",
      "value: Counter({'no': 2})\n",
      "best_feature_to_split_on: temperature\n",
      "\n",
      "\n"
     ]
    },
    {
     "data": {
      "application/javascript": [
       "\n",
       "            setTimeout(function() {\n",
       "                var nbb_cell_id = 23;\n",
       "                var nbb_unformatted_code = \"for first_feature, v in dfs.items():\\n    for first_layer_feature_label, v in v.items():\\n        if v:\\n            for second_feature, v in v.items():\\n                for second_layer_feature_label, (x, y) in v.items():\\n                    print(\\\"first_feature:\\\", first_feature)\\n                    print(\\\"first_feature_label:\\\", first_layer_feature_label)\\n                    print(\\\"second_feature:\\\", second_feature)\\n                    print(\\\"second_feature_label:\\\", second_layer_feature_label)\\n                    dfs[first_feature][first_layer_feature_label][second_feature][\\n                        second_layer_feature_label\\n                    ] = iteration(x, y)\\n                    print(\\\"\\\\n\\\")\\n        else:\\n            continue\";\n",
       "                var nbb_formatted_code = \"for first_feature, v in dfs.items():\\n    for first_layer_feature_label, v in v.items():\\n        if v:\\n            for second_feature, v in v.items():\\n                for second_layer_feature_label, (x, y) in v.items():\\n                    print(\\\"first_feature:\\\", first_feature)\\n                    print(\\\"first_feature_label:\\\", first_layer_feature_label)\\n                    print(\\\"second_feature:\\\", second_feature)\\n                    print(\\\"second_feature_label:\\\", second_layer_feature_label)\\n                    dfs[first_feature][first_layer_feature_label][second_feature][\\n                        second_layer_feature_label\\n                    ] = iteration(x, y)\\n                    print(\\\"\\\\n\\\")\\n        else:\\n            continue\";\n",
       "                var nbb_cells = Jupyter.notebook.get_cells();\n",
       "                for (var i = 0; i < nbb_cells.length; ++i) {\n",
       "                    if (nbb_cells[i].input_prompt_number == nbb_cell_id) {\n",
       "                        if (nbb_cells[i].get_text() == nbb_unformatted_code) {\n",
       "                             nbb_cells[i].set_text(nbb_formatted_code);\n",
       "                        }\n",
       "                        break;\n",
       "                    }\n",
       "                }\n",
       "            }, 500);\n",
       "            "
      ],
      "text/plain": [
       "<IPython.core.display.Javascript object>"
      ]
     },
     "metadata": {},
     "output_type": "display_data"
    }
   ],
   "source": [
    "for first_feature, v in dfs.items():\n",
    "    for first_layer_feature_label, v in v.items():\n",
    "        if v:\n",
    "            for second_feature, v in v.items():\n",
    "                for second_layer_feature_label, (x, y) in v.items():\n",
    "                    print(\"first_feature:\", first_feature)\n",
    "                    print(\"first_feature_label:\", first_layer_feature_label)\n",
    "                    print(\"second_feature:\", second_feature)\n",
    "                    print(\"second_feature_label:\", second_layer_feature_label)\n",
    "                    dfs[first_feature][first_layer_feature_label][second_feature][\n",
    "                        second_layer_feature_label\n",
    "                    ] = iteration(x, y)\n",
    "                    print(\"\\n\")\n",
    "        else:\n",
    "            continue"
   ]
  },
  {
   "cell_type": "markdown",
   "id": "c673648e",
   "metadata": {},
   "source": [
    "# Test"
   ]
  },
  {
   "cell_type": "code",
   "execution_count": 24,
   "id": "21b635f7",
   "metadata": {},
   "outputs": [
    {
     "data": {
      "text/plain": [
       "8     yes\n",
       "10    yes\n",
       "Name: target, dtype: object"
      ]
     },
     "execution_count": 24,
     "metadata": {},
     "output_type": "execute_result"
    },
    {
     "data": {
      "application/javascript": [
       "\n",
       "            setTimeout(function() {\n",
       "                var nbb_cell_id = 24;\n",
       "                var nbb_unformatted_code = \"mask = (df[\\\"outlook\\\"] == \\\"sunny\\\") & (df[\\\"humidity\\\"] == \\\"normal\\\")\\ndf[mask][\\\"target\\\"]\";\n",
       "                var nbb_formatted_code = \"mask = (df[\\\"outlook\\\"] == \\\"sunny\\\") & (df[\\\"humidity\\\"] == \\\"normal\\\")\\ndf[mask][\\\"target\\\"]\";\n",
       "                var nbb_cells = Jupyter.notebook.get_cells();\n",
       "                for (var i = 0; i < nbb_cells.length; ++i) {\n",
       "                    if (nbb_cells[i].input_prompt_number == nbb_cell_id) {\n",
       "                        if (nbb_cells[i].get_text() == nbb_unformatted_code) {\n",
       "                             nbb_cells[i].set_text(nbb_formatted_code);\n",
       "                        }\n",
       "                        break;\n",
       "                    }\n",
       "                }\n",
       "            }, 500);\n",
       "            "
      ],
      "text/plain": [
       "<IPython.core.display.Javascript object>"
      ]
     },
     "metadata": {},
     "output_type": "display_data"
    }
   ],
   "source": [
    "mask = (df[\"outlook\"] == \"sunny\") & (df[\"humidity\"] == \"normal\")\n",
    "df[mask][\"target\"]"
   ]
  },
  {
   "cell_type": "code",
   "execution_count": 25,
   "id": "d04f6e19",
   "metadata": {},
   "outputs": [
    {
     "data": {
      "text/plain": [
       "5     no\n",
       "13    no\n",
       "Name: target, dtype: object"
      ]
     },
     "execution_count": 25,
     "metadata": {},
     "output_type": "execute_result"
    },
    {
     "data": {
      "application/javascript": [
       "\n",
       "            setTimeout(function() {\n",
       "                var nbb_cell_id = 25;\n",
       "                var nbb_unformatted_code = \"mask = (df[\\\"outlook\\\"] == \\\"rainy\\\") & (df[\\\"windy\\\"] == \\\"True\\\")\\ndf[mask][\\\"target\\\"]\";\n",
       "                var nbb_formatted_code = \"mask = (df[\\\"outlook\\\"] == \\\"rainy\\\") & (df[\\\"windy\\\"] == \\\"True\\\")\\ndf[mask][\\\"target\\\"]\";\n",
       "                var nbb_cells = Jupyter.notebook.get_cells();\n",
       "                for (var i = 0; i < nbb_cells.length; ++i) {\n",
       "                    if (nbb_cells[i].input_prompt_number == nbb_cell_id) {\n",
       "                        if (nbb_cells[i].get_text() == nbb_unformatted_code) {\n",
       "                             nbb_cells[i].set_text(nbb_formatted_code);\n",
       "                        }\n",
       "                        break;\n",
       "                    }\n",
       "                }\n",
       "            }, 500);\n",
       "            "
      ],
      "text/plain": [
       "<IPython.core.display.Javascript object>"
      ]
     },
     "metadata": {},
     "output_type": "display_data"
    }
   ],
   "source": [
    "mask = (df[\"outlook\"] == \"rainy\") & (df[\"windy\"] == \"True\")\n",
    "df[mask][\"target\"]"
   ]
  },
  {
   "cell_type": "code",
   "execution_count": 26,
   "id": "0590355d",
   "metadata": {},
   "outputs": [
    {
     "data": {
      "text/plain": [
       "5     no\n",
       "13    no\n",
       "Name: target, dtype: object"
      ]
     },
     "execution_count": 26,
     "metadata": {},
     "output_type": "execute_result"
    },
    {
     "data": {
      "application/javascript": [
       "\n",
       "            setTimeout(function() {\n",
       "                var nbb_cell_id = 26;\n",
       "                var nbb_unformatted_code = \"mask = (df[\\\"outlook\\\"] == \\\"rainy\\\") & (df[\\\"windy\\\"] == \\\"True\\\")\\ndf[mask][\\\"target\\\"]\";\n",
       "                var nbb_formatted_code = \"mask = (df[\\\"outlook\\\"] == \\\"rainy\\\") & (df[\\\"windy\\\"] == \\\"True\\\")\\ndf[mask][\\\"target\\\"]\";\n",
       "                var nbb_cells = Jupyter.notebook.get_cells();\n",
       "                for (var i = 0; i < nbb_cells.length; ++i) {\n",
       "                    if (nbb_cells[i].input_prompt_number == nbb_cell_id) {\n",
       "                        if (nbb_cells[i].get_text() == nbb_unformatted_code) {\n",
       "                             nbb_cells[i].set_text(nbb_formatted_code);\n",
       "                        }\n",
       "                        break;\n",
       "                    }\n",
       "                }\n",
       "            }, 500);\n",
       "            "
      ],
      "text/plain": [
       "<IPython.core.display.Javascript object>"
      ]
     },
     "metadata": {},
     "output_type": "display_data"
    }
   ],
   "source": [
    "mask = (df[\"outlook\"] == \"rainy\") & (df[\"windy\"] == \"True\")\n",
    "df[mask][\"target\"]"
   ]
  }
 ],
 "metadata": {
  "kernelspec": {
   "display_name": "Python [conda env:ml]",
   "language": "python",
   "name": "conda-env-ml-py"
  },
  "language_info": {
   "codemirror_mode": {
    "name": "ipython",
    "version": 3
   },
   "file_extension": ".py",
   "mimetype": "text/x-python",
   "name": "python",
   "nbconvert_exporter": "python",
   "pygments_lexer": "ipython3",
   "version": "3.10.6"
  }
 },
 "nbformat": 4,
 "nbformat_minor": 5
}
