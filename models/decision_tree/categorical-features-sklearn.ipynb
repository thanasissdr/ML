{
 "cells": [
  {
   "cell_type": "code",
   "execution_count": 1,
   "id": "4d1b32a5",
   "metadata": {},
   "outputs": [
    {
     "data": {
      "application/javascript": [
       "\n",
       "            setTimeout(function() {\n",
       "                var nbb_cell_id = 1;\n",
       "                var nbb_unformatted_code = \"%load_ext nb_black\";\n",
       "                var nbb_formatted_code = \"%load_ext nb_black\";\n",
       "                var nbb_cells = Jupyter.notebook.get_cells();\n",
       "                for (var i = 0; i < nbb_cells.length; ++i) {\n",
       "                    if (nbb_cells[i].input_prompt_number == nbb_cell_id) {\n",
       "                        if (nbb_cells[i].get_text() == nbb_unformatted_code) {\n",
       "                             nbb_cells[i].set_text(nbb_formatted_code);\n",
       "                        }\n",
       "                        break;\n",
       "                    }\n",
       "                }\n",
       "            }, 500);\n",
       "            "
      ],
      "text/plain": [
       "<IPython.core.display.Javascript object>"
      ]
     },
     "metadata": {},
     "output_type": "display_data"
    }
   ],
   "source": [
    "%load_ext nb_black"
   ]
  },
  {
   "cell_type": "code",
   "execution_count": 2,
   "id": "e645d48a",
   "metadata": {},
   "outputs": [
    {
     "data": {
      "application/javascript": [
       "\n",
       "            setTimeout(function() {\n",
       "                var nbb_cell_id = 2;\n",
       "                var nbb_unformatted_code = \"import random\\nimport math\\n\\nimport matplotlib.pyplot as plt\\nimport numpy as np\\nimport pandas as pd\\n\\nfrom collections import Counter\\nfrom functools import wraps\\nfrom typing import Any, Dict, List, Tuple\\n\\nfrom sklearn.preprocessing import OneHotEncoder\\nfrom sklearn.tree import DecisionTreeClassifier, plot_tree\\n\\n\\nfrom categorical_features_sklearn import GiniRunner, EntropyRunner, TreeBaseRunner\";\n",
       "                var nbb_formatted_code = \"import random\\nimport math\\n\\nimport matplotlib.pyplot as plt\\nimport numpy as np\\nimport pandas as pd\\n\\nfrom collections import Counter\\nfrom functools import wraps\\nfrom typing import Any, Dict, List, Tuple\\n\\nfrom sklearn.preprocessing import OneHotEncoder\\nfrom sklearn.tree import DecisionTreeClassifier, plot_tree\\n\\n\\nfrom categorical_features_sklearn import GiniRunner, EntropyRunner, TreeBaseRunner\";\n",
       "                var nbb_cells = Jupyter.notebook.get_cells();\n",
       "                for (var i = 0; i < nbb_cells.length; ++i) {\n",
       "                    if (nbb_cells[i].input_prompt_number == nbb_cell_id) {\n",
       "                        if (nbb_cells[i].get_text() == nbb_unformatted_code) {\n",
       "                             nbb_cells[i].set_text(nbb_formatted_code);\n",
       "                        }\n",
       "                        break;\n",
       "                    }\n",
       "                }\n",
       "            }, 500);\n",
       "            "
      ],
      "text/plain": [
       "<IPython.core.display.Javascript object>"
      ]
     },
     "metadata": {},
     "output_type": "display_data"
    }
   ],
   "source": [
    "import random\n",
    "import math\n",
    "\n",
    "import matplotlib.pyplot as plt\n",
    "import numpy as np\n",
    "import pandas as pd\n",
    "\n",
    "from collections import Counter\n",
    "from functools import wraps\n",
    "from typing import Any, Dict, List, Tuple\n",
    "\n",
    "from sklearn.preprocessing import OneHotEncoder\n",
    "from sklearn.tree import DecisionTreeClassifier, plot_tree\n",
    "\n",
    "\n",
    "from categorical_features_sklearn import GiniRunner, EntropyRunner, TreeBaseRunner"
   ]
  },
  {
   "cell_type": "markdown",
   "id": "f176c96a",
   "metadata": {},
   "source": [
    "# Create categorical data"
   ]
  },
  {
   "cell_type": "code",
   "execution_count": 3,
   "id": "b1b3cdeb",
   "metadata": {},
   "outputs": [
    {
     "data": {
      "text/html": [
       "<div>\n",
       "<style scoped>\n",
       "    .dataframe tbody tr th:only-of-type {\n",
       "        vertical-align: middle;\n",
       "    }\n",
       "\n",
       "    .dataframe tbody tr th {\n",
       "        vertical-align: top;\n",
       "    }\n",
       "\n",
       "    .dataframe thead th {\n",
       "        text-align: right;\n",
       "    }\n",
       "</style>\n",
       "<table border=\"1\" class=\"dataframe\">\n",
       "  <thead>\n",
       "    <tr style=\"text-align: right;\">\n",
       "      <th></th>\n",
       "      <th>feature_2_10</th>\n",
       "      <th>feature_2_20</th>\n",
       "      <th>feature_2_30</th>\n",
       "      <th>feature_1_0</th>\n",
       "      <th>feature_1_1</th>\n",
       "      <th>feature_1_2</th>\n",
       "      <th>label</th>\n",
       "    </tr>\n",
       "  </thead>\n",
       "  <tbody>\n",
       "    <tr>\n",
       "      <th>0</th>\n",
       "      <td>0</td>\n",
       "      <td>0</td>\n",
       "      <td>1</td>\n",
       "      <td>0</td>\n",
       "      <td>1</td>\n",
       "      <td>0</td>\n",
       "      <td>0</td>\n",
       "    </tr>\n",
       "    <tr>\n",
       "      <th>1</th>\n",
       "      <td>1</td>\n",
       "      <td>0</td>\n",
       "      <td>0</td>\n",
       "      <td>0</td>\n",
       "      <td>0</td>\n",
       "      <td>1</td>\n",
       "      <td>1</td>\n",
       "    </tr>\n",
       "    <tr>\n",
       "      <th>2</th>\n",
       "      <td>1</td>\n",
       "      <td>0</td>\n",
       "      <td>0</td>\n",
       "      <td>0</td>\n",
       "      <td>0</td>\n",
       "      <td>1</td>\n",
       "      <td>1</td>\n",
       "    </tr>\n",
       "    <tr>\n",
       "      <th>3</th>\n",
       "      <td>0</td>\n",
       "      <td>1</td>\n",
       "      <td>0</td>\n",
       "      <td>0</td>\n",
       "      <td>1</td>\n",
       "      <td>0</td>\n",
       "      <td>1</td>\n",
       "    </tr>\n",
       "    <tr>\n",
       "      <th>4</th>\n",
       "      <td>0</td>\n",
       "      <td>0</td>\n",
       "      <td>1</td>\n",
       "      <td>1</td>\n",
       "      <td>0</td>\n",
       "      <td>0</td>\n",
       "      <td>1</td>\n",
       "    </tr>\n",
       "    <tr>\n",
       "      <th>...</th>\n",
       "      <td>...</td>\n",
       "      <td>...</td>\n",
       "      <td>...</td>\n",
       "      <td>...</td>\n",
       "      <td>...</td>\n",
       "      <td>...</td>\n",
       "      <td>...</td>\n",
       "    </tr>\n",
       "    <tr>\n",
       "      <th>145</th>\n",
       "      <td>0</td>\n",
       "      <td>1</td>\n",
       "      <td>0</td>\n",
       "      <td>1</td>\n",
       "      <td>0</td>\n",
       "      <td>0</td>\n",
       "      <td>1</td>\n",
       "    </tr>\n",
       "    <tr>\n",
       "      <th>146</th>\n",
       "      <td>0</td>\n",
       "      <td>1</td>\n",
       "      <td>0</td>\n",
       "      <td>0</td>\n",
       "      <td>0</td>\n",
       "      <td>1</td>\n",
       "      <td>1</td>\n",
       "    </tr>\n",
       "    <tr>\n",
       "      <th>147</th>\n",
       "      <td>1</td>\n",
       "      <td>0</td>\n",
       "      <td>0</td>\n",
       "      <td>0</td>\n",
       "      <td>1</td>\n",
       "      <td>0</td>\n",
       "      <td>1</td>\n",
       "    </tr>\n",
       "    <tr>\n",
       "      <th>148</th>\n",
       "      <td>0</td>\n",
       "      <td>1</td>\n",
       "      <td>0</td>\n",
       "      <td>1</td>\n",
       "      <td>0</td>\n",
       "      <td>0</td>\n",
       "      <td>0</td>\n",
       "    </tr>\n",
       "    <tr>\n",
       "      <th>149</th>\n",
       "      <td>1</td>\n",
       "      <td>0</td>\n",
       "      <td>0</td>\n",
       "      <td>1</td>\n",
       "      <td>0</td>\n",
       "      <td>0</td>\n",
       "      <td>0</td>\n",
       "    </tr>\n",
       "  </tbody>\n",
       "</table>\n",
       "<p>150 rows × 7 columns</p>\n",
       "</div>"
      ],
      "text/plain": [
       "     feature_2_10  feature_2_20  feature_2_30  feature_1_0  feature_1_1  \\\n",
       "0               0             0             1            0            1   \n",
       "1               1             0             0            0            0   \n",
       "2               1             0             0            0            0   \n",
       "3               0             1             0            0            1   \n",
       "4               0             0             1            1            0   \n",
       "..            ...           ...           ...          ...          ...   \n",
       "145             0             1             0            1            0   \n",
       "146             0             1             0            0            0   \n",
       "147             1             0             0            0            1   \n",
       "148             0             1             0            1            0   \n",
       "149             1             0             0            1            0   \n",
       "\n",
       "     feature_1_2  label  \n",
       "0              0      0  \n",
       "1              1      1  \n",
       "2              1      1  \n",
       "3              0      1  \n",
       "4              0      1  \n",
       "..           ...    ...  \n",
       "145            0      1  \n",
       "146            1      1  \n",
       "147            0      1  \n",
       "148            0      0  \n",
       "149            0      0  \n",
       "\n",
       "[150 rows x 7 columns]"
      ]
     },
     "execution_count": 3,
     "metadata": {},
     "output_type": "execute_result"
    },
    {
     "data": {
      "application/javascript": [
       "\n",
       "            setTimeout(function() {\n",
       "                var nbb_cell_id = 3;\n",
       "                var nbb_unformatted_code = \"np.random.seed(42)\\nN = 150\\n\\nCAT_FEATURE_1 = np.random.choice([0, 1, 2], p=[0.3, 0.3, 0.4], size=(N,))\\nCAT_FEATURE_2 = np.random.choice([10, 20, 30], p=[0.3, 0.6, 0.1], size=(N,))\\n\\nTARGET = np.random.choice([0, 1], p=[0.5, 0.5], size=(N,))\\n\\noriginal_df = pd.DataFrame(\\n    data={\\\"feature_1\\\": CAT_FEATURE_1, \\\"feature_2\\\": CAT_FEATURE_2, \\\"label\\\": TARGET}\\n)\\n\\ndf = pd.DataFrame()\\nfor feature in [\\\"feature_1\\\", \\\"feature_2\\\"]:\\n    df = pd.concat(\\n        [pd.get_dummies(original_df[feature]).add_prefix(f\\\"{feature}_\\\"), df], axis=1\\n    )\\n\\ndf[\\\"label\\\"] = original_df[\\\"label\\\"]\\n\\ndf\";\n",
       "                var nbb_formatted_code = \"np.random.seed(42)\\nN = 150\\n\\nCAT_FEATURE_1 = np.random.choice([0, 1, 2], p=[0.3, 0.3, 0.4], size=(N,))\\nCAT_FEATURE_2 = np.random.choice([10, 20, 30], p=[0.3, 0.6, 0.1], size=(N,))\\n\\nTARGET = np.random.choice([0, 1], p=[0.5, 0.5], size=(N,))\\n\\noriginal_df = pd.DataFrame(\\n    data={\\\"feature_1\\\": CAT_FEATURE_1, \\\"feature_2\\\": CAT_FEATURE_2, \\\"label\\\": TARGET}\\n)\\n\\ndf = pd.DataFrame()\\nfor feature in [\\\"feature_1\\\", \\\"feature_2\\\"]:\\n    df = pd.concat(\\n        [pd.get_dummies(original_df[feature]).add_prefix(f\\\"{feature}_\\\"), df], axis=1\\n    )\\n\\ndf[\\\"label\\\"] = original_df[\\\"label\\\"]\\n\\ndf\";\n",
       "                var nbb_cells = Jupyter.notebook.get_cells();\n",
       "                for (var i = 0; i < nbb_cells.length; ++i) {\n",
       "                    if (nbb_cells[i].input_prompt_number == nbb_cell_id) {\n",
       "                        if (nbb_cells[i].get_text() == nbb_unformatted_code) {\n",
       "                             nbb_cells[i].set_text(nbb_formatted_code);\n",
       "                        }\n",
       "                        break;\n",
       "                    }\n",
       "                }\n",
       "            }, 500);\n",
       "            "
      ],
      "text/plain": [
       "<IPython.core.display.Javascript object>"
      ]
     },
     "metadata": {},
     "output_type": "display_data"
    }
   ],
   "source": [
    "np.random.seed(42)\n",
    "N = 150\n",
    "\n",
    "CAT_FEATURE_1 = np.random.choice([0, 1, 2], p=[0.3, 0.3, 0.4], size=(N,))\n",
    "CAT_FEATURE_2 = np.random.choice([10, 20, 30], p=[0.3, 0.6, 0.1], size=(N,))\n",
    "\n",
    "TARGET = np.random.choice([0, 1], p=[0.5, 0.5], size=(N,))\n",
    "\n",
    "original_df = pd.DataFrame(\n",
    "    data={\"feature_1\": CAT_FEATURE_1, \"feature_2\": CAT_FEATURE_2, \"label\": TARGET}\n",
    ")\n",
    "\n",
    "df = pd.DataFrame()\n",
    "for feature in [\"feature_1\", \"feature_2\"]:\n",
    "    df = pd.concat(\n",
    "        [pd.get_dummies(original_df[feature]).add_prefix(f\"{feature}_\"), df], axis=1\n",
    "    )\n",
    "\n",
    "df[\"label\"] = original_df[\"label\"]\n",
    "\n",
    "df"
   ]
  },
  {
   "cell_type": "code",
   "execution_count": 4,
   "id": "44dbdf12",
   "metadata": {},
   "outputs": [
    {
     "data": {
      "application/javascript": [
       "\n",
       "            setTimeout(function() {\n",
       "                var nbb_cell_id = 4;\n",
       "                var nbb_unformatted_code = \"X = df.drop([\\\"label\\\"], axis=1)\\ny = df[\\\"label\\\"]\";\n",
       "                var nbb_formatted_code = \"X = df.drop([\\\"label\\\"], axis=1)\\ny = df[\\\"label\\\"]\";\n",
       "                var nbb_cells = Jupyter.notebook.get_cells();\n",
       "                for (var i = 0; i < nbb_cells.length; ++i) {\n",
       "                    if (nbb_cells[i].input_prompt_number == nbb_cell_id) {\n",
       "                        if (nbb_cells[i].get_text() == nbb_unformatted_code) {\n",
       "                             nbb_cells[i].set_text(nbb_formatted_code);\n",
       "                        }\n",
       "                        break;\n",
       "                    }\n",
       "                }\n",
       "            }, 500);\n",
       "            "
      ],
      "text/plain": [
       "<IPython.core.display.Javascript object>"
      ]
     },
     "metadata": {},
     "output_type": "display_data"
    }
   ],
   "source": [
    "X = df.drop([\"label\"], axis=1)\n",
    "y = df[\"label\"]"
   ]
  },
  {
   "cell_type": "code",
   "execution_count": 5,
   "id": "fc414206",
   "metadata": {},
   "outputs": [
    {
     "data": {
      "text/html": [
       "<style>#sk-container-id-1 {color: black;background-color: white;}#sk-container-id-1 pre{padding: 0;}#sk-container-id-1 div.sk-toggleable {background-color: white;}#sk-container-id-1 label.sk-toggleable__label {cursor: pointer;display: block;width: 100%;margin-bottom: 0;padding: 0.3em;box-sizing: border-box;text-align: center;}#sk-container-id-1 label.sk-toggleable__label-arrow:before {content: \"▸\";float: left;margin-right: 0.25em;color: #696969;}#sk-container-id-1 label.sk-toggleable__label-arrow:hover:before {color: black;}#sk-container-id-1 div.sk-estimator:hover label.sk-toggleable__label-arrow:before {color: black;}#sk-container-id-1 div.sk-toggleable__content {max-height: 0;max-width: 0;overflow: hidden;text-align: left;background-color: #f0f8ff;}#sk-container-id-1 div.sk-toggleable__content pre {margin: 0.2em;color: black;border-radius: 0.25em;background-color: #f0f8ff;}#sk-container-id-1 input.sk-toggleable__control:checked~div.sk-toggleable__content {max-height: 200px;max-width: 100%;overflow: auto;}#sk-container-id-1 input.sk-toggleable__control:checked~label.sk-toggleable__label-arrow:before {content: \"▾\";}#sk-container-id-1 div.sk-estimator input.sk-toggleable__control:checked~label.sk-toggleable__label {background-color: #d4ebff;}#sk-container-id-1 div.sk-label input.sk-toggleable__control:checked~label.sk-toggleable__label {background-color: #d4ebff;}#sk-container-id-1 input.sk-hidden--visually {border: 0;clip: rect(1px 1px 1px 1px);clip: rect(1px, 1px, 1px, 1px);height: 1px;margin: -1px;overflow: hidden;padding: 0;position: absolute;width: 1px;}#sk-container-id-1 div.sk-estimator {font-family: monospace;background-color: #f0f8ff;border: 1px dotted black;border-radius: 0.25em;box-sizing: border-box;margin-bottom: 0.5em;}#sk-container-id-1 div.sk-estimator:hover {background-color: #d4ebff;}#sk-container-id-1 div.sk-parallel-item::after {content: \"\";width: 100%;border-bottom: 1px solid gray;flex-grow: 1;}#sk-container-id-1 div.sk-label:hover label.sk-toggleable__label {background-color: #d4ebff;}#sk-container-id-1 div.sk-serial::before {content: \"\";position: absolute;border-left: 1px solid gray;box-sizing: border-box;top: 0;bottom: 0;left: 50%;z-index: 0;}#sk-container-id-1 div.sk-serial {display: flex;flex-direction: column;align-items: center;background-color: white;padding-right: 0.2em;padding-left: 0.2em;position: relative;}#sk-container-id-1 div.sk-item {position: relative;z-index: 1;}#sk-container-id-1 div.sk-parallel {display: flex;align-items: stretch;justify-content: center;background-color: white;position: relative;}#sk-container-id-1 div.sk-item::before, #sk-container-id-1 div.sk-parallel-item::before {content: \"\";position: absolute;border-left: 1px solid gray;box-sizing: border-box;top: 0;bottom: 0;left: 50%;z-index: -1;}#sk-container-id-1 div.sk-parallel-item {display: flex;flex-direction: column;z-index: 1;position: relative;background-color: white;}#sk-container-id-1 div.sk-parallel-item:first-child::after {align-self: flex-end;width: 50%;}#sk-container-id-1 div.sk-parallel-item:last-child::after {align-self: flex-start;width: 50%;}#sk-container-id-1 div.sk-parallel-item:only-child::after {width: 0;}#sk-container-id-1 div.sk-dashed-wrapped {border: 1px dashed gray;margin: 0 0.4em 0.5em 0.4em;box-sizing: border-box;padding-bottom: 0.4em;background-color: white;}#sk-container-id-1 div.sk-label label {font-family: monospace;font-weight: bold;display: inline-block;line-height: 1.2em;}#sk-container-id-1 div.sk-label-container {text-align: center;}#sk-container-id-1 div.sk-container {/* jupyter's `normalize.less` sets `[hidden] { display: none; }` but bootstrap.min.css set `[hidden] { display: none !important; }` so we also need the `!important` here to be able to override the default hidden behavior on the sphinx rendered scikit-learn.org. See: https://github.com/scikit-learn/scikit-learn/issues/21755 */display: inline-block !important;position: relative;}#sk-container-id-1 div.sk-text-repr-fallback {display: none;}</style><div id=\"sk-container-id-1\" class=\"sk-top-container\"><div class=\"sk-text-repr-fallback\"><pre>DecisionTreeClassifier(criterion=&#x27;entropy&#x27;, random_state=42)</pre><b>In a Jupyter environment, please rerun this cell to show the HTML representation or trust the notebook. <br />On GitHub, the HTML representation is unable to render, please try loading this page with nbviewer.org.</b></div><div class=\"sk-container\" hidden><div class=\"sk-item\"><div class=\"sk-estimator sk-toggleable\"><input class=\"sk-toggleable__control sk-hidden--visually\" id=\"sk-estimator-id-1\" type=\"checkbox\" checked><label for=\"sk-estimator-id-1\" class=\"sk-toggleable__label sk-toggleable__label-arrow\">DecisionTreeClassifier</label><div class=\"sk-toggleable__content\"><pre>DecisionTreeClassifier(criterion=&#x27;entropy&#x27;, random_state=42)</pre></div></div></div></div></div>"
      ],
      "text/plain": [
       "DecisionTreeClassifier(criterion='entropy', random_state=42)"
      ]
     },
     "execution_count": 5,
     "metadata": {},
     "output_type": "execute_result"
    },
    {
     "data": {
      "application/javascript": [
       "\n",
       "            setTimeout(function() {\n",
       "                var nbb_cell_id = 5;\n",
       "                var nbb_unformatted_code = \"clf = DecisionTreeClassifier(splitter=\\\"best\\\", criterion=\\\"entropy\\\", random_state=42)\\nclf.fit(X, y)\";\n",
       "                var nbb_formatted_code = \"clf = DecisionTreeClassifier(splitter=\\\"best\\\", criterion=\\\"entropy\\\", random_state=42)\\nclf.fit(X, y)\";\n",
       "                var nbb_cells = Jupyter.notebook.get_cells();\n",
       "                for (var i = 0; i < nbb_cells.length; ++i) {\n",
       "                    if (nbb_cells[i].input_prompt_number == nbb_cell_id) {\n",
       "                        if (nbb_cells[i].get_text() == nbb_unformatted_code) {\n",
       "                             nbb_cells[i].set_text(nbb_formatted_code);\n",
       "                        }\n",
       "                        break;\n",
       "                    }\n",
       "                }\n",
       "            }, 500);\n",
       "            "
      ],
      "text/plain": [
       "<IPython.core.display.Javascript object>"
      ]
     },
     "metadata": {},
     "output_type": "display_data"
    }
   ],
   "source": [
    "clf = DecisionTreeClassifier(splitter=\"best\", criterion=\"entropy\", random_state=42)\n",
    "clf.fit(X, y)"
   ]
  },
  {
   "cell_type": "code",
   "execution_count": 6,
   "id": "f0192ded",
   "metadata": {},
   "outputs": [
    {
     "data": {
      "text/plain": [
       "[Text(0.640625, 0.9, 'feature_1_0 <= 0.5\\nentropy = 0.999872\\nsamples = 150\\nvalue = [74, 76]\\nclass = 1'),\n",
       " Text(0.40625, 0.7, 'feature_2_30 <= 0.5\\nentropy = 0.998159\\nsamples = 99\\nvalue = [52, 47]\\nclass = 0'),\n",
       " Text(0.25, 0.5, 'feature_1_2 <= 0.5\\nentropy = 0.999913\\nsamples = 91\\nvalue = [46, 45]\\nclass = 0'),\n",
       " Text(0.125, 0.3, 'feature_2_10 <= 0.5\\nentropy = 0.995727\\nsamples = 39\\nvalue = [18, 21]\\nclass = 1'),\n",
       " Text(0.0625, 0.1, 'entropy = 0.998846\\nsamples = 25\\nvalue = [12, 13]\\nclass = 1'),\n",
       " Text(0.1875, 0.1, 'entropy = 0.985228\\nsamples = 14\\nvalue = [6, 8]\\nclass = 1'),\n",
       " Text(0.375, 0.3, 'feature_2_10 <= 0.5\\nentropy = 0.995727\\nsamples = 52\\nvalue = [28, 24]\\nclass = 0'),\n",
       " Text(0.3125, 0.1, 'entropy = 0.991076\\nsamples = 36\\nvalue = [20, 16]\\nclass = 0'),\n",
       " Text(0.4375, 0.1, 'entropy = 1.0\\nsamples = 16\\nvalue = [8, 8]\\nclass = 0'),\n",
       " Text(0.5625, 0.5, 'feature_1_2 <= 0.5\\nentropy = 0.811278\\nsamples = 8\\nvalue = [6, 2]\\nclass = 0'),\n",
       " Text(0.5, 0.3, 'entropy = 0.721928\\nsamples = 5\\nvalue = [4, 1]\\nclass = 0'),\n",
       " Text(0.625, 0.3, 'entropy = 0.918296\\nsamples = 3\\nvalue = [2, 1]\\nclass = 0'),\n",
       " Text(0.875, 0.7, 'feature_2_10 <= 0.5\\nentropy = 0.986368\\nsamples = 51\\nvalue = [22, 29]\\nclass = 1'),\n",
       " Text(0.8125, 0.5, 'feature_2_20 <= 0.5\\nentropy = 0.974025\\nsamples = 37\\nvalue = [15, 22]\\nclass = 1'),\n",
       " Text(0.75, 0.3, 'entropy = 0.985228\\nsamples = 7\\nvalue = [3, 4]\\nclass = 1'),\n",
       " Text(0.875, 0.3, 'entropy = 0.970951\\nsamples = 30\\nvalue = [12, 18]\\nclass = 1'),\n",
       " Text(0.9375, 0.5, 'entropy = 1.0\\nsamples = 14\\nvalue = [7, 7]\\nclass = 0')]"
      ]
     },
     "execution_count": 6,
     "metadata": {},
     "output_type": "execute_result"
    },
    {
     "data": {
      "image/png": "[encoded data removed]",
      "text/plain": [
       "<Figure size 1600x800 with 1 Axes>"
      ]
     },
     "metadata": {},
     "output_type": "display_data"
    },
    {
     "data": {
      "application/javascript": [
       "\n",
       "            setTimeout(function() {\n",
       "                var nbb_cell_id = 6;\n",
       "                var nbb_unformatted_code = \"fig, ax = plt.subplots(1, 1, figsize=(16, 8))\\n\\nplot_tree(\\n    clf, feature_names=X.columns, class_names=[\\\"0\\\", \\\"1\\\"], filled=True, precision=6\\n)\";\n",
       "                var nbb_formatted_code = \"fig, ax = plt.subplots(1, 1, figsize=(16, 8))\\n\\nplot_tree(\\n    clf, feature_names=X.columns, class_names=[\\\"0\\\", \\\"1\\\"], filled=True, precision=6\\n)\";\n",
       "                var nbb_cells = Jupyter.notebook.get_cells();\n",
       "                for (var i = 0; i < nbb_cells.length; ++i) {\n",
       "                    if (nbb_cells[i].input_prompt_number == nbb_cell_id) {\n",
       "                        if (nbb_cells[i].get_text() == nbb_unformatted_code) {\n",
       "                             nbb_cells[i].set_text(nbb_formatted_code);\n",
       "                        }\n",
       "                        break;\n",
       "                    }\n",
       "                }\n",
       "            }, 500);\n",
       "            "
      ],
      "text/plain": [
       "<IPython.core.display.Javascript object>"
      ]
     },
     "metadata": {},
     "output_type": "display_data"
    }
   ],
   "source": [
    "fig, ax = plt.subplots(1, 1, figsize=(16, 8))\n",
    "\n",
    "plot_tree(\n",
    "    clf, feature_names=X.columns, class_names=[\"0\", \"1\"], filled=True, precision=6\n",
    ")"
   ]
  },
  {
   "cell_type": "markdown",
   "id": "8472f33d",
   "metadata": {},
   "source": [
    "# Run"
   ]
  },
  {
   "cell_type": "code",
   "execution_count": 7,
   "id": "cd36d732",
   "metadata": {},
   "outputs": [
    {
     "data": {
      "application/javascript": [
       "\n",
       "            setTimeout(function() {\n",
       "                var nbb_cell_id = 7;\n",
       "                var nbb_unformatted_code = \"IMPURITY_RUNNER = EntropyRunner()\";\n",
       "                var nbb_formatted_code = \"IMPURITY_RUNNER = EntropyRunner()\";\n",
       "                var nbb_cells = Jupyter.notebook.get_cells();\n",
       "                for (var i = 0; i < nbb_cells.length; ++i) {\n",
       "                    if (nbb_cells[i].input_prompt_number == nbb_cell_id) {\n",
       "                        if (nbb_cells[i].get_text() == nbb_unformatted_code) {\n",
       "                             nbb_cells[i].set_text(nbb_formatted_code);\n",
       "                        }\n",
       "                        break;\n",
       "                    }\n",
       "                }\n",
       "            }, 500);\n",
       "            "
      ],
      "text/plain": [
       "<IPython.core.display.Javascript object>"
      ]
     },
     "metadata": {},
     "output_type": "display_data"
    }
   ],
   "source": [
    "IMPURITY_RUNNER = EntropyRunner()"
   ]
  },
  {
   "cell_type": "code",
   "execution_count": 8,
   "id": "3d90a9f9",
   "metadata": {},
   "outputs": [
    {
     "data": {
      "application/javascript": [
       "\n",
       "            setTimeout(function() {\n",
       "                var nbb_cell_id = 8;\n",
       "                var nbb_unformatted_code = \"def iteration(x, y, impurity_runner=IMPURITY_RUNNER):\\n    tree_runner = TreeBaseRunner(x, y, impurity_runner=IMPURITY_RUNNER)\\n    best_feature_to_split_on, best_label_to_split_on = tree_runner.get_splits()\\n\\n    split_good, split_bad = tree_runner.run()\\n\\n    return split_good, split_bad\";\n",
       "                var nbb_formatted_code = \"def iteration(x, y, impurity_runner=IMPURITY_RUNNER):\\n    tree_runner = TreeBaseRunner(x, y, impurity_runner=IMPURITY_RUNNER)\\n    best_feature_to_split_on, best_label_to_split_on = tree_runner.get_splits()\\n\\n    split_good, split_bad = tree_runner.run()\\n\\n    return split_good, split_bad\";\n",
       "                var nbb_cells = Jupyter.notebook.get_cells();\n",
       "                for (var i = 0; i < nbb_cells.length; ++i) {\n",
       "                    if (nbb_cells[i].input_prompt_number == nbb_cell_id) {\n",
       "                        if (nbb_cells[i].get_text() == nbb_unformatted_code) {\n",
       "                             nbb_cells[i].set_text(nbb_formatted_code);\n",
       "                        }\n",
       "                        break;\n",
       "                    }\n",
       "                }\n",
       "            }, 500);\n",
       "            "
      ],
      "text/plain": [
       "<IPython.core.display.Javascript object>"
      ]
     },
     "metadata": {},
     "output_type": "display_data"
    }
   ],
   "source": [
    "def iteration(x, y, impurity_runner=IMPURITY_RUNNER):\n",
    "    tree_runner = TreeBaseRunner(x, y, impurity_runner=IMPURITY_RUNNER)\n",
    "    best_feature_to_split_on, best_label_to_split_on = tree_runner.get_splits()\n",
    "\n",
    "    split_good, split_bad = tree_runner.run()\n",
    "\n",
    "    return split_good, split_bad"
   ]
  },
  {
   "cell_type": "code",
   "execution_count": 9,
   "id": "1005115e",
   "metadata": {},
   "outputs": [
    {
     "name": "stdout",
     "output_type": "stream",
     "text": [
      "impurity: 0.999871756640849\n",
      "samples: 150\n",
      "value: Counter({1: 76, 0: 74})\n",
      "best_feature_to_split_on: feature_1_0, best_feature_label_to_split_on: 1\n",
      "\n",
      "\n",
      "impurity: 0.9863676072907088\n",
      "samples: 51\n",
      "value: Counter({1: 29, 0: 22})\n",
      "best_feature_to_split_on: feature_2_10, best_feature_label_to_split_on: 0\n",
      "\n",
      "\n",
      "impurity: 0.9740248644357521\n",
      "samples: 37\n",
      "value: Counter({1: 22, 0: 15})\n",
      "best_feature_to_split_on: feature_2_20, best_feature_label_to_split_on: 1\n",
      "\n",
      "\n",
      "impurity: 0.9709505944546686\n",
      "samples: 30\n",
      "value: Counter({1: 18, 0: 12})\n",
      "best_feature_to_split_on: feature_2_10, best_feature_label_to_split_on: 0\n",
      "\n",
      "\n",
      "impurity: 0.9709505944546686\n",
      "samples: 30\n",
      "value: Counter({1: 18, 0: 12})\n",
      "best_feature_to_split_on: feature_2_10, best_feature_label_to_split_on: 0\n",
      "\n",
      "\n"
     ]
    },
    {
     "data": {
      "application/javascript": [
       "\n",
       "            setTimeout(function() {\n",
       "                var nbb_cell_id = 9;\n",
       "                var nbb_unformatted_code = \"# Follow path with the lower gini impurity at each split\\n\\nsplit_good, split_bad = iteration(X, y)\\nfor i in range(4):\\n    split_good, split_bad = iteration(*split_good)\";\n",
       "                var nbb_formatted_code = \"# Follow path with the lower gini impurity at each split\\n\\nsplit_good, split_bad = iteration(X, y)\\nfor i in range(4):\\n    split_good, split_bad = iteration(*split_good)\";\n",
       "                var nbb_cells = Jupyter.notebook.get_cells();\n",
       "                for (var i = 0; i < nbb_cells.length; ++i) {\n",
       "                    if (nbb_cells[i].input_prompt_number == nbb_cell_id) {\n",
       "                        if (nbb_cells[i].get_text() == nbb_unformatted_code) {\n",
       "                             nbb_cells[i].set_text(nbb_formatted_code);\n",
       "                        }\n",
       "                        break;\n",
       "                    }\n",
       "                }\n",
       "            }, 500);\n",
       "            "
      ],
      "text/plain": [
       "<IPython.core.display.Javascript object>"
      ]
     },
     "metadata": {},
     "output_type": "display_data"
    }
   ],
   "source": [
    "# Follow path with the lower gini impurity at each split\n",
    "\n",
    "split_good, split_bad = iteration(X, y)\n",
    "for i in range(4):\n",
    "    split_good, split_bad = iteration(*split_good)"
   ]
  },
  {
   "cell_type": "code",
   "execution_count": 10,
   "id": "e6c17611",
   "metadata": {},
   "outputs": [
    {
     "name": "stdout",
     "output_type": "stream",
     "text": [
      "impurity: 0.999871756640849\n",
      "samples: 150\n",
      "value: Counter({1: 76, 0: 74})\n",
      "best_feature_to_split_on: feature_1_0, best_feature_label_to_split_on: 1\n",
      "\n",
      "\n",
      "impurity: 0.9981592324817737\n",
      "samples: 99\n",
      "value: Counter({0: 52, 1: 47})\n",
      "best_feature_to_split_on: feature_2_30, best_feature_label_to_split_on: 1\n",
      "\n",
      "\n",
      "impurity: 0.9999128895013562\n",
      "samples: 91\n",
      "value: Counter({0: 46, 1: 45})\n",
      "best_feature_to_split_on: feature_1_1, best_feature_label_to_split_on: 0\n",
      "\n",
      "\n",
      "impurity: 0.9957274520849255\n",
      "samples: 39\n",
      "value: Counter({1: 21, 0: 18})\n",
      "best_feature_to_split_on: feature_2_10, best_feature_label_to_split_on: 1\n",
      "\n",
      "\n",
      "impurity: 0.9988455359952018\n",
      "samples: 25\n",
      "value: Counter({1: 13, 0: 12})\n",
      "best_feature_to_split_on: feature_2_10, best_feature_label_to_split_on: 0\n",
      "\n",
      "\n"
     ]
    },
    {
     "data": {
      "application/javascript": [
       "\n",
       "            setTimeout(function() {\n",
       "                var nbb_cell_id = 10;\n",
       "                var nbb_unformatted_code = \"# follow path with the highest impurity at each split\\n\\nsplit_good, split_bad = iteration(X, y)\\nfor i in range(4):\\n    split_good, split_bad = iteration(*split_bad)\";\n",
       "                var nbb_formatted_code = \"# follow path with the highest impurity at each split\\n\\nsplit_good, split_bad = iteration(X, y)\\nfor i in range(4):\\n    split_good, split_bad = iteration(*split_bad)\";\n",
       "                var nbb_cells = Jupyter.notebook.get_cells();\n",
       "                for (var i = 0; i < nbb_cells.length; ++i) {\n",
       "                    if (nbb_cells[i].input_prompt_number == nbb_cell_id) {\n",
       "                        if (nbb_cells[i].get_text() == nbb_unformatted_code) {\n",
       "                             nbb_cells[i].set_text(nbb_formatted_code);\n",
       "                        }\n",
       "                        break;\n",
       "                    }\n",
       "                }\n",
       "            }, 500);\n",
       "            "
      ],
      "text/plain": [
       "<IPython.core.display.Javascript object>"
      ]
     },
     "metadata": {},
     "output_type": "display_data"
    }
   ],
   "source": [
    "# follow path with the highest impurity at each split\n",
    "\n",
    "split_good, split_bad = iteration(X, y)\n",
    "for i in range(4):\n",
    "    split_good, split_bad = iteration(*split_bad)"
   ]
  },
  {
   "cell_type": "markdown",
   "id": "ab636d41",
   "metadata": {},
   "source": [
    "# Feature importance"
   ]
  },
  {
   "cell_type": "markdown",
   "id": "874ea39b",
   "metadata": {},
   "source": [
    "Feature importance is calculated as the decrease in node impurity weighted by the probability of reaching that node. The node probability can be calculated by the number of samples that reach the node, divided by the total number of samples. The higher the value the more important the feature."
   ]
  },
  {
   "cell_type": "code",
   "execution_count": 11,
   "id": "b7e94f8e",
   "metadata": {},
   "outputs": [
    {
     "data": {
      "text/plain": [
       "Index(['feature_2_10', 'feature_2_20', 'feature_2_30', 'feature_1_0',\n",
       "       'feature_1_1', 'feature_1_2', 'label'],\n",
       "      dtype='object')"
      ]
     },
     "execution_count": 11,
     "metadata": {},
     "output_type": "execute_result"
    },
    {
     "data": {
      "application/javascript": [
       "\n",
       "            setTimeout(function() {\n",
       "                var nbb_cell_id = 11;\n",
       "                var nbb_unformatted_code = \"df.columns\";\n",
       "                var nbb_formatted_code = \"df.columns\";\n",
       "                var nbb_cells = Jupyter.notebook.get_cells();\n",
       "                for (var i = 0; i < nbb_cells.length; ++i) {\n",
       "                    if (nbb_cells[i].input_prompt_number == nbb_cell_id) {\n",
       "                        if (nbb_cells[i].get_text() == nbb_unformatted_code) {\n",
       "                             nbb_cells[i].set_text(nbb_formatted_code);\n",
       "                        }\n",
       "                        break;\n",
       "                    }\n",
       "                }\n",
       "            }, 500);\n",
       "            "
      ],
      "text/plain": [
       "<IPython.core.display.Javascript object>"
      ]
     },
     "metadata": {},
     "output_type": "display_data"
    }
   ],
   "source": [
    "df.columns"
   ]
  },
  {
   "cell_type": "code",
   "execution_count": 12,
   "id": "12c19b66",
   "metadata": {},
   "outputs": [
    {
     "data": {
      "text/plain": [
       "array([0.13784903, 0.00438532, 0.42422006, 0.27262954, 0.        ,\n",
       "       0.16091605])"
      ]
     },
     "execution_count": 12,
     "metadata": {},
     "output_type": "execute_result"
    },
    {
     "data": {
      "application/javascript": [
       "\n",
       "            setTimeout(function() {\n",
       "                var nbb_cell_id = 12;\n",
       "                var nbb_unformatted_code = \"clf.feature_importances_\";\n",
       "                var nbb_formatted_code = \"clf.feature_importances_\";\n",
       "                var nbb_cells = Jupyter.notebook.get_cells();\n",
       "                for (var i = 0; i < nbb_cells.length; ++i) {\n",
       "                    if (nbb_cells[i].input_prompt_number == nbb_cell_id) {\n",
       "                        if (nbb_cells[i].get_text() == nbb_unformatted_code) {\n",
       "                             nbb_cells[i].set_text(nbb_formatted_code);\n",
       "                        }\n",
       "                        break;\n",
       "                    }\n",
       "                }\n",
       "            }, 500);\n",
       "            "
      ],
      "text/plain": [
       "<IPython.core.display.Javascript object>"
      ]
     },
     "metadata": {},
     "output_type": "display_data"
    }
   ],
   "source": [
    "clf.feature_importances_"
   ]
  },
  {
   "cell_type": "code",
   "execution_count": 13,
   "id": "ff17bb09",
   "metadata": {},
   "outputs": [
    {
     "data": {
      "text/plain": [
       "array([2.89303779e-03, 9.20346550e-05, 8.90310717e-03, 5.72167672e-03,\n",
       "       0.00000000e+00, 3.37714549e-03])"
      ]
     },
     "execution_count": 13,
     "metadata": {},
     "output_type": "execute_result"
    },
    {
     "data": {
      "application/javascript": [
       "\n",
       "            setTimeout(function() {\n",
       "                var nbb_cell_id = 13;\n",
       "                var nbb_unformatted_code = \"clf.tree_.compute_feature_importances(normalize=False)\";\n",
       "                var nbb_formatted_code = \"clf.tree_.compute_feature_importances(normalize=False)\";\n",
       "                var nbb_cells = Jupyter.notebook.get_cells();\n",
       "                for (var i = 0; i < nbb_cells.length; ++i) {\n",
       "                    if (nbb_cells[i].input_prompt_number == nbb_cell_id) {\n",
       "                        if (nbb_cells[i].get_text() == nbb_unformatted_code) {\n",
       "                             nbb_cells[i].set_text(nbb_formatted_code);\n",
       "                        }\n",
       "                        break;\n",
       "                    }\n",
       "                }\n",
       "            }, 500);\n",
       "            "
      ],
      "text/plain": [
       "<IPython.core.display.Javascript object>"
      ]
     },
     "metadata": {},
     "output_type": "display_data"
    }
   ],
   "source": [
    "clf.tree_.compute_feature_importances(normalize=False)"
   ]
  },
  {
   "cell_type": "code",
   "execution_count": 14,
   "id": "046ea550",
   "metadata": {},
   "outputs": [
    {
     "data": {
      "text/html": [
       "<div>\n",
       "<style scoped>\n",
       "    .dataframe tbody tr th:only-of-type {\n",
       "        vertical-align: middle;\n",
       "    }\n",
       "\n",
       "    .dataframe tbody tr th {\n",
       "        vertical-align: top;\n",
       "    }\n",
       "\n",
       "    .dataframe thead th {\n",
       "        text-align: right;\n",
       "    }\n",
       "</style>\n",
       "<table border=\"1\" class=\"dataframe\">\n",
       "  <thead>\n",
       "    <tr style=\"text-align: right;\">\n",
       "      <th></th>\n",
       "      <th>feature_importance</th>\n",
       "    </tr>\n",
       "  </thead>\n",
       "  <tbody>\n",
       "    <tr>\n",
       "      <th>feature_2_30</th>\n",
       "      <td>0.008903</td>\n",
       "    </tr>\n",
       "    <tr>\n",
       "      <th>feature_1_0</th>\n",
       "      <td>0.005722</td>\n",
       "    </tr>\n",
       "    <tr>\n",
       "      <th>feature_1_2</th>\n",
       "      <td>0.003377</td>\n",
       "    </tr>\n",
       "    <tr>\n",
       "      <th>feature_2_10</th>\n",
       "      <td>0.002893</td>\n",
       "    </tr>\n",
       "    <tr>\n",
       "      <th>feature_2_20</th>\n",
       "      <td>0.000092</td>\n",
       "    </tr>\n",
       "    <tr>\n",
       "      <th>feature_1_1</th>\n",
       "      <td>0.000000</td>\n",
       "    </tr>\n",
       "  </tbody>\n",
       "</table>\n",
       "</div>"
      ],
      "text/plain": [
       "              feature_importance\n",
       "feature_2_30            0.008903\n",
       "feature_1_0             0.005722\n",
       "feature_1_2             0.003377\n",
       "feature_2_10            0.002893\n",
       "feature_2_20            0.000092\n",
       "feature_1_1             0.000000"
      ]
     },
     "execution_count": 14,
     "metadata": {},
     "output_type": "execute_result"
    },
    {
     "data": {
      "application/javascript": [
       "\n",
       "            setTimeout(function() {\n",
       "                var nbb_cell_id = 14;\n",
       "                var nbb_unformatted_code = \"pd.DataFrame(\\n    index=df.drop([\\\"label\\\"], axis=1).columns,\\n    data=clf.tree_.compute_feature_importances(normalize=False),\\n    columns=[\\\"feature_importance\\\"],\\n).sort_values(\\\"feature_importance\\\", ascending=False)\";\n",
       "                var nbb_formatted_code = \"pd.DataFrame(\\n    index=df.drop([\\\"label\\\"], axis=1).columns,\\n    data=clf.tree_.compute_feature_importances(normalize=False),\\n    columns=[\\\"feature_importance\\\"],\\n).sort_values(\\\"feature_importance\\\", ascending=False)\";\n",
       "                var nbb_cells = Jupyter.notebook.get_cells();\n",
       "                for (var i = 0; i < nbb_cells.length; ++i) {\n",
       "                    if (nbb_cells[i].input_prompt_number == nbb_cell_id) {\n",
       "                        if (nbb_cells[i].get_text() == nbb_unformatted_code) {\n",
       "                             nbb_cells[i].set_text(nbb_formatted_code);\n",
       "                        }\n",
       "                        break;\n",
       "                    }\n",
       "                }\n",
       "            }, 500);\n",
       "            "
      ],
      "text/plain": [
       "<IPython.core.display.Javascript object>"
      ]
     },
     "metadata": {},
     "output_type": "display_data"
    }
   ],
   "source": [
    "pd.DataFrame(\n",
    "    index=df.drop([\"label\"], axis=1).columns,\n",
    "    data=clf.tree_.compute_feature_importances(normalize=False),\n",
    "    columns=[\"feature_importance\"],\n",
    ").sort_values(\"feature_importance\", ascending=False)"
   ]
  },
  {
   "cell_type": "markdown",
   "id": "bf9dc8f4",
   "metadata": {},
   "source": [
    "## Find node importance"
   ]
  },
  {
   "cell_type": "markdown",
   "id": "137295f4",
   "metadata": {},
   "source": [
    "$$n_j = w_j\\cdot \\left({impurity}_j - w_\\text{left_child}\\cdot {impurity}_\\text{left_child} -  w_\\text{right_child}\\cdot {impurity}_\\text{right_child}\\right)$$"
   ]
  },
  {
   "cell_type": "code",
   "execution_count": 15,
   "id": "cae047eb",
   "metadata": {},
   "outputs": [
    {
     "data": {
      "application/javascript": [
       "\n",
       "            setTimeout(function() {\n",
       "                var nbb_cell_id = 15;\n",
       "                var nbb_unformatted_code = \"L = np.zeros(shape=(4, 4))\";\n",
       "                var nbb_formatted_code = \"L = np.zeros(shape=(4, 4))\";\n",
       "                var nbb_cells = Jupyter.notebook.get_cells();\n",
       "                for (var i = 0; i < nbb_cells.length; ++i) {\n",
       "                    if (nbb_cells[i].input_prompt_number == nbb_cell_id) {\n",
       "                        if (nbb_cells[i].get_text() == nbb_unformatted_code) {\n",
       "                             nbb_cells[i].set_text(nbb_formatted_code);\n",
       "                        }\n",
       "                        break;\n",
       "                    }\n",
       "                }\n",
       "            }, 500);\n",
       "            "
      ],
      "text/plain": [
       "<IPython.core.display.Javascript object>"
      ]
     },
     "metadata": {},
     "output_type": "display_data"
    }
   ],
   "source": [
    "L = np.zeros(shape=(4, 4))"
   ]
  },
  {
   "cell_type": "markdown",
   "id": "8374b892",
   "metadata": {},
   "source": [
    "## 1st level nodes importances"
   ]
  },
  {
   "cell_type": "code",
   "execution_count": 24,
   "id": "7db7b5d0",
   "metadata": {},
   "outputs": [
    {
     "data": {
      "text/plain": [
       "0.00572193999999987"
      ]
     },
     "execution_count": 24,
     "metadata": {},
     "output_type": "execute_result"
    },
    {
     "data": {
      "application/javascript": [
       "\n",
       "            setTimeout(function() {\n",
       "                var nbb_cell_id = 24;\n",
       "                var nbb_unformatted_code = \"L[0, 0] = (150 / 150) * (0.999872 - (99 / 150) * 0.998159 - (51 / 150) * 0.986368)\\nL[0, 0]\";\n",
       "                var nbb_formatted_code = \"L[0, 0] = (150 / 150) * (0.999872 - (99 / 150) * 0.998159 - (51 / 150) * 0.986368)\\nL[0, 0]\";\n",
       "                var nbb_cells = Jupyter.notebook.get_cells();\n",
       "                for (var i = 0; i < nbb_cells.length; ++i) {\n",
       "                    if (nbb_cells[i].input_prompt_number == nbb_cell_id) {\n",
       "                        if (nbb_cells[i].get_text() == nbb_unformatted_code) {\n",
       "                             nbb_cells[i].set_text(nbb_formatted_code);\n",
       "                        }\n",
       "                        break;\n",
       "                    }\n",
       "                }\n",
       "            }, 500);\n",
       "            "
      ],
      "text/plain": [
       "<IPython.core.display.Javascript object>"
      ]
     },
     "metadata": {},
     "output_type": "display_data"
    }
   ],
   "source": [
    "L[0, 0] = (150 / 150) * (0.999872 - (99 / 150) * 0.998159 - (51 / 150) * 0.986368)\n",
    "L[0, 0]"
   ]
  },
  {
   "cell_type": "markdown",
   "id": "d269f4a0",
   "metadata": {},
   "source": [
    "## 2nd level nodes importances"
   ]
  },
  {
   "cell_type": "code",
   "execution_count": 17,
   "id": "58a3644f",
   "metadata": {},
   "outputs": [
    {
     "data": {
      "application/javascript": [
       "\n",
       "            setTimeout(function() {\n",
       "                var nbb_cell_id = 17;\n",
       "                var nbb_unformatted_code = \"L[1, 0] = (99 / 150) * (0.998159 - (91 / 99) * 0.99991 - (8 / 99) * 0.81128)\\nL[1, 1] = (51 / 150) * (0.986368 - (37 / 51) * 0.97402 - (14 / 51) * 1)\";\n",
       "                var nbb_formatted_code = \"L[1, 0] = (99 / 150) * (0.998159 - (91 / 99) * 0.99991 - (8 / 99) * 0.81128)\\nL[1, 1] = (51 / 150) * (0.986368 - (37 / 51) * 0.97402 - (14 / 51) * 1)\";\n",
       "                var nbb_cells = Jupyter.notebook.get_cells();\n",
       "                for (var i = 0; i < nbb_cells.length; ++i) {\n",
       "                    if (nbb_cells[i].input_prompt_number == nbb_cell_id) {\n",
       "                        if (nbb_cells[i].get_text() == nbb_unformatted_code) {\n",
       "                             nbb_cells[i].set_text(nbb_formatted_code);\n",
       "                        }\n",
       "                        break;\n",
       "                    }\n",
       "                }\n",
       "            }, 500);\n",
       "            "
      ],
      "text/plain": [
       "<IPython.core.display.Javascript object>"
      ]
     },
     "metadata": {},
     "output_type": "display_data"
    }
   ],
   "source": [
    "L[1, 0] = (99 / 150) * (0.998159 - (91 / 99) * 0.99991 - (8 / 99) * 0.81128)\n",
    "L[1, 1] = (51 / 150) * (0.986368 - (37 / 51) * 0.97402 - (14 / 51) * 1)"
   ]
  },
  {
   "cell_type": "markdown",
   "id": "badba968",
   "metadata": {},
   "source": [
    "## 3rd level nodes importances"
   ]
  },
  {
   "cell_type": "code",
   "execution_count": 18,
   "id": "49a9e165",
   "metadata": {},
   "outputs": [
    {
     "data": {
      "application/javascript": [
       "\n",
       "            setTimeout(function() {\n",
       "                var nbb_cell_id = 18;\n",
       "                var nbb_unformatted_code = \"L[2, 0] = (91 / 150) * (0.99991 - (39 / 91) * 0.99573 - (52 / 91) * 0.99573)\\nL[2, 1] = (8 / 150) * (0.81128 - (5 / 8) * 0.72193 - (3 / 8) * 0.9183)\\nL[2, 2] = (37 / 150) * (0.97402 - (7 / 37) * 0.98523 - (30 / 37) * 0.97095)\";\n",
       "                var nbb_formatted_code = \"L[2, 0] = (91 / 150) * (0.99991 - (39 / 91) * 0.99573 - (52 / 91) * 0.99573)\\nL[2, 1] = (8 / 150) * (0.81128 - (5 / 8) * 0.72193 - (3 / 8) * 0.9183)\\nL[2, 2] = (37 / 150) * (0.97402 - (7 / 37) * 0.98523 - (30 / 37) * 0.97095)\";\n",
       "                var nbb_cells = Jupyter.notebook.get_cells();\n",
       "                for (var i = 0; i < nbb_cells.length; ++i) {\n",
       "                    if (nbb_cells[i].input_prompt_number == nbb_cell_id) {\n",
       "                        if (nbb_cells[i].get_text() == nbb_unformatted_code) {\n",
       "                             nbb_cells[i].set_text(nbb_formatted_code);\n",
       "                        }\n",
       "                        break;\n",
       "                    }\n",
       "                }\n",
       "            }, 500);\n",
       "            "
      ],
      "text/plain": [
       "<IPython.core.display.Javascript object>"
      ]
     },
     "metadata": {},
     "output_type": "display_data"
    }
   ],
   "source": [
    "L[2, 0] = (91 / 150) * (0.99991 - (39 / 91) * 0.99573 - (52 / 91) * 0.99573)\n",
    "L[2, 1] = (8 / 150) * (0.81128 - (5 / 8) * 0.72193 - (3 / 8) * 0.9183)\n",
    "L[2, 2] = (37 / 150) * (0.97402 - (7 / 37) * 0.98523 - (30 / 37) * 0.97095)"
   ]
  },
  {
   "cell_type": "markdown",
   "id": "2443bf0c",
   "metadata": {},
   "source": [
    "## 4th level nodes importances"
   ]
  },
  {
   "cell_type": "code",
   "execution_count": 19,
   "id": "5a75bbc0",
   "metadata": {},
   "outputs": [
    {
     "data": {
      "application/javascript": [
       "\n",
       "            setTimeout(function() {\n",
       "                var nbb_cell_id = 19;\n",
       "                var nbb_unformatted_code = \"L[3, 0] = (39 / 150) * (0.99573 - (25 / 39) * 0.99885 - (14 / 39) * 0.98523)\\nL[3, 1] = (52 / 150) * (0.99573 - (36 / 52) * 0.99108 - (16 / 52) * 1)\";\n",
       "                var nbb_formatted_code = \"L[3, 0] = (39 / 150) * (0.99573 - (25 / 39) * 0.99885 - (14 / 39) * 0.98523)\\nL[3, 1] = (52 / 150) * (0.99573 - (36 / 52) * 0.99108 - (16 / 52) * 1)\";\n",
       "                var nbb_cells = Jupyter.notebook.get_cells();\n",
       "                for (var i = 0; i < nbb_cells.length; ++i) {\n",
       "                    if (nbb_cells[i].input_prompt_number == nbb_cell_id) {\n",
       "                        if (nbb_cells[i].get_text() == nbb_unformatted_code) {\n",
       "                             nbb_cells[i].set_text(nbb_formatted_code);\n",
       "                        }\n",
       "                        break;\n",
       "                    }\n",
       "                }\n",
       "            }, 500);\n",
       "            "
      ],
      "text/plain": [
       "<IPython.core.display.Javascript object>"
      ]
     },
     "metadata": {},
     "output_type": "display_data"
    }
   ],
   "source": [
    "L[3, 0] = (39 / 150) * (0.99573 - (25 / 39) * 0.99885 - (14 / 39) * 0.98523)\n",
    "L[3, 1] = (52 / 150) * (0.99573 - (36 / 52) * 0.99108 - (16 / 52) * 1)\n"
   ]
  },
  {
   "cell_type": "code",
   "execution_count": 20,
   "id": "b776fea1",
   "metadata": {},
   "outputs": [
    {
     "name": "stdout",
     "output_type": "stream",
     "text": [
      "[[5.72194000e-03 0.00000000e+00 0.00000000e+00 0.00000000e+00]\n",
      " [8.90460667e-03 1.77352000e-03 0.00000000e+00 0.00000000e+00]\n",
      " [2.53586667e-03 8.37933333e-04 9.08666667e-05 0.00000000e+00]\n",
      " [4.60000000e-04 6.60533333e-04 0.00000000e+00 0.00000000e+00]]\n"
     ]
    },
    {
     "data": {
      "application/javascript": [
       "\n",
       "            setTimeout(function() {\n",
       "                var nbb_cell_id = 20;\n",
       "                var nbb_unformatted_code = \"print(L)\";\n",
       "                var nbb_formatted_code = \"print(L)\";\n",
       "                var nbb_cells = Jupyter.notebook.get_cells();\n",
       "                for (var i = 0; i < nbb_cells.length; ++i) {\n",
       "                    if (nbb_cells[i].input_prompt_number == nbb_cell_id) {\n",
       "                        if (nbb_cells[i].get_text() == nbb_unformatted_code) {\n",
       "                             nbb_cells[i].set_text(nbb_formatted_code);\n",
       "                        }\n",
       "                        break;\n",
       "                    }\n",
       "                }\n",
       "            }, 500);\n",
       "            "
      ],
      "text/plain": [
       "<IPython.core.display.Javascript object>"
      ]
     },
     "metadata": {},
     "output_type": "display_data"
    }
   ],
   "source": [
    "print(L)"
   ]
  },
  {
   "cell_type": "code",
   "execution_count": 21,
   "id": "3b128b57",
   "metadata": {},
   "outputs": [
    {
     "data": {
      "text/plain": [
       "0.00890460666666666"
      ]
     },
     "execution_count": 21,
     "metadata": {},
     "output_type": "execute_result"
    },
    {
     "data": {
      "application/javascript": [
       "\n",
       "            setTimeout(function() {\n",
       "                var nbb_cell_id = 21;\n",
       "                var nbb_unformatted_code = \"feature_2_30_importance = L[1, 0]\\nfeature_2_30_importance\";\n",
       "                var nbb_formatted_code = \"feature_2_30_importance = L[1, 0]\\nfeature_2_30_importance\";\n",
       "                var nbb_cells = Jupyter.notebook.get_cells();\n",
       "                for (var i = 0; i < nbb_cells.length; ++i) {\n",
       "                    if (nbb_cells[i].input_prompt_number == nbb_cell_id) {\n",
       "                        if (nbb_cells[i].get_text() == nbb_unformatted_code) {\n",
       "                             nbb_cells[i].set_text(nbb_formatted_code);\n",
       "                        }\n",
       "                        break;\n",
       "                    }\n",
       "                }\n",
       "            }, 500);\n",
       "            "
      ],
      "text/plain": [
       "<IPython.core.display.Javascript object>"
      ]
     },
     "metadata": {},
     "output_type": "display_data"
    }
   ],
   "source": [
    "feature_2_30_importance = L[1, 0]\n",
    "feature_2_30_importance"
   ]
  },
  {
   "cell_type": "code",
   "execution_count": 22,
   "id": "0ad92c94",
   "metadata": {},
   "outputs": [
    {
     "data": {
      "text/plain": [
       "0.00572193999999987"
      ]
     },
     "execution_count": 22,
     "metadata": {},
     "output_type": "execute_result"
    },
    {
     "data": {
      "application/javascript": [
       "\n",
       "            setTimeout(function() {\n",
       "                var nbb_cell_id = 22;\n",
       "                var nbb_unformatted_code = \"feature_1_0_importance = L[0, 0]\\nfeature_1_0_importance\";\n",
       "                var nbb_formatted_code = \"feature_1_0_importance = L[0, 0]\\nfeature_1_0_importance\";\n",
       "                var nbb_cells = Jupyter.notebook.get_cells();\n",
       "                for (var i = 0; i < nbb_cells.length; ++i) {\n",
       "                    if (nbb_cells[i].input_prompt_number == nbb_cell_id) {\n",
       "                        if (nbb_cells[i].get_text() == nbb_unformatted_code) {\n",
       "                             nbb_cells[i].set_text(nbb_formatted_code);\n",
       "                        }\n",
       "                        break;\n",
       "                    }\n",
       "                }\n",
       "            }, 500);\n",
       "            "
      ],
      "text/plain": [
       "<IPython.core.display.Javascript object>"
      ]
     },
     "metadata": {},
     "output_type": "display_data"
    }
   ],
   "source": [
    "feature_1_0_importance = L[0, 0]\n",
    "feature_1_0_importance"
   ]
  },
  {
   "cell_type": "code",
   "execution_count": 23,
   "id": "bc5da91c",
   "metadata": {},
   "outputs": [
    {
     "data": {
      "text/plain": [
       "0.0028940533333333216"
      ]
     },
     "execution_count": 23,
     "metadata": {},
     "output_type": "execute_result"
    },
    {
     "data": {
      "application/javascript": [
       "\n",
       "            setTimeout(function() {\n",
       "                var nbb_cell_id = 23;\n",
       "                var nbb_unformatted_code = \"feature_2_10_importance = L[3, 0] + L[3, 1] + L[1, 1]\\nfeature_2_10_importance\";\n",
       "                var nbb_formatted_code = \"feature_2_10_importance = L[3, 0] + L[3, 1] + L[1, 1]\\nfeature_2_10_importance\";\n",
       "                var nbb_cells = Jupyter.notebook.get_cells();\n",
       "                for (var i = 0; i < nbb_cells.length; ++i) {\n",
       "                    if (nbb_cells[i].input_prompt_number == nbb_cell_id) {\n",
       "                        if (nbb_cells[i].get_text() == nbb_unformatted_code) {\n",
       "                             nbb_cells[i].set_text(nbb_formatted_code);\n",
       "                        }\n",
       "                        break;\n",
       "                    }\n",
       "                }\n",
       "            }, 500);\n",
       "            "
      ],
      "text/plain": [
       "<IPython.core.display.Javascript object>"
      ]
     },
     "metadata": {},
     "output_type": "display_data"
    }
   ],
   "source": [
    "feature_2_10_importance = L[3, 0] + L[3, 1] + L[1, 1]\n",
    "feature_2_10_importance"
   ]
  }
 ],
 "metadata": {
  "kernelspec": {
   "display_name": "Python [conda env:ml]",
   "language": "python",
   "name": "conda-env-ml-py"
  },
  "language_info": {
   "codemirror_mode": {
    "name": "ipython",
    "version": 3
   },
   "file_extension": ".py",
   "mimetype": "text/x-python",
   "name": "python",
   "nbconvert_exporter": "python",
   "pygments_lexer": "ipython3",
   "version": "3.10.8"
  }
 },
 "nbformat": 4,
 "nbformat_minor": 5
}
