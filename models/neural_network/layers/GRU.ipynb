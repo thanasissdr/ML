{
 "cells": [
  {
   "cell_type": "code",
   "execution_count": 321,
   "id": "c3a8715a",
   "metadata": {},
   "outputs": [
    {
     "name": "stdout",
     "output_type": "stream",
     "text": [
      "The nb_black extension is already loaded. To reload it, use:\n",
      "  %reload_ext nb_black\n"
     ]
    },
    {
     "data": {
      "application/javascript": [
       "\n",
       "            setTimeout(function() {\n",
       "                var nbb_cell_id = 321;\n",
       "                var nbb_unformatted_code = \"%load_ext nb_black\";\n",
       "                var nbb_formatted_code = \"%load_ext nb_black\";\n",
       "                var nbb_cells = Jupyter.notebook.get_cells();\n",
       "                for (var i = 0; i < nbb_cells.length; ++i) {\n",
       "                    if (nbb_cells[i].input_prompt_number == nbb_cell_id) {\n",
       "                        if (nbb_cells[i].get_text() == nbb_unformatted_code) {\n",
       "                             nbb_cells[i].set_text(nbb_formatted_code);\n",
       "                        }\n",
       "                        break;\n",
       "                    }\n",
       "                }\n",
       "            }, 500);\n",
       "            "
      ],
      "text/plain": [
       "<IPython.core.display.Javascript object>"
      ]
     },
     "metadata": {},
     "output_type": "display_data"
    }
   ],
   "source": [
    "%load_ext nb_black"
   ]
  },
  {
   "cell_type": "code",
   "execution_count": 322,
   "id": "b83e29f8",
   "metadata": {},
   "outputs": [
    {
     "data": {
      "application/javascript": [
       "\n",
       "            setTimeout(function() {\n",
       "                var nbb_cell_id = 322;\n",
       "                var nbb_unformatted_code = \"import numpy as np\\n\\nfrom sklearn.preprocessing import MultiLabelBinarizer\\nfrom tensorflow.keras.layers import Dense, Embedding, GRU, GRUCell\\nfrom tensorflow.keras.losses import BinaryCrossentropy\\nfrom tensorflow.keras.models import Sequential\\nfrom tensorflow.keras.optimizers import Adam\\nfrom tensorflow.keras.preprocessing.sequence import pad_sequences\\nfrom tensorflow.keras.preprocessing.text import Tokenizer\\nfrom tensorflow.keras.utils import set_random_seed\";\n",
       "                var nbb_formatted_code = \"import numpy as np\\n\\nfrom sklearn.preprocessing import MultiLabelBinarizer\\nfrom tensorflow.keras.layers import Dense, Embedding, GRU, GRUCell\\nfrom tensorflow.keras.losses import BinaryCrossentropy\\nfrom tensorflow.keras.models import Sequential\\nfrom tensorflow.keras.optimizers import Adam\\nfrom tensorflow.keras.preprocessing.sequence import pad_sequences\\nfrom tensorflow.keras.preprocessing.text import Tokenizer\\nfrom tensorflow.keras.utils import set_random_seed\";\n",
       "                var nbb_cells = Jupyter.notebook.get_cells();\n",
       "                for (var i = 0; i < nbb_cells.length; ++i) {\n",
       "                    if (nbb_cells[i].input_prompt_number == nbb_cell_id) {\n",
       "                        if (nbb_cells[i].get_text() == nbb_unformatted_code) {\n",
       "                             nbb_cells[i].set_text(nbb_formatted_code);\n",
       "                        }\n",
       "                        break;\n",
       "                    }\n",
       "                }\n",
       "            }, 500);\n",
       "            "
      ],
      "text/plain": [
       "<IPython.core.display.Javascript object>"
      ]
     },
     "metadata": {},
     "output_type": "display_data"
    }
   ],
   "source": [
    "import numpy as np\n",
    "\n",
    "from sklearn.preprocessing import MultiLabelBinarizer\n",
    "from tensorflow.keras.layers import Dense, Embedding, GRU, GRUCell\n",
    "from tensorflow.keras.losses import BinaryCrossentropy\n",
    "from tensorflow.keras.models import Sequential\n",
    "from tensorflow.keras.optimizers import Adam\n",
    "from tensorflow.keras.preprocessing.sequence import pad_sequences\n",
    "from tensorflow.keras.preprocessing.text import Tokenizer\n",
    "from tensorflow.keras.utils import set_random_seed"
   ]
  },
  {
   "cell_type": "code",
   "execution_count": 323,
   "id": "9d844ed5",
   "metadata": {},
   "outputs": [
    {
     "data": {
      "text/latex": [
       "\n",
       "$\n",
       "\\newcommand{\\W}[1]{\\mathbf{W}_{#1}}\n",
       "\\newcommand{\\U}[1]{\\mathbf{U}_{#1}}\n",
       "\\newcommand{\\sigmoid}{\\text{sigmoid}}\n",
       "$\n"
      ],
      "text/plain": [
       "<IPython.core.display.Latex object>"
      ]
     },
     "metadata": {},
     "output_type": "display_data"
    },
    {
     "data": {
      "application/javascript": [
       "\n",
       "            setTimeout(function() {\n",
       "                var nbb_cell_id = 323;\n",
       "                var nbb_unformatted_code = \"%%latex\\n\\n$\\n\\\\newcommand{\\\\W}[1]{\\\\mathbf{W}_{#1}}\\n\\\\newcommand{\\\\U}[1]{\\\\mathbf{U}_{#1}}\\n\\\\newcommand{\\\\sigmoid}{\\\\text{sigmoid}}\\n$\";\n",
       "                var nbb_formatted_code = \"%%latex\\n\\n$\\n\\\\newcommand{\\\\W}[1]{\\\\mathbf{W}_{#1}}\\n\\\\newcommand{\\\\U}[1]{\\\\mathbf{U}_{#1}}\\n\\\\newcommand{\\\\sigmoid}{\\\\text{sigmoid}}\\n$\";\n",
       "                var nbb_cells = Jupyter.notebook.get_cells();\n",
       "                for (var i = 0; i < nbb_cells.length; ++i) {\n",
       "                    if (nbb_cells[i].input_prompt_number == nbb_cell_id) {\n",
       "                        if (nbb_cells[i].get_text() == nbb_unformatted_code) {\n",
       "                             nbb_cells[i].set_text(nbb_formatted_code);\n",
       "                        }\n",
       "                        break;\n",
       "                    }\n",
       "                }\n",
       "            }, 500);\n",
       "            "
      ],
      "text/plain": [
       "<IPython.core.display.Javascript object>"
      ]
     },
     "metadata": {},
     "output_type": "display_data"
    }
   ],
   "source": [
    "%%latex\n",
    "\n",
    "$\n",
    "\\newcommand{\\W}[1]{\\mathbf{W}_{#1}}\n",
    "\\newcommand{\\U}[1]{\\mathbf{U}_{#1}}\n",
    "\\newcommand{\\sigmoid}{\\text{sigmoid}}\n",
    "$"
   ]
  },
  {
   "cell_type": "markdown",
   "id": "e2969d48",
   "metadata": {},
   "source": [
    "# GRU"
   ]
  },
  {
   "cell_type": "code",
   "execution_count": 324,
   "id": "70b389a2",
   "metadata": {},
   "outputs": [
    {
     "data": {
      "text/latex": [
       "\n",
       "$z^{\\langle t\\rangle} = \\sigmoid\\left(\\W{z}\\cdot x^{\\langle t\\rangle} + \\U{z}\\cdot h^{\\langle t-1 \\rangle} + b_z\\right)\\\\[2em]\n",
       "\n",
       "r^{\\langle t\\rangle} = \\sigmoid\\left(\\W{r}\\cdot x^{\\langle t\\rangle} + \\U{r}\\cdot h^{\\langle t-1 \\rangle} + b_r\\right)\\\\[2em]\n",
       "\n",
       "\\tilde h^{\\langle t\\rangle} = \\tanh\\left(\\W{h}\\cdot x^{\\langle t\\rangle} + \\U{h} \\cdot (r^{\\langle t\\rangle}\\odot h^{\\langle t-1 \\rangle}) + b_h\\right)\\\\[2em]\n",
       "\n",
       "\n",
       "h^{\\langle t\\rangle} = z^{\\langle t\\rangle}\\cdot h^{\\langle t-1\\rangle} + (1-z^{\\langle t\\rangle})\\cdot \\tilde h^{\\langle t \\rangle}\n",
       "\n",
       "$\n"
      ],
      "text/plain": [
       "<IPython.core.display.Latex object>"
      ]
     },
     "metadata": {},
     "output_type": "display_data"
    },
    {
     "data": {
      "application/javascript": [
       "\n",
       "            setTimeout(function() {\n",
       "                var nbb_cell_id = 324;\n",
       "                var nbb_unformatted_code = \"%%latex\\n\\n$z^{\\\\langle t\\\\rangle} = \\\\sigmoid\\\\left(\\\\W{z}\\\\cdot x^{\\\\langle t\\\\rangle} + \\\\U{z}\\\\cdot h^{\\\\langle t-1 \\\\rangle} + b_z\\\\right)\\\\\\\\[2em]\\n\\nr^{\\\\langle t\\\\rangle} = \\\\sigmoid\\\\left(\\\\W{r}\\\\cdot x^{\\\\langle t\\\\rangle} + \\\\U{r}\\\\cdot h^{\\\\langle t-1 \\\\rangle} + b_r\\\\right)\\\\\\\\[2em]\\n\\n\\\\tilde h^{\\\\langle t\\\\rangle} = \\\\tanh\\\\left(\\\\W{h}\\\\cdot x^{\\\\langle t\\\\rangle} + \\\\U{h} \\\\cdot (r^{\\\\langle t\\\\rangle}\\\\odot h^{\\\\langle t-1 \\\\rangle}) + b_h\\\\right)\\\\\\\\[2em]\\n\\n\\nh^{\\\\langle t\\\\rangle} = z^{\\\\langle t\\\\rangle}\\\\cdot h^{\\\\langle t-1\\\\rangle} + (1-z^{\\\\langle t\\\\rangle})\\\\cdot \\\\tilde h^{\\\\langle t \\\\rangle}\\n\\n$\";\n",
       "                var nbb_formatted_code = \"%%latex\\n\\n$z^{\\\\langle t\\\\rangle} = \\\\sigmoid\\\\left(\\\\W{z}\\\\cdot x^{\\\\langle t\\\\rangle} + \\\\U{z}\\\\cdot h^{\\\\langle t-1 \\\\rangle} + b_z\\\\right)\\\\\\\\[2em]\\n\\nr^{\\\\langle t\\\\rangle} = \\\\sigmoid\\\\left(\\\\W{r}\\\\cdot x^{\\\\langle t\\\\rangle} + \\\\U{r}\\\\cdot h^{\\\\langle t-1 \\\\rangle} + b_r\\\\right)\\\\\\\\[2em]\\n\\n\\\\tilde h^{\\\\langle t\\\\rangle} = \\\\tanh\\\\left(\\\\W{h}\\\\cdot x^{\\\\langle t\\\\rangle} + \\\\U{h} \\\\cdot (r^{\\\\langle t\\\\rangle}\\\\odot h^{\\\\langle t-1 \\\\rangle}) + b_h\\\\right)\\\\\\\\[2em]\\n\\n\\nh^{\\\\langle t\\\\rangle} = z^{\\\\langle t\\\\rangle}\\\\cdot h^{\\\\langle t-1\\\\rangle} + (1-z^{\\\\langle t\\\\rangle})\\\\cdot \\\\tilde h^{\\\\langle t \\\\rangle}\\n\\n$\";\n",
       "                var nbb_cells = Jupyter.notebook.get_cells();\n",
       "                for (var i = 0; i < nbb_cells.length; ++i) {\n",
       "                    if (nbb_cells[i].input_prompt_number == nbb_cell_id) {\n",
       "                        if (nbb_cells[i].get_text() == nbb_unformatted_code) {\n",
       "                             nbb_cells[i].set_text(nbb_formatted_code);\n",
       "                        }\n",
       "                        break;\n",
       "                    }\n",
       "                }\n",
       "            }, 500);\n",
       "            "
      ],
      "text/plain": [
       "<IPython.core.display.Javascript object>"
      ]
     },
     "metadata": {},
     "output_type": "display_data"
    }
   ],
   "source": [
    "%%latex\n",
    "\n",
    "$z^{\\langle t\\rangle} = \\sigmoid\\left(\\W{z}\\cdot x^{\\langle t\\rangle} + \\U{z}\\cdot h^{\\langle t-1 \\rangle} + b_z\\right)\\\\[2em]\n",
    "\n",
    "r^{\\langle t\\rangle} = \\sigmoid\\left(\\W{r}\\cdot x^{\\langle t\\rangle} + \\U{r}\\cdot h^{\\langle t-1 \\rangle} + b_r\\right)\\\\[2em]\n",
    "\n",
    "\\tilde h^{\\langle t\\rangle} = \\tanh\\left(\\W{h}\\cdot x^{\\langle t\\rangle} + \\U{h} \\cdot (r^{\\langle t\\rangle}\\odot h^{\\langle t-1 \\rangle}) + b_h\\right)\\\\[2em]\n",
    "\n",
    "\n",
    "h^{\\langle t\\rangle} = z^{\\langle t\\rangle}\\cdot h^{\\langle t-1\\rangle} + (1-z^{\\langle t\\rangle})\\cdot \\tilde h^{\\langle t \\rangle}\n",
    "\n",
    "$\n"
   ]
  },
  {
   "cell_type": "markdown",
   "id": "d7ed83c2",
   "metadata": {},
   "source": [
    "# Example"
   ]
  },
  {
   "cell_type": "code",
   "execution_count": 325,
   "id": "c1fd56fe",
   "metadata": {},
   "outputs": [
    {
     "data": {
      "application/javascript": [
       "\n",
       "            setTimeout(function() {\n",
       "                var nbb_cell_id = 325;\n",
       "                var nbb_unformatted_code = \"texts = [\\\"the book was great super\\\", \\\"the book was awful no\\\"]\\ny = np.array([[1.0], [0.0]])\";\n",
       "                var nbb_formatted_code = \"texts = [\\\"the book was great super\\\", \\\"the book was awful no\\\"]\\ny = np.array([[1.0], [0.0]])\";\n",
       "                var nbb_cells = Jupyter.notebook.get_cells();\n",
       "                for (var i = 0; i < nbb_cells.length; ++i) {\n",
       "                    if (nbb_cells[i].input_prompt_number == nbb_cell_id) {\n",
       "                        if (nbb_cells[i].get_text() == nbb_unformatted_code) {\n",
       "                             nbb_cells[i].set_text(nbb_formatted_code);\n",
       "                        }\n",
       "                        break;\n",
       "                    }\n",
       "                }\n",
       "            }, 500);\n",
       "            "
      ],
      "text/plain": [
       "<IPython.core.display.Javascript object>"
      ]
     },
     "metadata": {},
     "output_type": "display_data"
    }
   ],
   "source": [
    "texts = [\"the book was great super\", \"the book was awful no\"]\n",
    "y = np.array([[1.0], [0.0]])"
   ]
  },
  {
   "cell_type": "code",
   "execution_count": 326,
   "id": "98950462",
   "metadata": {},
   "outputs": [
    {
     "data": {
      "text/plain": [
       "{1: '<OOV>',\n",
       " 2: 'the',\n",
       " 3: 'book',\n",
       " 4: 'was',\n",
       " 5: 'great',\n",
       " 6: 'super',\n",
       " 7: 'awful',\n",
       " 8: 'no'}"
      ]
     },
     "execution_count": 326,
     "metadata": {},
     "output_type": "execute_result"
    },
    {
     "data": {
      "application/javascript": [
       "\n",
       "            setTimeout(function() {\n",
       "                var nbb_cell_id = 326;\n",
       "                var nbb_unformatted_code = \"tokenizer = Tokenizer(oov_token=\\\"<OOV>\\\")\\ntokenizer.fit_on_texts(texts)\\nvocab = tokenizer.index_word\\nvocab\";\n",
       "                var nbb_formatted_code = \"tokenizer = Tokenizer(oov_token=\\\"<OOV>\\\")\\ntokenizer.fit_on_texts(texts)\\nvocab = tokenizer.index_word\\nvocab\";\n",
       "                var nbb_cells = Jupyter.notebook.get_cells();\n",
       "                for (var i = 0; i < nbb_cells.length; ++i) {\n",
       "                    if (nbb_cells[i].input_prompt_number == nbb_cell_id) {\n",
       "                        if (nbb_cells[i].get_text() == nbb_unformatted_code) {\n",
       "                             nbb_cells[i].set_text(nbb_formatted_code);\n",
       "                        }\n",
       "                        break;\n",
       "                    }\n",
       "                }\n",
       "            }, 500);\n",
       "            "
      ],
      "text/plain": [
       "<IPython.core.display.Javascript object>"
      ]
     },
     "metadata": {},
     "output_type": "display_data"
    }
   ],
   "source": [
    "tokenizer = Tokenizer(oov_token=\"<OOV>\")\n",
    "tokenizer.fit_on_texts(texts)\n",
    "vocab = tokenizer.index_word\n",
    "vocab"
   ]
  },
  {
   "cell_type": "code",
   "execution_count": 327,
   "id": "73190ca1",
   "metadata": {},
   "outputs": [
    {
     "data": {
      "text/plain": [
       "[[2, 3, 4, 5, 6], [2, 3, 4, 7, 8]]"
      ]
     },
     "execution_count": 327,
     "metadata": {},
     "output_type": "execute_result"
    },
    {
     "data": {
      "application/javascript": [
       "\n",
       "            setTimeout(function() {\n",
       "                var nbb_cell_id = 327;\n",
       "                var nbb_unformatted_code = \"sequences = tokenizer.texts_to_sequences(texts)\\nsequences\";\n",
       "                var nbb_formatted_code = \"sequences = tokenizer.texts_to_sequences(texts)\\nsequences\";\n",
       "                var nbb_cells = Jupyter.notebook.get_cells();\n",
       "                for (var i = 0; i < nbb_cells.length; ++i) {\n",
       "                    if (nbb_cells[i].input_prompt_number == nbb_cell_id) {\n",
       "                        if (nbb_cells[i].get_text() == nbb_unformatted_code) {\n",
       "                             nbb_cells[i].set_text(nbb_formatted_code);\n",
       "                        }\n",
       "                        break;\n",
       "                    }\n",
       "                }\n",
       "            }, 500);\n",
       "            "
      ],
      "text/plain": [
       "<IPython.core.display.Javascript object>"
      ]
     },
     "metadata": {},
     "output_type": "display_data"
    }
   ],
   "source": [
    "sequences = tokenizer.texts_to_sequences(texts)\n",
    "sequences"
   ]
  },
  {
   "cell_type": "code",
   "execution_count": 328,
   "id": "51b07015",
   "metadata": {},
   "outputs": [
    {
     "data": {
      "text/plain": [
       "array([[2, 3, 4, 5, 6],\n",
       "       [2, 3, 4, 7, 8]])"
      ]
     },
     "execution_count": 328,
     "metadata": {},
     "output_type": "execute_result"
    },
    {
     "data": {
      "application/javascript": [
       "\n",
       "            setTimeout(function() {\n",
       "                var nbb_cell_id = 328;\n",
       "                var nbb_unformatted_code = \"PADDING = \\\"post\\\"\\nTRUNCATING = \\\"post\\\"\\nMAXLEN = 5\\n\\npadded_sequences = pad_sequences(\\n    sequences, padding=PADDING, truncating=TRUNCATING, maxlen=MAXLEN\\n)\\n\\npadded_sequences\";\n",
       "                var nbb_formatted_code = \"PADDING = \\\"post\\\"\\nTRUNCATING = \\\"post\\\"\\nMAXLEN = 5\\n\\npadded_sequences = pad_sequences(\\n    sequences, padding=PADDING, truncating=TRUNCATING, maxlen=MAXLEN\\n)\\n\\npadded_sequences\";\n",
       "                var nbb_cells = Jupyter.notebook.get_cells();\n",
       "                for (var i = 0; i < nbb_cells.length; ++i) {\n",
       "                    if (nbb_cells[i].input_prompt_number == nbb_cell_id) {\n",
       "                        if (nbb_cells[i].get_text() == nbb_unformatted_code) {\n",
       "                             nbb_cells[i].set_text(nbb_formatted_code);\n",
       "                        }\n",
       "                        break;\n",
       "                    }\n",
       "                }\n",
       "            }, 500);\n",
       "            "
      ],
      "text/plain": [
       "<IPython.core.display.Javascript object>"
      ]
     },
     "metadata": {},
     "output_type": "display_data"
    }
   ],
   "source": [
    "PADDING = \"post\"\n",
    "TRUNCATING = \"post\"\n",
    "MAXLEN = 5\n",
    "\n",
    "padded_sequences = pad_sequences(\n",
    "    sequences, padding=PADDING, truncating=TRUNCATING, maxlen=MAXLEN\n",
    ")\n",
    "\n",
    "padded_sequences"
   ]
  },
  {
   "cell_type": "code",
   "execution_count": 352,
   "id": "40e58f93",
   "metadata": {},
   "outputs": [
    {
     "name": "stdout",
     "output_type": "stream",
     "text": [
      "Model: \"sequential_41\"\n",
      "_________________________________________________________________\n",
      " Layer (type)                Output Shape              Param #   \n",
      "=================================================================\n",
      " embedding_32 (Embedding)    (None, 5, 7)              63        \n",
      "                                                                 \n",
      " gru_41 (GRU)                (None, 5, 4)              156       \n",
      "                                                                 \n",
      "=================================================================\n",
      "Total params: 219\n",
      "Trainable params: 219\n",
      "Non-trainable params: 0\n",
      "_________________________________________________________________\n"
     ]
    },
    {
     "data": {
      "application/javascript": [
       "\n",
       "            setTimeout(function() {\n",
       "                var nbb_cell_id = 352;\n",
       "                var nbb_unformatted_code = \"INPUT_DIM = len(vocab) + 1 # max_index in the vocab + 1\\nINPUT_LENGTH = MAXLEN\\nOUTPUT_DIM = 7\\n\\nRETURN_SEQUENCES = True # If True return the hidden states of all the in-between timesteps else return only the hidden state\\n                         # of the last timestep\\n\\n\\n\\nset_random_seed(42)\\n\\nmodel = Sequential([\\n    Embedding(input_dim=INPUT_DIM, output_dim=OUTPUT_DIM, input_length=INPUT_LENGTH, trainable=True, mask_zero=False),\\n    GRU(units=4, return_state=False, use_bias=True, reset_after=True, return_sequences=RETURN_SEQUENCES),\\n])\\n\\n\\nOPTIMIZER = Adam()\\nLOSS = BinaryCrossentropy()\\nMETRICS = [\\\"accuracy\\\"]\\n\\nmodel.compile(optimizer=OPTIMIZER, loss=LOSS, metrics=METRICS)\\nmodel.summary()\";\n",
       "                var nbb_formatted_code = \"INPUT_DIM = len(vocab) + 1  # max_index in the vocab + 1\\nINPUT_LENGTH = MAXLEN\\nOUTPUT_DIM = 7\\n\\nRETURN_SEQUENCES = True  # If True return the hidden states of all the in-between timesteps else return only the hidden state\\n# of the last timestep\\n\\n\\nset_random_seed(42)\\n\\nmodel = Sequential(\\n    [\\n        Embedding(\\n            input_dim=INPUT_DIM,\\n            output_dim=OUTPUT_DIM,\\n            input_length=INPUT_LENGTH,\\n            trainable=True,\\n            mask_zero=False,\\n        ),\\n        GRU(\\n            units=4,\\n            return_state=False,\\n            use_bias=True,\\n            reset_after=True,\\n            return_sequences=RETURN_SEQUENCES,\\n        ),\\n    ]\\n)\\n\\n\\nOPTIMIZER = Adam()\\nLOSS = BinaryCrossentropy()\\nMETRICS = [\\\"accuracy\\\"]\\n\\nmodel.compile(optimizer=OPTIMIZER, loss=LOSS, metrics=METRICS)\\nmodel.summary()\";\n",
       "                var nbb_cells = Jupyter.notebook.get_cells();\n",
       "                for (var i = 0; i < nbb_cells.length; ++i) {\n",
       "                    if (nbb_cells[i].input_prompt_number == nbb_cell_id) {\n",
       "                        if (nbb_cells[i].get_text() == nbb_unformatted_code) {\n",
       "                             nbb_cells[i].set_text(nbb_formatted_code);\n",
       "                        }\n",
       "                        break;\n",
       "                    }\n",
       "                }\n",
       "            }, 500);\n",
       "            "
      ],
      "text/plain": [
       "<IPython.core.display.Javascript object>"
      ]
     },
     "metadata": {},
     "output_type": "display_data"
    }
   ],
   "source": [
    "INPUT_DIM = len(vocab) + 1 # max_index in the vocab + 1\n",
    "INPUT_LENGTH = MAXLEN\n",
    "OUTPUT_DIM = 7\n",
    "\n",
    "RETURN_SEQUENCES = True # If True return the hidden states of all the in-between timesteps else return only the hidden state\n",
    "                         # of the last timestep\n",
    "\n",
    "\n",
    "\n",
    "set_random_seed(42)\n",
    "\n",
    "model = Sequential([\n",
    "    Embedding(input_dim=INPUT_DIM, output_dim=OUTPUT_DIM, input_length=INPUT_LENGTH, trainable=True, mask_zero=False),\n",
    "    GRU(units=4, return_state=False, use_bias=True, reset_after=True, return_sequences=RETURN_SEQUENCES),\n",
    "])\n",
    "\n",
    "\n",
    "OPTIMIZER = Adam()\n",
    "LOSS = BinaryCrossentropy()\n",
    "METRICS = [\"accuracy\"]\n",
    "\n",
    "model.compile(optimizer=OPTIMIZER, loss=LOSS, metrics=METRICS)\n",
    "model.summary()\n",
    "\n"
   ]
  },
  {
   "cell_type": "code",
   "execution_count": 353,
   "id": "470119fd",
   "metadata": {},
   "outputs": [
    {
     "name": "stdout",
     "output_type": "stream",
     "text": [
      "1/1 [==============================] - 0s 252ms/step\n"
     ]
    },
    {
     "data": {
      "text/plain": [
       "array([[[-0.02255583, -0.00166022, -0.002121  ,  0.01063325],\n",
       "        [-0.01299257,  0.00261979, -0.01043404,  0.02199029],\n",
       "        [-0.01740611, -0.009634  , -0.02022436,  0.003124  ],\n",
       "        [-0.00431032,  0.01444161, -0.01362657,  0.01084094],\n",
       "        [ 0.00090356,  0.01463092, -0.02333421, -0.01767044]],\n",
       "\n",
       "       [[-0.02255583, -0.00166022, -0.002121  ,  0.01063325],\n",
       "        [-0.01299257,  0.00261979, -0.01043404,  0.02199029],\n",
       "        [-0.01740611, -0.009634  , -0.02022436,  0.003124  ],\n",
       "        [-0.0052803 , -0.03340074,  0.01058613,  0.02608683],\n",
       "        [-0.00959935, -0.0366431 ,  0.03656987,  0.02465998]]],\n",
       "      dtype=float32)"
      ]
     },
     "execution_count": 353,
     "metadata": {},
     "output_type": "execute_result"
    },
    {
     "data": {
      "application/javascript": [
       "\n",
       "            setTimeout(function() {\n",
       "                var nbb_cell_id = 353;\n",
       "                var nbb_unformatted_code = \"model.predict(padded_sequences)\";\n",
       "                var nbb_formatted_code = \"model.predict(padded_sequences)\";\n",
       "                var nbb_cells = Jupyter.notebook.get_cells();\n",
       "                for (var i = 0; i < nbb_cells.length; ++i) {\n",
       "                    if (nbb_cells[i].input_prompt_number == nbb_cell_id) {\n",
       "                        if (nbb_cells[i].get_text() == nbb_unformatted_code) {\n",
       "                             nbb_cells[i].set_text(nbb_formatted_code);\n",
       "                        }\n",
       "                        break;\n",
       "                    }\n",
       "                }\n",
       "            }, 500);\n",
       "            "
      ],
      "text/plain": [
       "<IPython.core.display.Javascript object>"
      ]
     },
     "metadata": {},
     "output_type": "display_data"
    }
   ],
   "source": [
    "model.predict(padded_sequences)"
   ]
  },
  {
   "cell_type": "markdown",
   "id": "d3f42b1d",
   "metadata": {},
   "source": [
    "# Validate"
   ]
  },
  {
   "cell_type": "code",
   "execution_count": 354,
   "id": "3640b529",
   "metadata": {},
   "outputs": [
    {
     "data": {
      "application/javascript": [
       "\n",
       "            setTimeout(function() {\n",
       "                var nbb_cell_id = 354;\n",
       "                var nbb_unformatted_code = \"def sigmoid(z: np.ndarray | float) -> np.ndarray | float:\\n    return 1 / (1 + np.exp(-z))\";\n",
       "                var nbb_formatted_code = \"def sigmoid(z: np.ndarray | float) -> np.ndarray | float:\\n    return 1 / (1 + np.exp(-z))\";\n",
       "                var nbb_cells = Jupyter.notebook.get_cells();\n",
       "                for (var i = 0; i < nbb_cells.length; ++i) {\n",
       "                    if (nbb_cells[i].input_prompt_number == nbb_cell_id) {\n",
       "                        if (nbb_cells[i].get_text() == nbb_unformatted_code) {\n",
       "                             nbb_cells[i].set_text(nbb_formatted_code);\n",
       "                        }\n",
       "                        break;\n",
       "                    }\n",
       "                }\n",
       "            }, 500);\n",
       "            "
      ],
      "text/plain": [
       "<IPython.core.display.Javascript object>"
      ]
     },
     "metadata": {},
     "output_type": "display_data"
    }
   ],
   "source": [
    "def sigmoid(z: np.ndarray | float) -> np.ndarray | float:\n",
    "    return 1 / (1 + np.exp(-z))"
   ]
  },
  {
   "cell_type": "code",
   "execution_count": 355,
   "id": "2e4f72df",
   "metadata": {},
   "outputs": [
    {
     "data": {
      "application/javascript": [
       "\n",
       "            setTimeout(function() {\n",
       "                var nbb_cell_id = 355;\n",
       "                var nbb_unformatted_code = \"embeddings = model.layers[0].get_weights()[0]\";\n",
       "                var nbb_formatted_code = \"embeddings = model.layers[0].get_weights()[0]\";\n",
       "                var nbb_cells = Jupyter.notebook.get_cells();\n",
       "                for (var i = 0; i < nbb_cells.length; ++i) {\n",
       "                    if (nbb_cells[i].input_prompt_number == nbb_cell_id) {\n",
       "                        if (nbb_cells[i].get_text() == nbb_unformatted_code) {\n",
       "                             nbb_cells[i].set_text(nbb_formatted_code);\n",
       "                        }\n",
       "                        break;\n",
       "                    }\n",
       "                }\n",
       "            }, 500);\n",
       "            "
      ],
      "text/plain": [
       "<IPython.core.display.Javascript object>"
      ]
     },
     "metadata": {},
     "output_type": "display_data"
    }
   ],
   "source": [
    "embeddings = model.layers[0].get_weights()[0]"
   ]
  },
  {
   "cell_type": "code",
   "execution_count": 356,
   "id": "357e970f",
   "metadata": {},
   "outputs": [
    {
     "name": "stdout",
     "output_type": "stream",
     "text": [
      "(7, 12)\n"
     ]
    },
    {
     "data": {
      "application/javascript": [
       "\n",
       "            setTimeout(function() {\n",
       "                var nbb_cell_id = 356;\n",
       "                var nbb_unformatted_code = \"W = model.layers[1].get_weights()[0]\\nprint(W.shape)\";\n",
       "                var nbb_formatted_code = \"W = model.layers[1].get_weights()[0]\\nprint(W.shape)\";\n",
       "                var nbb_cells = Jupyter.notebook.get_cells();\n",
       "                for (var i = 0; i < nbb_cells.length; ++i) {\n",
       "                    if (nbb_cells[i].input_prompt_number == nbb_cell_id) {\n",
       "                        if (nbb_cells[i].get_text() == nbb_unformatted_code) {\n",
       "                             nbb_cells[i].set_text(nbb_formatted_code);\n",
       "                        }\n",
       "                        break;\n",
       "                    }\n",
       "                }\n",
       "            }, 500);\n",
       "            "
      ],
      "text/plain": [
       "<IPython.core.display.Javascript object>"
      ]
     },
     "metadata": {},
     "output_type": "display_data"
    }
   ],
   "source": [
    "W = model.layers[1].get_weights()[0]\n",
    "print(W.shape)"
   ]
  },
  {
   "cell_type": "code",
   "execution_count": 357,
   "id": "8d0c8f91",
   "metadata": {},
   "outputs": [
    {
     "name": "stdout",
     "output_type": "stream",
     "text": [
      "(7, 4)\n"
     ]
    },
    {
     "data": {
      "application/javascript": [
       "\n",
       "            setTimeout(function() {\n",
       "                var nbb_cell_id = 357;\n",
       "                var nbb_unformatted_code = \"W_z = W[:, :4]\\nW_r = W[:, 4:8]\\nW_h = W[:, 8:]\\n\\n\\nprint(W_z.shape)\";\n",
       "                var nbb_formatted_code = \"W_z = W[:, :4]\\nW_r = W[:, 4:8]\\nW_h = W[:, 8:]\\n\\n\\nprint(W_z.shape)\";\n",
       "                var nbb_cells = Jupyter.notebook.get_cells();\n",
       "                for (var i = 0; i < nbb_cells.length; ++i) {\n",
       "                    if (nbb_cells[i].input_prompt_number == nbb_cell_id) {\n",
       "                        if (nbb_cells[i].get_text() == nbb_unformatted_code) {\n",
       "                             nbb_cells[i].set_text(nbb_formatted_code);\n",
       "                        }\n",
       "                        break;\n",
       "                    }\n",
       "                }\n",
       "            }, 500);\n",
       "            "
      ],
      "text/plain": [
       "<IPython.core.display.Javascript object>"
      ]
     },
     "metadata": {},
     "output_type": "display_data"
    }
   ],
   "source": [
    "W_z = W[:, :4]\n",
    "W_r = W[:, 4:8]\n",
    "W_h = W[:, 8:]\n",
    "\n",
    "\n",
    "print(W_z.shape)"
   ]
  },
  {
   "cell_type": "code",
   "execution_count": 358,
   "id": "75beb5f4",
   "metadata": {},
   "outputs": [
    {
     "name": "stdout",
     "output_type": "stream",
     "text": [
      "(4, 12)\n"
     ]
    },
    {
     "data": {
      "application/javascript": [
       "\n",
       "            setTimeout(function() {\n",
       "                var nbb_cell_id = 358;\n",
       "                var nbb_unformatted_code = \"U = model.layers[1].get_weights()[1]\\nprint(U.shape)\";\n",
       "                var nbb_formatted_code = \"U = model.layers[1].get_weights()[1]\\nprint(U.shape)\";\n",
       "                var nbb_cells = Jupyter.notebook.get_cells();\n",
       "                for (var i = 0; i < nbb_cells.length; ++i) {\n",
       "                    if (nbb_cells[i].input_prompt_number == nbb_cell_id) {\n",
       "                        if (nbb_cells[i].get_text() == nbb_unformatted_code) {\n",
       "                             nbb_cells[i].set_text(nbb_formatted_code);\n",
       "                        }\n",
       "                        break;\n",
       "                    }\n",
       "                }\n",
       "            }, 500);\n",
       "            "
      ],
      "text/plain": [
       "<IPython.core.display.Javascript object>"
      ]
     },
     "metadata": {},
     "output_type": "display_data"
    }
   ],
   "source": [
    "U = model.layers[1].get_weights()[1]\n",
    "print(U.shape)\n"
   ]
  },
  {
   "cell_type": "code",
   "execution_count": 359,
   "id": "03fcdb44",
   "metadata": {},
   "outputs": [
    {
     "name": "stdout",
     "output_type": "stream",
     "text": [
      "(4, 4)\n"
     ]
    },
    {
     "data": {
      "application/javascript": [
       "\n",
       "            setTimeout(function() {\n",
       "                var nbb_cell_id = 359;\n",
       "                var nbb_unformatted_code = \"U_z = U[:, :4]\\nU_r = U[:, 4:8]\\nU_h = U[:, 8:]\\n\\nprint(U_z.shape)\";\n",
       "                var nbb_formatted_code = \"U_z = U[:, :4]\\nU_r = U[:, 4:8]\\nU_h = U[:, 8:]\\n\\nprint(U_z.shape)\";\n",
       "                var nbb_cells = Jupyter.notebook.get_cells();\n",
       "                for (var i = 0; i < nbb_cells.length; ++i) {\n",
       "                    if (nbb_cells[i].input_prompt_number == nbb_cell_id) {\n",
       "                        if (nbb_cells[i].get_text() == nbb_unformatted_code) {\n",
       "                             nbb_cells[i].set_text(nbb_formatted_code);\n",
       "                        }\n",
       "                        break;\n",
       "                    }\n",
       "                }\n",
       "            }, 500);\n",
       "            "
      ],
      "text/plain": [
       "<IPython.core.display.Javascript object>"
      ]
     },
     "metadata": {},
     "output_type": "display_data"
    }
   ],
   "source": [
    "U_z = U[:, :4]\n",
    "U_r = U[:, 4:8]\n",
    "U_h = U[:, 8:]\n",
    "\n",
    "print(U_z.shape)"
   ]
  },
  {
   "cell_type": "code",
   "execution_count": 360,
   "id": "ab56b474",
   "metadata": {},
   "outputs": [
    {
     "data": {
      "application/javascript": [
       "\n",
       "            setTimeout(function() {\n",
       "                var nbb_cell_id = 360;\n",
       "                var nbb_unformatted_code = \"input_biases, recurrent_biases = model.layers[1].get_weights()[2]\\n\\n\\nb_z = input_biases[:4]\\nb_r = input_biases[4:8]\\nb_h = input_biases[8:]\";\n",
       "                var nbb_formatted_code = \"input_biases, recurrent_biases = model.layers[1].get_weights()[2]\\n\\n\\nb_z = input_biases[:4]\\nb_r = input_biases[4:8]\\nb_h = input_biases[8:]\";\n",
       "                var nbb_cells = Jupyter.notebook.get_cells();\n",
       "                for (var i = 0; i < nbb_cells.length; ++i) {\n",
       "                    if (nbb_cells[i].input_prompt_number == nbb_cell_id) {\n",
       "                        if (nbb_cells[i].get_text() == nbb_unformatted_code) {\n",
       "                             nbb_cells[i].set_text(nbb_formatted_code);\n",
       "                        }\n",
       "                        break;\n",
       "                    }\n",
       "                }\n",
       "            }, 500);\n",
       "            "
      ],
      "text/plain": [
       "<IPython.core.display.Javascript object>"
      ]
     },
     "metadata": {},
     "output_type": "display_data"
    }
   ],
   "source": [
    "input_biases, recurrent_biases = model.layers[1].get_weights()[2]\n",
    "\n",
    "\n",
    "b_z = input_biases[:4]\n",
    "b_r = input_biases[4:8]\n",
    "b_h = input_biases[8:]\n",
    "\n",
    "\n"
   ]
  },
  {
   "cell_type": "code",
   "execution_count": 361,
   "id": "8cf70152",
   "metadata": {},
   "outputs": [
    {
     "data": {
      "text/plain": [
       "array([-0.02255584, -0.00166022, -0.00212101,  0.01063325])"
      ]
     },
     "execution_count": 361,
     "metadata": {},
     "output_type": "execute_result"
    },
    {
     "data": {
      "application/javascript": [
       "\n",
       "            setTimeout(function() {\n",
       "                var nbb_cell_id = 361;\n",
       "                var nbb_unformatted_code = \"# For timestep 1:\\n\\nh_0 = np.array([0, 0, 0, 0])\\n\\nx_embeddings = embeddings[2]\\n\\nz = sigmoid(x_embeddings.dot(W_z) + U_z.T.dot(h_0) + b_z)\\nr = sigmoid(x_embeddings.dot(W_r) + U_r.T.dot(h_0) + b_r)\\nhc = np.tanh(x_embeddings.dot(W_h) + U_h.T.dot(r * h_0) + b_h)\\nh_1 = z * h_0 + (1 - z) * hc\\n\\nh_1\";\n",
       "                var nbb_formatted_code = \"# For timestep 1:\\n\\nh_0 = np.array([0, 0, 0, 0])\\n\\nx_embeddings = embeddings[2]\\n\\nz = sigmoid(x_embeddings.dot(W_z) + U_z.T.dot(h_0) + b_z)\\nr = sigmoid(x_embeddings.dot(W_r) + U_r.T.dot(h_0) + b_r)\\nhc = np.tanh(x_embeddings.dot(W_h) + U_h.T.dot(r * h_0) + b_h)\\nh_1 = z * h_0 + (1 - z) * hc\\n\\nh_1\";\n",
       "                var nbb_cells = Jupyter.notebook.get_cells();\n",
       "                for (var i = 0; i < nbb_cells.length; ++i) {\n",
       "                    if (nbb_cells[i].input_prompt_number == nbb_cell_id) {\n",
       "                        if (nbb_cells[i].get_text() == nbb_unformatted_code) {\n",
       "                             nbb_cells[i].set_text(nbb_formatted_code);\n",
       "                        }\n",
       "                        break;\n",
       "                    }\n",
       "                }\n",
       "            }, 500);\n",
       "            "
      ],
      "text/plain": [
       "<IPython.core.display.Javascript object>"
      ]
     },
     "metadata": {},
     "output_type": "display_data"
    }
   ],
   "source": [
    "# For timestep 1:\n",
    "\n",
    "h_0 = np.array([0, 0, 0, 0])\n",
    "\n",
    "x_embeddings = embeddings[2]\n",
    "\n",
    "z = sigmoid(x_embeddings.dot(W_z) + U_z.T.dot(h_0) + b_z)\n",
    "r = sigmoid(x_embeddings.dot(W_r) + U_r.T.dot(h_0) + b_r)\n",
    "hc = np.tanh(x_embeddings.dot(W_h) + U_h.T.dot(r * h_0) + b_h)\n",
    "h_1 = z * h_0 + (1 - z) * hc\n",
    "\n",
    "h_1"
   ]
  },
  {
   "cell_type": "code",
   "execution_count": 362,
   "id": "06953801",
   "metadata": {},
   "outputs": [
    {
     "data": {
      "text/plain": [
       "array([-0.01298971,  0.00261219, -0.01043557,  0.02199294])"
      ]
     },
     "execution_count": 362,
     "metadata": {},
     "output_type": "execute_result"
    },
    {
     "data": {
      "application/javascript": [
       "\n",
       "            setTimeout(function() {\n",
       "                var nbb_cell_id = 362;\n",
       "                var nbb_unformatted_code = \"# For timestep 2:\\n\\nx_embedding = embeddings[3]\\n\\nz = sigmoid(x_embedding.dot(W_z) + U_z.T.dot(h_1) + b_z)\\nr = sigmoid(x_embedding.dot(W_r) + U_r.T.dot(h_1) + b_r)\\nhc = np.tanh(x_embedding.dot(W_h) + U_h.T.dot(r * h_1) + b_h)\\nh_2 = z * h_1 + (1 - z) * hc\\n\\nh_2\";\n",
       "                var nbb_formatted_code = \"# For timestep 2:\\n\\nx_embedding = embeddings[3]\\n\\nz = sigmoid(x_embedding.dot(W_z) + U_z.T.dot(h_1) + b_z)\\nr = sigmoid(x_embedding.dot(W_r) + U_r.T.dot(h_1) + b_r)\\nhc = np.tanh(x_embedding.dot(W_h) + U_h.T.dot(r * h_1) + b_h)\\nh_2 = z * h_1 + (1 - z) * hc\\n\\nh_2\";\n",
       "                var nbb_cells = Jupyter.notebook.get_cells();\n",
       "                for (var i = 0; i < nbb_cells.length; ++i) {\n",
       "                    if (nbb_cells[i].input_prompt_number == nbb_cell_id) {\n",
       "                        if (nbb_cells[i].get_text() == nbb_unformatted_code) {\n",
       "                             nbb_cells[i].set_text(nbb_formatted_code);\n",
       "                        }\n",
       "                        break;\n",
       "                    }\n",
       "                }\n",
       "            }, 500);\n",
       "            "
      ],
      "text/plain": [
       "<IPython.core.display.Javascript object>"
      ]
     },
     "metadata": {},
     "output_type": "display_data"
    }
   ],
   "source": [
    "# For timestep 2:\n",
    "\n",
    "x_embedding = embeddings[3]\n",
    "\n",
    "z = sigmoid(x_embedding.dot(W_z) + U_z.T.dot(h_1) + b_z)\n",
    "r = sigmoid(x_embedding.dot(W_r) + U_r.T.dot(h_1) + b_r)\n",
    "hc = np.tanh(x_embedding.dot(W_h) + U_h.T.dot(r * h_1) + b_h)\n",
    "h_2 = z * h_1 + (1 - z) * hc\n",
    "\n",
    "h_2"
   ]
  }
 ],
 "metadata": {
  "kernelspec": {
   "display_name": "Python [conda env:ml]",
   "language": "python",
   "name": "conda-env-ml-py"
  },
  "language_info": {
   "codemirror_mode": {
    "name": "ipython",
    "version": 3
   },
   "file_extension": ".py",
   "mimetype": "text/x-python",
   "name": "python",
   "nbconvert_exporter": "python",
   "pygments_lexer": "ipython3",
   "version": "3.10.9"
  }
 },
 "nbformat": 4,
 "nbformat_minor": 5
}
