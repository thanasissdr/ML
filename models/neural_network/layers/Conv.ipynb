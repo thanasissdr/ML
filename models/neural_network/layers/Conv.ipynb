{
 "cells": [
  {
   "cell_type": "code",
   "execution_count": 1,
   "id": "b15c0c4e",
   "metadata": {},
   "outputs": [
    {
     "data": {
      "application/javascript": [
       "\n",
       "            setTimeout(function() {\n",
       "                var nbb_cell_id = 1;\n",
       "                var nbb_unformatted_code = \"%load_ext nb_black\";\n",
       "                var nbb_formatted_code = \"%load_ext nb_black\";\n",
       "                var nbb_cells = Jupyter.notebook.get_cells();\n",
       "                for (var i = 0; i < nbb_cells.length; ++i) {\n",
       "                    if (nbb_cells[i].input_prompt_number == nbb_cell_id) {\n",
       "                        if (nbb_cells[i].get_text() == nbb_unformatted_code) {\n",
       "                             nbb_cells[i].set_text(nbb_formatted_code);\n",
       "                        }\n",
       "                        break;\n",
       "                    }\n",
       "                }\n",
       "            }, 500);\n",
       "            "
      ],
      "text/plain": [
       "<IPython.core.display.Javascript object>"
      ]
     },
     "metadata": {},
     "output_type": "display_data"
    }
   ],
   "source": [
    "%load_ext nb_black"
   ]
  },
  {
   "cell_type": "code",
   "execution_count": 2,
   "id": "065cf413",
   "metadata": {},
   "outputs": [
    {
     "data": {
      "application/javascript": [
       "\n",
       "            setTimeout(function() {\n",
       "                var nbb_cell_id = 2;\n",
       "                var nbb_unformatted_code = \"import numpy as np\\nimport tensorflow as tf\\n\\n\\nfrom tensorflow.keras.layers import (\\n    Dense,\\n    Conv1D,\\n    Conv2D,\\n    MaxPooling1D,\\n    MaxPooling2D,\\n)\\nfrom tensorflow.keras.models import Sequential\\n\\n\\nfrom tensorflow.keras.utils import set_random_seed\";\n",
       "                var nbb_formatted_code = \"import numpy as np\\nimport tensorflow as tf\\n\\n\\nfrom tensorflow.keras.layers import (\\n    Dense,\\n    Conv1D,\\n    Conv2D,\\n    MaxPooling1D,\\n    MaxPooling2D,\\n)\\nfrom tensorflow.keras.models import Sequential\\n\\n\\nfrom tensorflow.keras.utils import set_random_seed\";\n",
       "                var nbb_cells = Jupyter.notebook.get_cells();\n",
       "                for (var i = 0; i < nbb_cells.length; ++i) {\n",
       "                    if (nbb_cells[i].input_prompt_number == nbb_cell_id) {\n",
       "                        if (nbb_cells[i].get_text() == nbb_unformatted_code) {\n",
       "                             nbb_cells[i].set_text(nbb_formatted_code);\n",
       "                        }\n",
       "                        break;\n",
       "                    }\n",
       "                }\n",
       "            }, 500);\n",
       "            "
      ],
      "text/plain": [
       "<IPython.core.display.Javascript object>"
      ]
     },
     "metadata": {},
     "output_type": "display_data"
    }
   ],
   "source": [
    "import numpy as np\n",
    "import tensorflow as tf\n",
    "\n",
    "\n",
    "from tensorflow.keras.layers import (\n",
    "    Dense,\n",
    "    Conv1D,\n",
    "    Conv2D,\n",
    "    MaxPooling1D,\n",
    "    MaxPooling2D,\n",
    ")\n",
    "from tensorflow.keras.models import Sequential\n",
    "\n",
    "\n",
    "from tensorflow.keras.utils import set_random_seed\n"
   ]
  },
  {
   "cell_type": "markdown",
   "id": "077c0a13",
   "metadata": {},
   "source": [
    "# Testing Convolution Layer"
   ]
  },
  {
   "cell_type": "code",
   "execution_count": 3,
   "id": "16bfd23b",
   "metadata": {},
   "outputs": [
    {
     "data": {
      "application/javascript": [
       "\n",
       "            setTimeout(function() {\n",
       "                var nbb_cell_id = 3;\n",
       "                var nbb_unformatted_code = \"m = np.array([[[1, 1, 1], [10, 10, 10], [20, 20, 20], [20, 20, 20]]], dtype=\\\"float\\\")\\n\\n\\ndef conv_layer(m, filters: int, kernel_size: int, strides: int) -> Conv1D:\\n    set_random_seed(42)\\n\\n    c = Conv1D(\\n        filters=filters,\\n        kernel_size=kernel_size,\\n        strides=strides,\\n        name=\\\"conv_1d\\\",\\n        use_bias=False,\\n    )\\n\\n    print(m.shape)\\n    print(c.__call__(m))\\n    return c\";\n",
       "                var nbb_formatted_code = \"m = np.array([[[1, 1, 1], [10, 10, 10], [20, 20, 20], [20, 20, 20]]], dtype=\\\"float\\\")\\n\\n\\ndef conv_layer(m, filters: int, kernel_size: int, strides: int) -> Conv1D:\\n    set_random_seed(42)\\n\\n    c = Conv1D(\\n        filters=filters,\\n        kernel_size=kernel_size,\\n        strides=strides,\\n        name=\\\"conv_1d\\\",\\n        use_bias=False,\\n    )\\n\\n    print(m.shape)\\n    print(c.__call__(m))\\n    return c\";\n",
       "                var nbb_cells = Jupyter.notebook.get_cells();\n",
       "                for (var i = 0; i < nbb_cells.length; ++i) {\n",
       "                    if (nbb_cells[i].input_prompt_number == nbb_cell_id) {\n",
       "                        if (nbb_cells[i].get_text() == nbb_unformatted_code) {\n",
       "                             nbb_cells[i].set_text(nbb_formatted_code);\n",
       "                        }\n",
       "                        break;\n",
       "                    }\n",
       "                }\n",
       "            }, 500);\n",
       "            "
      ],
      "text/plain": [
       "<IPython.core.display.Javascript object>"
      ]
     },
     "metadata": {},
     "output_type": "display_data"
    }
   ],
   "source": [
    "m = np.array([[[1, 1, 1], [10, 10, 10], [20, 20, 20], [20, 20, 20]]], dtype=\"float\")\n",
    "\n",
    "\n",
    "def conv_layer(m, filters: int, kernel_size: int, strides: int) -> Conv1D:\n",
    "    set_random_seed(42)\n",
    "\n",
    "    c = Conv1D(\n",
    "        filters=filters,\n",
    "        kernel_size=kernel_size,\n",
    "        strides=strides,\n",
    "        name=\"conv_1d\",\n",
    "        use_bias=False,\n",
    "    )\n",
    "\n",
    "    print(m.shape)\n",
    "    print(c.__call__(m))\n",
    "    return c"
   ]
  },
  {
   "cell_type": "markdown",
   "id": "feceba5f",
   "metadata": {},
   "source": [
    "## filters: 1\n",
    "## kernel_size: 1\n",
    "## strides: 1"
   ]
  },
  {
   "cell_type": "code",
   "execution_count": 4,
   "id": "819e243e",
   "metadata": {},
   "outputs": [
    {
     "name": "stdout",
     "output_type": "stream",
     "text": [
      "(1, 4, 3)\n",
      "tf.Tensor(\n",
      "[[[-0.10177284]\n",
      "  [-1.0177282 ]\n",
      "  [-2.0354564 ]\n",
      "  [-2.0354564 ]]], shape=(1, 4, 1), dtype=float32)\n"
     ]
    },
    {
     "data": {
      "application/javascript": [
       "\n",
       "            setTimeout(function() {\n",
       "                var nbb_cell_id = 4;\n",
       "                var nbb_unformatted_code = \"c = conv_layer(m, filters=1, kernel_size=1, strides=1)\";\n",
       "                var nbb_formatted_code = \"c = conv_layer(m, filters=1, kernel_size=1, strides=1)\";\n",
       "                var nbb_cells = Jupyter.notebook.get_cells();\n",
       "                for (var i = 0; i < nbb_cells.length; ++i) {\n",
       "                    if (nbb_cells[i].input_prompt_number == nbb_cell_id) {\n",
       "                        if (nbb_cells[i].get_text() == nbb_unformatted_code) {\n",
       "                             nbb_cells[i].set_text(nbb_formatted_code);\n",
       "                        }\n",
       "                        break;\n",
       "                    }\n",
       "                }\n",
       "            }, 500);\n",
       "            "
      ],
      "text/plain": [
       "<IPython.core.display.Javascript object>"
      ]
     },
     "metadata": {},
     "output_type": "display_data"
    }
   ],
   "source": [
    "c = conv_layer(m, filters=1, kernel_size=1, strides=1)"
   ]
  },
  {
   "cell_type": "code",
   "execution_count": 5,
   "id": "85b4efc1",
   "metadata": {},
   "outputs": [
    {
     "name": "stdout",
     "output_type": "stream",
     "text": [
      "(1, 3, 1)\n"
     ]
    },
    {
     "data": {
      "text/plain": [
       "array([[[ 0.40309322],\n",
       "        [-0.14450324],\n",
       "        [-0.36036283]]], dtype=float32)"
      ]
     },
     "execution_count": 5,
     "metadata": {},
     "output_type": "execute_result"
    },
    {
     "data": {
      "application/javascript": [
       "\n",
       "            setTimeout(function() {\n",
       "                var nbb_cell_id = 5;\n",
       "                var nbb_unformatted_code = \"# column i corresponds to filter i\\n\\nweights = c.weights[0].numpy()\\nprint(weights.shape)\\nweights\";\n",
       "                var nbb_formatted_code = \"# column i corresponds to filter i\\n\\nweights = c.weights[0].numpy()\\nprint(weights.shape)\\nweights\";\n",
       "                var nbb_cells = Jupyter.notebook.get_cells();\n",
       "                for (var i = 0; i < nbb_cells.length; ++i) {\n",
       "                    if (nbb_cells[i].input_prompt_number == nbb_cell_id) {\n",
       "                        if (nbb_cells[i].get_text() == nbb_unformatted_code) {\n",
       "                             nbb_cells[i].set_text(nbb_formatted_code);\n",
       "                        }\n",
       "                        break;\n",
       "                    }\n",
       "                }\n",
       "            }, 500);\n",
       "            "
      ],
      "text/plain": [
       "<IPython.core.display.Javascript object>"
      ]
     },
     "metadata": {},
     "output_type": "display_data"
    }
   ],
   "source": [
    "# column i corresponds to filter i\n",
    "\n",
    "weights = c.weights[0].numpy()\n",
    "print(weights.shape)\n",
    "weights"
   ]
  },
  {
   "cell_type": "code",
   "execution_count": 6,
   "id": "b7f5b1c6",
   "metadata": {},
   "outputs": [
    {
     "name": "stdout",
     "output_type": "stream",
     "text": [
      "[-0.10177284]\n",
      "[-1.01772845]\n",
      "[-2.0354569]\n",
      "[-2.0354569]\n"
     ]
    },
    {
     "data": {
      "application/javascript": [
       "\n",
       "            setTimeout(function() {\n",
       "                var nbb_cell_id = 6;\n",
       "                var nbb_unformatted_code = \"for i in range(0, m.shape[1]):\\n    a = np.dot(m[0][i], weights[0])\\n    print(a)\";\n",
       "                var nbb_formatted_code = \"for i in range(0, m.shape[1]):\\n    a = np.dot(m[0][i], weights[0])\\n    print(a)\";\n",
       "                var nbb_cells = Jupyter.notebook.get_cells();\n",
       "                for (var i = 0; i < nbb_cells.length; ++i) {\n",
       "                    if (nbb_cells[i].input_prompt_number == nbb_cell_id) {\n",
       "                        if (nbb_cells[i].get_text() == nbb_unformatted_code) {\n",
       "                             nbb_cells[i].set_text(nbb_formatted_code);\n",
       "                        }\n",
       "                        break;\n",
       "                    }\n",
       "                }\n",
       "            }, 500);\n",
       "            "
      ],
      "text/plain": [
       "<IPython.core.display.Javascript object>"
      ]
     },
     "metadata": {},
     "output_type": "display_data"
    }
   ],
   "source": [
    "for i in range(0, m.shape[1]):\n",
    "    a = np.dot(m[0][i], weights[0])\n",
    "    print(a)"
   ]
  },
  {
   "cell_type": "markdown",
   "id": "622672f0",
   "metadata": {},
   "source": [
    "## filters: 2\n",
    "## kernel_size: 1\n",
    "## strides: 1"
   ]
  },
  {
   "cell_type": "code",
   "execution_count": 7,
   "id": "43ea3682",
   "metadata": {},
   "outputs": [
    {
     "name": "stdout",
     "output_type": "stream",
     "text": [
      "(1, 4, 3)\n",
      "tf.Tensor(\n",
      "[[[ -0.9834796    0.19753444]\n",
      "  [ -9.834796     1.9753444 ]\n",
      "  [-19.669592     3.9506888 ]\n",
      "  [-19.669592     3.9506888 ]]], shape=(1, 4, 2), dtype=float32)\n"
     ]
    },
    {
     "data": {
      "application/javascript": [
       "\n",
       "            setTimeout(function() {\n",
       "                var nbb_cell_id = 7;\n",
       "                var nbb_unformatted_code = \"c = conv_layer(m, filters=2, kernel_size=1, strides=1)\";\n",
       "                var nbb_formatted_code = \"c = conv_layer(m, filters=2, kernel_size=1, strides=1)\";\n",
       "                var nbb_cells = Jupyter.notebook.get_cells();\n",
       "                for (var i = 0; i < nbb_cells.length; ++i) {\n",
       "                    if (nbb_cells[i].input_prompt_number == nbb_cell_id) {\n",
       "                        if (nbb_cells[i].get_text() == nbb_unformatted_code) {\n",
       "                             nbb_cells[i].set_text(nbb_formatted_code);\n",
       "                        }\n",
       "                        break;\n",
       "                    }\n",
       "                }\n",
       "            }, 500);\n",
       "            "
      ],
      "text/plain": [
       "<IPython.core.display.Javascript object>"
      ]
     },
     "metadata": {},
     "output_type": "display_data"
    }
   ],
   "source": [
    "c = conv_layer(m, filters=2, kernel_size=1, strides=1)"
   ]
  },
  {
   "cell_type": "code",
   "execution_count": 8,
   "id": "415477d0",
   "metadata": {},
   "outputs": [
    {
     "name": "stdout",
     "output_type": "stream",
     "text": [
      "(1, 3, 2)\n"
     ]
    },
    {
     "data": {
      "text/plain": [
       "array([[[ 0.36053753, -0.12924767],\n",
       "        [-0.32231832, -0.07781482],\n",
       "        [-1.0216988 ,  0.40459692]]], dtype=float32)"
      ]
     },
     "execution_count": 8,
     "metadata": {},
     "output_type": "execute_result"
    },
    {
     "data": {
      "application/javascript": [
       "\n",
       "            setTimeout(function() {\n",
       "                var nbb_cell_id = 8;\n",
       "                var nbb_unformatted_code = \"# column i corresponds to filter i\\nweights = c.weights[0].numpy()\\nprint(weights.shape)\\nweights\";\n",
       "                var nbb_formatted_code = \"# column i corresponds to filter i\\nweights = c.weights[0].numpy()\\nprint(weights.shape)\\nweights\";\n",
       "                var nbb_cells = Jupyter.notebook.get_cells();\n",
       "                for (var i = 0; i < nbb_cells.length; ++i) {\n",
       "                    if (nbb_cells[i].input_prompt_number == nbb_cell_id) {\n",
       "                        if (nbb_cells[i].get_text() == nbb_unformatted_code) {\n",
       "                             nbb_cells[i].set_text(nbb_formatted_code);\n",
       "                        }\n",
       "                        break;\n",
       "                    }\n",
       "                }\n",
       "            }, 500);\n",
       "            "
      ],
      "text/plain": [
       "<IPython.core.display.Javascript object>"
      ]
     },
     "metadata": {},
     "output_type": "display_data"
    }
   ],
   "source": [
    "# column i corresponds to filter i\n",
    "weights = c.weights[0].numpy()\n",
    "print(weights.shape)\n",
    "weights"
   ]
  },
  {
   "cell_type": "code",
   "execution_count": 9,
   "id": "ce18072b",
   "metadata": {},
   "outputs": [
    {
     "name": "stdout",
     "output_type": "stream",
     "text": [
      "first_filter\n",
      "\n",
      "[-0.98347962]\n",
      "[-9.83479619]\n",
      "[-19.66959238]\n",
      "[-19.66959238]\n",
      "\n",
      "second_filter\n",
      "\n",
      "[0.19753444]\n",
      "[1.97534442]\n",
      "[3.95068884]\n",
      "[3.95068884]\n"
     ]
    },
    {
     "data": {
      "application/javascript": [
       "\n",
       "            setTimeout(function() {\n",
       "                var nbb_cell_id = 9;\n",
       "                var nbb_unformatted_code = \"first_filter = weights[:, :, 0].reshape(-1, 1)\\nsecond_filter = weights[:, :, 1].reshape(-1, 1)\\n\\n# first filter\\nprint(f\\\"first_filter\\\\n\\\")\\nfor i in range(4):\\n    print(np.dot(m[0][i], first_filter))\\n\\n\\n# second filter\\nprint(f\\\"\\\\nsecond_filter\\\\n\\\")\\nfor i in range(4):\\n    print(np.dot(m[0][i], second_filter))\";\n",
       "                var nbb_formatted_code = \"first_filter = weights[:, :, 0].reshape(-1, 1)\\nsecond_filter = weights[:, :, 1].reshape(-1, 1)\\n\\n# first filter\\nprint(f\\\"first_filter\\\\n\\\")\\nfor i in range(4):\\n    print(np.dot(m[0][i], first_filter))\\n\\n\\n# second filter\\nprint(f\\\"\\\\nsecond_filter\\\\n\\\")\\nfor i in range(4):\\n    print(np.dot(m[0][i], second_filter))\";\n",
       "                var nbb_cells = Jupyter.notebook.get_cells();\n",
       "                for (var i = 0; i < nbb_cells.length; ++i) {\n",
       "                    if (nbb_cells[i].input_prompt_number == nbb_cell_id) {\n",
       "                        if (nbb_cells[i].get_text() == nbb_unformatted_code) {\n",
       "                             nbb_cells[i].set_text(nbb_formatted_code);\n",
       "                        }\n",
       "                        break;\n",
       "                    }\n",
       "                }\n",
       "            }, 500);\n",
       "            "
      ],
      "text/plain": [
       "<IPython.core.display.Javascript object>"
      ]
     },
     "metadata": {},
     "output_type": "display_data"
    }
   ],
   "source": [
    "first_filter = weights[:, :, 0].reshape(-1, 1)\n",
    "second_filter = weights[:, :, 1].reshape(-1, 1)\n",
    "\n",
    "# first filter\n",
    "print(f\"first_filter\\n\")\n",
    "for i in range(4):\n",
    "    print(np.dot(m[0][i], first_filter))\n",
    "\n",
    "\n",
    "# second filter\n",
    "print(f\"\\nsecond_filter\\n\")\n",
    "for i in range(4):\n",
    "    print(np.dot(m[0][i], second_filter))\n"
   ]
  },
  {
   "cell_type": "markdown",
   "id": "266bc344",
   "metadata": {},
   "source": [
    "# filters: 1\n",
    "# kernel_size: 2\n",
    "# strides: 1"
   ]
  },
  {
   "cell_type": "code",
   "execution_count": 10,
   "id": "4c34506a",
   "metadata": {},
   "outputs": [
    {
     "name": "stdout",
     "output_type": "stream",
     "text": [
      "(1, 4, 3)\n",
      "tf.Tensor(\n",
      "[[[ -5.565763]\n",
      "  [-11.70724 ]\n",
      "  [-12.426883]]], shape=(1, 3, 1), dtype=float32)\n"
     ]
    },
    {
     "data": {
      "application/javascript": [
       "\n",
       "            setTimeout(function() {\n",
       "                var nbb_cell_id = 10;\n",
       "                var nbb_unformatted_code = \"c = conv_layer(m, filters=1, kernel_size=2, strides=1)\";\n",
       "                var nbb_formatted_code = \"c = conv_layer(m, filters=1, kernel_size=2, strides=1)\";\n",
       "                var nbb_cells = Jupyter.notebook.get_cells();\n",
       "                for (var i = 0; i < nbb_cells.length; ++i) {\n",
       "                    if (nbb_cells[i].input_prompt_number == nbb_cell_id) {\n",
       "                        if (nbb_cells[i].get_text() == nbb_unformatted_code) {\n",
       "                             nbb_cells[i].set_text(nbb_formatted_code);\n",
       "                        }\n",
       "                        break;\n",
       "                    }\n",
       "                }\n",
       "            }, 500);\n",
       "            "
      ],
      "text/plain": [
       "<IPython.core.display.Javascript object>"
      ]
     },
     "metadata": {},
     "output_type": "display_data"
    }
   ],
   "source": [
    "c = conv_layer(m, filters=1, kernel_size=2, strides=1)"
   ]
  },
  {
   "cell_type": "code",
   "execution_count": 11,
   "id": "9048f4b5",
   "metadata": {},
   "outputs": [
    {
     "name": "stdout",
     "output_type": "stream",
     "text": [
      "(2, 3, 1)\n"
     ]
    },
    {
     "data": {
      "text/plain": [
       "array([[[ 0.28502995],\n",
       "        [-0.10217923],\n",
       "        [-0.25481498]],\n",
       "\n",
       "       [[-0.06151801],\n",
       "        [-0.8077238 ],\n",
       "        [ 0.31986195]]], dtype=float32)"
      ]
     },
     "execution_count": 11,
     "metadata": {},
     "output_type": "execute_result"
    },
    {
     "data": {
      "application/javascript": [
       "\n",
       "            setTimeout(function() {\n",
       "                var nbb_cell_id = 11;\n",
       "                var nbb_unformatted_code = \"weights = c.weights[0].numpy()\\nprint(weights.shape)\\nweights\";\n",
       "                var nbb_formatted_code = \"weights = c.weights[0].numpy()\\nprint(weights.shape)\\nweights\";\n",
       "                var nbb_cells = Jupyter.notebook.get_cells();\n",
       "                for (var i = 0; i < nbb_cells.length; ++i) {\n",
       "                    if (nbb_cells[i].input_prompt_number == nbb_cell_id) {\n",
       "                        if (nbb_cells[i].get_text() == nbb_unformatted_code) {\n",
       "                             nbb_cells[i].set_text(nbb_formatted_code);\n",
       "                        }\n",
       "                        break;\n",
       "                    }\n",
       "                }\n",
       "            }, 500);\n",
       "            "
      ],
      "text/plain": [
       "<IPython.core.display.Javascript object>"
      ]
     },
     "metadata": {},
     "output_type": "display_data"
    }
   ],
   "source": [
    "weights = c.weights[0].numpy()\n",
    "print(weights.shape)\n",
    "weights"
   ]
  },
  {
   "cell_type": "code",
   "execution_count": 12,
   "id": "aa579727",
   "metadata": {},
   "outputs": [
    {
     "name": "stdout",
     "output_type": "stream",
     "text": [
      "[-5.56576312]\n",
      "[-11.70724034]\n",
      "[-12.42688298]\n"
     ]
    },
    {
     "data": {
      "application/javascript": [
       "\n",
       "            setTimeout(function() {\n",
       "                var nbb_cell_id = 12;\n",
       "                var nbb_unformatted_code = \"for i in range(0, 4):\\n    try:\\n        print(np.dot(m[0][i], weights[0]) + np.dot(m[0][i + 1], weights[1]))\\n    except:\\n        pass\";\n",
       "                var nbb_formatted_code = \"for i in range(0, 4):\\n    try:\\n        print(np.dot(m[0][i], weights[0]) + np.dot(m[0][i + 1], weights[1]))\\n    except:\\n        pass\";\n",
       "                var nbb_cells = Jupyter.notebook.get_cells();\n",
       "                for (var i = 0; i < nbb_cells.length; ++i) {\n",
       "                    if (nbb_cells[i].input_prompt_number == nbb_cell_id) {\n",
       "                        if (nbb_cells[i].get_text() == nbb_unformatted_code) {\n",
       "                             nbb_cells[i].set_text(nbb_formatted_code);\n",
       "                        }\n",
       "                        break;\n",
       "                    }\n",
       "                }\n",
       "            }, 500);\n",
       "            "
      ],
      "text/plain": [
       "<IPython.core.display.Javascript object>"
      ]
     },
     "metadata": {},
     "output_type": "display_data"
    }
   ],
   "source": [
    "for i in range(0, 4):\n",
    "    try:\n",
    "        print(np.dot(m[0][i], weights[0]) + np.dot(m[0][i + 1], weights[1]))\n",
    "    except:\n",
    "        pass"
   ]
  },
  {
   "cell_type": "markdown",
   "id": "0fd98d2a",
   "metadata": {},
   "source": [
    "# filters: 1\n",
    "# kernel_size: 3\n",
    "# strides: 1"
   ]
  },
  {
   "cell_type": "code",
   "execution_count": 13,
   "id": "97de09f9",
   "metadata": {},
   "outputs": [
    {
     "name": "stdout",
     "output_type": "stream",
     "text": [
      "(1, 4, 3)\n",
      "tf.Tensor(\n",
      "[[[5.040781  ]\n",
      "  [0.02628517]]], shape=(1, 2, 1), dtype=float32)\n"
     ]
    },
    {
     "data": {
      "application/javascript": [
       "\n",
       "            setTimeout(function() {\n",
       "                var nbb_cell_id = 13;\n",
       "                var nbb_unformatted_code = \"c = conv_layer(m, filters=1, kernel_size=3, strides=1)\";\n",
       "                var nbb_formatted_code = \"c = conv_layer(m, filters=1, kernel_size=3, strides=1)\";\n",
       "                var nbb_cells = Jupyter.notebook.get_cells();\n",
       "                for (var i = 0; i < nbb_cells.length; ++i) {\n",
       "                    if (nbb_cells[i].input_prompt_number == nbb_cell_id) {\n",
       "                        if (nbb_cells[i].get_text() == nbb_unformatted_code) {\n",
       "                             nbb_cells[i].set_text(nbb_formatted_code);\n",
       "                        }\n",
       "                        break;\n",
       "                    }\n",
       "                }\n",
       "            }, 500);\n",
       "            "
      ],
      "text/plain": [
       "<IPython.core.display.Javascript object>"
      ]
     },
     "metadata": {},
     "output_type": "display_data"
    }
   ],
   "source": [
    "c = conv_layer(m, filters=1, kernel_size=3, strides=1)"
   ]
  },
  {
   "cell_type": "code",
   "execution_count": 14,
   "id": "f03b0d3a",
   "metadata": {},
   "outputs": [
    {
     "name": "stdout",
     "output_type": "stream",
     "text": [
      "(3, 3, 1)\n"
     ]
    },
    {
     "data": {
      "text/plain": [
       "array([[[ 0.23272598],\n",
       "        [-0.08342904],\n",
       "        [-0.20805556]],\n",
       "\n",
       "       [[-0.05022925],\n",
       "        [-0.65950376],\n",
       "        [ 0.26116616]],\n",
       "\n",
       "       [[ 0.33957738],\n",
       "        [ 0.52671605],\n",
       "        [-0.387033  ]]], dtype=float32)"
      ]
     },
     "execution_count": 14,
     "metadata": {},
     "output_type": "execute_result"
    },
    {
     "data": {
      "application/javascript": [
       "\n",
       "            setTimeout(function() {\n",
       "                var nbb_cell_id = 14;\n",
       "                var nbb_unformatted_code = \"weights = c.weights[0].numpy()\\nprint(weights.shape)\\nweights\";\n",
       "                var nbb_formatted_code = \"weights = c.weights[0].numpy()\\nprint(weights.shape)\\nweights\";\n",
       "                var nbb_cells = Jupyter.notebook.get_cells();\n",
       "                for (var i = 0; i < nbb_cells.length; ++i) {\n",
       "                    if (nbb_cells[i].input_prompt_number == nbb_cell_id) {\n",
       "                        if (nbb_cells[i].get_text() == nbb_unformatted_code) {\n",
       "                             nbb_cells[i].set_text(nbb_formatted_code);\n",
       "                        }\n",
       "                        break;\n",
       "                    }\n",
       "                }\n",
       "            }, 500);\n",
       "            "
      ],
      "text/plain": [
       "<IPython.core.display.Javascript object>"
      ]
     },
     "metadata": {},
     "output_type": "display_data"
    }
   ],
   "source": [
    "weights = c.weights[0].numpy()\n",
    "print(weights.shape)\n",
    "weights"
   ]
  },
  {
   "cell_type": "code",
   "execution_count": 15,
   "id": "9db03304",
   "metadata": {},
   "outputs": [
    {
     "name": "stdout",
     "output_type": "stream",
     "text": [
      "[[[ 1.  1.  1.]\n",
      "  [10. 10. 10.]\n",
      "  [20. 20. 20.]\n",
      "  [20. 20. 20.]]]\n"
     ]
    },
    {
     "data": {
      "application/javascript": [
       "\n",
       "            setTimeout(function() {\n",
       "                var nbb_cell_id = 15;\n",
       "                var nbb_unformatted_code = \"print(m)\";\n",
       "                var nbb_formatted_code = \"print(m)\";\n",
       "                var nbb_cells = Jupyter.notebook.get_cells();\n",
       "                for (var i = 0; i < nbb_cells.length; ++i) {\n",
       "                    if (nbb_cells[i].input_prompt_number == nbb_cell_id) {\n",
       "                        if (nbb_cells[i].get_text() == nbb_unformatted_code) {\n",
       "                             nbb_cells[i].set_text(nbb_formatted_code);\n",
       "                        }\n",
       "                        break;\n",
       "                    }\n",
       "                }\n",
       "            }, 500);\n",
       "            "
      ],
      "text/plain": [
       "<IPython.core.display.Javascript object>"
      ]
     },
     "metadata": {},
     "output_type": "display_data"
    }
   ],
   "source": [
    "print(m)"
   ]
  },
  {
   "cell_type": "code",
   "execution_count": 16,
   "id": "cc19a647",
   "metadata": {},
   "outputs": [
    {
     "name": "stdout",
     "output_type": "stream",
     "text": [
      "[5.04078174]\n",
      "[0.02628565]\n"
     ]
    },
    {
     "data": {
      "application/javascript": [
       "\n",
       "            setTimeout(function() {\n",
       "                var nbb_cell_id = 16;\n",
       "                var nbb_unformatted_code = \"for i in range(0, 4):\\n    try:\\n        print(\\n            np.dot(m[0][i], weights[0])\\n            + np.dot(m[0][i + 1], weights[1])\\n            + np.dot(m[0][i + 2], weights[2])\\n        )\\n    except:\\n        pass\";\n",
       "                var nbb_formatted_code = \"for i in range(0, 4):\\n    try:\\n        print(\\n            np.dot(m[0][i], weights[0])\\n            + np.dot(m[0][i + 1], weights[1])\\n            + np.dot(m[0][i + 2], weights[2])\\n        )\\n    except:\\n        pass\";\n",
       "                var nbb_cells = Jupyter.notebook.get_cells();\n",
       "                for (var i = 0; i < nbb_cells.length; ++i) {\n",
       "                    if (nbb_cells[i].input_prompt_number == nbb_cell_id) {\n",
       "                        if (nbb_cells[i].get_text() == nbb_unformatted_code) {\n",
       "                             nbb_cells[i].set_text(nbb_formatted_code);\n",
       "                        }\n",
       "                        break;\n",
       "                    }\n",
       "                }\n",
       "            }, 500);\n",
       "            "
      ],
      "text/plain": [
       "<IPython.core.display.Javascript object>"
      ]
     },
     "metadata": {},
     "output_type": "display_data"
    }
   ],
   "source": [
    "for i in range(0, 4):\n",
    "    try:\n",
    "        print(\n",
    "            np.dot(m[0][i], weights[0])\n",
    "            + np.dot(m[0][i + 1], weights[1])\n",
    "            + np.dot(m[0][i + 2], weights[2])\n",
    "        )\n",
    "    except:\n",
    "        pass"
   ]
  },
  {
   "cell_type": "markdown",
   "id": "c166fdd7",
   "metadata": {},
   "source": [
    "# filters: 1\n",
    "# kernel_size: 1\n",
    "# strides: 2"
   ]
  },
  {
   "cell_type": "code",
   "execution_count": 17,
   "id": "91431033",
   "metadata": {},
   "outputs": [
    {
     "name": "stdout",
     "output_type": "stream",
     "text": [
      "(1, 4, 3)\n",
      "tf.Tensor(\n",
      "[[[-0.10177284]\n",
      "  [-2.0354564 ]]], shape=(1, 2, 1), dtype=float32)\n"
     ]
    },
    {
     "data": {
      "application/javascript": [
       "\n",
       "            setTimeout(function() {\n",
       "                var nbb_cell_id = 17;\n",
       "                var nbb_unformatted_code = \"c = conv_layer(m, filters=1, kernel_size=1, strides=2)\";\n",
       "                var nbb_formatted_code = \"c = conv_layer(m, filters=1, kernel_size=1, strides=2)\";\n",
       "                var nbb_cells = Jupyter.notebook.get_cells();\n",
       "                for (var i = 0; i < nbb_cells.length; ++i) {\n",
       "                    if (nbb_cells[i].input_prompt_number == nbb_cell_id) {\n",
       "                        if (nbb_cells[i].get_text() == nbb_unformatted_code) {\n",
       "                             nbb_cells[i].set_text(nbb_formatted_code);\n",
       "                        }\n",
       "                        break;\n",
       "                    }\n",
       "                }\n",
       "            }, 500);\n",
       "            "
      ],
      "text/plain": [
       "<IPython.core.display.Javascript object>"
      ]
     },
     "metadata": {},
     "output_type": "display_data"
    }
   ],
   "source": [
    "c = conv_layer(m, filters=1, kernel_size=1, strides=2)"
   ]
  },
  {
   "cell_type": "code",
   "execution_count": 18,
   "id": "b60eacef",
   "metadata": {},
   "outputs": [
    {
     "name": "stdout",
     "output_type": "stream",
     "text": [
      "(1, 3, 1)\n"
     ]
    },
    {
     "data": {
      "text/plain": [
       "array([[[ 0.40309322],\n",
       "        [-0.14450324],\n",
       "        [-0.36036283]]], dtype=float32)"
      ]
     },
     "execution_count": 18,
     "metadata": {},
     "output_type": "execute_result"
    },
    {
     "data": {
      "application/javascript": [
       "\n",
       "            setTimeout(function() {\n",
       "                var nbb_cell_id = 18;\n",
       "                var nbb_unformatted_code = \"weights = c.weights[0].numpy()\\nprint(weights.shape)\\nweights\";\n",
       "                var nbb_formatted_code = \"weights = c.weights[0].numpy()\\nprint(weights.shape)\\nweights\";\n",
       "                var nbb_cells = Jupyter.notebook.get_cells();\n",
       "                for (var i = 0; i < nbb_cells.length; ++i) {\n",
       "                    if (nbb_cells[i].input_prompt_number == nbb_cell_id) {\n",
       "                        if (nbb_cells[i].get_text() == nbb_unformatted_code) {\n",
       "                             nbb_cells[i].set_text(nbb_formatted_code);\n",
       "                        }\n",
       "                        break;\n",
       "                    }\n",
       "                }\n",
       "            }, 500);\n",
       "            "
      ],
      "text/plain": [
       "<IPython.core.display.Javascript object>"
      ]
     },
     "metadata": {},
     "output_type": "display_data"
    }
   ],
   "source": [
    "weights = c.weights[0].numpy()\n",
    "print(weights.shape)\n",
    "weights"
   ]
  },
  {
   "cell_type": "markdown",
   "id": "3c94e675",
   "metadata": {},
   "source": [
    "<div class=\"alert alert-info\">\n",
    "    \n",
    "    \n",
    "It's like the example with `filters:1`, `kernel_size:1`, `strides:1`, but we skip the second and the fourth element\n",
    "    \n",
    "</div>"
   ]
  },
  {
   "cell_type": "markdown",
   "id": "ca1d12e2",
   "metadata": {},
   "source": [
    "# filters: 3\n",
    "# kernel_size: 2\n",
    "# strides: 1"
   ]
  },
  {
   "cell_type": "code",
   "execution_count": 19,
   "id": "4af0d6e1",
   "metadata": {},
   "outputs": [
    {
     "name": "stdout",
     "output_type": "stream",
     "text": [
      "(1, 4, 3)\n",
      "tf.Tensor(\n",
      "[[[ -2.9276524  -9.155239    4.165756 ]\n",
      "  [ -1.6787107 -20.040213    5.6601334]\n",
      "  [  3.5420306 -22.20238     2.3209095]]], shape=(1, 3, 3), dtype=float32)\n"
     ]
    },
    {
     "data": {
      "application/javascript": [
       "\n",
       "            setTimeout(function() {\n",
       "                var nbb_cell_id = 19;\n",
       "                var nbb_unformatted_code = \"c = conv_layer(m, filters=3, kernel_size=2, strides=1)\";\n",
       "                var nbb_formatted_code = \"c = conv_layer(m, filters=3, kernel_size=2, strides=1)\";\n",
       "                var nbb_cells = Jupyter.notebook.get_cells();\n",
       "                for (var i = 0; i < nbb_cells.length; ++i) {\n",
       "                    if (nbb_cells[i].input_prompt_number == nbb_cell_id) {\n",
       "                        if (nbb_cells[i].get_text() == nbb_unformatted_code) {\n",
       "                             nbb_cells[i].set_text(nbb_formatted_code);\n",
       "                        }\n",
       "                        break;\n",
       "                    }\n",
       "                }\n",
       "            }, 500);\n",
       "            "
      ],
      "text/plain": [
       "<IPython.core.display.Javascript object>"
      ]
     },
     "metadata": {},
     "output_type": "display_data"
    }
   ],
   "source": [
    "c = conv_layer(m, filters=3, kernel_size=2, strides=1)"
   ]
  },
  {
   "cell_type": "code",
   "execution_count": 20,
   "id": "826bd2a0",
   "metadata": {},
   "outputs": [
    {
     "name": "stdout",
     "output_type": "stream",
     "text": [
      "(2, 3, 3)\n"
     ]
    },
    {
     "data": {
      "text/plain": [
       "array([[[ 0.23272598, -0.08342904, -0.20805556],\n",
       "        [-0.05022925, -0.65950376,  0.26116616],\n",
       "        [ 0.33957738,  0.52671605, -0.387033  ]],\n",
       "\n",
       "       [[-0.39145875, -0.26815173,  0.3144303 ],\n",
       "        [-0.5187517 ,  0.0679726 ,  0.1055128 ],\n",
       "        [ 0.5652378 , -0.69372314,  0.03002477]]], dtype=float32)"
      ]
     },
     "execution_count": 20,
     "metadata": {},
     "output_type": "execute_result"
    },
    {
     "data": {
      "application/javascript": [
       "\n",
       "            setTimeout(function() {\n",
       "                var nbb_cell_id = 20;\n",
       "                var nbb_unformatted_code = \"# column i  corresponds to filter i\\n\\nweights = c.weights[0].numpy()\\nprint(weights.shape)\\nweights\";\n",
       "                var nbb_formatted_code = \"# column i  corresponds to filter i\\n\\nweights = c.weights[0].numpy()\\nprint(weights.shape)\\nweights\";\n",
       "                var nbb_cells = Jupyter.notebook.get_cells();\n",
       "                for (var i = 0; i < nbb_cells.length; ++i) {\n",
       "                    if (nbb_cells[i].input_prompt_number == nbb_cell_id) {\n",
       "                        if (nbb_cells[i].get_text() == nbb_unformatted_code) {\n",
       "                             nbb_cells[i].set_text(nbb_formatted_code);\n",
       "                        }\n",
       "                        break;\n",
       "                    }\n",
       "                }\n",
       "            }, 500);\n",
       "            "
      ],
      "text/plain": [
       "<IPython.core.display.Javascript object>"
      ]
     },
     "metadata": {},
     "output_type": "display_data"
    }
   ],
   "source": [
    "# column i  corresponds to filter i\n",
    "\n",
    "weights = c.weights[0].numpy()\n",
    "print(weights.shape)\n",
    "weights"
   ]
  },
  {
   "cell_type": "code",
   "execution_count": 21,
   "id": "317b9624",
   "metadata": {},
   "outputs": [
    {
     "name": "stdout",
     "output_type": "stream",
     "text": [
      "[[[ 1.  1.  1.]\n",
      "  [10. 10. 10.]\n",
      "  [20. 20. 20.]\n",
      "  [20. 20. 20.]]]\n"
     ]
    },
    {
     "data": {
      "application/javascript": [
       "\n",
       "            setTimeout(function() {\n",
       "                var nbb_cell_id = 21;\n",
       "                var nbb_unformatted_code = \"print(m)\";\n",
       "                var nbb_formatted_code = \"print(m)\";\n",
       "                var nbb_cells = Jupyter.notebook.get_cells();\n",
       "                for (var i = 0; i < nbb_cells.length; ++i) {\n",
       "                    if (nbb_cells[i].input_prompt_number == nbb_cell_id) {\n",
       "                        if (nbb_cells[i].get_text() == nbb_unformatted_code) {\n",
       "                             nbb_cells[i].set_text(nbb_formatted_code);\n",
       "                        }\n",
       "                        break;\n",
       "                    }\n",
       "                }\n",
       "            }, 500);\n",
       "            "
      ],
      "text/plain": [
       "<IPython.core.display.Javascript object>"
      ]
     },
     "metadata": {},
     "output_type": "display_data"
    }
   ],
   "source": [
    "print(m)"
   ]
  },
  {
   "cell_type": "code",
   "execution_count": 22,
   "id": "ef184e47",
   "metadata": {},
   "outputs": [
    {
     "name": "stdout",
     "output_type": "stream",
     "text": [
      "-2.9276520013809204\n",
      "-1.678711175918579\n",
      "3.542029857635498\n"
     ]
    },
    {
     "data": {
      "application/javascript": [
       "\n",
       "            setTimeout(function() {\n",
       "                var nbb_cell_id = 22;\n",
       "                var nbb_unformatted_code = \"for i in range(0, 4):\\n    try:\\n        print(np.dot(m[0][i], weights[0][:, 0]) + np.dot(m[0][i + 1], weights[1][:, 0]))\\n    except:\\n        pass\";\n",
       "                var nbb_formatted_code = \"for i in range(0, 4):\\n    try:\\n        print(np.dot(m[0][i], weights[0][:, 0]) + np.dot(m[0][i + 1], weights[1][:, 0]))\\n    except:\\n        pass\";\n",
       "                var nbb_cells = Jupyter.notebook.get_cells();\n",
       "                for (var i = 0; i < nbb_cells.length; ++i) {\n",
       "                    if (nbb_cells[i].input_prompt_number == nbb_cell_id) {\n",
       "                        if (nbb_cells[i].get_text() == nbb_unformatted_code) {\n",
       "                             nbb_cells[i].set_text(nbb_formatted_code);\n",
       "                        }\n",
       "                        break;\n",
       "                    }\n",
       "                }\n",
       "            }, 500);\n",
       "            "
      ],
      "text/plain": [
       "<IPython.core.display.Javascript object>"
      ]
     },
     "metadata": {},
     "output_type": "display_data"
    }
   ],
   "source": [
    "for i in range(0, 4):\n",
    "    try:\n",
    "        print(np.dot(m[0][i], weights[0][:, 0]) + np.dot(m[0][i + 1], weights[1][:, 0]))\n",
    "    except:\n",
    "        pass"
   ]
  },
  {
   "cell_type": "markdown",
   "id": "76c9a04d",
   "metadata": {},
   "source": [
    "<div class='alert alert-info'>\n",
    "    \n",
    "    \n",
    "- Shape of filter: (`kernel_size`, `feature_shape (n_cols)`, `n_filters`)\n",
    "- Shape of `Conv1D` output: (`1`, `steps`, `n_filters`), where `steps` is defined below.\n",
    "\n",
    "\n",
    "    \n",
    "</div>"
   ]
  },
  {
   "cell_type": "code",
   "execution_count": 23,
   "id": "f6dd5151",
   "metadata": {},
   "outputs": [
    {
     "data": {
      "application/javascript": [
       "\n",
       "            setTimeout(function() {\n",
       "                var nbb_cell_id = 23;\n",
       "                var nbb_unformatted_code = \"def get_steps(feature_shape: int, kernel_size: int, strides: int) -> int:\\n    steps = 0\\n\\n    if feature_shape < kernel_size:\\n        raise ValueError(\\n            f\\\"kernel size {kernel_size} should be <= feature shape {feature_shape}\\\"\\n        )\\n\\n    for i in range(0, feature_shape, strides):\\n        if i + kernel_size <= feature_shape:\\n            steps += 1\\n    return steps\";\n",
       "                var nbb_formatted_code = \"def get_steps(feature_shape: int, kernel_size: int, strides: int) -> int:\\n    steps = 0\\n\\n    if feature_shape < kernel_size:\\n        raise ValueError(\\n            f\\\"kernel size {kernel_size} should be <= feature shape {feature_shape}\\\"\\n        )\\n\\n    for i in range(0, feature_shape, strides):\\n        if i + kernel_size <= feature_shape:\\n            steps += 1\\n    return steps\";\n",
       "                var nbb_cells = Jupyter.notebook.get_cells();\n",
       "                for (var i = 0; i < nbb_cells.length; ++i) {\n",
       "                    if (nbb_cells[i].input_prompt_number == nbb_cell_id) {\n",
       "                        if (nbb_cells[i].get_text() == nbb_unformatted_code) {\n",
       "                             nbb_cells[i].set_text(nbb_formatted_code);\n",
       "                        }\n",
       "                        break;\n",
       "                    }\n",
       "                }\n",
       "            }, 500);\n",
       "            "
      ],
      "text/plain": [
       "<IPython.core.display.Javascript object>"
      ]
     },
     "metadata": {},
     "output_type": "display_data"
    }
   ],
   "source": [
    "def get_steps(feature_shape: int, kernel_size: int, strides: int) -> int:\n",
    "    steps = 0\n",
    "\n",
    "    if feature_shape < kernel_size:\n",
    "        raise ValueError(\n",
    "            f\"kernel size {kernel_size} should be <= feature shape {feature_shape}\"\n",
    "        )\n",
    "\n",
    "    for i in range(0, feature_shape, strides):\n",
    "        if i + kernel_size <= feature_shape:\n",
    "            steps += 1\n",
    "    return steps"
   ]
  },
  {
   "cell_type": "code",
   "execution_count": 24,
   "id": "c752004d",
   "metadata": {},
   "outputs": [
    {
     "data": {
      "text/plain": [
       "3"
      ]
     },
     "execution_count": 24,
     "metadata": {},
     "output_type": "execute_result"
    },
    {
     "data": {
      "application/javascript": [
       "\n",
       "            setTimeout(function() {\n",
       "                var nbb_cell_id = 24;\n",
       "                var nbb_unformatted_code = \"steps = get_steps(feature_shape=10, kernel_size=5, strides=2)\\nsteps\";\n",
       "                var nbb_formatted_code = \"steps = get_steps(feature_shape=10, kernel_size=5, strides=2)\\nsteps\";\n",
       "                var nbb_cells = Jupyter.notebook.get_cells();\n",
       "                for (var i = 0; i < nbb_cells.length; ++i) {\n",
       "                    if (nbb_cells[i].input_prompt_number == nbb_cell_id) {\n",
       "                        if (nbb_cells[i].get_text() == nbb_unformatted_code) {\n",
       "                             nbb_cells[i].set_text(nbb_formatted_code);\n",
       "                        }\n",
       "                        break;\n",
       "                    }\n",
       "                }\n",
       "            }, 500);\n",
       "            "
      ],
      "text/plain": [
       "<IPython.core.display.Javascript object>"
      ]
     },
     "metadata": {},
     "output_type": "display_data"
    }
   ],
   "source": [
    "steps = get_steps(feature_shape=10, kernel_size=5, strides=2)\n",
    "steps"
   ]
  }
 ],
 "metadata": {
  "kernelspec": {
   "display_name": "Python [conda env:NLP]",
   "language": "python",
   "name": "conda-env-NLP-py"
  },
  "language_info": {
   "codemirror_mode": {
    "name": "ipython",
    "version": 3
   },
   "file_extension": ".py",
   "mimetype": "text/x-python",
   "name": "python",
   "nbconvert_exporter": "python",
   "pygments_lexer": "ipython3",
   "version": "3.10.6"
  }
 },
 "nbformat": 4,
 "nbformat_minor": 5
}
