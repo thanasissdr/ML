{
 "cells": [
  {
   "cell_type": "code",
   "execution_count": 1,
   "id": "b15c0c4e",
   "metadata": {},
   "outputs": [
    {
     "data": {
      "application/javascript": [
       "\n",
       "            setTimeout(function() {\n",
       "                var nbb_cell_id = 1;\n",
       "                var nbb_unformatted_code = \"%load_ext nb_black\";\n",
       "                var nbb_formatted_code = \"%load_ext nb_black\";\n",
       "                var nbb_cells = Jupyter.notebook.get_cells();\n",
       "                for (var i = 0; i < nbb_cells.length; ++i) {\n",
       "                    if (nbb_cells[i].input_prompt_number == nbb_cell_id) {\n",
       "                        if (nbb_cells[i].get_text() == nbb_unformatted_code) {\n",
       "                             nbb_cells[i].set_text(nbb_formatted_code);\n",
       "                        }\n",
       "                        break;\n",
       "                    }\n",
       "                }\n",
       "            }, 500);\n",
       "            "
      ],
      "text/plain": [
       "<IPython.core.display.Javascript object>"
      ]
     },
     "metadata": {},
     "output_type": "display_data"
    }
   ],
   "source": [
    "%load_ext nb_black"
   ]
  },
  {
   "cell_type": "code",
   "execution_count": 28,
   "id": "065cf413",
   "metadata": {},
   "outputs": [
    {
     "data": {
      "application/javascript": [
       "\n",
       "            setTimeout(function() {\n",
       "                var nbb_cell_id = 28;\n",
       "                var nbb_unformatted_code = \"import numpy as np\\nimport tensorflow as tf\\n\\n\\nfrom tensorflow.keras.layers import (\\n    Dense,\\n    Conv1D,\\n    Conv2D,\\n    GlobalAveragePooling1D,\\n    MaxPooling1D,\\n    MaxPooling2D,\\n)\\nfrom tensorflow.keras.models import Sequential\\n\\n\\nfrom tensorflow.keras.utils import set_random_seed\";\n",
       "                var nbb_formatted_code = \"import numpy as np\\nimport tensorflow as tf\\n\\n\\nfrom tensorflow.keras.layers import (\\n    Dense,\\n    Conv1D,\\n    Conv2D,\\n    GlobalAveragePooling1D,\\n    MaxPooling1D,\\n    MaxPooling2D,\\n)\\nfrom tensorflow.keras.models import Sequential\\n\\n\\nfrom tensorflow.keras.utils import set_random_seed\";\n",
       "                var nbb_cells = Jupyter.notebook.get_cells();\n",
       "                for (var i = 0; i < nbb_cells.length; ++i) {\n",
       "                    if (nbb_cells[i].input_prompt_number == nbb_cell_id) {\n",
       "                        if (nbb_cells[i].get_text() == nbb_unformatted_code) {\n",
       "                             nbb_cells[i].set_text(nbb_formatted_code);\n",
       "                        }\n",
       "                        break;\n",
       "                    }\n",
       "                }\n",
       "            }, 500);\n",
       "            "
      ],
      "text/plain": [
       "<IPython.core.display.Javascript object>"
      ]
     },
     "metadata": {},
     "output_type": "display_data"
    }
   ],
   "source": [
    "import numpy as np\n",
    "import tensorflow as tf\n",
    "\n",
    "\n",
    "from tensorflow.keras.layers import (\n",
    "    Dense,\n",
    "    Conv1D,\n",
    "    Conv2D,\n",
    "    GlobalAveragePooling1D,\n",
    "    MaxPooling1D,\n",
    "    MaxPooling2D,\n",
    ")\n",
    "from tensorflow.keras.models import Sequential\n",
    "\n",
    "\n",
    "from tensorflow.keras.utils import set_random_seed\n"
   ]
  },
  {
   "cell_type": "markdown",
   "id": "077c0a13",
   "metadata": {},
   "source": [
    "# Testing Convolution Layer"
   ]
  },
  {
   "cell_type": "code",
   "execution_count": 3,
   "id": "16bfd23b",
   "metadata": {},
   "outputs": [
    {
     "data": {
      "application/javascript": [
       "\n",
       "            setTimeout(function() {\n",
       "                var nbb_cell_id = 3;\n",
       "                var nbb_unformatted_code = \"m = np.array([[[1, 1, 1], [10, 10, 10], [20, 20, 20], [20, 20, 20]]], dtype=\\\"float\\\")\\n\\n\\ndef conv_layer(m, filters: int, kernel_size: int, strides: int) -> Conv1D:\\n    set_random_seed(42)\\n\\n    c = Conv1D(\\n        filters=filters,\\n        kernel_size=kernel_size,\\n        strides=strides,\\n        name=\\\"conv_1d\\\",\\n        use_bias=False,\\n    )\\n\\n    print(m.shape)\\n    print(c.__call__(m))\\n    return c\";\n",
       "                var nbb_formatted_code = \"m = np.array([[[1, 1, 1], [10, 10, 10], [20, 20, 20], [20, 20, 20]]], dtype=\\\"float\\\")\\n\\n\\ndef conv_layer(m, filters: int, kernel_size: int, strides: int) -> Conv1D:\\n    set_random_seed(42)\\n\\n    c = Conv1D(\\n        filters=filters,\\n        kernel_size=kernel_size,\\n        strides=strides,\\n        name=\\\"conv_1d\\\",\\n        use_bias=False,\\n    )\\n\\n    print(m.shape)\\n    print(c.__call__(m))\\n    return c\";\n",
       "                var nbb_cells = Jupyter.notebook.get_cells();\n",
       "                for (var i = 0; i < nbb_cells.length; ++i) {\n",
       "                    if (nbb_cells[i].input_prompt_number == nbb_cell_id) {\n",
       "                        if (nbb_cells[i].get_text() == nbb_unformatted_code) {\n",
       "                             nbb_cells[i].set_text(nbb_formatted_code);\n",
       "                        }\n",
       "                        break;\n",
       "                    }\n",
       "                }\n",
       "            }, 500);\n",
       "            "
      ],
      "text/plain": [
       "<IPython.core.display.Javascript object>"
      ]
     },
     "metadata": {},
     "output_type": "display_data"
    }
   ],
   "source": [
    "m = np.array([[[1, 1, 1], [10, 10, 10], [20, 20, 20], [20, 20, 20]]], dtype=\"float\")\n",
    "\n",
    "\n",
    "def conv_layer(m, filters: int, kernel_size: int, strides: int) -> Conv1D:\n",
    "    set_random_seed(42)\n",
    "\n",
    "    c = Conv1D(\n",
    "        filters=filters,\n",
    "        kernel_size=kernel_size,\n",
    "        strides=strides,\n",
    "        name=\"conv_1d\",\n",
    "        use_bias=False,\n",
    "    )\n",
    "\n",
    "    print(m.shape)\n",
    "    print(c.__call__(m))\n",
    "    return c"
   ]
  },
  {
   "cell_type": "markdown",
   "id": "feceba5f",
   "metadata": {},
   "source": [
    "## filters: 1\n",
    "## kernel_size: 1\n",
    "## strides: 1"
   ]
  },
  {
   "cell_type": "code",
   "execution_count": 4,
   "id": "819e243e",
   "metadata": {},
   "outputs": [
    {
     "name": "stdout",
     "output_type": "stream",
     "text": [
      "(1, 4, 3)\n",
      "tf.Tensor(\n",
      "[[[ 0.92965084]\n",
      "  [ 9.296509  ]\n",
      "  [18.593018  ]\n",
      "  [18.593018  ]]], shape=(1, 4, 1), dtype=float32)\n"
     ]
    },
    {
     "data": {
      "application/javascript": [
       "\n",
       "            setTimeout(function() {\n",
       "                var nbb_cell_id = 4;\n",
       "                var nbb_unformatted_code = \"c = conv_layer(m, filters=1, kernel_size=1, strides=1)\";\n",
       "                var nbb_formatted_code = \"c = conv_layer(m, filters=1, kernel_size=1, strides=1)\";\n",
       "                var nbb_cells = Jupyter.notebook.get_cells();\n",
       "                for (var i = 0; i < nbb_cells.length; ++i) {\n",
       "                    if (nbb_cells[i].input_prompt_number == nbb_cell_id) {\n",
       "                        if (nbb_cells[i].get_text() == nbb_unformatted_code) {\n",
       "                             nbb_cells[i].set_text(nbb_formatted_code);\n",
       "                        }\n",
       "                        break;\n",
       "                    }\n",
       "                }\n",
       "            }, 500);\n",
       "            "
      ],
      "text/plain": [
       "<IPython.core.display.Javascript object>"
      ]
     },
     "metadata": {},
     "output_type": "display_data"
    }
   ],
   "source": [
    "c = conv_layer(m, filters=1, kernel_size=1, strides=1)"
   ]
  },
  {
   "cell_type": "code",
   "execution_count": 5,
   "id": "85b4efc1",
   "metadata": {},
   "outputs": [
    {
     "name": "stdout",
     "output_type": "stream",
     "text": [
      "(1, 3, 1)\n"
     ]
    },
    {
     "data": {
      "text/plain": [
       "array([[[ 0.8773805 ],\n",
       "        [ 0.3983569 ],\n",
       "        [-0.34608656]]], dtype=float32)"
      ]
     },
     "execution_count": 5,
     "metadata": {},
     "output_type": "execute_result"
    },
    {
     "data": {
      "application/javascript": [
       "\n",
       "            setTimeout(function() {\n",
       "                var nbb_cell_id = 5;\n",
       "                var nbb_unformatted_code = \"# column i corresponds to filter i\\n\\nweights = c.weights[0].numpy()\\nprint(weights.shape)\\nweights\";\n",
       "                var nbb_formatted_code = \"# column i corresponds to filter i\\n\\nweights = c.weights[0].numpy()\\nprint(weights.shape)\\nweights\";\n",
       "                var nbb_cells = Jupyter.notebook.get_cells();\n",
       "                for (var i = 0; i < nbb_cells.length; ++i) {\n",
       "                    if (nbb_cells[i].input_prompt_number == nbb_cell_id) {\n",
       "                        if (nbb_cells[i].get_text() == nbb_unformatted_code) {\n",
       "                             nbb_cells[i].set_text(nbb_formatted_code);\n",
       "                        }\n",
       "                        break;\n",
       "                    }\n",
       "                }\n",
       "            }, 500);\n",
       "            "
      ],
      "text/plain": [
       "<IPython.core.display.Javascript object>"
      ]
     },
     "metadata": {},
     "output_type": "display_data"
    }
   ],
   "source": [
    "# column i corresponds to filter i\n",
    "\n",
    "weights = c.weights[0].numpy()\n",
    "print(weights.shape)\n",
    "weights"
   ]
  },
  {
   "cell_type": "code",
   "execution_count": 6,
   "id": "b7f5b1c6",
   "metadata": {},
   "outputs": [
    {
     "name": "stdout",
     "output_type": "stream",
     "text": [
      "[0.92965084]\n",
      "[9.29650843]\n",
      "[18.59301686]\n",
      "[18.59301686]\n"
     ]
    },
    {
     "data": {
      "application/javascript": [
       "\n",
       "            setTimeout(function() {\n",
       "                var nbb_cell_id = 6;\n",
       "                var nbb_unformatted_code = \"for i in range(0, m.shape[1]):\\n    a = np.dot(m[0][i], weights[0])\\n    print(a)\";\n",
       "                var nbb_formatted_code = \"for i in range(0, m.shape[1]):\\n    a = np.dot(m[0][i], weights[0])\\n    print(a)\";\n",
       "                var nbb_cells = Jupyter.notebook.get_cells();\n",
       "                for (var i = 0; i < nbb_cells.length; ++i) {\n",
       "                    if (nbb_cells[i].input_prompt_number == nbb_cell_id) {\n",
       "                        if (nbb_cells[i].get_text() == nbb_unformatted_code) {\n",
       "                             nbb_cells[i].set_text(nbb_formatted_code);\n",
       "                        }\n",
       "                        break;\n",
       "                    }\n",
       "                }\n",
       "            }, 500);\n",
       "            "
      ],
      "text/plain": [
       "<IPython.core.display.Javascript object>"
      ]
     },
     "metadata": {},
     "output_type": "display_data"
    }
   ],
   "source": [
    "for i in range(0, m.shape[1]):\n",
    "    a = np.dot(m[0][i], weights[0])\n",
    "    print(a)"
   ]
  },
  {
   "cell_type": "markdown",
   "id": "622672f0",
   "metadata": {},
   "source": [
    "## filters: 2\n",
    "## kernel_size: 1\n",
    "## strides: 1"
   ]
  },
  {
   "cell_type": "code",
   "execution_count": 7,
   "id": "43ea3682",
   "metadata": {},
   "outputs": [
    {
     "name": "stdout",
     "output_type": "stream",
     "text": [
      "(1, 4, 3)\n",
      "tf.Tensor(\n",
      "[[[-0.44921798  1.6759224 ]\n",
      "  [-4.4921794  16.759224  ]\n",
      "  [-8.984359   33.518448  ]\n",
      "  [-8.984359   33.518448  ]]], shape=(1, 4, 2), dtype=float32)\n"
     ]
    },
    {
     "data": {
      "application/javascript": [
       "\n",
       "            setTimeout(function() {\n",
       "                var nbb_cell_id = 7;\n",
       "                var nbb_unformatted_code = \"c = conv_layer(m, filters=2, kernel_size=1, strides=1)\";\n",
       "                var nbb_formatted_code = \"c = conv_layer(m, filters=2, kernel_size=1, strides=1)\";\n",
       "                var nbb_cells = Jupyter.notebook.get_cells();\n",
       "                for (var i = 0; i < nbb_cells.length; ++i) {\n",
       "                    if (nbb_cells[i].input_prompt_number == nbb_cell_id) {\n",
       "                        if (nbb_cells[i].get_text() == nbb_unformatted_code) {\n",
       "                             nbb_cells[i].set_text(nbb_formatted_code);\n",
       "                        }\n",
       "                        break;\n",
       "                    }\n",
       "                }\n",
       "            }, 500);\n",
       "            "
      ],
      "text/plain": [
       "<IPython.core.display.Javascript object>"
      ]
     },
     "metadata": {},
     "output_type": "display_data"
    }
   ],
   "source": [
    "c = conv_layer(m, filters=2, kernel_size=1, strides=1)"
   ]
  },
  {
   "cell_type": "code",
   "execution_count": 8,
   "id": "415477d0",
   "metadata": {},
   "outputs": [
    {
     "name": "stdout",
     "output_type": "stream",
     "text": [
      "(1, 3, 2)\n"
     ]
    },
    {
     "data": {
      "text/plain": [
       "array([[[ 0.7847531 ,  0.3563013 ],\n",
       "        [-0.3095492 ,  0.98587775],\n",
       "        [-0.92442185,  0.33374333]]], dtype=float32)"
      ]
     },
     "execution_count": 8,
     "metadata": {},
     "output_type": "execute_result"
    },
    {
     "data": {
      "application/javascript": [
       "\n",
       "            setTimeout(function() {\n",
       "                var nbb_cell_id = 8;\n",
       "                var nbb_unformatted_code = \"# column i corresponds to filter i\\nweights = c.weights[0].numpy()\\nprint(weights.shape)\\nweights\";\n",
       "                var nbb_formatted_code = \"# column i corresponds to filter i\\nweights = c.weights[0].numpy()\\nprint(weights.shape)\\nweights\";\n",
       "                var nbb_cells = Jupyter.notebook.get_cells();\n",
       "                for (var i = 0; i < nbb_cells.length; ++i) {\n",
       "                    if (nbb_cells[i].input_prompt_number == nbb_cell_id) {\n",
       "                        if (nbb_cells[i].get_text() == nbb_unformatted_code) {\n",
       "                             nbb_cells[i].set_text(nbb_formatted_code);\n",
       "                        }\n",
       "                        break;\n",
       "                    }\n",
       "                }\n",
       "            }, 500);\n",
       "            "
      ],
      "text/plain": [
       "<IPython.core.display.Javascript object>"
      ]
     },
     "metadata": {},
     "output_type": "display_data"
    }
   ],
   "source": [
    "# column i corresponds to filter i\n",
    "weights = c.weights[0].numpy()\n",
    "print(weights.shape)\n",
    "weights"
   ]
  },
  {
   "cell_type": "code",
   "execution_count": 9,
   "id": "ce18072b",
   "metadata": {},
   "outputs": [
    {
     "name": "stdout",
     "output_type": "stream",
     "text": [
      "first_filter\n",
      "\n",
      "[-0.44921798]\n",
      "[-4.49217975]\n",
      "[-8.9843595]\n",
      "[-8.9843595]\n",
      "\n",
      "second_filter\n",
      "\n",
      "[1.67592239]\n",
      "[16.75922394]\n",
      "[33.51844788]\n",
      "[33.51844788]\n"
     ]
    },
    {
     "data": {
      "application/javascript": [
       "\n",
       "            setTimeout(function() {\n",
       "                var nbb_cell_id = 9;\n",
       "                var nbb_unformatted_code = \"first_filter = weights[:, :, 0].reshape(-1, 1)\\nsecond_filter = weights[:, :, 1].reshape(-1, 1)\\n\\n# first filter\\nprint(f\\\"first_filter\\\\n\\\")\\nfor i in range(4):\\n    print(np.dot(m[0][i], first_filter))\\n\\n\\n# second filter\\nprint(f\\\"\\\\nsecond_filter\\\\n\\\")\\nfor i in range(4):\\n    print(np.dot(m[0][i], second_filter))\";\n",
       "                var nbb_formatted_code = \"first_filter = weights[:, :, 0].reshape(-1, 1)\\nsecond_filter = weights[:, :, 1].reshape(-1, 1)\\n\\n# first filter\\nprint(f\\\"first_filter\\\\n\\\")\\nfor i in range(4):\\n    print(np.dot(m[0][i], first_filter))\\n\\n\\n# second filter\\nprint(f\\\"\\\\nsecond_filter\\\\n\\\")\\nfor i in range(4):\\n    print(np.dot(m[0][i], second_filter))\";\n",
       "                var nbb_cells = Jupyter.notebook.get_cells();\n",
       "                for (var i = 0; i < nbb_cells.length; ++i) {\n",
       "                    if (nbb_cells[i].input_prompt_number == nbb_cell_id) {\n",
       "                        if (nbb_cells[i].get_text() == nbb_unformatted_code) {\n",
       "                             nbb_cells[i].set_text(nbb_formatted_code);\n",
       "                        }\n",
       "                        break;\n",
       "                    }\n",
       "                }\n",
       "            }, 500);\n",
       "            "
      ],
      "text/plain": [
       "<IPython.core.display.Javascript object>"
      ]
     },
     "metadata": {},
     "output_type": "display_data"
    }
   ],
   "source": [
    "first_filter = weights[:, :, 0].reshape(-1, 1)\n",
    "second_filter = weights[:, :, 1].reshape(-1, 1)\n",
    "\n",
    "# first filter\n",
    "print(f\"first_filter\\n\")\n",
    "for i in range(4):\n",
    "    print(np.dot(m[0][i], first_filter))\n",
    "\n",
    "\n",
    "# second filter\n",
    "print(f\"\\nsecond_filter\\n\")\n",
    "for i in range(4):\n",
    "    print(np.dot(m[0][i], second_filter))\n"
   ]
  },
  {
   "cell_type": "markdown",
   "id": "266bc344",
   "metadata": {},
   "source": [
    "# filters: 1\n",
    "# kernel_size: 2\n",
    "# strides: 1"
   ]
  },
  {
   "cell_type": "code",
   "execution_count": 10,
   "id": "4c34506a",
   "metadata": {},
   "outputs": [
    {
     "name": "stdout",
     "output_type": "stream",
     "text": [
      "(1, 4, 3)\n",
      "tf.Tensor(\n",
      "[[[ 3.7816882]\n",
      "  [12.822274 ]\n",
      "  [19.3959   ]]], shape=(1, 3, 1), dtype=float32)\n"
     ]
    },
    {
     "data": {
      "application/javascript": [
       "\n",
       "            setTimeout(function() {\n",
       "                var nbb_cell_id = 10;\n",
       "                var nbb_unformatted_code = \"c = conv_layer(m, filters=1, kernel_size=2, strides=1)\";\n",
       "                var nbb_formatted_code = \"c = conv_layer(m, filters=1, kernel_size=2, strides=1)\";\n",
       "                var nbb_cells = Jupyter.notebook.get_cells();\n",
       "                for (var i = 0; i < nbb_cells.length; ++i) {\n",
       "                    if (nbb_cells[i].input_prompt_number == nbb_cell_id) {\n",
       "                        if (nbb_cells[i].get_text() == nbb_unformatted_code) {\n",
       "                             nbb_cells[i].set_text(nbb_formatted_code);\n",
       "                        }\n",
       "                        break;\n",
       "                    }\n",
       "                }\n",
       "            }, 500);\n",
       "            "
      ],
      "text/plain": [
       "<IPython.core.display.Javascript object>"
      ]
     },
     "metadata": {},
     "output_type": "display_data"
    }
   ],
   "source": [
    "c = conv_layer(m, filters=1, kernel_size=2, strides=1)"
   ]
  },
  {
   "cell_type": "code",
   "execution_count": 11,
   "id": "9048f4b5",
   "metadata": {},
   "outputs": [
    {
     "name": "stdout",
     "output_type": "stream",
     "text": [
      "(2, 3, 1)\n"
     ]
    },
    {
     "data": {
      "text/plain": [
       "array([[[ 0.6204017 ],\n",
       "        [ 0.28168088],\n",
       "        [-0.2447201 ]],\n",
       "\n",
       "       [[ 0.7794048 ],\n",
       "        [-0.7308196 ],\n",
       "        [ 0.2638473 ]]], dtype=float32)"
      ]
     },
     "execution_count": 11,
     "metadata": {},
     "output_type": "execute_result"
    },
    {
     "data": {
      "application/javascript": [
       "\n",
       "            setTimeout(function() {\n",
       "                var nbb_cell_id = 11;\n",
       "                var nbb_unformatted_code = \"weights = c.weights[0].numpy()\\nprint(weights.shape)\\nweights\";\n",
       "                var nbb_formatted_code = \"weights = c.weights[0].numpy()\\nprint(weights.shape)\\nweights\";\n",
       "                var nbb_cells = Jupyter.notebook.get_cells();\n",
       "                for (var i = 0; i < nbb_cells.length; ++i) {\n",
       "                    if (nbb_cells[i].input_prompt_number == nbb_cell_id) {\n",
       "                        if (nbb_cells[i].get_text() == nbb_unformatted_code) {\n",
       "                             nbb_cells[i].set_text(nbb_formatted_code);\n",
       "                        }\n",
       "                        break;\n",
       "                    }\n",
       "                }\n",
       "            }, 500);\n",
       "            "
      ],
      "text/plain": [
       "<IPython.core.display.Javascript object>"
      ]
     },
     "metadata": {},
     "output_type": "display_data"
    }
   ],
   "source": [
    "weights = c.weights[0].numpy()\n",
    "print(weights.shape)\n",
    "weights"
   ]
  },
  {
   "cell_type": "code",
   "execution_count": 12,
   "id": "aa579727",
   "metadata": {},
   "outputs": [
    {
     "name": "stdout",
     "output_type": "stream",
     "text": [
      "[3.78168774]\n",
      "[12.82227516]\n",
      "[19.39589977]\n"
     ]
    },
    {
     "data": {
      "application/javascript": [
       "\n",
       "            setTimeout(function() {\n",
       "                var nbb_cell_id = 12;\n",
       "                var nbb_unformatted_code = \"for i in range(0, 4):\\n    try:\\n        print(np.dot(m[0][i], weights[0]) + np.dot(m[0][i + 1], weights[1]))\\n    except:\\n        pass\";\n",
       "                var nbb_formatted_code = \"for i in range(0, 4):\\n    try:\\n        print(np.dot(m[0][i], weights[0]) + np.dot(m[0][i + 1], weights[1]))\\n    except:\\n        pass\";\n",
       "                var nbb_cells = Jupyter.notebook.get_cells();\n",
       "                for (var i = 0; i < nbb_cells.length; ++i) {\n",
       "                    if (nbb_cells[i].input_prompt_number == nbb_cell_id) {\n",
       "                        if (nbb_cells[i].get_text() == nbb_unformatted_code) {\n",
       "                             nbb_cells[i].set_text(nbb_formatted_code);\n",
       "                        }\n",
       "                        break;\n",
       "                    }\n",
       "                }\n",
       "            }, 500);\n",
       "            "
      ],
      "text/plain": [
       "<IPython.core.display.Javascript object>"
      ]
     },
     "metadata": {},
     "output_type": "display_data"
    }
   ],
   "source": [
    "for i in range(0, 4):\n",
    "    try:\n",
    "        print(np.dot(m[0][i], weights[0]) + np.dot(m[0][i + 1], weights[1]))\n",
    "    except:\n",
    "        pass"
   ]
  },
  {
   "cell_type": "markdown",
   "id": "0fd98d2a",
   "metadata": {},
   "source": [
    "# filters: 1\n",
    "# kernel_size: 3\n",
    "# strides: 1"
   ]
  },
  {
   "cell_type": "code",
   "execution_count": 13,
   "id": "97de09f9",
   "metadata": {},
   "outputs": [
    {
     "name": "stdout",
     "output_type": "stream",
     "text": [
      "(1, 4, 3)\n",
      "tf.Tensor(\n",
      "[[[ 7.675482]\n",
      "  [15.057091]]], shape=(1, 2, 1), dtype=float32)\n"
     ]
    },
    {
     "data": {
      "application/javascript": [
       "\n",
       "            setTimeout(function() {\n",
       "                var nbb_cell_id = 13;\n",
       "                var nbb_unformatted_code = \"c = conv_layer(m, filters=1, kernel_size=3, strides=1)\";\n",
       "                var nbb_formatted_code = \"c = conv_layer(m, filters=1, kernel_size=3, strides=1)\";\n",
       "                var nbb_cells = Jupyter.notebook.get_cells();\n",
       "                for (var i = 0; i < nbb_cells.length; ++i) {\n",
       "                    if (nbb_cells[i].input_prompt_number == nbb_cell_id) {\n",
       "                        if (nbb_cells[i].get_text() == nbb_unformatted_code) {\n",
       "                             nbb_cells[i].set_text(nbb_formatted_code);\n",
       "                        }\n",
       "                        break;\n",
       "                    }\n",
       "                }\n",
       "            }, 500);\n",
       "            "
      ],
      "text/plain": [
       "<IPython.core.display.Javascript object>"
      ]
     },
     "metadata": {},
     "output_type": "display_data"
    }
   ],
   "source": [
    "c = conv_layer(m, filters=1, kernel_size=3, strides=1)"
   ]
  },
  {
   "cell_type": "code",
   "execution_count": 14,
   "id": "f03b0d3a",
   "metadata": {},
   "outputs": [
    {
     "name": "stdout",
     "output_type": "stream",
     "text": [
      "(3, 3, 1)\n"
     ]
    },
    {
     "data": {
      "text/plain": [
       "array([[[ 0.50655586],\n",
       "        [ 0.2299915 ],\n",
       "        [-0.19981313]],\n",
       "\n",
       "       [[ 0.6363813 ],\n",
       "        [-0.5967117 ],\n",
       "        [ 0.21543044]],\n",
       "\n",
       "       [[ 0.66538733],\n",
       "        [-0.46964318],\n",
       "        [ 0.03364313]]], dtype=float32)"
      ]
     },
     "execution_count": 14,
     "metadata": {},
     "output_type": "execute_result"
    },
    {
     "data": {
      "application/javascript": [
       "\n",
       "            setTimeout(function() {\n",
       "                var nbb_cell_id = 14;\n",
       "                var nbb_unformatted_code = \"weights = c.weights[0].numpy()\\nprint(weights.shape)\\nweights\";\n",
       "                var nbb_formatted_code = \"weights = c.weights[0].numpy()\\nprint(weights.shape)\\nweights\";\n",
       "                var nbb_cells = Jupyter.notebook.get_cells();\n",
       "                for (var i = 0; i < nbb_cells.length; ++i) {\n",
       "                    if (nbb_cells[i].input_prompt_number == nbb_cell_id) {\n",
       "                        if (nbb_cells[i].get_text() == nbb_unformatted_code) {\n",
       "                             nbb_cells[i].set_text(nbb_formatted_code);\n",
       "                        }\n",
       "                        break;\n",
       "                    }\n",
       "                }\n",
       "            }, 500);\n",
       "            "
      ],
      "text/plain": [
       "<IPython.core.display.Javascript object>"
      ]
     },
     "metadata": {},
     "output_type": "display_data"
    }
   ],
   "source": [
    "weights = c.weights[0].numpy()\n",
    "print(weights.shape)\n",
    "weights"
   ]
  },
  {
   "cell_type": "code",
   "execution_count": 15,
   "id": "9db03304",
   "metadata": {},
   "outputs": [
    {
     "name": "stdout",
     "output_type": "stream",
     "text": [
      "[[[ 1.  1.  1.]\n",
      "  [10. 10. 10.]\n",
      "  [20. 20. 20.]\n",
      "  [20. 20. 20.]]]\n"
     ]
    },
    {
     "data": {
      "application/javascript": [
       "\n",
       "            setTimeout(function() {\n",
       "                var nbb_cell_id = 15;\n",
       "                var nbb_unformatted_code = \"print(m)\";\n",
       "                var nbb_formatted_code = \"print(m)\";\n",
       "                var nbb_cells = Jupyter.notebook.get_cells();\n",
       "                for (var i = 0; i < nbb_cells.length; ++i) {\n",
       "                    if (nbb_cells[i].input_prompt_number == nbb_cell_id) {\n",
       "                        if (nbb_cells[i].get_text() == nbb_unformatted_code) {\n",
       "                             nbb_cells[i].set_text(nbb_formatted_code);\n",
       "                        }\n",
       "                        break;\n",
       "                    }\n",
       "                }\n",
       "            }, 500);\n",
       "            "
      ],
      "text/plain": [
       "<IPython.core.display.Javascript object>"
      ]
     },
     "metadata": {},
     "output_type": "display_data"
    }
   ],
   "source": [
    "print(m)"
   ]
  },
  {
   "cell_type": "code",
   "execution_count": 16,
   "id": "cc19a647",
   "metadata": {},
   "outputs": [
    {
     "name": "stdout",
     "output_type": "stream",
     "text": [
      "[7.6754806]\n",
      "[15.05708933]\n"
     ]
    },
    {
     "data": {
      "application/javascript": [
       "\n",
       "            setTimeout(function() {\n",
       "                var nbb_cell_id = 16;\n",
       "                var nbb_unformatted_code = \"for i in range(0, 4):\\n    try:\\n        print(\\n            np.dot(m[0][i], weights[0])\\n            + np.dot(m[0][i + 1], weights[1])\\n            + np.dot(m[0][i + 2], weights[2])\\n        )\\n    except:\\n        pass\";\n",
       "                var nbb_formatted_code = \"for i in range(0, 4):\\n    try:\\n        print(\\n            np.dot(m[0][i], weights[0])\\n            + np.dot(m[0][i + 1], weights[1])\\n            + np.dot(m[0][i + 2], weights[2])\\n        )\\n    except:\\n        pass\";\n",
       "                var nbb_cells = Jupyter.notebook.get_cells();\n",
       "                for (var i = 0; i < nbb_cells.length; ++i) {\n",
       "                    if (nbb_cells[i].input_prompt_number == nbb_cell_id) {\n",
       "                        if (nbb_cells[i].get_text() == nbb_unformatted_code) {\n",
       "                             nbb_cells[i].set_text(nbb_formatted_code);\n",
       "                        }\n",
       "                        break;\n",
       "                    }\n",
       "                }\n",
       "            }, 500);\n",
       "            "
      ],
      "text/plain": [
       "<IPython.core.display.Javascript object>"
      ]
     },
     "metadata": {},
     "output_type": "display_data"
    }
   ],
   "source": [
    "for i in range(0, 4):\n",
    "    try:\n",
    "        print(\n",
    "            np.dot(m[0][i], weights[0])\n",
    "            + np.dot(m[0][i + 1], weights[1])\n",
    "            + np.dot(m[0][i + 2], weights[2])\n",
    "        )\n",
    "    except:\n",
    "        pass"
   ]
  },
  {
   "cell_type": "markdown",
   "id": "c166fdd7",
   "metadata": {},
   "source": [
    "# filters: 1\n",
    "# kernel_size: 1\n",
    "# strides: 2"
   ]
  },
  {
   "cell_type": "code",
   "execution_count": 17,
   "id": "91431033",
   "metadata": {},
   "outputs": [
    {
     "name": "stdout",
     "output_type": "stream",
     "text": [
      "(1, 4, 3)\n",
      "tf.Tensor(\n",
      "[[[ 0.92965084]\n",
      "  [18.593018  ]]], shape=(1, 2, 1), dtype=float32)\n"
     ]
    },
    {
     "data": {
      "application/javascript": [
       "\n",
       "            setTimeout(function() {\n",
       "                var nbb_cell_id = 17;\n",
       "                var nbb_unformatted_code = \"c = conv_layer(m, filters=1, kernel_size=1, strides=2)\";\n",
       "                var nbb_formatted_code = \"c = conv_layer(m, filters=1, kernel_size=1, strides=2)\";\n",
       "                var nbb_cells = Jupyter.notebook.get_cells();\n",
       "                for (var i = 0; i < nbb_cells.length; ++i) {\n",
       "                    if (nbb_cells[i].input_prompt_number == nbb_cell_id) {\n",
       "                        if (nbb_cells[i].get_text() == nbb_unformatted_code) {\n",
       "                             nbb_cells[i].set_text(nbb_formatted_code);\n",
       "                        }\n",
       "                        break;\n",
       "                    }\n",
       "                }\n",
       "            }, 500);\n",
       "            "
      ],
      "text/plain": [
       "<IPython.core.display.Javascript object>"
      ]
     },
     "metadata": {},
     "output_type": "display_data"
    }
   ],
   "source": [
    "c = conv_layer(m, filters=1, kernel_size=1, strides=2)"
   ]
  },
  {
   "cell_type": "code",
   "execution_count": 18,
   "id": "b60eacef",
   "metadata": {},
   "outputs": [
    {
     "name": "stdout",
     "output_type": "stream",
     "text": [
      "(1, 3, 1)\n"
     ]
    },
    {
     "data": {
      "text/plain": [
       "array([[[ 0.8773805 ],\n",
       "        [ 0.3983569 ],\n",
       "        [-0.34608656]]], dtype=float32)"
      ]
     },
     "execution_count": 18,
     "metadata": {},
     "output_type": "execute_result"
    },
    {
     "data": {
      "application/javascript": [
       "\n",
       "            setTimeout(function() {\n",
       "                var nbb_cell_id = 18;\n",
       "                var nbb_unformatted_code = \"weights = c.weights[0].numpy()\\nprint(weights.shape)\\nweights\";\n",
       "                var nbb_formatted_code = \"weights = c.weights[0].numpy()\\nprint(weights.shape)\\nweights\";\n",
       "                var nbb_cells = Jupyter.notebook.get_cells();\n",
       "                for (var i = 0; i < nbb_cells.length; ++i) {\n",
       "                    if (nbb_cells[i].input_prompt_number == nbb_cell_id) {\n",
       "                        if (nbb_cells[i].get_text() == nbb_unformatted_code) {\n",
       "                             nbb_cells[i].set_text(nbb_formatted_code);\n",
       "                        }\n",
       "                        break;\n",
       "                    }\n",
       "                }\n",
       "            }, 500);\n",
       "            "
      ],
      "text/plain": [
       "<IPython.core.display.Javascript object>"
      ]
     },
     "metadata": {},
     "output_type": "display_data"
    }
   ],
   "source": [
    "weights = c.weights[0].numpy()\n",
    "print(weights.shape)\n",
    "weights"
   ]
  },
  {
   "cell_type": "markdown",
   "id": "3c94e675",
   "metadata": {},
   "source": [
    "<div class=\"alert alert-info\">\n",
    "    \n",
    "    \n",
    "It's like the example with `filters:1`, `kernel_size:1`, `strides:1`, but we skip the second and the fourth element\n",
    "    \n",
    "</div>"
   ]
  },
  {
   "cell_type": "markdown",
   "id": "ca1d12e2",
   "metadata": {},
   "source": [
    "# filters: 3\n",
    "# kernel_size: 2\n",
    "# strides: 1"
   ]
  },
  {
   "cell_type": "code",
   "execution_count": 19,
   "id": "4af0d6e1",
   "metadata": {},
   "outputs": [
    {
     "name": "stdout",
     "output_type": "stream",
     "text": [
      "(1, 4, 3)\n",
      "tf.Tensor(\n",
      "[[[ 14.005341  -13.909505   -5.0180826]\n",
      "  [ 42.47728   -34.50992    -9.642081 ]\n",
      "  [ 60.560524  -42.87355    -9.149477 ]]], shape=(1, 3, 3), dtype=float32)\n"
     ]
    },
    {
     "data": {
      "application/javascript": [
       "\n",
       "            setTimeout(function() {\n",
       "                var nbb_cell_id = 19;\n",
       "                var nbb_unformatted_code = \"c = conv_layer(m, filters=3, kernel_size=2, strides=1)\";\n",
       "                var nbb_formatted_code = \"c = conv_layer(m, filters=3, kernel_size=2, strides=1)\";\n",
       "                var nbb_cells = Jupyter.notebook.get_cells();\n",
       "                for (var i = 0; i < nbb_cells.length; ++i) {\n",
       "                    if (nbb_cells[i].input_prompt_number == nbb_cell_id) {\n",
       "                        if (nbb_cells[i].get_text() == nbb_unformatted_code) {\n",
       "                             nbb_cells[i].set_text(nbb_formatted_code);\n",
       "                        }\n",
       "                        break;\n",
       "                    }\n",
       "                }\n",
       "            }, 500);\n",
       "            "
      ],
      "text/plain": [
       "<IPython.core.display.Javascript object>"
      ]
     },
     "metadata": {},
     "output_type": "display_data"
    }
   ],
   "source": [
    "c = conv_layer(m, filters=3, kernel_size=2, strides=1)"
   ]
  },
  {
   "cell_type": "code",
   "execution_count": 20,
   "id": "826bd2a0",
   "metadata": {},
   "outputs": [
    {
     "name": "stdout",
     "output_type": "stream",
     "text": [
      "(2, 3, 3)\n"
     ]
    },
    {
     "data": {
      "text/plain": [
       "array([[[ 0.50655586,  0.2299915 , -0.19981313],\n",
       "        [ 0.6363813 , -0.5967117 ,  0.21543044],\n",
       "        [ 0.66538733, -0.46964318,  0.03364313]],\n",
       "\n",
       "       [[ 0.18492198, -0.58489287, -0.07586199],\n",
       "        [ 0.65907115, -0.04194403,  0.00416678],\n",
       "        [ 0.37570852, -0.6804772 , -0.4350391 ]]], dtype=float32)"
      ]
     },
     "execution_count": 20,
     "metadata": {},
     "output_type": "execute_result"
    },
    {
     "data": {
      "application/javascript": [
       "\n",
       "            setTimeout(function() {\n",
       "                var nbb_cell_id = 20;\n",
       "                var nbb_unformatted_code = \"# column i  corresponds to filter i\\n\\nweights = c.weights[0].numpy()\\nprint(weights.shape)\\nweights\";\n",
       "                var nbb_formatted_code = \"# column i  corresponds to filter i\\n\\nweights = c.weights[0].numpy()\\nprint(weights.shape)\\nweights\";\n",
       "                var nbb_cells = Jupyter.notebook.get_cells();\n",
       "                for (var i = 0; i < nbb_cells.length; ++i) {\n",
       "                    if (nbb_cells[i].input_prompt_number == nbb_cell_id) {\n",
       "                        if (nbb_cells[i].get_text() == nbb_unformatted_code) {\n",
       "                             nbb_cells[i].set_text(nbb_formatted_code);\n",
       "                        }\n",
       "                        break;\n",
       "                    }\n",
       "                }\n",
       "            }, 500);\n",
       "            "
      ],
      "text/plain": [
       "<IPython.core.display.Javascript object>"
      ]
     },
     "metadata": {},
     "output_type": "display_data"
    }
   ],
   "source": [
    "# column i  corresponds to filter i\n",
    "\n",
    "weights = c.weights[0].numpy()\n",
    "print(weights.shape)\n",
    "weights"
   ]
  },
  {
   "cell_type": "code",
   "execution_count": 21,
   "id": "317b9624",
   "metadata": {},
   "outputs": [
    {
     "name": "stdout",
     "output_type": "stream",
     "text": [
      "[[[ 1.  1.  1.]\n",
      "  [10. 10. 10.]\n",
      "  [20. 20. 20.]\n",
      "  [20. 20. 20.]]]\n"
     ]
    },
    {
     "data": {
      "application/javascript": [
       "\n",
       "            setTimeout(function() {\n",
       "                var nbb_cell_id = 21;\n",
       "                var nbb_unformatted_code = \"print(m)\";\n",
       "                var nbb_formatted_code = \"print(m)\";\n",
       "                var nbb_cells = Jupyter.notebook.get_cells();\n",
       "                for (var i = 0; i < nbb_cells.length; ++i) {\n",
       "                    if (nbb_cells[i].input_prompt_number == nbb_cell_id) {\n",
       "                        if (nbb_cells[i].get_text() == nbb_unformatted_code) {\n",
       "                             nbb_cells[i].set_text(nbb_formatted_code);\n",
       "                        }\n",
       "                        break;\n",
       "                    }\n",
       "                }\n",
       "            }, 500);\n",
       "            "
      ],
      "text/plain": [
       "<IPython.core.display.Javascript object>"
      ]
     },
     "metadata": {},
     "output_type": "display_data"
    }
   ],
   "source": [
    "print(m)"
   ]
  },
  {
   "cell_type": "code",
   "execution_count": 22,
   "id": "ef184e47",
   "metadata": {},
   "outputs": [
    {
     "name": "stdout",
     "output_type": "stream",
     "text": [
      "14.005340993404388\n",
      "42.47727811336517\n",
      "60.56052327156067\n"
     ]
    },
    {
     "data": {
      "application/javascript": [
       "\n",
       "            setTimeout(function() {\n",
       "                var nbb_cell_id = 22;\n",
       "                var nbb_unformatted_code = \"for i in range(0, 4):\\n    try:\\n        print(np.dot(m[0][i], weights[0][:, 0]) + np.dot(m[0][i + 1], weights[1][:, 0]))\\n    except:\\n        pass\";\n",
       "                var nbb_formatted_code = \"for i in range(0, 4):\\n    try:\\n        print(np.dot(m[0][i], weights[0][:, 0]) + np.dot(m[0][i + 1], weights[1][:, 0]))\\n    except:\\n        pass\";\n",
       "                var nbb_cells = Jupyter.notebook.get_cells();\n",
       "                for (var i = 0; i < nbb_cells.length; ++i) {\n",
       "                    if (nbb_cells[i].input_prompt_number == nbb_cell_id) {\n",
       "                        if (nbb_cells[i].get_text() == nbb_unformatted_code) {\n",
       "                             nbb_cells[i].set_text(nbb_formatted_code);\n",
       "                        }\n",
       "                        break;\n",
       "                    }\n",
       "                }\n",
       "            }, 500);\n",
       "            "
      ],
      "text/plain": [
       "<IPython.core.display.Javascript object>"
      ]
     },
     "metadata": {},
     "output_type": "display_data"
    }
   ],
   "source": [
    "for i in range(0, 4):\n",
    "    try:\n",
    "        print(np.dot(m[0][i], weights[0][:, 0]) + np.dot(m[0][i + 1], weights[1][:, 0]))\n",
    "    except:\n",
    "        pass"
   ]
  },
  {
   "cell_type": "markdown",
   "id": "76c9a04d",
   "metadata": {},
   "source": [
    "<div class='alert alert-info'>\n",
    "    \n",
    "    \n",
    "- Shape of filter: (`kernel_size`, `feature_shape (n_cols)`, `n_filters`)\n",
    "- Shape of `Conv1D` output: (`1`, `steps`, `n_filters`), where `steps` is defined below.\n",
    "\n",
    "\n",
    "    \n",
    "</div>"
   ]
  },
  {
   "cell_type": "code",
   "execution_count": 23,
   "id": "f6dd5151",
   "metadata": {},
   "outputs": [
    {
     "data": {
      "application/javascript": [
       "\n",
       "            setTimeout(function() {\n",
       "                var nbb_cell_id = 23;\n",
       "                var nbb_unformatted_code = \"def get_steps(feature_shape: int, kernel_size: int, strides: int) -> int:\\n    steps = 0\\n\\n    if feature_shape < kernel_size:\\n        raise ValueError(\\n            f\\\"kernel size {kernel_size} should be <= feature shape {feature_shape}\\\"\\n        )\\n\\n    for i in range(0, feature_shape, strides):\\n        if i + kernel_size <= feature_shape:\\n            steps += 1\\n    return steps\";\n",
       "                var nbb_formatted_code = \"def get_steps(feature_shape: int, kernel_size: int, strides: int) -> int:\\n    steps = 0\\n\\n    if feature_shape < kernel_size:\\n        raise ValueError(\\n            f\\\"kernel size {kernel_size} should be <= feature shape {feature_shape}\\\"\\n        )\\n\\n    for i in range(0, feature_shape, strides):\\n        if i + kernel_size <= feature_shape:\\n            steps += 1\\n    return steps\";\n",
       "                var nbb_cells = Jupyter.notebook.get_cells();\n",
       "                for (var i = 0; i < nbb_cells.length; ++i) {\n",
       "                    if (nbb_cells[i].input_prompt_number == nbb_cell_id) {\n",
       "                        if (nbb_cells[i].get_text() == nbb_unformatted_code) {\n",
       "                             nbb_cells[i].set_text(nbb_formatted_code);\n",
       "                        }\n",
       "                        break;\n",
       "                    }\n",
       "                }\n",
       "            }, 500);\n",
       "            "
      ],
      "text/plain": [
       "<IPython.core.display.Javascript object>"
      ]
     },
     "metadata": {},
     "output_type": "display_data"
    }
   ],
   "source": [
    "def get_steps(feature_shape: int, kernel_size: int, strides: int) -> int:\n",
    "    steps = 0\n",
    "\n",
    "    if feature_shape < kernel_size:\n",
    "        raise ValueError(\n",
    "            f\"kernel size {kernel_size} should be <= feature shape {feature_shape}\"\n",
    "        )\n",
    "\n",
    "    for i in range(0, feature_shape, strides):\n",
    "        if i + kernel_size <= feature_shape:\n",
    "            steps += 1\n",
    "    return steps"
   ]
  },
  {
   "cell_type": "code",
   "execution_count": 24,
   "id": "c752004d",
   "metadata": {},
   "outputs": [
    {
     "data": {
      "text/plain": [
       "3"
      ]
     },
     "execution_count": 24,
     "metadata": {},
     "output_type": "execute_result"
    },
    {
     "data": {
      "application/javascript": [
       "\n",
       "            setTimeout(function() {\n",
       "                var nbb_cell_id = 24;\n",
       "                var nbb_unformatted_code = \"steps = get_steps(feature_shape=10, kernel_size=5, strides=2)\\nsteps\";\n",
       "                var nbb_formatted_code = \"steps = get_steps(feature_shape=10, kernel_size=5, strides=2)\\nsteps\";\n",
       "                var nbb_cells = Jupyter.notebook.get_cells();\n",
       "                for (var i = 0; i < nbb_cells.length; ++i) {\n",
       "                    if (nbb_cells[i].input_prompt_number == nbb_cell_id) {\n",
       "                        if (nbb_cells[i].get_text() == nbb_unformatted_code) {\n",
       "                             nbb_cells[i].set_text(nbb_formatted_code);\n",
       "                        }\n",
       "                        break;\n",
       "                    }\n",
       "                }\n",
       "            }, 500);\n",
       "            "
      ],
      "text/plain": [
       "<IPython.core.display.Javascript object>"
      ]
     },
     "metadata": {},
     "output_type": "display_data"
    }
   ],
   "source": [
    "steps = get_steps(feature_shape=10, kernel_size=5, strides=2)\n",
    "steps"
   ]
  },
  {
   "cell_type": "markdown",
   "id": "43a984e6-3533-4937-883f-f4771b7656f9",
   "metadata": {},
   "source": [
    "## Global Average Pooling"
   ]
  },
  {
   "cell_type": "code",
   "execution_count": 25,
   "id": "2da10288-53bd-4d0c-a555-a311157c7211",
   "metadata": {},
   "outputs": [
    {
     "data": {
      "text/plain": [
       "array([[[  1.,   2.,   3.,   4.],\n",
       "        [ 10.,  20.,  30.,  40.],\n",
       "        [100., 200., 300., 400.]]], dtype=float32)"
      ]
     },
     "execution_count": 25,
     "metadata": {},
     "output_type": "execute_result"
    },
    {
     "data": {
      "application/javascript": [
       "\n",
       "            setTimeout(function() {\n",
       "                var nbb_cell_id = 25;\n",
       "                var nbb_unformatted_code = \"a = np.array([[[1, 2, 3, 4], [10, 20, 30, 40], [100, 200, 300, 400]]], dtype=\\\"float32\\\")\\na\";\n",
       "                var nbb_formatted_code = \"a = np.array([[[1, 2, 3, 4], [10, 20, 30, 40], [100, 200, 300, 400]]], dtype=\\\"float32\\\")\\na\";\n",
       "                var nbb_cells = Jupyter.notebook.get_cells();\n",
       "                for (var i = 0; i < nbb_cells.length; ++i) {\n",
       "                    if (nbb_cells[i].input_prompt_number == nbb_cell_id) {\n",
       "                        if (nbb_cells[i].get_text() == nbb_unformatted_code) {\n",
       "                             nbb_cells[i].set_text(nbb_formatted_code);\n",
       "                        }\n",
       "                        break;\n",
       "                    }\n",
       "                }\n",
       "            }, 500);\n",
       "            "
      ],
      "text/plain": [
       "<IPython.core.display.Javascript object>"
      ]
     },
     "metadata": {},
     "output_type": "display_data"
    }
   ],
   "source": [
    "a = np.array([[[1, 2, 3, 4], [10, 20, 30, 40], [100, 200, 300, 400]]], dtype=\"float32\")\n",
    "a"
   ]
  },
  {
   "cell_type": "code",
   "execution_count": 29,
   "id": "24216db0-9759-4bb3-9f0d-eda67c2b16b0",
   "metadata": {},
   "outputs": [
    {
     "data": {
      "text/plain": [
       "<tf.Tensor: shape=(1, 4), dtype=float32, numpy=array([[ 37.,  74., 111., 148.]], dtype=float32)>"
      ]
     },
     "execution_count": 29,
     "metadata": {},
     "output_type": "execute_result"
    },
    {
     "data": {
      "application/javascript": [
       "\n",
       "            setTimeout(function() {\n",
       "                var nbb_cell_id = 29;\n",
       "                var nbb_unformatted_code = \"GlobalAveragePooling1D(data_format=\\\"channels_last\\\", keepdims=False)(a)\";\n",
       "                var nbb_formatted_code = \"GlobalAveragePooling1D(data_format=\\\"channels_last\\\", keepdims=False)(a)\";\n",
       "                var nbb_cells = Jupyter.notebook.get_cells();\n",
       "                for (var i = 0; i < nbb_cells.length; ++i) {\n",
       "                    if (nbb_cells[i].input_prompt_number == nbb_cell_id) {\n",
       "                        if (nbb_cells[i].get_text() == nbb_unformatted_code) {\n",
       "                             nbb_cells[i].set_text(nbb_formatted_code);\n",
       "                        }\n",
       "                        break;\n",
       "                    }\n",
       "                }\n",
       "            }, 500);\n",
       "            "
      ],
      "text/plain": [
       "<IPython.core.display.Javascript object>"
      ]
     },
     "metadata": {},
     "output_type": "display_data"
    }
   ],
   "source": [
    "GlobalAveragePooling1D(data_format=\"channels_last\", keepdims=False)(a)"
   ]
  },
  {
   "cell_type": "code",
   "execution_count": 30,
   "id": "99e1a9df-19f1-49e1-9821-10c75857bad6",
   "metadata": {},
   "outputs": [
    {
     "data": {
      "text/plain": [
       "<tf.Tensor: shape=(1, 3), dtype=float32, numpy=array([[  2.5,  25. , 250. ]], dtype=float32)>"
      ]
     },
     "execution_count": 30,
     "metadata": {},
     "output_type": "execute_result"
    },
    {
     "data": {
      "application/javascript": [
       "\n",
       "            setTimeout(function() {\n",
       "                var nbb_cell_id = 30;\n",
       "                var nbb_unformatted_code = \"GlobalAveragePooling1D(data_format=\\\"channels_first\\\", keepdims=False)(a)\";\n",
       "                var nbb_formatted_code = \"GlobalAveragePooling1D(data_format=\\\"channels_first\\\", keepdims=False)(a)\";\n",
       "                var nbb_cells = Jupyter.notebook.get_cells();\n",
       "                for (var i = 0; i < nbb_cells.length; ++i) {\n",
       "                    if (nbb_cells[i].input_prompt_number == nbb_cell_id) {\n",
       "                        if (nbb_cells[i].get_text() == nbb_unformatted_code) {\n",
       "                             nbb_cells[i].set_text(nbb_formatted_code);\n",
       "                        }\n",
       "                        break;\n",
       "                    }\n",
       "                }\n",
       "            }, 500);\n",
       "            "
      ],
      "text/plain": [
       "<IPython.core.display.Javascript object>"
      ]
     },
     "metadata": {},
     "output_type": "display_data"
    }
   ],
   "source": [
    "GlobalAveragePooling1D(data_format=\"channels_first\", keepdims=False)(a)"
   ]
  },
  {
   "cell_type": "markdown",
   "id": "256b3e4f-0fbc-4f2b-b370-59d4e42436f6",
   "metadata": {},
   "source": [
    "# Global Max Pooling"
   ]
  },
  {
   "cell_type": "code",
   "execution_count": 31,
   "id": "9fa03403-7d8e-4ac6-a72f-0bffff946715",
   "metadata": {},
   "outputs": [
    {
     "data": {
      "text/plain": [
       "<tf.Tensor: shape=(1, 3, 4), dtype=float32, numpy=\n",
       "array([[[  1.,   2.,   3.,   4.],\n",
       "        [ 10.,  20.,  30.,  40.],\n",
       "        [100., 200., 300., 400.]]], dtype=float32)>"
      ]
     },
     "execution_count": 31,
     "metadata": {},
     "output_type": "execute_result"
    },
    {
     "data": {
      "application/javascript": [
       "\n",
       "            setTimeout(function() {\n",
       "                var nbb_cell_id = 31;\n",
       "                var nbb_unformatted_code = \"MaxPooling1D(pool_size=1, strides=1, padding=\\\"same\\\", name=\\\"max_pooling_1\\\")(a)\";\n",
       "                var nbb_formatted_code = \"MaxPooling1D(pool_size=1, strides=1, padding=\\\"same\\\", name=\\\"max_pooling_1\\\")(a)\";\n",
       "                var nbb_cells = Jupyter.notebook.get_cells();\n",
       "                for (var i = 0; i < nbb_cells.length; ++i) {\n",
       "                    if (nbb_cells[i].input_prompt_number == nbb_cell_id) {\n",
       "                        if (nbb_cells[i].get_text() == nbb_unformatted_code) {\n",
       "                             nbb_cells[i].set_text(nbb_formatted_code);\n",
       "                        }\n",
       "                        break;\n",
       "                    }\n",
       "                }\n",
       "            }, 500);\n",
       "            "
      ],
      "text/plain": [
       "<IPython.core.display.Javascript object>"
      ]
     },
     "metadata": {},
     "output_type": "display_data"
    }
   ],
   "source": [
    "MaxPooling1D(pool_size=1, strides=1, padding=\"same\", name=\"max_pooling_1\")(a)"
   ]
  },
  {
   "cell_type": "code",
   "execution_count": 32,
   "id": "fba826ec-4758-4fda-aa7f-af9a8702e727",
   "metadata": {},
   "outputs": [
    {
     "data": {
      "text/plain": [
       "<tf.Tensor: shape=(1, 3, 4), dtype=float32, numpy=\n",
       "array([[[ 10.,  20.,  30.,  40.],\n",
       "        [100., 200., 300., 400.],\n",
       "        [100., 200., 300., 400.]]], dtype=float32)>"
      ]
     },
     "execution_count": 32,
     "metadata": {},
     "output_type": "execute_result"
    },
    {
     "data": {
      "application/javascript": [
       "\n",
       "            setTimeout(function() {\n",
       "                var nbb_cell_id = 32;\n",
       "                var nbb_unformatted_code = \"MaxPooling1D(pool_size=2, strides=1, padding=\\\"same\\\", name=\\\"max_pooling_1\\\")(a)\";\n",
       "                var nbb_formatted_code = \"MaxPooling1D(pool_size=2, strides=1, padding=\\\"same\\\", name=\\\"max_pooling_1\\\")(a)\";\n",
       "                var nbb_cells = Jupyter.notebook.get_cells();\n",
       "                for (var i = 0; i < nbb_cells.length; ++i) {\n",
       "                    if (nbb_cells[i].input_prompt_number == nbb_cell_id) {\n",
       "                        if (nbb_cells[i].get_text() == nbb_unformatted_code) {\n",
       "                             nbb_cells[i].set_text(nbb_formatted_code);\n",
       "                        }\n",
       "                        break;\n",
       "                    }\n",
       "                }\n",
       "            }, 500);\n",
       "            "
      ],
      "text/plain": [
       "<IPython.core.display.Javascript object>"
      ]
     },
     "metadata": {},
     "output_type": "display_data"
    }
   ],
   "source": [
    "MaxPooling1D(pool_size=2, strides=1, padding=\"same\", name=\"max_pooling_1\")(a)"
   ]
  },
  {
   "cell_type": "code",
   "execution_count": 33,
   "id": "8fa331d7-21d7-4252-846b-d34ab9178852",
   "metadata": {},
   "outputs": [
    {
     "data": {
      "text/plain": [
       "<tf.Tensor: shape=(1, 3, 4), dtype=float32, numpy=\n",
       "array([[[ 10.,  20.,  30.,  40.],\n",
       "        [100., 200., 300., 400.],\n",
       "        [100., 200., 300., 400.]]], dtype=float32)>"
      ]
     },
     "execution_count": 33,
     "metadata": {},
     "output_type": "execute_result"
    },
    {
     "data": {
      "application/javascript": [
       "\n",
       "            setTimeout(function() {\n",
       "                var nbb_cell_id = 33;\n",
       "                var nbb_unformatted_code = \"# Padding evenly up and down\\nMaxPooling1D(pool_size=3, strides=1, padding=\\\"same\\\", name=\\\"max_pooling_1\\\")(a)\\n\\n\\n# [\\n#   [0, 0, 0, 0],\\n#   [1, 2, 3, 4]\\n#   [10, 20, 30, 40]\\n#   [100, 200, 300, 400]\\n#   [0, 0, 0, 0]\\n# ]\";\n",
       "                var nbb_formatted_code = \"# Padding evenly up and down\\nMaxPooling1D(pool_size=3, strides=1, padding=\\\"same\\\", name=\\\"max_pooling_1\\\")(a)\\n\\n\\n# [\\n#   [0, 0, 0, 0],\\n#   [1, 2, 3, 4]\\n#   [10, 20, 30, 40]\\n#   [100, 200, 300, 400]\\n#   [0, 0, 0, 0]\\n# ]\";\n",
       "                var nbb_cells = Jupyter.notebook.get_cells();\n",
       "                for (var i = 0; i < nbb_cells.length; ++i) {\n",
       "                    if (nbb_cells[i].input_prompt_number == nbb_cell_id) {\n",
       "                        if (nbb_cells[i].get_text() == nbb_unformatted_code) {\n",
       "                             nbb_cells[i].set_text(nbb_formatted_code);\n",
       "                        }\n",
       "                        break;\n",
       "                    }\n",
       "                }\n",
       "            }, 500);\n",
       "            "
      ],
      "text/plain": [
       "<IPython.core.display.Javascript object>"
      ]
     },
     "metadata": {},
     "output_type": "display_data"
    }
   ],
   "source": [
    "# Padding evenly up and down\n",
    "MaxPooling1D(pool_size=3, strides=1, padding=\"same\", name=\"max_pooling_1\")(a)\n",
    "\n",
    "\n",
    "# [\n",
    "#   [0, 0, 0, 0],\n",
    "#   [1, 2, 3, 4]\n",
    "#   [10, 20, 30, 40]\n",
    "#   [100, 200, 300, 400]\n",
    "#   [0, 0, 0, 0]\n",
    "# ]"
   ]
  }
 ],
 "metadata": {
  "kernelspec": {
   "display_name": "Python [conda env:ml]",
   "language": "python",
   "name": "conda-env-ml-py"
  },
  "language_info": {
   "codemirror_mode": {
    "name": "ipython",
    "version": 3
   },
   "file_extension": ".py",
   "mimetype": "text/x-python",
   "name": "python",
   "nbconvert_exporter": "python",
   "pygments_lexer": "ipython3",
   "version": "3.11.2"
  }
 },
 "nbformat": 4,
 "nbformat_minor": 5
}
