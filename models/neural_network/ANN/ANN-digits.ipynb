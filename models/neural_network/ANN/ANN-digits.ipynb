{
 "cells": [
  {
   "cell_type": "code",
   "execution_count": 1,
   "id": "4317a893",
   "metadata": {},
   "outputs": [
    {
     "data": {
      "application/javascript": [
       "\n",
       "            setTimeout(function() {\n",
       "                var nbb_cell_id = 1;\n",
       "                var nbb_unformatted_code = \"%load_ext nb_black\";\n",
       "                var nbb_formatted_code = \"%load_ext nb_black\";\n",
       "                var nbb_cells = Jupyter.notebook.get_cells();\n",
       "                for (var i = 0; i < nbb_cells.length; ++i) {\n",
       "                    if (nbb_cells[i].input_prompt_number == nbb_cell_id) {\n",
       "                        if (nbb_cells[i].get_text() == nbb_unformatted_code) {\n",
       "                             nbb_cells[i].set_text(nbb_formatted_code);\n",
       "                        }\n",
       "                        break;\n",
       "                    }\n",
       "                }\n",
       "            }, 500);\n",
       "            "
      ],
      "text/plain": [
       "<IPython.core.display.Javascript object>"
      ]
     },
     "metadata": {},
     "output_type": "display_data"
    }
   ],
   "source": [
    "%load_ext nb_black"
   ]
  },
  {
   "cell_type": "code",
   "execution_count": 2,
   "id": "fb7f600c",
   "metadata": {},
   "outputs": [
    {
     "data": {
      "application/javascript": [
       "\n",
       "            setTimeout(function() {\n",
       "                var nbb_cell_id = 2;\n",
       "                var nbb_unformatted_code = \"import numpy as np\\nimport pandas as pd\\n\\n\\nfrom typing import List, Optional, Tuple\\n\\nfrom sklearn.datasets import load_digits\\nfrom sklearn.model_selection import train_test_split\\n\\nfrom tensorflow.keras.callbacks import (\\n    EarlyStopping,\\n    ReduceLROnPlateau,\\n    TensorBoard,\\n    History,\\n)\\nfrom tensorflow.keras.layers import Activation, Dense\\nfrom tensorflow.keras.losses import SparseCategoricalCrossentropy\\nfrom tensorflow.keras.models import Sequential\\nfrom tensorflow.keras.optimizers import Adam\\nfrom tensorflow.keras.utils import set_random_seed\\n\\nimport tensorflow as tf\";\n",
       "                var nbb_formatted_code = \"import numpy as np\\nimport pandas as pd\\n\\n\\nfrom typing import List, Optional, Tuple\\n\\nfrom sklearn.datasets import load_digits\\nfrom sklearn.model_selection import train_test_split\\n\\nfrom tensorflow.keras.callbacks import (\\n    EarlyStopping,\\n    ReduceLROnPlateau,\\n    TensorBoard,\\n    History,\\n)\\nfrom tensorflow.keras.layers import Activation, Dense\\nfrom tensorflow.keras.losses import SparseCategoricalCrossentropy\\nfrom tensorflow.keras.models import Sequential\\nfrom tensorflow.keras.optimizers import Adam\\nfrom tensorflow.keras.utils import set_random_seed\\n\\nimport tensorflow as tf\";\n",
       "                var nbb_cells = Jupyter.notebook.get_cells();\n",
       "                for (var i = 0; i < nbb_cells.length; ++i) {\n",
       "                    if (nbb_cells[i].input_prompt_number == nbb_cell_id) {\n",
       "                        if (nbb_cells[i].get_text() == nbb_unformatted_code) {\n",
       "                             nbb_cells[i].set_text(nbb_formatted_code);\n",
       "                        }\n",
       "                        break;\n",
       "                    }\n",
       "                }\n",
       "            }, 500);\n",
       "            "
      ],
      "text/plain": [
       "<IPython.core.display.Javascript object>"
      ]
     },
     "metadata": {},
     "output_type": "display_data"
    }
   ],
   "source": [
    "import numpy as np\n",
    "import pandas as pd\n",
    "\n",
    "\n",
    "from typing import List, Optional, Tuple\n",
    "\n",
    "from sklearn.datasets import load_digits\n",
    "from sklearn.model_selection import train_test_split\n",
    "\n",
    "from tensorflow.keras.callbacks import (\n",
    "    EarlyStopping,\n",
    "    ReduceLROnPlateau,\n",
    "    TensorBoard,\n",
    "    History,\n",
    ")\n",
    "from tensorflow.keras.layers import Activation, Dense\n",
    "from tensorflow.keras.losses import SparseCategoricalCrossentropy\n",
    "from tensorflow.keras.models import Sequential\n",
    "from tensorflow.keras.optimizers import Adam\n",
    "from tensorflow.keras.utils import set_random_seed\n",
    "\n",
    "import tensorflow as tf"
   ]
  },
  {
   "cell_type": "markdown",
   "id": "75f3abb3",
   "metadata": {},
   "source": [
    "# Get data"
   ]
  },
  {
   "cell_type": "code",
   "execution_count": 3,
   "id": "d8dfb190",
   "metadata": {},
   "outputs": [
    {
     "data": {
      "application/javascript": [
       "\n",
       "            setTimeout(function() {\n",
       "                var nbb_cell_id = 3;\n",
       "                var nbb_unformatted_code = \"data = load_digits(as_frame=True)\\n\\nX = data[\\\"data\\\"] / 256\\ny = data[\\\"target\\\"]\";\n",
       "                var nbb_formatted_code = \"data = load_digits(as_frame=True)\\n\\nX = data[\\\"data\\\"] / 256\\ny = data[\\\"target\\\"]\";\n",
       "                var nbb_cells = Jupyter.notebook.get_cells();\n",
       "                for (var i = 0; i < nbb_cells.length; ++i) {\n",
       "                    if (nbb_cells[i].input_prompt_number == nbb_cell_id) {\n",
       "                        if (nbb_cells[i].get_text() == nbb_unformatted_code) {\n",
       "                             nbb_cells[i].set_text(nbb_formatted_code);\n",
       "                        }\n",
       "                        break;\n",
       "                    }\n",
       "                }\n",
       "            }, 500);\n",
       "            "
      ],
      "text/plain": [
       "<IPython.core.display.Javascript object>"
      ]
     },
     "metadata": {},
     "output_type": "display_data"
    }
   ],
   "source": [
    "data = load_digits(as_frame=True)\n",
    "\n",
    "X = data[\"data\"] / 256\n",
    "y = data[\"target\"]"
   ]
  },
  {
   "cell_type": "code",
   "execution_count": 4,
   "id": "998c2572",
   "metadata": {},
   "outputs": [
    {
     "data": {
      "application/javascript": [
       "\n",
       "            setTimeout(function() {\n",
       "                var nbb_cell_id = 4;\n",
       "                var nbb_unformatted_code = \"X_train, X_test, y_train, y_test = train_test_split(\\n    X, y, stratify=y, test_size=0.2, random_state=42\\n)\";\n",
       "                var nbb_formatted_code = \"X_train, X_test, y_train, y_test = train_test_split(\\n    X, y, stratify=y, test_size=0.2, random_state=42\\n)\";\n",
       "                var nbb_cells = Jupyter.notebook.get_cells();\n",
       "                for (var i = 0; i < nbb_cells.length; ++i) {\n",
       "                    if (nbb_cells[i].input_prompt_number == nbb_cell_id) {\n",
       "                        if (nbb_cells[i].get_text() == nbb_unformatted_code) {\n",
       "                             nbb_cells[i].set_text(nbb_formatted_code);\n",
       "                        }\n",
       "                        break;\n",
       "                    }\n",
       "                }\n",
       "            }, 500);\n",
       "            "
      ],
      "text/plain": [
       "<IPython.core.display.Javascript object>"
      ]
     },
     "metadata": {},
     "output_type": "display_data"
    }
   ],
   "source": [
    "X_train, X_test, y_train, y_test = train_test_split(\n",
    "    X, y, stratify=y, test_size=0.2, random_state=42\n",
    ")"
   ]
  },
  {
   "cell_type": "markdown",
   "id": "3105705b",
   "metadata": {},
   "source": [
    "# Create model\n"
   ]
  },
  {
   "cell_type": "code",
   "execution_count": 6,
   "id": "8d95d587",
   "metadata": {},
   "outputs": [
    {
     "data": {
      "text/plain": [
       "pixel_0_0    0.000000\n",
       "pixel_0_1    0.000000\n",
       "pixel_0_2    0.042969\n",
       "pixel_0_3    0.039062\n",
       "pixel_0_4    0.046875\n",
       "               ...   \n",
       "pixel_7_3    0.054688\n",
       "pixel_7_4    0.035156\n",
       "pixel_7_5    0.007812\n",
       "pixel_7_6    0.000000\n",
       "pixel_7_7    0.000000\n",
       "Name: 421, Length: 64, dtype: float64"
      ]
     },
     "execution_count": 6,
     "metadata": {},
     "output_type": "execute_result"
    },
    {
     "data": {
      "application/javascript": [
       "\n",
       "            setTimeout(function() {\n",
       "                var nbb_cell_id = 6;\n",
       "                var nbb_unformatted_code = \"X_train.iloc[0]\";\n",
       "                var nbb_formatted_code = \"X_train.iloc[0]\";\n",
       "                var nbb_cells = Jupyter.notebook.get_cells();\n",
       "                for (var i = 0; i < nbb_cells.length; ++i) {\n",
       "                    if (nbb_cells[i].input_prompt_number == nbb_cell_id) {\n",
       "                        if (nbb_cells[i].get_text() == nbb_unformatted_code) {\n",
       "                             nbb_cells[i].set_text(nbb_formatted_code);\n",
       "                        }\n",
       "                        break;\n",
       "                    }\n",
       "                }\n",
       "            }, 500);\n",
       "            "
      ],
      "text/plain": [
       "<IPython.core.display.Javascript object>"
      ]
     },
     "metadata": {},
     "output_type": "display_data"
    }
   ],
   "source": [
    "X_train.iloc[0]"
   ]
  },
  {
   "cell_type": "code",
   "execution_count": 13,
   "id": "5309f002",
   "metadata": {},
   "outputs": [
    {
     "name": "stdout",
     "output_type": "stream",
     "text": [
      "Model: \"sequential_7\"\n",
      "_________________________________________________________________\n",
      " Layer (type)                Output Shape              Param #   \n",
      "=================================================================\n",
      " dense_1 (Dense)             (None, 5)                 325       \n",
      "                                                                 \n",
      " dense_2 (Dense)             (None, 10)                60        \n",
      "                                                                 \n",
      "=================================================================\n",
      "Total params: 385\n",
      "Trainable params: 385\n",
      "Non-trainable params: 0\n",
      "_________________________________________________________________\n"
     ]
    },
    {
     "data": {
      "application/javascript": [
       "\n",
       "            setTimeout(function() {\n",
       "                var nbb_cell_id = 13;\n",
       "                var nbb_unformatted_code = \"set_random_seed(42)\\n\\nmodel = Sequential(\\n    [\\n        Dense(\\n            units=5,\\n            input_shape=(64,),\\n            kernel_initializer=\\\"he_normal\\\",\\n            activation=\\\"relu\\\",\\n            use_bias=True,\\n            name=\\\"dense_1\\\",\\n        ),\\n        Dense(\\n            units=10,\\n            kernel_initializer=\\\"he_normal\\\",\\n            activation=\\\"softmax\\\",\\n            name=\\\"dense_2\\\",\\n            use_bias=True,\\n        ),\\n    ]\\n)\\n\\n\\nOPTIMIZER = Adam(learning_rate=0.01)\\nLOSS = SparseCategoricalCrossentropy()\\nMETRICS = [\\\"accuracy\\\"]\\n\\n\\nmodel.compile(optimizer=OPTIMIZER, loss=LOSS, metrics=METRICS)\\n\\nmodel.summary()\";\n",
       "                var nbb_formatted_code = \"set_random_seed(42)\\n\\nmodel = Sequential(\\n    [\\n        Dense(\\n            units=5,\\n            input_shape=(64,),\\n            kernel_initializer=\\\"he_normal\\\",\\n            activation=\\\"relu\\\",\\n            use_bias=True,\\n            name=\\\"dense_1\\\",\\n        ),\\n        Dense(\\n            units=10,\\n            kernel_initializer=\\\"he_normal\\\",\\n            activation=\\\"softmax\\\",\\n            name=\\\"dense_2\\\",\\n            use_bias=True,\\n        ),\\n    ]\\n)\\n\\n\\nOPTIMIZER = Adam(learning_rate=0.01)\\nLOSS = SparseCategoricalCrossentropy()\\nMETRICS = [\\\"accuracy\\\"]\\n\\n\\nmodel.compile(optimizer=OPTIMIZER, loss=LOSS, metrics=METRICS)\\n\\nmodel.summary()\";\n",
       "                var nbb_cells = Jupyter.notebook.get_cells();\n",
       "                for (var i = 0; i < nbb_cells.length; ++i) {\n",
       "                    if (nbb_cells[i].input_prompt_number == nbb_cell_id) {\n",
       "                        if (nbb_cells[i].get_text() == nbb_unformatted_code) {\n",
       "                             nbb_cells[i].set_text(nbb_formatted_code);\n",
       "                        }\n",
       "                        break;\n",
       "                    }\n",
       "                }\n",
       "            }, 500);\n",
       "            "
      ],
      "text/plain": [
       "<IPython.core.display.Javascript object>"
      ]
     },
     "metadata": {},
     "output_type": "display_data"
    }
   ],
   "source": [
    "set_random_seed(42)\n",
    "\n",
    "model = Sequential(\n",
    "    [\n",
    "        Dense(\n",
    "            units=5,\n",
    "            input_shape=(64,),\n",
    "            kernel_initializer=\"he_normal\",\n",
    "            activation=\"relu\",\n",
    "            use_bias=True,\n",
    "            name=\"dense_1\",\n",
    "        ),\n",
    "        Dense(\n",
    "            units=10,\n",
    "            kernel_initializer=\"he_normal\",\n",
    "            activation=\"softmax\",\n",
    "            name=\"dense_2\",\n",
    "            use_bias=True,\n",
    "        ),\n",
    "    ]\n",
    ")\n",
    "\n",
    "\n",
    "OPTIMIZER = Adam(learning_rate=0.01)\n",
    "LOSS = SparseCategoricalCrossentropy()\n",
    "METRICS = [\"accuracy\"]\n",
    "\n",
    "\n",
    "model.compile(optimizer=OPTIMIZER, loss=LOSS, metrics=METRICS)\n",
    "\n",
    "model.summary()"
   ]
  },
  {
   "cell_type": "markdown",
   "id": "a59505de",
   "metadata": {},
   "source": [
    "# Train model"
   ]
  },
  {
   "cell_type": "code",
   "execution_count": null,
   "id": "909958ad",
   "metadata": {},
   "outputs": [],
   "source": [
    "def train(X_train, y_train, **kwargs) -> History:\n",
    "    history = model.fit(X_train, y_train, **kwargs)\n",
    "    return history"
   ]
  },
  {
   "cell_type": "code",
   "execution_count": null,
   "id": "0e512af0",
   "metadata": {},
   "outputs": [],
   "source": [
    "early_stopping = EarlyStopping(\n",
    "    monitor=\"val_loss\",\n",
    "    min_delta=0,\n",
    "    patience=5,\n",
    "    verbose=1,\n",
    "    mode=\"auto\",\n",
    "    baseline=None,\n",
    "    restore_best_weights=False,\n",
    ")\n",
    "\n",
    "\n",
    "reduce_lr_on_plateau = ReduceLROnPlateau(\n",
    "    monitor=\"val_loss\",\n",
    "    factor=0.1,\n",
    "    patience=5,\n",
    "    verbose=1,\n",
    "    mode=\"auto\",\n",
    "    min_delta=0.0001,\n",
    "    cooldown=0,\n",
    "    min_lr=0,\n",
    ")"
   ]
  },
  {
   "cell_type": "code",
   "execution_count": null,
   "id": "3cbddfb1",
   "metadata": {},
   "outputs": [],
   "source": [
    "TRAIN_KWARGS = {\n",
    "    \"batch_size\": 128,\n",
    "    \"validation_data\": (X_test, y_test),\n",
    "    \"epochs\": 300,\n",
    "    \"callbacks\": [early_stopping, reduce_lr_on_plateau],\n",
    "}\n",
    "\n",
    "\n",
    "history = train(X_train, y_train, **TRAIN_KWARGS)"
   ]
  },
  {
   "cell_type": "code",
   "execution_count": null,
   "id": "179a083a",
   "metadata": {},
   "outputs": [],
   "source": []
  }
 ],
 "metadata": {
  "kernelspec": {
   "display_name": "Python [conda env:ml]",
   "language": "python",
   "name": "conda-env-ml-py"
  },
  "language_info": {
   "codemirror_mode": {
    "name": "ipython",
    "version": 3
   },
   "file_extension": ".py",
   "mimetype": "text/x-python",
   "name": "python",
   "nbconvert_exporter": "python",
   "pygments_lexer": "ipython3",
   "version": "3.10.6"
  }
 },
 "nbformat": 4,
 "nbformat_minor": 5
}
