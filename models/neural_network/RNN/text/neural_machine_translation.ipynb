{
 "cells": [
  {
   "cell_type": "code",
   "execution_count": 255,
   "id": "03dda241-e29e-4323-a652-e3da0dff4f1d",
   "metadata": {},
   "outputs": [
    {
     "name": "stdout",
     "output_type": "stream",
     "text": [
      "The nb_black extension is already loaded. To reload it, use:\n",
      "  %reload_ext nb_black\n"
     ]
    },
    {
     "data": {
      "application/javascript": [
       "\n",
       "            setTimeout(function() {\n",
       "                var nbb_cell_id = 255;\n",
       "                var nbb_unformatted_code = \"%load_ext nb_black\";\n",
       "                var nbb_formatted_code = \"%load_ext nb_black\";\n",
       "                var nbb_cells = Jupyter.notebook.get_cells();\n",
       "                for (var i = 0; i < nbb_cells.length; ++i) {\n",
       "                    if (nbb_cells[i].input_prompt_number == nbb_cell_id) {\n",
       "                        if (nbb_cells[i].get_text() == nbb_unformatted_code) {\n",
       "                             nbb_cells[i].set_text(nbb_formatted_code);\n",
       "                        }\n",
       "                        break;\n",
       "                    }\n",
       "                }\n",
       "            }, 500);\n",
       "            "
      ],
      "text/plain": [
       "<IPython.core.display.Javascript object>"
      ]
     },
     "metadata": {},
     "output_type": "display_data"
    }
   ],
   "source": [
    "%load_ext nb_black"
   ]
  },
  {
   "cell_type": "code",
   "execution_count": 256,
   "id": "cfffdb34-4821-4286-ba18-b7b77884c949",
   "metadata": {},
   "outputs": [
    {
     "data": {
      "application/javascript": [
       "\n",
       "            setTimeout(function() {\n",
       "                var nbb_cell_id = 256;\n",
       "                var nbb_unformatted_code = \"import pprint as pp\\nimport time\\n\\nfrom functools import wraps\\n\\nimport numpy as np\\nimport tensorflow as tf\\n\\nfrom tensorflow.keras.layers import Activation, Bidirectional, Dense, Embedding, GRU, Input\\nfrom tensorflow.keras.losses import SparseCategoricalCrossentropy\\nfrom tensorflow.keras.models import Model, Sequential\\nfrom tensorflow.keras.optimizers import Adam\\nfrom tensorflow.keras.preprocessing.sequence import pad_sequences\\nfrom tensorflow.keras.preprocessing.text import Tokenizer\\nfrom tensorflow.keras.utils import set_random_seed\\nfrom tensorflow.keras.utils import to_categorical\";\n",
       "                var nbb_formatted_code = \"import pprint as pp\\nimport time\\n\\nfrom functools import wraps\\n\\nimport numpy as np\\nimport tensorflow as tf\\n\\nfrom tensorflow.keras.layers import (\\n    Activation,\\n    Bidirectional,\\n    Dense,\\n    Embedding,\\n    GRU,\\n    Input,\\n)\\nfrom tensorflow.keras.losses import SparseCategoricalCrossentropy\\nfrom tensorflow.keras.models import Model, Sequential\\nfrom tensorflow.keras.optimizers import Adam\\nfrom tensorflow.keras.preprocessing.sequence import pad_sequences\\nfrom tensorflow.keras.preprocessing.text import Tokenizer\\nfrom tensorflow.keras.utils import set_random_seed\\nfrom tensorflow.keras.utils import to_categorical\";\n",
       "                var nbb_cells = Jupyter.notebook.get_cells();\n",
       "                for (var i = 0; i < nbb_cells.length; ++i) {\n",
       "                    if (nbb_cells[i].input_prompt_number == nbb_cell_id) {\n",
       "                        if (nbb_cells[i].get_text() == nbb_unformatted_code) {\n",
       "                             nbb_cells[i].set_text(nbb_formatted_code);\n",
       "                        }\n",
       "                        break;\n",
       "                    }\n",
       "                }\n",
       "            }, 500);\n",
       "            "
      ],
      "text/plain": [
       "<IPython.core.display.Javascript object>"
      ]
     },
     "metadata": {},
     "output_type": "display_data"
    }
   ],
   "source": [
    "import pprint as pp\n",
    "import time\n",
    "\n",
    "from functools import wraps\n",
    "\n",
    "import numpy as np\n",
    "import tensorflow as tf\n",
    "\n",
    "from tensorflow.keras.layers import Activation, Bidirectional, Dense, Embedding, GRU, Input\n",
    "from tensorflow.keras.losses import SparseCategoricalCrossentropy\n",
    "from tensorflow.keras.models import Model, Sequential\n",
    "from tensorflow.keras.optimizers import Adam\n",
    "from tensorflow.keras.preprocessing.sequence import pad_sequences\n",
    "from tensorflow.keras.preprocessing.text import Tokenizer\n",
    "from tensorflow.keras.utils import set_random_seed\n",
    "from tensorflow.keras.utils import to_categorical"
   ]
  },
  {
   "cell_type": "code",
   "execution_count": 257,
   "id": "18a6d28c-c7dd-4b18-b49b-7db2b1450930",
   "metadata": {},
   "outputs": [
    {
     "data": {
      "application/javascript": [
       "\n",
       "            setTimeout(function() {\n",
       "                var nbb_cell_id = 257;\n",
       "                var nbb_unformatted_code = \"N = 200\\ntexts = [\\\"<BOS> the weather is great <EOS>\\\", \\\"<BOS> there is nothing better in the world <EOS>\\\", \\\"<BOS> you are great <EOS>\\\", \\\"<BOS> why are you so amazing <EOS>\\\"] * N\\ntargets = [\\\"<BOS> \\u03bf \\u03ba\\u03b1\\u03b9\\u03c1\\u03cc\\u03c2 \\u03b5\\u03af\\u03bd\\u03b1\\u03b9 \\u03b5\\u03ba\\u03c0\\u03bb\\u03b7\\u03ba\\u03c4\\u03b9\\u03ba\\u03cc\\u03c2 <EOS>\\\", \\\"<BOS> \\u03b4\\u03b5\\u03bd \\u03c5\\u03c0\\u03ac\\u03c1\\u03c7\\u03b5\\u03b9 \\u03c4\\u03af\\u03c0\\u03bf\\u03c4\\u03b1 \\u03ba\\u03b1\\u03bb\\u03cd\\u03c4\\u03b5\\u03c1\\u03bf \\u03c3\\u03c4\\u03bf\\u03bd \\u03ba\\u03cc\\u03c3\\u03bc\\u03bf <EOS>\\\", \\\"<BOS> \\u03b5\\u03af\\u03c3\\u03b1\\u03b9 \\u03b5\\u03ba\\u03c0\\u03bb\\u03b7\\u03ba\\u03c4\\u03b9\\u03ba\\u03cc\\u03c2 <EOS>\\\", \\\"<BOS> \\u03b3\\u03b9\\u03b1\\u03c4\\u03af \\u03b5\\u03af\\u03c3\\u03b1\\u03b9 \\u03c4\\u03cc\\u03c3\\u03bf \\u03b5\\u03ba\\u03c0\\u03bb\\u03b7\\u03ba\\u03c4\\u03b9\\u03ba\\u03cc\\u03c2 <EOS>\\\"] * N\";\n",
       "                var nbb_formatted_code = \"N = 200\\ntexts = [\\n    \\\"<BOS> the weather is great <EOS>\\\",\\n    \\\"<BOS> there is nothing better in the world <EOS>\\\",\\n    \\\"<BOS> you are great <EOS>\\\",\\n    \\\"<BOS> why are you so amazing <EOS>\\\",\\n] * N\\ntargets = [\\n    \\\"<BOS> \\u03bf \\u03ba\\u03b1\\u03b9\\u03c1\\u03cc\\u03c2 \\u03b5\\u03af\\u03bd\\u03b1\\u03b9 \\u03b5\\u03ba\\u03c0\\u03bb\\u03b7\\u03ba\\u03c4\\u03b9\\u03ba\\u03cc\\u03c2 <EOS>\\\",\\n    \\\"<BOS> \\u03b4\\u03b5\\u03bd \\u03c5\\u03c0\\u03ac\\u03c1\\u03c7\\u03b5\\u03b9 \\u03c4\\u03af\\u03c0\\u03bf\\u03c4\\u03b1 \\u03ba\\u03b1\\u03bb\\u03cd\\u03c4\\u03b5\\u03c1\\u03bf \\u03c3\\u03c4\\u03bf\\u03bd \\u03ba\\u03cc\\u03c3\\u03bc\\u03bf <EOS>\\\",\\n    \\\"<BOS> \\u03b5\\u03af\\u03c3\\u03b1\\u03b9 \\u03b5\\u03ba\\u03c0\\u03bb\\u03b7\\u03ba\\u03c4\\u03b9\\u03ba\\u03cc\\u03c2 <EOS>\\\",\\n    \\\"<BOS> \\u03b3\\u03b9\\u03b1\\u03c4\\u03af \\u03b5\\u03af\\u03c3\\u03b1\\u03b9 \\u03c4\\u03cc\\u03c3\\u03bf \\u03b5\\u03ba\\u03c0\\u03bb\\u03b7\\u03ba\\u03c4\\u03b9\\u03ba\\u03cc\\u03c2 <EOS>\\\",\\n] * N\";\n",
       "                var nbb_cells = Jupyter.notebook.get_cells();\n",
       "                for (var i = 0; i < nbb_cells.length; ++i) {\n",
       "                    if (nbb_cells[i].input_prompt_number == nbb_cell_id) {\n",
       "                        if (nbb_cells[i].get_text() == nbb_unformatted_code) {\n",
       "                             nbb_cells[i].set_text(nbb_formatted_code);\n",
       "                        }\n",
       "                        break;\n",
       "                    }\n",
       "                }\n",
       "            }, 500);\n",
       "            "
      ],
      "text/plain": [
       "<IPython.core.display.Javascript object>"
      ]
     },
     "metadata": {},
     "output_type": "display_data"
    }
   ],
   "source": [
    "N = 200\n",
    "texts = [\"the weather is great\", \"there is nothing better in the world\", \"you are great\", \"why are you so amazing\"] * N\n",
    "targets = [\"ο καιρός είναι εκπληκτικός\", \"δεν υπάρχει τίποτα καλύτερο στον κόσμο\", \"είσαι εκπληκτικός\", \"γιατί είσαι τόσο εκπληκτικός\"] * N"
   ]
  },
  {
   "cell_type": "code",
   "execution_count": 258,
   "id": "759dd6cf-fc6d-452f-9bd2-3a1a981259da",
   "metadata": {},
   "outputs": [
    {
     "data": {
      "application/javascript": [
       "\n",
       "            setTimeout(function() {\n",
       "                var nbb_cell_id = 258;\n",
       "                var nbb_unformatted_code = \"NUM_WORDS = 10_000\\nANALYZER = None\\nLOWER = False\\nOOV_TOKEN = \\\"<OOV>\\\"\\n\\n\\ntokenizer_en = Tokenizer(num_words=NUM_WORDS, analyzer=ANALYZER, lower=LOWER, oov_token=OOV_TOKEN)\\ntokenizer_gr = Tokenizer(num_words=NUM_WORDS, analyzer=ANALYZER, lower=LOWER, oov_token=OOV_TOKEN)\";\n",
       "                var nbb_formatted_code = \"NUM_WORDS = 10_000\\nANALYZER = None\\nLOWER = False\\nOOV_TOKEN = \\\"<OOV>\\\"\\n\\n\\ntokenizer_en = Tokenizer(\\n    num_words=NUM_WORDS, analyzer=ANALYZER, lower=LOWER, oov_token=OOV_TOKEN\\n)\\ntokenizer_gr = Tokenizer(\\n    num_words=NUM_WORDS, analyzer=ANALYZER, lower=LOWER, oov_token=OOV_TOKEN\\n)\";\n",
       "                var nbb_cells = Jupyter.notebook.get_cells();\n",
       "                for (var i = 0; i < nbb_cells.length; ++i) {\n",
       "                    if (nbb_cells[i].input_prompt_number == nbb_cell_id) {\n",
       "                        if (nbb_cells[i].get_text() == nbb_unformatted_code) {\n",
       "                             nbb_cells[i].set_text(nbb_formatted_code);\n",
       "                        }\n",
       "                        break;\n",
       "                    }\n",
       "                }\n",
       "            }, 500);\n",
       "            "
      ],
      "text/plain": [
       "<IPython.core.display.Javascript object>"
      ]
     },
     "metadata": {},
     "output_type": "display_data"
    }
   ],
   "source": [
    "NUM_WORDS = 10_000\n",
    "ANALYZER = None\n",
    "LOWER = False\n",
    "OOV_TOKEN = \"<OOV>\"\n",
    "\n",
    "\n",
    "tokenizer_en = Tokenizer(num_words=NUM_WORDS, analyzer=ANALYZER, lower=LOWER, oov_token=OOV_TOKEN)\n",
    "tokenizer_gr = Tokenizer(num_words=NUM_WORDS, analyzer=ANALYZER, lower=LOWER, oov_token=OOV_TOKEN)"
   ]
  },
  {
   "cell_type": "code",
   "execution_count": 259,
   "id": "bebbf170-7f1f-4702-9c25-fe3a40c59339",
   "metadata": {},
   "outputs": [
    {
     "data": {
      "application/javascript": [
       "\n",
       "            setTimeout(function() {\n",
       "                var nbb_cell_id = 259;\n",
       "                var nbb_unformatted_code = \"tokenizer_en.fit_on_texts(texts)\\ntokenizer_gr.fit_on_texts(targets)\";\n",
       "                var nbb_formatted_code = \"tokenizer_en.fit_on_texts(texts)\\ntokenizer_gr.fit_on_texts(targets)\";\n",
       "                var nbb_cells = Jupyter.notebook.get_cells();\n",
       "                for (var i = 0; i < nbb_cells.length; ++i) {\n",
       "                    if (nbb_cells[i].input_prompt_number == nbb_cell_id) {\n",
       "                        if (nbb_cells[i].get_text() == nbb_unformatted_code) {\n",
       "                             nbb_cells[i].set_text(nbb_formatted_code);\n",
       "                        }\n",
       "                        break;\n",
       "                    }\n",
       "                }\n",
       "            }, 500);\n",
       "            "
      ],
      "text/plain": [
       "<IPython.core.display.Javascript object>"
      ]
     },
     "metadata": {},
     "output_type": "display_data"
    }
   ],
   "source": [
    "tokenizer_en.fit_on_texts(texts)\n",
    "tokenizer_gr.fit_on_texts(targets)"
   ]
  },
  {
   "cell_type": "code",
   "execution_count": 260,
   "id": "7e9b3449-8d06-443d-9313-0b64f8f1b6e2",
   "metadata": {},
   "outputs": [
    {
     "name": "stdout",
     "output_type": "stream",
     "text": [
      "{'<OOV>': 1,\n",
      " 'BOS': 2,\n",
      " 'EOS': 3,\n",
      " 'amazing': 17,\n",
      " 'are': 8,\n",
      " 'better': 12,\n",
      " 'great': 6,\n",
      " 'in': 13,\n",
      " 'is': 5,\n",
      " 'nothing': 11,\n",
      " 'so': 16,\n",
      " 'the': 4,\n",
      " 'there': 10,\n",
      " 'weather': 9,\n",
      " 'why': 15,\n",
      " 'world': 14,\n",
      " 'you': 7}\n",
      "\n",
      "\n",
      "{'<OOV>': 1,\n",
      " 'BOS': 2,\n",
      " 'EOS': 3,\n",
      " 'γιατί': 15,\n",
      " 'δεν': 9,\n",
      " 'είναι': 8,\n",
      " 'είσαι': 5,\n",
      " 'εκπληκτικός': 4,\n",
      " 'καιρός': 7,\n",
      " 'καλύτερο': 12,\n",
      " 'κόσμο': 14,\n",
      " 'ο': 6,\n",
      " 'στον': 13,\n",
      " 'τίποτα': 11,\n",
      " 'τόσο': 16,\n",
      " 'υπάρχει': 10}\n"
     ]
    },
    {
     "data": {
      "application/javascript": [
       "\n",
       "            setTimeout(function() {\n",
       "                var nbb_cell_id = 260;\n",
       "                var nbb_unformatted_code = \"def create_vocab(tokenizer):\\n\\n  if tokenizer.num_words:\\n    vocab = {k: v for k, v in tokenizer.word_index.items() if v <= tokenizer.num_words}\\n  else:\\n    vocab = tokenizer.word_index\\n\\n  return vocab\\n\\n\\nvocab_en = create_vocab(tokenizer_en)\\nvocab_gr = create_vocab(tokenizer_gr)\\npp.pprint(vocab_en)\\nprint(\\\"\\\\n\\\")\\npp.pprint(vocab_gr)\\nvocab_gr_inv = {v: k for k, v in vocab_gr.items()}\";\n",
       "                var nbb_formatted_code = \"def create_vocab(tokenizer):\\n    if tokenizer.num_words:\\n        vocab = {\\n            k: v for k, v in tokenizer.word_index.items() if v <= tokenizer.num_words\\n        }\\n    else:\\n        vocab = tokenizer.word_index\\n\\n    return vocab\\n\\n\\nvocab_en = create_vocab(tokenizer_en)\\nvocab_gr = create_vocab(tokenizer_gr)\\npp.pprint(vocab_en)\\nprint(\\\"\\\\n\\\")\\npp.pprint(vocab_gr)\\nvocab_gr_inv = {v: k for k, v in vocab_gr.items()}\";\n",
       "                var nbb_cells = Jupyter.notebook.get_cells();\n",
       "                for (var i = 0; i < nbb_cells.length; ++i) {\n",
       "                    if (nbb_cells[i].input_prompt_number == nbb_cell_id) {\n",
       "                        if (nbb_cells[i].get_text() == nbb_unformatted_code) {\n",
       "                             nbb_cells[i].set_text(nbb_formatted_code);\n",
       "                        }\n",
       "                        break;\n",
       "                    }\n",
       "                }\n",
       "            }, 500);\n",
       "            "
      ],
      "text/plain": [
       "<IPython.core.display.Javascript object>"
      ]
     },
     "metadata": {},
     "output_type": "display_data"
    }
   ],
   "source": [
    "def create_vocab(tokenizer):\n",
    "\n",
    "  if tokenizer.num_words:\n",
    "    vocab = {k: v for k, v in tokenizer.word_index.items() if v <= tokenizer.num_words}\n",
    "  else:\n",
    "    vocab = tokenizer.word_index\n",
    "\n",
    "  return vocab\n",
    "\n",
    "\n",
    "vocab_en = create_vocab(tokenizer_en)\n",
    "vocab_gr = create_vocab(tokenizer_gr)\n",
    "pp.pprint(vocab_en)\n",
    "print(\"\\n\")\n",
    "pp.pprint(vocab_gr)\n",
    "vocab_gr_inv = {v: k for k, v in vocab_gr.items()}"
   ]
  },
  {
   "cell_type": "code",
   "execution_count": 261,
   "id": "8ed172a9-3317-4078-aea9-7c7b7f1bd8c3",
   "metadata": {},
   "outputs": [
    {
     "data": {
      "application/javascript": [
       "\n",
       "            setTimeout(function() {\n",
       "                var nbb_cell_id = 261;\n",
       "                var nbb_unformatted_code = \"texts_seq = tokenizer_en.texts_to_sequences(texts)\\ntargets_seq = tokenizer_gr.texts_to_sequences(targets)\";\n",
       "                var nbb_formatted_code = \"texts_seq = tokenizer_en.texts_to_sequences(texts)\\ntargets_seq = tokenizer_gr.texts_to_sequences(targets)\";\n",
       "                var nbb_cells = Jupyter.notebook.get_cells();\n",
       "                for (var i = 0; i < nbb_cells.length; ++i) {\n",
       "                    if (nbb_cells[i].input_prompt_number == nbb_cell_id) {\n",
       "                        if (nbb_cells[i].get_text() == nbb_unformatted_code) {\n",
       "                             nbb_cells[i].set_text(nbb_formatted_code);\n",
       "                        }\n",
       "                        break;\n",
       "                    }\n",
       "                }\n",
       "            }, 500);\n",
       "            "
      ],
      "text/plain": [
       "<IPython.core.display.Javascript object>"
      ]
     },
     "metadata": {},
     "output_type": "display_data"
    }
   ],
   "source": [
    "texts_seq = tokenizer_en.texts_to_sequences(texts)\n",
    "targets_seq = tokenizer_gr.texts_to_sequences(targets)"
   ]
  },
  {
   "cell_type": "code",
   "execution_count": 262,
   "id": "751dd01a-0127-43e4-be92-c4cdfff870f8",
   "metadata": {},
   "outputs": [
    {
     "name": "stdout",
     "output_type": "stream",
     "text": [
      "[[ 2  4  9 ...  0  0  0]\n",
      " [ 2 10  5 ...  4 14  3]\n",
      " [ 2  7  8 ...  0  0  0]\n",
      " ...\n",
      " [ 2 10  5 ...  4 14  3]\n",
      " [ 2  7  8 ...  0  0  0]\n",
      " [ 2 15  8 ...  3  0  0]]\n",
      "\n",
      "\n",
      "[[ 2  6  7 ...  0  0  0]\n",
      " [ 2  9 10 ... 14  3  0]\n",
      " [ 2  5  4 ...  0  0  0]\n",
      " ...\n",
      " [ 2  9 10 ... 14  3  0]\n",
      " [ 2  5  4 ...  0  0  0]\n",
      " [ 2 15  5 ...  0  0  0]]\n"
     ]
    },
    {
     "data": {
      "application/javascript": [
       "\n",
       "            setTimeout(function() {\n",
       "                var nbb_cell_id = 262;\n",
       "                var nbb_unformatted_code = \"PADDING = \\\"post\\\"\\nTRUNCATING = \\\"post\\\"\\nVALUE = 0\\nMAXLEN = 9\\n\\npadded_texts = pad_sequences(texts_seq, padding=PADDING, truncating=TRUNCATING, value=VALUE, maxlen=MAXLEN)\\npadded_targets = pad_sequences(targets_seq, padding=PADDING, truncating=TRUNCATING, value=VALUE, maxlen=MAXLEN)\\n\\nprint(padded_texts)\\nprint(\\\"\\\\n\\\")\\nprint(padded_targets)\";\n",
       "                var nbb_formatted_code = \"PADDING = \\\"post\\\"\\nTRUNCATING = \\\"post\\\"\\nVALUE = 0\\nMAXLEN = 9\\n\\npadded_texts = pad_sequences(\\n    texts_seq, padding=PADDING, truncating=TRUNCATING, value=VALUE, maxlen=MAXLEN\\n)\\npadded_targets = pad_sequences(\\n    targets_seq, padding=PADDING, truncating=TRUNCATING, value=VALUE, maxlen=MAXLEN\\n)\\n\\nprint(padded_texts)\\nprint(\\\"\\\\n\\\")\\nprint(padded_targets)\";\n",
       "                var nbb_cells = Jupyter.notebook.get_cells();\n",
       "                for (var i = 0; i < nbb_cells.length; ++i) {\n",
       "                    if (nbb_cells[i].input_prompt_number == nbb_cell_id) {\n",
       "                        if (nbb_cells[i].get_text() == nbb_unformatted_code) {\n",
       "                             nbb_cells[i].set_text(nbb_formatted_code);\n",
       "                        }\n",
       "                        break;\n",
       "                    }\n",
       "                }\n",
       "            }, 500);\n",
       "            "
      ],
      "text/plain": [
       "<IPython.core.display.Javascript object>"
      ]
     },
     "metadata": {},
     "output_type": "display_data"
    }
   ],
   "source": [
    "PADDING = \"post\"\n",
    "TRUNCATING = \"post\"\n",
    "VALUE = 0\n",
    "MAXLEN = 9\n",
    "\n",
    "padded_texts = pad_sequences(texts_seq, padding=PADDING, truncating=TRUNCATING, value=VALUE, maxlen=MAXLEN)\n",
    "padded_targets = pad_sequences(targets_seq, padding=PADDING, truncating=TRUNCATING, value=VALUE, maxlen=MAXLEN)\n",
    "\n",
    "print(padded_texts)\n",
    "print(\"\\n\")\n",
    "print(padded_targets)"
   ]
  },
  {
   "cell_type": "markdown",
   "id": "1c00e75a-31e5-40b6-bb3f-9ba587635e2f",
   "metadata": {},
   "source": [
    "# Model"
   ]
  },
  {
   "cell_type": "code",
   "execution_count": 263,
   "id": "9dafb92f-cb1e-476c-99c7-9d32a7abb510",
   "metadata": {},
   "outputs": [
    {
     "data": {
      "text/plain": [
       "(800, 9, 17)"
      ]
     },
     "execution_count": 263,
     "metadata": {},
     "output_type": "execute_result"
    },
    {
     "data": {
      "application/javascript": [
       "\n",
       "            setTimeout(function() {\n",
       "                var nbb_cell_id = 263;\n",
       "                var nbb_unformatted_code = \"input_seq = np.array(padded_texts)\\noutput_seq = np.array(padded_targets)\\noutput_seq_one_hot= to_categorical(output_seq, num_classes=len(vocab_gr) + 1)\\n\\n\\noutput_seq_one_hot.shape\";\n",
       "                var nbb_formatted_code = \"input_seq = np.array(padded_texts)\\noutput_seq = np.array(padded_targets)\\noutput_seq_one_hot = to_categorical(output_seq, num_classes=len(vocab_gr) + 1)\\n\\n\\noutput_seq_one_hot.shape\";\n",
       "                var nbb_cells = Jupyter.notebook.get_cells();\n",
       "                for (var i = 0; i < nbb_cells.length; ++i) {\n",
       "                    if (nbb_cells[i].input_prompt_number == nbb_cell_id) {\n",
       "                        if (nbb_cells[i].get_text() == nbb_unformatted_code) {\n",
       "                             nbb_cells[i].set_text(nbb_formatted_code);\n",
       "                        }\n",
       "                        break;\n",
       "                    }\n",
       "                }\n",
       "            }, 500);\n",
       "            "
      ],
      "text/plain": [
       "<IPython.core.display.Javascript object>"
      ]
     },
     "metadata": {},
     "output_type": "display_data"
    }
   ],
   "source": [
    "input_seq = np.array(padded_texts)\n",
    "output_seq = np.array(padded_targets)\n",
    "output_seq_one_hot= to_categorical(output_seq, num_classes=len(vocab_gr) + 1)\n",
    "\n",
    "\n",
    "output_seq_one_hot.shape"
   ]
  },
  {
   "cell_type": "code",
   "execution_count": 264,
   "id": "da665fc6-c8e9-4cab-9791-99ac65e2e81d",
   "metadata": {},
   "outputs": [
    {
     "data": {
      "application/javascript": [
       "\n",
       "            setTimeout(function() {\n",
       "                var nbb_cell_id = 264;\n",
       "                var nbb_unformatted_code = \"# Define input and output dimensions\\nINPUT_DIM = len(vocab_en) + 1\\nOUTPUT_DIM = 16\\n\\n\\n# Define the encoder inputs and outputs\\nencoder_inputs = Input(shape=(MAXLEN, ), name=\\\"encoder_input_layer\\\")\\nencoder_embedding = Embedding(input_dim=INPUT_DIM, output_dim=OUTPUT_DIM, input_length=MAXLEN, name=\\\"encoder_embedding_layer\\\", mask_zero=False)(encoder_inputs)\\nencoder_outputs, encoder_states = GRU(units=16, return_sequences=True, return_state=True, name=\\\"encoder_gru_layer\\\")(encoder_embedding)\\n\\n# Define the decoder inputs\\n\\n# Define the decoder GRU and Dense layers\\ndecoder_gru = GRU(units=16, return_sequences=True, return_state=False, name=\\\"decoder_gru_layer\\\")\\ndecoder_dense = Dense(units=len(vocab_gr) + 1, activation=\\\"softmax\\\", name=\\\"decoder_output_layer\\\")\\n\\n# Connect the decoder layers\\ndecoder_outputs = decoder_gru(encoder_outputs, initial_state=encoder_states)\\ndecoder_outputs = decoder_dense(decoder_outputs)\\n\\n# Define the model\\nmodel = Model(encoder_inputs, decoder_outputs)\";\n",
       "                var nbb_formatted_code = \"# Define input and output dimensions\\nINPUT_DIM = len(vocab_en) + 1\\nOUTPUT_DIM = 16\\n\\n\\n# Define the encoder inputs and outputs\\nencoder_inputs = Input(shape=(MAXLEN,), name=\\\"encoder_input_layer\\\")\\nencoder_embedding = Embedding(\\n    input_dim=INPUT_DIM,\\n    output_dim=OUTPUT_DIM,\\n    input_length=MAXLEN,\\n    name=\\\"encoder_embedding_layer\\\",\\n    mask_zero=False,\\n)(encoder_inputs)\\nencoder_outputs, encoder_states = GRU(\\n    units=16, return_sequences=True, return_state=True, name=\\\"encoder_gru_layer\\\"\\n)(encoder_embedding)\\n\\n# Define the decoder inputs\\n\\n# Define the decoder GRU and Dense layers\\ndecoder_gru = GRU(\\n    units=16, return_sequences=True, return_state=False, name=\\\"decoder_gru_layer\\\"\\n)\\ndecoder_dense = Dense(\\n    units=len(vocab_gr) + 1, activation=\\\"softmax\\\", name=\\\"decoder_output_layer\\\"\\n)\\n\\n# Connect the decoder layers\\ndecoder_outputs = decoder_gru(encoder_outputs, initial_state=encoder_states)\\ndecoder_outputs = decoder_dense(decoder_outputs)\\n\\n# Define the model\\nmodel = Model(encoder_inputs, decoder_outputs)\";\n",
       "                var nbb_cells = Jupyter.notebook.get_cells();\n",
       "                for (var i = 0; i < nbb_cells.length; ++i) {\n",
       "                    if (nbb_cells[i].input_prompt_number == nbb_cell_id) {\n",
       "                        if (nbb_cells[i].get_text() == nbb_unformatted_code) {\n",
       "                             nbb_cells[i].set_text(nbb_formatted_code);\n",
       "                        }\n",
       "                        break;\n",
       "                    }\n",
       "                }\n",
       "            }, 500);\n",
       "            "
      ],
      "text/plain": [
       "<IPython.core.display.Javascript object>"
      ]
     },
     "metadata": {},
     "output_type": "display_data"
    }
   ],
   "source": [
    "# Define input and output dimensions\n",
    "INPUT_DIM = len(vocab_en) + 1\n",
    "OUTPUT_DIM = 16\n",
    "\n",
    "\n",
    "# Define the encoder inputs and outputs\n",
    "encoder_inputs = Input(shape=(MAXLEN, ), name=\"encoder_input_layer\")\n",
    "encoder_embedding = Embedding(input_dim=INPUT_DIM, output_dim=OUTPUT_DIM, input_length=MAXLEN, name=\"encoder_embedding_layer\", mask_zero=False)(encoder_inputs)\n",
    "encoder_outputs, encoder_states = GRU(units=16, return_sequences=True, return_state=True, name=\"encoder_gru_layer\")(encoder_embedding)\n",
    "\n",
    "# Define the decoder inputs\n",
    "\n",
    "# Define the decoder GRU and Dense layers\n",
    "decoder_gru = GRU(units=16, return_sequences=True, return_state=False, name=\"decoder_gru_layer\")\n",
    "decoder_dense = Dense(units=len(vocab_gr) + 1, activation=\"softmax\", name=\"decoder_output_layer\")\n",
    "\n",
    "# Connect the decoder layers\n",
    "decoder_outputs = decoder_gru(encoder_outputs, initial_state=encoder_states)\n",
    "decoder_outputs = decoder_dense(decoder_outputs)\n",
    "\n",
    "# Define the model\n",
    "model = Model(encoder_inputs, decoder_outputs)\n"
   ]
  },
  {
   "cell_type": "code",
   "execution_count": 265,
   "id": "06182e51-93ce-4dae-a8e1-4cfbe3b6822a",
   "metadata": {},
   "outputs": [
    {
     "name": "stdout",
     "output_type": "stream",
     "text": [
      "Model: \"model_18\"\n",
      "__________________________________________________________________________________________________\n",
      " Layer (type)                   Output Shape         Param #     Connected to                     \n",
      "==================================================================================================\n",
      " encoder_input_layer (InputLaye  [(None, 9)]         0           []                               \n",
      " r)                                                                                               \n",
      "                                                                                                  \n",
      " encoder_embedding_layer (Embed  (None, 9, 16)       288         ['encoder_input_layer[0][0]']    \n",
      " ding)                                                                                            \n",
      "                                                                                                  \n",
      " encoder_gru_layer (GRU)        [(None, 9, 16),      1632        ['encoder_embedding_layer[0][0]']\n",
      "                                 (None, 16)]                                                      \n",
      "                                                                                                  \n",
      " decoder_gru_layer (GRU)        (None, 9, 16)        1632        ['encoder_gru_layer[0][0]',      \n",
      "                                                                  'encoder_gru_layer[0][1]']      \n",
      "                                                                                                  \n",
      " decoder_output_layer (Dense)   (None, 9, 17)        289         ['decoder_gru_layer[0][0]']      \n",
      "                                                                                                  \n",
      "==================================================================================================\n",
      "Total params: 3,841\n",
      "Trainable params: 3,841\n",
      "Non-trainable params: 0\n",
      "__________________________________________________________________________________________________\n"
     ]
    },
    {
     "data": {
      "application/javascript": [
       "\n",
       "            setTimeout(function() {\n",
       "                var nbb_cell_id = 265;\n",
       "                var nbb_unformatted_code = \"OPTIMIZER = Adam(learning_rate=0.01)\\nLOSS = SparseCategoricalCrossentropy()\\nMETRICS = [\\\"accuracy\\\"]\\n\\nmodel.compile(optimizer=OPTIMIZER, loss=LOSS, metrics=METRICS)\\nmodel.summary()\";\n",
       "                var nbb_formatted_code = \"OPTIMIZER = Adam(learning_rate=0.01)\\nLOSS = SparseCategoricalCrossentropy()\\nMETRICS = [\\\"accuracy\\\"]\\n\\nmodel.compile(optimizer=OPTIMIZER, loss=LOSS, metrics=METRICS)\\nmodel.summary()\";\n",
       "                var nbb_cells = Jupyter.notebook.get_cells();\n",
       "                for (var i = 0; i < nbb_cells.length; ++i) {\n",
       "                    if (nbb_cells[i].input_prompt_number == nbb_cell_id) {\n",
       "                        if (nbb_cells[i].get_text() == nbb_unformatted_code) {\n",
       "                             nbb_cells[i].set_text(nbb_formatted_code);\n",
       "                        }\n",
       "                        break;\n",
       "                    }\n",
       "                }\n",
       "            }, 500);\n",
       "            "
      ],
      "text/plain": [
       "<IPython.core.display.Javascript object>"
      ]
     },
     "metadata": {},
     "output_type": "display_data"
    }
   ],
   "source": [
    "OPTIMIZER = Adam(learning_rate=0.01)\n",
    "LOSS = SparseCategoricalCrossentropy()\n",
    "METRICS = [\"accuracy\"]\n",
    "\n",
    "model.compile(optimizer=OPTIMIZER, loss=LOSS, metrics=METRICS)\n",
    "model.summary()"
   ]
  },
  {
   "cell_type": "code",
   "execution_count": 266,
   "id": "40a7527e-6e28-4b1b-adae-8767c5ff2f57",
   "metadata": {},
   "outputs": [
    {
     "name": "stdout",
     "output_type": "stream",
     "text": [
      "Epoch 1/20\n",
      "25/25 [==============================] - 4s 5ms/step - loss: 1.9476 - accuracy: 0.4214\n",
      "Epoch 2/20\n",
      "25/25 [==============================] - 0s 4ms/step - loss: 0.9773 - accuracy: 0.6610\n",
      "Epoch 3/20\n",
      "25/25 [==============================] - 0s 5ms/step - loss: 0.4232 - accuracy: 0.9692\n",
      "Epoch 4/20\n",
      "25/25 [==============================] - 0s 5ms/step - loss: 0.1520 - accuracy: 1.0000\n",
      "Epoch 5/20\n",
      "25/25 [==============================] - 0s 4ms/step - loss: 0.0643 - accuracy: 1.0000\n",
      "Epoch 6/20\n",
      "25/25 [==============================] - 0s 5ms/step - loss: 0.0352 - accuracy: 1.0000\n",
      "Epoch 7/20\n",
      "25/25 [==============================] - 0s 5ms/step - loss: 0.0235 - accuracy: 1.0000\n",
      "Epoch 8/20\n",
      "25/25 [==============================] - 0s 4ms/step - loss: 0.0172 - accuracy: 1.0000\n",
      "Epoch 9/20\n",
      "25/25 [==============================] - 0s 4ms/step - loss: 0.0133 - accuracy: 1.0000\n",
      "Epoch 10/20\n",
      "25/25 [==============================] - 0s 5ms/step - loss: 0.0107 - accuracy: 1.0000\n",
      "Epoch 11/20\n",
      "25/25 [==============================] - 0s 5ms/step - loss: 0.0088 - accuracy: 1.0000\n",
      "Epoch 12/20\n",
      "25/25 [==============================] - 0s 4ms/step - loss: 0.0074 - accuracy: 1.0000\n",
      "Epoch 13/20\n",
      "25/25 [==============================] - 0s 4ms/step - loss: 0.0063 - accuracy: 1.0000\n",
      "Epoch 14/20\n",
      "25/25 [==============================] - 0s 4ms/step - loss: 0.0055 - accuracy: 1.0000\n",
      "Epoch 15/20\n",
      "25/25 [==============================] - 0s 4ms/step - loss: 0.0048 - accuracy: 1.0000\n",
      "Epoch 16/20\n",
      "25/25 [==============================] - 0s 5ms/step - loss: 0.0043 - accuracy: 1.0000\n",
      "Epoch 17/20\n",
      "25/25 [==============================] - 0s 4ms/step - loss: 0.0038 - accuracy: 1.0000\n",
      "Epoch 18/20\n",
      "25/25 [==============================] - 0s 4ms/step - loss: 0.0034 - accuracy: 1.0000\n",
      "Epoch 19/20\n",
      "25/25 [==============================] - 0s 5ms/step - loss: 0.0031 - accuracy: 1.0000\n",
      "Epoch 20/20\n",
      "25/25 [==============================] - 0s 5ms/step - loss: 0.0028 - accuracy: 1.0000\n"
     ]
    },
    {
     "data": {
      "text/plain": [
       "<keras.callbacks.History at 0x253aaa12f50>"
      ]
     },
     "execution_count": 266,
     "metadata": {},
     "output_type": "execute_result"
    },
    {
     "data": {
      "application/javascript": [
       "\n",
       "            setTimeout(function() {\n",
       "                var nbb_cell_id = 266;\n",
       "                var nbb_unformatted_code = \"model.fit(x=input_seq, y=output_seq, epochs=20)\";\n",
       "                var nbb_formatted_code = \"model.fit(x=input_seq, y=output_seq, epochs=20)\";\n",
       "                var nbb_cells = Jupyter.notebook.get_cells();\n",
       "                for (var i = 0; i < nbb_cells.length; ++i) {\n",
       "                    if (nbb_cells[i].input_prompt_number == nbb_cell_id) {\n",
       "                        if (nbb_cells[i].get_text() == nbb_unformatted_code) {\n",
       "                             nbb_cells[i].set_text(nbb_formatted_code);\n",
       "                        }\n",
       "                        break;\n",
       "                    }\n",
       "                }\n",
       "            }, 500);\n",
       "            "
      ],
      "text/plain": [
       "<IPython.core.display.Javascript object>"
      ]
     },
     "metadata": {},
     "output_type": "display_data"
    }
   ],
   "source": [
    "model.fit(x=input_seq, y=output_seq, epochs=20)"
   ]
  },
  {
   "cell_type": "code",
   "execution_count": 294,
   "id": "a6edb426-ea07-4166-90fa-75e4478d0380",
   "metadata": {},
   "outputs": [
    {
     "name": "stdout",
     "output_type": "stream",
     "text": [
      "input_seq_padded [[ 2 11 12  4 14  3  0  0  0]]\n",
      "1/1 [==============================] - 0s 16ms/step\n",
      "['BOS', 'ο', 'υπάρχει', 'είναι', 'εκπληκτικός', 'EOS', None, None, None]\n"
     ]
    },
    {
     "data": {
      "application/javascript": [
       "\n",
       "            setTimeout(function() {\n",
       "                var nbb_cell_id = 294;\n",
       "                var nbb_unformatted_code = \"# n_example = 300\\n# input_text = texts[n_example]\\n# print(\\\"input_text:\\\", input_text)\\n\\n\\ninput_text = [\\\"<BOS> nothing better the world <EOS>\\\"]\\ninput_seq = tokenizer_en.texts_to_sequences(input_text)\\ninput_seq_padded = pad_sequences(input_seq, padding=PADDING, truncating=TRUNCATING, value=VALUE, maxlen=MAXLEN)\\nprint(\\\"input_seq_padded\\\", input_seq_padded)\\n\\n# input_text = \\\"There is nothing in the world\\\"\\npreds_seq = model.predict(x=input_seq_padded)\\npreds = np.argmax(preds_seq, axis=-1).flatten()\\nprediction = [vocab_gr_inv.get(i) for i in preds]\\nprint(prediction)\";\n",
       "                var nbb_formatted_code = \"# n_example = 300\\n# input_text = texts[n_example]\\n# print(\\\"input_text:\\\", input_text)\\n\\n\\ninput_text = [\\\"<BOS> nothing better the world <EOS>\\\"]\\ninput_seq = tokenizer_en.texts_to_sequences(input_text)\\ninput_seq_padded = pad_sequences(\\n    input_seq, padding=PADDING, truncating=TRUNCATING, value=VALUE, maxlen=MAXLEN\\n)\\nprint(\\\"input_seq_padded\\\", input_seq_padded)\\n\\n# input_text = \\\"There is nothing in the world\\\"\\npreds_seq = model.predict(x=input_seq_padded)\\npreds = np.argmax(preds_seq, axis=-1).flatten()\\nprediction = [vocab_gr_inv.get(i) for i in preds]\\nprint(prediction)\";\n",
       "                var nbb_cells = Jupyter.notebook.get_cells();\n",
       "                for (var i = 0; i < nbb_cells.length; ++i) {\n",
       "                    if (nbb_cells[i].input_prompt_number == nbb_cell_id) {\n",
       "                        if (nbb_cells[i].get_text() == nbb_unformatted_code) {\n",
       "                             nbb_cells[i].set_text(nbb_formatted_code);\n",
       "                        }\n",
       "                        break;\n",
       "                    }\n",
       "                }\n",
       "            }, 500);\n",
       "            "
      ],
      "text/plain": [
       "<IPython.core.display.Javascript object>"
      ]
     },
     "metadata": {},
     "output_type": "display_data"
    }
   ],
   "source": [
    "# n_example = 300\n",
    "# input_text = texts[n_example]\n",
    "# print(\"input_text:\", input_text)\n",
    "\n",
    "\n",
    "input_text = [\"<BOS> nothing better the world <EOS>\"]\n",
    "input_seq = tokenizer_en.texts_to_sequences(input_text)\n",
    "input_seq_padded = pad_sequences(input_seq, padding=PADDING, truncating=TRUNCATING, value=VALUE, maxlen=MAXLEN)\n",
    "print(\"input_seq_padded\", input_seq_padded)\n",
    "\n",
    "# input_text = \"There is nothing in the world\"\n",
    "preds_seq = model.predict(x=input_seq_padded)\n",
    "preds = np.argmax(preds_seq, axis=-1).flatten()\n",
    "prediction = [vocab_gr_inv.get(i) for i in preds]\n",
    "print(prediction)\n"
   ]
  },
  {
   "cell_type": "code",
   "execution_count": null,
   "id": "c78ab1be-9835-4d42-922e-aac1d18d601d",
   "metadata": {},
   "outputs": [],
   "source": []
  }
 ],
 "metadata": {
  "kernelspec": {
   "display_name": "Python [conda env:ml]",
   "language": "python",
   "name": "conda-env-ml-py"
  },
  "language_info": {
   "codemirror_mode": {
    "name": "ipython",
    "version": 3
   },
   "file_extension": ".py",
   "mimetype": "text/x-python",
   "name": "python",
   "nbconvert_exporter": "python",
   "pygments_lexer": "ipython3",
   "version": "3.11.2"
  }
 },
 "nbformat": 4,
 "nbformat_minor": 5
}
