{
 "cells": [
  {
   "cell_type": "code",
   "execution_count": 1,
   "id": "41a84d3d",
   "metadata": {},
   "outputs": [
    {
     "data": {
      "application/javascript": [
       "\n",
       "            setTimeout(function() {\n",
       "                var nbb_cell_id = 1;\n",
       "                var nbb_unformatted_code = \"%load_ext nb_black\";\n",
       "                var nbb_formatted_code = \"%load_ext nb_black\";\n",
       "                var nbb_cells = Jupyter.notebook.get_cells();\n",
       "                for (var i = 0; i < nbb_cells.length; ++i) {\n",
       "                    if (nbb_cells[i].input_prompt_number == nbb_cell_id) {\n",
       "                        if (nbb_cells[i].get_text() == nbb_unformatted_code) {\n",
       "                             nbb_cells[i].set_text(nbb_formatted_code);\n",
       "                        }\n",
       "                        break;\n",
       "                    }\n",
       "                }\n",
       "            }, 500);\n",
       "            "
      ],
      "text/plain": [
       "<IPython.core.display.Javascript object>"
      ]
     },
     "metadata": {},
     "output_type": "display_data"
    }
   ],
   "source": [
    "%load_ext nb_black"
   ]
  },
  {
   "cell_type": "code",
   "execution_count": 2,
   "id": "cf2d18d4",
   "metadata": {},
   "outputs": [],
   "source": [
    "import matplotlib.pyplot as plt\n",
    "import numpy as np\n",
    "import pandas as pd\n",
    "import tensorflow as tf\n",
    "from sklearn.datasets import fetch_20newsgroups\n",
    "from sklearn.model_selection import train_test_split\n",
    "from tensorflow.keras.layers import (\n",
    "    RNN,\n",
    "    Activation,\n",
    "    Dense,\n",
    "    Embedding,\n",
    "    GRUCell,\n",
    "    GRU,\n",
    "    LSTMCell,\n",
    "    LSTM,\n",
    "    Bidirectional,\n",
    ")\n",
    "from tensorflow.keras.losses import SparseCategoricalCrossentropy\n",
    "from tensorflow.keras.metrics import Accuracy\n",
    "from tensorflow.keras.models import Sequential\n",
    "from tensorflow.keras.optimizers import Adam\n",
    "from tensorflow.keras.preprocessing.sequence import pad_sequences\n",
    "from tensorflow.keras.preprocessing.text import Tokenizer, text_to_word_sequence\n",
    "from tensorflow.keras.utils import set_random_seed"
   ]
  },
  {
   "cell_type": "code",
   "execution_count": 3,
   "id": "16b9c9c6",
   "metadata": {},
   "outputs": [],
   "source": [
    "news = fetch_20newsgroups()\n",
    "\n",
    "X = news[\"data\"]\n",
    "y = news[\"target\"]"
   ]
  },
  {
   "cell_type": "code",
   "execution_count": 4,
   "id": "1967bb33",
   "metadata": {},
   "outputs": [],
   "source": [
    "X_train, X_test, y_train, y_test = train_test_split(\n",
    "    X, y, test_size=0.2, random_state=42\n",
    ")"
   ]
  },
  {
   "cell_type": "code",
   "execution_count": 5,
   "id": "5514bffa",
   "metadata": {},
   "outputs": [
    {
     "data": {
      "application/javascript": [
       "\n",
       "            setTimeout(function() {\n",
       "                var nbb_cell_id = 5;\n",
       "                var nbb_unformatted_code = \"X_train_raw = pd.DataFrame(X_train, columns=[\\\"text\\\"])\\nX_test_raw = pd.DataFrame(X_test, columns=[\\\"text\\\"])\";\n",
       "                var nbb_formatted_code = \"X_train_raw = pd.DataFrame(X_train, columns=[\\\"text\\\"])\\nX_test_raw = pd.DataFrame(X_test, columns=[\\\"text\\\"])\";\n",
       "                var nbb_cells = Jupyter.notebook.get_cells();\n",
       "                for (var i = 0; i < nbb_cells.length; ++i) {\n",
       "                    if (nbb_cells[i].input_prompt_number == nbb_cell_id) {\n",
       "                        if (nbb_cells[i].get_text() == nbb_unformatted_code) {\n",
       "                             nbb_cells[i].set_text(nbb_formatted_code);\n",
       "                        }\n",
       "                        break;\n",
       "                    }\n",
       "                }\n",
       "            }, 500);\n",
       "            "
      ],
      "text/plain": [
       "<IPython.core.display.Javascript object>"
      ]
     },
     "metadata": {},
     "output_type": "display_data"
    }
   ],
   "source": [
    "X_train_raw = pd.DataFrame(X_train, columns=[\"text\"])\n",
    "X_test_raw = pd.DataFrame(X_test, columns=[\"text\"])"
   ]
  },
  {
   "cell_type": "code",
   "execution_count": 6,
   "id": "1d317950",
   "metadata": {},
   "outputs": [
    {
     "data": {
      "text/html": [
       "<div>\n",
       "<style scoped>\n",
       "    .dataframe tbody tr th:only-of-type {\n",
       "        vertical-align: middle;\n",
       "    }\n",
       "\n",
       "    .dataframe tbody tr th {\n",
       "        vertical-align: top;\n",
       "    }\n",
       "\n",
       "    .dataframe thead th {\n",
       "        text-align: right;\n",
       "    }\n",
       "</style>\n",
       "<table border=\"1\" class=\"dataframe\">\n",
       "  <thead>\n",
       "    <tr style=\"text-align: right;\">\n",
       "      <th></th>\n",
       "      <th>text</th>\n",
       "    </tr>\n",
       "  </thead>\n",
       "  <tbody>\n",
       "    <tr>\n",
       "      <th>0</th>\n",
       "      <td>From: Rupin.Dang@dartmouth.edu (Rupin Dang)\\nSubject: Nikon FM2 and lens forsale\\nOrganization: Dartmouth College, Hanover, NH\\nLines: 5\\n\\nNikon FM-2n with 50 mm Nikkor and accessories for sale.I bought this camera in\\nHong Kong two years ago and everything has been looked after very well. I'm now\\nselling some more gear to finance my next big film project.\\n\\nAsking $350 for package. NO BARGAINS.\\n</td>\n",
       "    </tr>\n",
       "    <tr>\n",
       "      <th>1</th>\n",
       "      <td>From: simon@giaeb.cc.monash.edu.au\\nSubject: St. Maria Goretti\\nOrganization: Monash University, Melb., Australia.\\nLines: 125\\n\\nHeres the life of St. MAria Goretti, posted with kind permission of\\nthe editor of the Australian Catholic Magazine \"Morning Star\".\\n\\nHope you like it.\\n\\n    Put up with anything to prevent sin St. Maria Goretti\\n\\n\\n\\n    Maria was born on October 16th 1890 to Luigi and Assunta Goretti,\\n    the  eldest  daughter  in the family of seven. She was a cheerful\\n    girl, always imitating her parents.  She had but one disire,  but\\n    one wish: to receive our Lord in the Blessed Sacrament.\\n\\n    The date was finally set for little Maria to receive our Lord  on\\n    the feast of Corpus Christi. For Maria, time seemed like an eter-\\n    nity as she  slowly  neared  the  great  day.   When  it  finally\\n    arrived, Fr. Jerome( the priest who was to celebrate the Mass and\\n    give the children their First Holy Communion) delivered a  sermon\\n    on\\tthe  immense love of Jesus Christ for them and the great love\\n    we should have in return for Him. He then warmly  urged  them  to\\n    die rather than commit a mortal sin.\\n\\n    Maria humbly approached the Altar of God and  received  the  Holy\\n    Eucharist.\\tHer  only  sadness  was  the  thought of her father's\\n    absence, who died some time beforehand. As for the\\trest  of  the\\n    day,  Maria remained under the spell of the divine visit; that is\\n    until\\n\\n\\t\\t\\t\\t   -4-\\n\\n\\n\\n\\n\\n\\n\\n    her thoughts changed to when she could go next to Holy Communion.\\n    Thus ended the happiest day of Maria's life.\\n\\n    Over the next twelve months, Maria had changed  from  a  giggling\\n    little girl into a quiet young lady with responsibilities. As her\\n    mother went out into the fields in place of  her  husband,\\tMaria\\n    took  on the ironing, cooking, washing and other motherly duties.\\n    She was doing this not only for her own family, but also for  the\\n    Serenellis, a father and son who lived with the Goretti's, owning\\n    a share in the farm. Although Maria was poorer than all the other\\n    children, she by far surpassed them in virtue. In all thi ngs she\\n    did the Holy Will of God.\\n\\n    During the month of June,  Alessandro  Serenelli(the  son)\\ttwice\\n    made advances upon Maria when he chanced to be alone with her. On\\n    both occasions Maria managed to  struggle  free  of  Alessandro's\\n    strong  grip, but on the second, he threatened to kill her if she\\n    even uttered a word to her mother. From this day on, Maria\\tlived\\n    in terror, fearing lest Alessandro attack again.\\n\\n\\n    On July 5th 1902, Alessandro left work in the fields  to  \"get  a\\n    handkerchief,\"  as\\the  claimed. He went to the storeroom beneath\\n    the house where Maria, who was outside on the  landing  with  the\\n    baby,  could  hear him fumbling about in with tools. She wondered\\n    what he was doing. It was later learned that he was sharpening  a\\n    91/2\"  blade. He went to the house and called for Maria. She told\\n    him she wouldn't go to him unless she knew why she was needed. He\\n    stormed out to the landing and dragged her up to her room. Mar ia\\n    instantly realized what he was up to. \"No, No, No! Do  not\\ttouch\\n    me!  It  is a sin, you will go to Hell!\" At this point Alessandro\\n    held the knife over Maria's chest, who was now on the floor.\\n\\n    \"Will you or will you not?\" Maria gathered all her energy.\\t\"No I\\n    will  not,\\tAlessandro,  no!\"   She had chosen her martyrdom over\\n    sin, God over Satan.  Overcome with rage, Alessandro plunged  the\\n    knife  into   Maria's  breast fourteen times.  Finally he came to\\n    his senses and thought Maria was dead.  Frantically he threw  the\\n    knife behind a closet and locked himself in his room.  The crying\\n    of the baby Teresa\\ton  the  landing  brought  the\\tattention  to\\n    Assunta  and the father of Alessandro. As the baby was unattended\\n    and was in danger of falling off, they ran to the house  to  find\\n    Maria,  who,  covered in blood, was dragging herself to the door.\\n    When asked what happened she said Alessandro  stabbed  her.   \"He\\n    wanted to make me do wrong and I would not.\"\\n\\n    The ambulance arrived, then the police who took Alessandro\\taway.\\n    As\\tthe  ambulance\\tcarried  Maria to the hospital, a large crowd\\n    followed on foot.  The doctors at the  hospital held no hope  for\\n    poor  little Maria.  The same Fr. Jerome who gave Maria her First\\n    Communion\\n\\n\\t\\t\\t\\t   -5-\\n\\n\\n\\n\\n\\n\\n\\n    came to administer the last rites and to give her Holy  Viaticum.\\n    He asked Maria if she would forgive her murderer.  \"Yes.  For the\\n    love of Jesus I forgive him.  I wish for him to one day  join  me\\n    in\\tParadise.   May  God forgive him, for I alread y have.\" Maria\\n    died at about three o'clock.\\n\\n    Alessandro was tried  and  found  guilty  of  Maria's  death  but\\n    because  of  his  age  he  was  sentenced to only thirty years in\\n    prison.  After eight  years of being a violent prisoner and show-\\n    ing  no regret for his crime, he saw in a dream, in the  midst of\\n    a field of flowers, Maria holding out a bunch of white lilies  to\\n    him.  Soon later he wrote to the local bishop, begging God's par-\\n    don for the grave sin he had committed.  He later gave  testimony\\n    in\\tMaria's  beatification in 1947.  Less than three years later,\\n    on Ju ne 24th 1950, Maria was canonised.  Assunta Goretti was the\\n    first mother ever to be present at her daughter's canonisation.\\n\\n    May St. Maria Goretti help\\tus  to\\tbe  pure  and  grant  us  the\\n    strength to die rather than commit a mortal sin.\\n\\n    Saint Maria Goretti, pray for us.\\n\\n\\n    by Brendan Arthur\\n\\n-- \\nInternet: simon@giaeb.cc.monash.edu.au  \\nViva Cristo Rey !! Long Live Christ the King.\\n</td>\n",
       "    </tr>\n",
       "    <tr>\n",
       "      <th>2</th>\n",
       "      <td>From: sun075!Gerry.Palo@uunet.uu.net (Gerry Palo)\\nSubject: Re: Good Jewish Arguments\\nLines: 90\\n\\nkwfinken@pooh.harpo.uccs.edu (Kevin W. Finkenbinder)  wrote:\\n\\n&gt;scott@born.phys.virginia.edu wrote:\\n&gt;: \\n&gt;:[intro deleted...] \\n&gt;: \\n&gt;:       1) Jesus wasn't really descended from David as the Messiah was supposed\\n&gt;: to have been. Joseph was, but Christians say that Joseph wasn't related to\\n&gt;: Jesus truthfully.\\n&gt;\\n&gt;        If you look at the geneology of Christ in Luke 3 and the one in\\n&gt;Matthew 1 you will notice that they trace different lines back to David.\\n&gt;I have been told that one traces Mary's line back to David and the other\\n&gt;traces Joseph's line back to David.  (Both of them go beyond David in\\n&gt;history)  Acording to some of my Jewish friends, \"Jewishness\" is passed\\n&gt;to a child by the mother and the legal rights of \"Jewishness\" are passed\\n&gt;through the father.  If it is true that one of these geneologies is\\n&gt;Mary's, then Christ's bloodline is from David through His mother.  This\\n&gt;also means that Christ had all of the legal rights of a decendant of\\n&gt;David as according to at least Roman law (and possibly Mosaic law as\\n&gt;well, but I am not sure) Joseph was Christ's LEGAL FATHER.\\n\\nThe argument for Luke's genealogy being that of Mary is very weak. According\\nto Luke 3:23\\n\\n   And when he began his ministry, Jesus himself was about \\n   thirty years of age, being supposedly the son of Joseph,\\n   the son of Eli,\\n\\nAside from the fact that Mary is not mentioned, there are two possible\\ninterpretations: either Joseph was her father or he was her brother.\\nClearly this is not acceptable.  A third would be that Joseph, the son\\nof Eli, was her Father and just happened to have the name as the man\\nto whom she was betrothed. But that would seem to be grasping at\\nstraws. The most straightforward interpretation is that Luke had no\\nintention of tracing Mary's genealogy (in which case he would have\\nnamed her) but that he traces her husband's, from David's son Nathan.\\n\\nThe Matthew descendant list most definitely traces down from David's\\nson, Solomon, to Joseph.  Matthew 1:16 reads:\\n\\n   And to Jacob was born Joseph, the husband of Mary, by whom was born\\n   Jesus, who is called Christ. \\n\\nThere are two apparent problems.  The first is, how to reconcile the\\ntwo paternal genealogies - which diverge with the sons of David,\\nSolomon and Nathan.  The second is, why is any genealogy of Joseph\\nrelavent at all, if Joseph had nothing to do with it.  If Joseph was\\nnot Jesus's physical father, then the original poster is quite\\ncorrect, that claims for Jesus's messianic heritage are not based on\\ntruth but only on appearances, whatever Jesus's divine nature was.\\n\\nThe second problem is easy, in my mind.  We assume that Joseph was not\\ninvolved in the conception of Jesus in any way.  However, a Holy\\nSpirit capable of working a physical conception in Mary is also\\ncapable of employing the physical agency of Joseph's seed in this\\nwork.  In our materialistic times we interpret viginity and its loss\\nsolely in terms of a physical act, whereas it is really a matter of\\npurity on a much higher level as well.  The important thing is that\\nneither Mary nor Joseph was conscious of any union between them (they\\nhad not \"known\"each other).  Thus the first gospel's dedication of\\nhalf its opening chapter to the genealogy of Joseph is quite relevant\\nto Jesus, the Virgin birth not- withstanding.\\n\\nTo the first question there is an answer that creates, to begin with, more\\nproblems than it resolves.  It is that the two evangelists are relating \\nthe births of two entirely different children of two entirely different\\nsets of parents.  Except for the names of the parents and the child, and \\nthe birthplace in Bethlehem there is no point in common between the two \\nstories.  Matthew and Luke converge in their accounts only thirty years\\nlater with the Baptism of Jesus in Jordan.  Rudolf Steiner offered his\\nexplanation of how these accounts begin with two children and then converge\\nwith their accounts of the one Jesus of Nazareth.  He did not derive his\\nresolution from biblical study or speculation, or from other external\\ndocuments, and the discussion of \"how this could be\" might bring us beyond\\nthe limits of appropriateness for this newsgroup.  In any case, the\\ndetails are described in Steiner's \"The Spiritual Guidance of the Human \\nBeing and of Humanity\", \"The Gospel of St. Luke\", and \"The Gospel of St.\\nMatthew\". \\n\\nWhether or not Rudolf Steiner's methods and explanation are accepted\\nas valid, at least this interpretation resolves the apparent\\ncontradictions of the two genealogies while leaving the text intact.\\n\\nAs for the passing of one's Jewishness through the mother, this was\\nnever an issue with Jesus. No one ever questioned his or Mary's\\nJewishness.  The issue of the genealogies has to do with his paternal\\nline of descent from David, the king.\\n\\nGerry Palo (73237.2006@compuserve.com)\\n</td>\n",
       "    </tr>\n",
       "    <tr>\n",
       "      <th>3</th>\n",
       "      <td>From: downs@helios.nevada.edu (Lamont Downs)\\nSubject: Re: Windows 3.1 keeps crashing: Please HELP\\nLines: 18\\nNntp-Posting-Host: cat.lv-lib.nevada.edu\\nOrganization: UNLV\\n\\nIn article &lt;1993Apr16.155637.15398@oracle.us.oracle.com&gt; ebosco@us.oracle.com (Eric Bosco) writes:\\n&gt;From: ebosco@us.oracle.com (Eric Bosco)\\n&gt;Subject: Windows 3.1 keeps crashing: Please HELP\\n&gt;Date: Fri, 16 Apr 1993 15:56:37 GMT\\n&gt;\\n&gt;As the subjects says, Windows 3.1 keeps crashing (givinh me GPF) on me of  \\n&gt;late.  It was never a very stable package, but now it seems to crash every  \\n&gt;day.  The worst part about it is that it does not crash consistently: ie I  \\n\\nHave you tried setting FILES in your config.sys file to a fairly high\\nnumber? (I've got mine set to 100; I've seen numbers from 40 to 100 \\nrecommended). Also check your STACKS statement, STACKS=9,256 is a good\\nstarting point. Try increasing it if it's already set there (such as\\nto STACKS=12,256, etc.). Both STACKS and FILES have been identified as\\n_one_ cause of frequent Win3.1 crashes.\\n\\nLamont Downs\\ndowns@nevada.edu\\n</td>\n",
       "    </tr>\n",
       "    <tr>\n",
       "      <th>4</th>\n",
       "      <td>From: U52885@uicvm.uic.edu\\nSubject: Re: Gateway 2000 486DX/33 too noisy\\nArticle-I.D.: uicvm.93096.135225U52885\\nDistribution: usa\\nOrganization: University of Illinois at Chicago, academic Computer Center\\nLines: 15\\n\\nIn article &lt;114152@bu.edu&gt;, lcai@acs2.bu.edu says:\\n&gt;\\n&gt;I just received my Gateway 2000 486DX/33 mini-desktop system.\\n&gt;The first thing I noticed when I plugged in the power cord is the\\n&gt;noise that comes from the fan. In fact I can hear the noise in\\n\\nIf your Gateway is equipped with a Western hard drive, then the noise\\nis probably coming from there and not from the fan.  The Western drives\\nare notoriously noisy.  On the other hand, if you don't have a Western\\ndrive, then maybe it is the fan.  There's not alot to do about it except\\ninsulate around the cpu somehow.\\n\\nBarry Aldridge\\nU of I/Chicago &amp; 24-Hour Bar-B-Q\\nStandard Old Disclaimer\\n</td>\n",
       "    </tr>\n",
       "  </tbody>\n",
       "</table>\n",
       "</div>"
      ],
      "text/plain": [
       "                                                                                                                                                                                                                                                                                                                                                                                                                                                                                                                                                                                                                                                                                                                                                                                                                                                                                                                                                                                                                                                                                                                                                                                                                                                                                                                                                                                                                                                                                                                                                                                                                                                                                                                                                                                                                                                                                                                                                                                                                                                                                                                                                                                                                                                                                                                                                                                                                                                                                                                                                                                                                                                                                                                                                                                                                                                                                                                                                                                                                                                                                                                                                                                                                                                                                                                                                                                                                                                                                                                                                                                                                                                                                                                                                                                                                                                                                                                                                                                                                                                                                                                                                                                                                                                                                                                                                                                                                                                                                                                                                                                                                                                                                                                                                                                                                                                                                                                                                                                                                                                                                                                                                                                                                                                                                                                                                                                                                                                                                                                                                                                                                                                                                                                                                                                                                                                                                                                                                                                                                                                                                                                                    text\n",
       "0                                                                                                                                                                                                                                                                                                                                                                                                                                                                                                                                                                                                                                                                                                                                                                                                                                                                                                                                                                                                                                                                                                                                                                                                                                                                                                                                                                                                                                                                                                                                                                                                                                                                                                                                                                                                                                                                                                                                                                                                                                                                                                                                                                                                                                                                                                                                                                                                                                                                                                                                                                                                                                                                                                                                                                                                                                                                                                                                                                                                                                                                                                                                                                                                                                                                                                                                                                                                                                                                                                                                                                                                                                                                                                                                                                                                                                                                                                                                                                                                                                                                                                                                                                                                                                                                                                                                                                                                                                                                                                                                                                                                                                                                                                                                                                                                                                                                                                                                                                                                                                                                                                                                                                                                                                                                                                                                                                                                                                                                                                                                                                                                                                                                                                                    From: Rupin.Dang@dartmouth.edu (Rupin Dang)\\nSubject: Nikon FM2 and lens forsale\\nOrganization: Dartmouth College, Hanover, NH\\nLines: 5\\n\\nNikon FM-2n with 50 mm Nikkor and accessories for sale.I bought this camera in\\nHong Kong two years ago and everything has been looked after very well. I'm now\\nselling some more gear to finance my next big film project.\\n\\nAsking $350 for package. NO BARGAINS.\\n\n",
       "1  From: simon@giaeb.cc.monash.edu.au\\nSubject: St. Maria Goretti\\nOrganization: Monash University, Melb., Australia.\\nLines: 125\\n\\nHeres the life of St. MAria Goretti, posted with kind permission of\\nthe editor of the Australian Catholic Magazine \"Morning Star\".\\n\\nHope you like it.\\n\\n    Put up with anything to prevent sin St. Maria Goretti\\n\\n\\n\\n    Maria was born on October 16th 1890 to Luigi and Assunta Goretti,\\n    the  eldest  daughter  in the family of seven. She was a cheerful\\n    girl, always imitating her parents.  She had but one disire,  but\\n    one wish: to receive our Lord in the Blessed Sacrament.\\n\\n    The date was finally set for little Maria to receive our Lord  on\\n    the feast of Corpus Christi. For Maria, time seemed like an eter-\\n    nity as she  slowly  neared  the  great  day.   When  it  finally\\n    arrived, Fr. Jerome( the priest who was to celebrate the Mass and\\n    give the children their First Holy Communion) delivered a  sermon\\n    on\\tthe  immense love of Jesus Christ for them and the great love\\n    we should have in return for Him. He then warmly  urged  them  to\\n    die rather than commit a mortal sin.\\n\\n    Maria humbly approached the Altar of God and  received  the  Holy\\n    Eucharist.\\tHer  only  sadness  was  the  thought of her father's\\n    absence, who died some time beforehand. As for the\\trest  of  the\\n    day,  Maria remained under the spell of the divine visit; that is\\n    until\\n\\n\\t\\t\\t\\t   -4-\\n\\n\\n\\n\\n\\n\\n\\n    her thoughts changed to when she could go next to Holy Communion.\\n    Thus ended the happiest day of Maria's life.\\n\\n    Over the next twelve months, Maria had changed  from  a  giggling\\n    little girl into a quiet young lady with responsibilities. As her\\n    mother went out into the fields in place of  her  husband,\\tMaria\\n    took  on the ironing, cooking, washing and other motherly duties.\\n    She was doing this not only for her own family, but also for  the\\n    Serenellis, a father and son who lived with the Goretti's, owning\\n    a share in the farm. Although Maria was poorer than all the other\\n    children, she by far surpassed them in virtue. In all thi ngs she\\n    did the Holy Will of God.\\n\\n    During the month of June,  Alessandro  Serenelli(the  son)\\ttwice\\n    made advances upon Maria when he chanced to be alone with her. On\\n    both occasions Maria managed to  struggle  free  of  Alessandro's\\n    strong  grip, but on the second, he threatened to kill her if she\\n    even uttered a word to her mother. From this day on, Maria\\tlived\\n    in terror, fearing lest Alessandro attack again.\\n\\n\\n    On July 5th 1902, Alessandro left work in the fields  to  \"get  a\\n    handkerchief,\"  as\\the  claimed. He went to the storeroom beneath\\n    the house where Maria, who was outside on the  landing  with  the\\n    baby,  could  hear him fumbling about in with tools. She wondered\\n    what he was doing. It was later learned that he was sharpening  a\\n    91/2\"  blade. He went to the house and called for Maria. She told\\n    him she wouldn't go to him unless she knew why she was needed. He\\n    stormed out to the landing and dragged her up to her room. Mar ia\\n    instantly realized what he was up to. \"No, No, No! Do  not\\ttouch\\n    me!  It  is a sin, you will go to Hell!\" At this point Alessandro\\n    held the knife over Maria's chest, who was now on the floor.\\n\\n    \"Will you or will you not?\" Maria gathered all her energy.\\t\"No I\\n    will  not,\\tAlessandro,  no!\"   She had chosen her martyrdom over\\n    sin, God over Satan.  Overcome with rage, Alessandro plunged  the\\n    knife  into   Maria's  breast fourteen times.  Finally he came to\\n    his senses and thought Maria was dead.  Frantically he threw  the\\n    knife behind a closet and locked himself in his room.  The crying\\n    of the baby Teresa\\ton  the  landing  brought  the\\tattention  to\\n    Assunta  and the father of Alessandro. As the baby was unattended\\n    and was in danger of falling off, they ran to the house  to  find\\n    Maria,  who,  covered in blood, was dragging herself to the door.\\n    When asked what happened she said Alessandro  stabbed  her.   \"He\\n    wanted to make me do wrong and I would not.\"\\n\\n    The ambulance arrived, then the police who took Alessandro\\taway.\\n    As\\tthe  ambulance\\tcarried  Maria to the hospital, a large crowd\\n    followed on foot.  The doctors at the  hospital held no hope  for\\n    poor  little Maria.  The same Fr. Jerome who gave Maria her First\\n    Communion\\n\\n\\t\\t\\t\\t   -5-\\n\\n\\n\\n\\n\\n\\n\\n    came to administer the last rites and to give her Holy  Viaticum.\\n    He asked Maria if she would forgive her murderer.  \"Yes.  For the\\n    love of Jesus I forgive him.  I wish for him to one day  join  me\\n    in\\tParadise.   May  God forgive him, for I alread y have.\" Maria\\n    died at about three o'clock.\\n\\n    Alessandro was tried  and  found  guilty  of  Maria's  death  but\\n    because  of  his  age  he  was  sentenced to only thirty years in\\n    prison.  After eight  years of being a violent prisoner and show-\\n    ing  no regret for his crime, he saw in a dream, in the  midst of\\n    a field of flowers, Maria holding out a bunch of white lilies  to\\n    him.  Soon later he wrote to the local bishop, begging God's par-\\n    don for the grave sin he had committed.  He later gave  testimony\\n    in\\tMaria's  beatification in 1947.  Less than three years later,\\n    on Ju ne 24th 1950, Maria was canonised.  Assunta Goretti was the\\n    first mother ever to be present at her daughter's canonisation.\\n\\n    May St. Maria Goretti help\\tus  to\\tbe  pure  and  grant  us  the\\n    strength to die rather than commit a mortal sin.\\n\\n    Saint Maria Goretti, pray for us.\\n\\n\\n    by Brendan Arthur\\n\\n-- \\nInternet: simon@giaeb.cc.monash.edu.au  \\nViva Cristo Rey !! Long Live Christ the King.\\n\n",
       "2                                                                                                                                                                                                                                                                                                                                                                                                                                                                                                                                                                                                                                                                                                                                                                                                                                                                                                                                        From: sun075!Gerry.Palo@uunet.uu.net (Gerry Palo)\\nSubject: Re: Good Jewish Arguments\\nLines: 90\\n\\nkwfinken@pooh.harpo.uccs.edu (Kevin W. Finkenbinder)  wrote:\\n\\n>scott@born.phys.virginia.edu wrote:\\n>: \\n>:[intro deleted...] \\n>: \\n>:       1) Jesus wasn't really descended from David as the Messiah was supposed\\n>: to have been. Joseph was, but Christians say that Joseph wasn't related to\\n>: Jesus truthfully.\\n>\\n>        If you look at the geneology of Christ in Luke 3 and the one in\\n>Matthew 1 you will notice that they trace different lines back to David.\\n>I have been told that one traces Mary's line back to David and the other\\n>traces Joseph's line back to David.  (Both of them go beyond David in\\n>history)  Acording to some of my Jewish friends, \"Jewishness\" is passed\\n>to a child by the mother and the legal rights of \"Jewishness\" are passed\\n>through the father.  If it is true that one of these geneologies is\\n>Mary's, then Christ's bloodline is from David through His mother.  This\\n>also means that Christ had all of the legal rights of a decendant of\\n>David as according to at least Roman law (and possibly Mosaic law as\\n>well, but I am not sure) Joseph was Christ's LEGAL FATHER.\\n\\nThe argument for Luke's genealogy being that of Mary is very weak. According\\nto Luke 3:23\\n\\n   And when he began his ministry, Jesus himself was about \\n   thirty years of age, being supposedly the son of Joseph,\\n   the son of Eli,\\n\\nAside from the fact that Mary is not mentioned, there are two possible\\ninterpretations: either Joseph was her father or he was her brother.\\nClearly this is not acceptable.  A third would be that Joseph, the son\\nof Eli, was her Father and just happened to have the name as the man\\nto whom she was betrothed. But that would seem to be grasping at\\nstraws. The most straightforward interpretation is that Luke had no\\nintention of tracing Mary's genealogy (in which case he would have\\nnamed her) but that he traces her husband's, from David's son Nathan.\\n\\nThe Matthew descendant list most definitely traces down from David's\\nson, Solomon, to Joseph.  Matthew 1:16 reads:\\n\\n   And to Jacob was born Joseph, the husband of Mary, by whom was born\\n   Jesus, who is called Christ. \\n\\nThere are two apparent problems.  The first is, how to reconcile the\\ntwo paternal genealogies - which diverge with the sons of David,\\nSolomon and Nathan.  The second is, why is any genealogy of Joseph\\nrelavent at all, if Joseph had nothing to do with it.  If Joseph was\\nnot Jesus's physical father, then the original poster is quite\\ncorrect, that claims for Jesus's messianic heritage are not based on\\ntruth but only on appearances, whatever Jesus's divine nature was.\\n\\nThe second problem is easy, in my mind.  We assume that Joseph was not\\ninvolved in the conception of Jesus in any way.  However, a Holy\\nSpirit capable of working a physical conception in Mary is also\\ncapable of employing the physical agency of Joseph's seed in this\\nwork.  In our materialistic times we interpret viginity and its loss\\nsolely in terms of a physical act, whereas it is really a matter of\\npurity on a much higher level as well.  The important thing is that\\nneither Mary nor Joseph was conscious of any union between them (they\\nhad not \"known\"each other).  Thus the first gospel's dedication of\\nhalf its opening chapter to the genealogy of Joseph is quite relevant\\nto Jesus, the Virgin birth not- withstanding.\\n\\nTo the first question there is an answer that creates, to begin with, more\\nproblems than it resolves.  It is that the two evangelists are relating \\nthe births of two entirely different children of two entirely different\\nsets of parents.  Except for the names of the parents and the child, and \\nthe birthplace in Bethlehem there is no point in common between the two \\nstories.  Matthew and Luke converge in their accounts only thirty years\\nlater with the Baptism of Jesus in Jordan.  Rudolf Steiner offered his\\nexplanation of how these accounts begin with two children and then converge\\nwith their accounts of the one Jesus of Nazareth.  He did not derive his\\nresolution from biblical study or speculation, or from other external\\ndocuments, and the discussion of \"how this could be\" might bring us beyond\\nthe limits of appropriateness for this newsgroup.  In any case, the\\ndetails are described in Steiner's \"The Spiritual Guidance of the Human \\nBeing and of Humanity\", \"The Gospel of St. Luke\", and \"The Gospel of St.\\nMatthew\". \\n\\nWhether or not Rudolf Steiner's methods and explanation are accepted\\nas valid, at least this interpretation resolves the apparent\\ncontradictions of the two genealogies while leaving the text intact.\\n\\nAs for the passing of one's Jewishness through the mother, this was\\nnever an issue with Jesus. No one ever questioned his or Mary's\\nJewishness.  The issue of the genealogies has to do with his paternal\\nline of descent from David, the king.\\n\\nGerry Palo (73237.2006@compuserve.com)\\n\n",
       "3                                                                                                                                                                                                                                                                                                                                                                                                                                                                                                                                                                                                                                                                                                                                                                                                                                                                                                                                                                                                                                                                                                                                                                                                                                                                                                                                                                                                                                                                                                                                                                                                                                                                                                                                                                                                                                                                                                                                                                                                                                                                                                                                                                                                                                                                                                                                                                                                                                                                                                                                                                                                                                                                                                                                                                                                                                                                                                                                                                                                                                                                                                                                                                                                                                                                                                                                                                                                                                                                                                                                                                                                                                                                                                                                                                                                                                                                                                                                                                                                                                                                                                                                                                                                                                                                                                                                                                                                                                                                                                                                                                                                                                                                                                                                                                                                                                                                                                                                                                                                                  From: downs@helios.nevada.edu (Lamont Downs)\\nSubject: Re: Windows 3.1 keeps crashing: Please HELP\\nLines: 18\\nNntp-Posting-Host: cat.lv-lib.nevada.edu\\nOrganization: UNLV\\n\\nIn article <1993Apr16.155637.15398@oracle.us.oracle.com> ebosco@us.oracle.com (Eric Bosco) writes:\\n>From: ebosco@us.oracle.com (Eric Bosco)\\n>Subject: Windows 3.1 keeps crashing: Please HELP\\n>Date: Fri, 16 Apr 1993 15:56:37 GMT\\n>\\n>As the subjects says, Windows 3.1 keeps crashing (givinh me GPF) on me of  \\n>late.  It was never a very stable package, but now it seems to crash every  \\n>day.  The worst part about it is that it does not crash consistently: ie I  \\n\\nHave you tried setting FILES in your config.sys file to a fairly high\\nnumber? (I've got mine set to 100; I've seen numbers from 40 to 100 \\nrecommended). Also check your STACKS statement, STACKS=9,256 is a good\\nstarting point. Try increasing it if it's already set there (such as\\nto STACKS=12,256, etc.). Both STACKS and FILES have been identified as\\n_one_ cause of frequent Win3.1 crashes.\\n\\nLamont Downs\\ndowns@nevada.edu\\n\n",
       "4                                                                                                                                                                                                                                                                                                                                                                                                                                                                                                                                                                                                                                                                                                                                                                                                                                                                                                                                                                                                                                                                                                                                                                                                                                                                                                                                                                                                                                                                                                                                                                                                                                                                                                                                                                                                                                                                                                                                                                                                                                                                                                                                                                                                                                                                                                                                                                                                                                                                                                                                                                                                                                                                                                                                                                                                                                                                                                                                                                                                                                                                                                                                                                                                                                                                                                                                                                                                                                                                                                                                                                                                                                                                                                                                                                                                                                                                                                                                                                                                                                                                                                                                                                                                                                                                                                                                                                                                                                                                                                                                                                                                                                                                                                                                                                                                                                                                                                                                                                                                                                                                                                                                                                                                                           From: U52885@uicvm.uic.edu\\nSubject: Re: Gateway 2000 486DX/33 too noisy\\nArticle-I.D.: uicvm.93096.135225U52885\\nDistribution: usa\\nOrganization: University of Illinois at Chicago, academic Computer Center\\nLines: 15\\n\\nIn article <114152@bu.edu>, lcai@acs2.bu.edu says:\\n>\\n>I just received my Gateway 2000 486DX/33 mini-desktop system.\\n>The first thing I noticed when I plugged in the power cord is the\\n>noise that comes from the fan. In fact I can hear the noise in\\n\\nIf your Gateway is equipped with a Western hard drive, then the noise\\nis probably coming from there and not from the fan.  The Western drives\\nare notoriously noisy.  On the other hand, if you don't have a Western\\ndrive, then maybe it is the fan.  There's not alot to do about it except\\ninsulate around the cpu somehow.\\n\\nBarry Aldridge\\nU of I/Chicago & 24-Hour Bar-B-Q\\nStandard Old Disclaimer\\n"
      ]
     },
     "execution_count": 6,
     "metadata": {},
     "output_type": "execute_result"
    },
    {
     "data": {
      "application/javascript": [
       "\n",
       "            setTimeout(function() {\n",
       "                var nbb_cell_id = 6;\n",
       "                var nbb_unformatted_code = \"pd.set_option(\\\"display.max_colwidth\\\", None)\\n\\nX_train_raw.head()\";\n",
       "                var nbb_formatted_code = \"pd.set_option(\\\"display.max_colwidth\\\", None)\\n\\nX_train_raw.head()\";\n",
       "                var nbb_cells = Jupyter.notebook.get_cells();\n",
       "                for (var i = 0; i < nbb_cells.length; ++i) {\n",
       "                    if (nbb_cells[i].input_prompt_number == nbb_cell_id) {\n",
       "                        if (nbb_cells[i].get_text() == nbb_unformatted_code) {\n",
       "                             nbb_cells[i].set_text(nbb_formatted_code);\n",
       "                        }\n",
       "                        break;\n",
       "                    }\n",
       "                }\n",
       "            }, 500);\n",
       "            "
      ],
      "text/plain": [
       "<IPython.core.display.Javascript object>"
      ]
     },
     "metadata": {},
     "output_type": "display_data"
    }
   ],
   "source": [
    "pd.set_option(\"display.max_colwidth\", None)\n",
    "\n",
    "X_train_raw.head()"
   ]
  },
  {
   "cell_type": "markdown",
   "id": "8aaacae9",
   "metadata": {},
   "source": [
    "# Train data"
   ]
  },
  {
   "cell_type": "markdown",
   "id": "5878d47d",
   "metadata": {},
   "source": [
    "## Set tokenizer"
   ]
  },
  {
   "cell_type": "code",
   "execution_count": 7,
   "id": "274cbbba",
   "metadata": {},
   "outputs": [
    {
     "data": {
      "application/javascript": [
       "\n",
       "            setTimeout(function() {\n",
       "                var nbb_cell_id = 7;\n",
       "                var nbb_unformatted_code = \"OOV_TOKEN = \\\"<OOV>\\\"\\nLOWER = True\\nCHAR_LEVEL = False\\nNUM_WORDS = 10000  # Number of terms which will be used for the creating the vocabulary.\\n\\n\\ntokenizer = Tokenizer(\\n    oov_token=OOV_TOKEN,\\n    split=\\\" \\\",\\n    lower=LOWER,\\n    char_level=CHAR_LEVEL,\\n    num_words=NUM_WORDS,\\n)\";\n",
       "                var nbb_formatted_code = \"OOV_TOKEN = \\\"<OOV>\\\"\\nLOWER = True\\nCHAR_LEVEL = False\\nNUM_WORDS = 10000  # Number of terms which will be used for the creating the vocabulary.\\n\\n\\ntokenizer = Tokenizer(\\n    oov_token=OOV_TOKEN,\\n    split=\\\" \\\",\\n    lower=LOWER,\\n    char_level=CHAR_LEVEL,\\n    num_words=NUM_WORDS,\\n)\";\n",
       "                var nbb_cells = Jupyter.notebook.get_cells();\n",
       "                for (var i = 0; i < nbb_cells.length; ++i) {\n",
       "                    if (nbb_cells[i].input_prompt_number == nbb_cell_id) {\n",
       "                        if (nbb_cells[i].get_text() == nbb_unformatted_code) {\n",
       "                             nbb_cells[i].set_text(nbb_formatted_code);\n",
       "                        }\n",
       "                        break;\n",
       "                    }\n",
       "                }\n",
       "            }, 500);\n",
       "            "
      ],
      "text/plain": [
       "<IPython.core.display.Javascript object>"
      ]
     },
     "metadata": {},
     "output_type": "display_data"
    }
   ],
   "source": [
    "OOV_TOKEN = \"<OOV>\"\n",
    "LOWER = True\n",
    "CHAR_LEVEL = False\n",
    "NUM_WORDS = 10000  # Number of terms which will be used for the creating the vocabulary.\n",
    "\n",
    "\n",
    "tokenizer = Tokenizer(\n",
    "    oov_token=OOV_TOKEN,\n",
    "    split=\" \",\n",
    "    lower=LOWER,\n",
    "    char_level=CHAR_LEVEL,\n",
    "    num_words=NUM_WORDS,\n",
    ")"
   ]
  },
  {
   "cell_type": "code",
   "execution_count": 8,
   "id": "c881262a",
   "metadata": {},
   "outputs": [
    {
     "data": {
      "application/javascript": [
       "\n",
       "            setTimeout(function() {\n",
       "                var nbb_cell_id = 8;\n",
       "                var nbb_unformatted_code = \"tokenizer.fit_on_texts(X_train_raw[\\\"text\\\"].values)\";\n",
       "                var nbb_formatted_code = \"tokenizer.fit_on_texts(X_train_raw[\\\"text\\\"].values)\";\n",
       "                var nbb_cells = Jupyter.notebook.get_cells();\n",
       "                for (var i = 0; i < nbb_cells.length; ++i) {\n",
       "                    if (nbb_cells[i].input_prompt_number == nbb_cell_id) {\n",
       "                        if (nbb_cells[i].get_text() == nbb_unformatted_code) {\n",
       "                             nbb_cells[i].set_text(nbb_formatted_code);\n",
       "                        }\n",
       "                        break;\n",
       "                    }\n",
       "                }\n",
       "            }, 500);\n",
       "            "
      ],
      "text/plain": [
       "<IPython.core.display.Javascript object>"
      ]
     },
     "metadata": {},
     "output_type": "display_data"
    }
   ],
   "source": [
    "tokenizer.fit_on_texts(X_train_raw[\"text\"].values)"
   ]
  },
  {
   "cell_type": "code",
   "execution_count": 9,
   "id": "fad372ba",
   "metadata": {},
   "outputs": [
    {
     "data": {
      "application/javascript": [
       "\n",
       "            setTimeout(function() {\n",
       "                var nbb_cell_id = 9;\n",
       "                var nbb_unformatted_code = \"index_word = tokenizer.index_word\\nword_index = {v: k for k, v in tokenizer.index_word.items()}\\n\\n\\nvocabulary = {i: index_word.get(i) for i in range(1, NUM_WORDS)}\\nvocabulary_inverse = {w: i for i, w in vocabulary.items()}\";\n",
       "                var nbb_formatted_code = \"index_word = tokenizer.index_word\\nword_index = {v: k for k, v in tokenizer.index_word.items()}\\n\\n\\nvocabulary = {i: index_word.get(i) for i in range(1, NUM_WORDS)}\\nvocabulary_inverse = {w: i for i, w in vocabulary.items()}\";\n",
       "                var nbb_cells = Jupyter.notebook.get_cells();\n",
       "                for (var i = 0; i < nbb_cells.length; ++i) {\n",
       "                    if (nbb_cells[i].input_prompt_number == nbb_cell_id) {\n",
       "                        if (nbb_cells[i].get_text() == nbb_unformatted_code) {\n",
       "                             nbb_cells[i].set_text(nbb_formatted_code);\n",
       "                        }\n",
       "                        break;\n",
       "                    }\n",
       "                }\n",
       "            }, 500);\n",
       "            "
      ],
      "text/plain": [
       "<IPython.core.display.Javascript object>"
      ]
     },
     "metadata": {},
     "output_type": "display_data"
    }
   ],
   "source": [
    "index_word = tokenizer.index_word\n",
    "word_index = {v: k for k, v in tokenizer.index_word.items()}\n",
    "\n",
    "\n",
    "vocabulary = {i: index_word.get(i) for i in range(1, NUM_WORDS)}\n",
    "vocabulary_inverse = {w: i for i, w in vocabulary.items()}"
   ]
  },
  {
   "cell_type": "code",
   "execution_count": 10,
   "id": "45d142af",
   "metadata": {},
   "outputs": [
    {
     "data": {
      "application/javascript": [
       "\n",
       "            setTimeout(function() {\n",
       "                var nbb_cell_id = 10;\n",
       "                var nbb_unformatted_code = \"texts_to_sequences_train = tokenizer.texts_to_sequences(X_train_raw[\\\"text\\\"].values)\";\n",
       "                var nbb_formatted_code = \"texts_to_sequences_train = tokenizer.texts_to_sequences(X_train_raw[\\\"text\\\"].values)\";\n",
       "                var nbb_cells = Jupyter.notebook.get_cells();\n",
       "                for (var i = 0; i < nbb_cells.length; ++i) {\n",
       "                    if (nbb_cells[i].input_prompt_number == nbb_cell_id) {\n",
       "                        if (nbb_cells[i].get_text() == nbb_unformatted_code) {\n",
       "                             nbb_cells[i].set_text(nbb_formatted_code);\n",
       "                        }\n",
       "                        break;\n",
       "                    }\n",
       "                }\n",
       "            }, 500);\n",
       "            "
      ],
      "text/plain": [
       "<IPython.core.display.Javascript object>"
      ]
     },
     "metadata": {},
     "output_type": "display_data"
    }
   ],
   "source": [
    "texts_to_sequences_train = tokenizer.texts_to_sequences(X_train_raw[\"text\"].values)"
   ]
  },
  {
   "cell_type": "code",
   "execution_count": 11,
   "id": "707b9067",
   "metadata": {},
   "outputs": [
    {
     "data": {
      "application/javascript": [
       "\n",
       "            setTimeout(function() {\n",
       "                var nbb_cell_id = 11;\n",
       "                var nbb_unformatted_code = \"PADDING = \\\"post\\\"\\nTRUNCATING = \\\"post\\\"\\nMAXLEN = 120\\n\\nsequences_padded_train = pad_sequences(\\n    texts_to_sequences_train, padding=PADDING, truncating=TRUNCATING, maxlen=MAXLEN\\n)\";\n",
       "                var nbb_formatted_code = \"PADDING = \\\"post\\\"\\nTRUNCATING = \\\"post\\\"\\nMAXLEN = 120\\n\\nsequences_padded_train = pad_sequences(\\n    texts_to_sequences_train, padding=PADDING, truncating=TRUNCATING, maxlen=MAXLEN\\n)\";\n",
       "                var nbb_cells = Jupyter.notebook.get_cells();\n",
       "                for (var i = 0; i < nbb_cells.length; ++i) {\n",
       "                    if (nbb_cells[i].input_prompt_number == nbb_cell_id) {\n",
       "                        if (nbb_cells[i].get_text() == nbb_unformatted_code) {\n",
       "                             nbb_cells[i].set_text(nbb_formatted_code);\n",
       "                        }\n",
       "                        break;\n",
       "                    }\n",
       "                }\n",
       "            }, 500);\n",
       "            "
      ],
      "text/plain": [
       "<IPython.core.display.Javascript object>"
      ]
     },
     "metadata": {},
     "output_type": "display_data"
    }
   ],
   "source": [
    "PADDING = \"post\"\n",
    "TRUNCATING = \"post\"\n",
    "MAXLEN = 120\n",
    "\n",
    "sequences_padded_train = pad_sequences(\n",
    "    texts_to_sequences_train, padding=PADDING, truncating=TRUNCATING, maxlen=MAXLEN\n",
    ")"
   ]
  },
  {
   "cell_type": "markdown",
   "id": "473a2b9e",
   "metadata": {},
   "source": [
    "## Test data"
   ]
  },
  {
   "cell_type": "code",
   "execution_count": 12,
   "id": "9d5113fb",
   "metadata": {},
   "outputs": [
    {
     "data": {
      "application/javascript": [
       "\n",
       "            setTimeout(function() {\n",
       "                var nbb_cell_id = 12;\n",
       "                var nbb_unformatted_code = \"texts_to_sequences_test = tokenizer.texts_to_sequences(X_test_raw[\\\"text\\\"].values)\";\n",
       "                var nbb_formatted_code = \"texts_to_sequences_test = tokenizer.texts_to_sequences(X_test_raw[\\\"text\\\"].values)\";\n",
       "                var nbb_cells = Jupyter.notebook.get_cells();\n",
       "                for (var i = 0; i < nbb_cells.length; ++i) {\n",
       "                    if (nbb_cells[i].input_prompt_number == nbb_cell_id) {\n",
       "                        if (nbb_cells[i].get_text() == nbb_unformatted_code) {\n",
       "                             nbb_cells[i].set_text(nbb_formatted_code);\n",
       "                        }\n",
       "                        break;\n",
       "                    }\n",
       "                }\n",
       "            }, 500);\n",
       "            "
      ],
      "text/plain": [
       "<IPython.core.display.Javascript object>"
      ]
     },
     "metadata": {},
     "output_type": "display_data"
    }
   ],
   "source": [
    "texts_to_sequences_test = tokenizer.texts_to_sequences(X_test_raw[\"text\"].values)"
   ]
  },
  {
   "cell_type": "code",
   "execution_count": 13,
   "id": "1013b27d",
   "metadata": {},
   "outputs": [
    {
     "data": {
      "application/javascript": [
       "\n",
       "            setTimeout(function() {\n",
       "                var nbb_cell_id = 13;\n",
       "                var nbb_unformatted_code = \"sequences_padded_test = pad_sequences(\\n    texts_to_sequences_test, padding=PADDING, truncating=TRUNCATING, maxlen=MAXLEN\\n)\";\n",
       "                var nbb_formatted_code = \"sequences_padded_test = pad_sequences(\\n    texts_to_sequences_test, padding=PADDING, truncating=TRUNCATING, maxlen=MAXLEN\\n)\";\n",
       "                var nbb_cells = Jupyter.notebook.get_cells();\n",
       "                for (var i = 0; i < nbb_cells.length; ++i) {\n",
       "                    if (nbb_cells[i].input_prompt_number == nbb_cell_id) {\n",
       "                        if (nbb_cells[i].get_text() == nbb_unformatted_code) {\n",
       "                             nbb_cells[i].set_text(nbb_formatted_code);\n",
       "                        }\n",
       "                        break;\n",
       "                    }\n",
       "                }\n",
       "            }, 500);\n",
       "            "
      ],
      "text/plain": [
       "<IPython.core.display.Javascript object>"
      ]
     },
     "metadata": {},
     "output_type": "display_data"
    }
   ],
   "source": [
    "sequences_padded_test = pad_sequences(\n",
    "    texts_to_sequences_test, padding=PADDING, truncating=TRUNCATING, maxlen=MAXLEN\n",
    ")"
   ]
  },
  {
   "cell_type": "markdown",
   "id": "b657e76c",
   "metadata": {},
   "source": [
    "# Create model"
   ]
  },
  {
   "cell_type": "code",
   "execution_count": 14,
   "id": "8596e97d",
   "metadata": {},
   "outputs": [
    {
     "name": "stdout",
     "output_type": "stream",
     "text": [
      "Model: \"simple\"\n",
      "_________________________________________________________________\n",
      " Layer (type)                Output Shape              Param #   \n",
      "=================================================================\n",
      " embedding_layer (Embedding)  (None, None, 64)         640000    \n",
      "                                                                 \n",
      " bidirectional (Bidirectiona  (None, None, 256)        197632    \n",
      " l)                                                              \n",
      "                                                                 \n",
      " bidirectional_1 (Bidirectio  (None, 124)              158224    \n",
      " nal)                                                            \n",
      "                                                                 \n",
      " dense (Dense)               (None, 64)                8000      \n",
      "                                                                 \n",
      " dense_1 (Dense)             (None, 20)                1300      \n",
      "                                                                 \n",
      "=================================================================\n",
      "Total params: 1,005,156\n",
      "Trainable params: 1,005,156\n",
      "Non-trainable params: 0\n",
      "_________________________________________________________________\n"
     ]
    },
    {
     "data": {
      "application/javascript": [
       "\n",
       "            setTimeout(function() {\n",
       "                var nbb_cell_id = 14;\n",
       "                var nbb_unformatted_code = \"set_random_seed(42)\\n\\nINPUT_DIM = NUM_WORDS  # Usually len(vocab) + 1\\nINPUT_LENGTH = MAXLEN  # Length of a sequence\\nEMBEDDING_DIM = 64\\n\\nmodel = Sequential(\\n    [\\n        Embedding(\\n            input_dim=INPUT_DIM,\\n            output_dim=EMBEDDING_DIM,\\n            # input_length=INPUT_LENGTH,\\n            weights=None,\\n            trainable=True,\\n            name=\\\"embedding_layer\\\",\\n            # Use masking to handle the variable sequence lengths\\n            mask_zero=True,\\n        ),\\n        Bidirectional(\\n            LSTM(units=128, activation=\\\"tanh\\\", return_sequences=True),\\n        ),\\n        Bidirectional(LSTM(units=62, activation=\\\"tanh\\\", return_sequences=False)),\\n        Dense(units=64, activation=\\\"relu\\\"),\\n        Dense(units=20, activation=\\\"softmax\\\"),\\n    ],\\n    name=\\\"simple\\\",\\n)\\n\\n\\nOPTIMIZER = Adam(learning_rate=0.01)\\nLOSS = SparseCategoricalCrossentropy()\\n\\n\\nmodel.compile(optimizer=OPTIMIZER, loss=LOSS, metrics=[\\\"accuracy\\\"])\\n\\nmodel.summary()\";\n",
       "                var nbb_formatted_code = \"set_random_seed(42)\\n\\nINPUT_DIM = NUM_WORDS  # Usually len(vocab) + 1\\nINPUT_LENGTH = MAXLEN  # Length of a sequence\\nEMBEDDING_DIM = 64\\n\\nmodel = Sequential(\\n    [\\n        Embedding(\\n            input_dim=INPUT_DIM,\\n            output_dim=EMBEDDING_DIM,\\n            # input_length=INPUT_LENGTH,\\n            weights=None,\\n            trainable=True,\\n            name=\\\"embedding_layer\\\",\\n            # Use masking to handle the variable sequence lengths\\n            mask_zero=True,\\n        ),\\n        Bidirectional(\\n            LSTM(units=128, activation=\\\"tanh\\\", return_sequences=True),\\n        ),\\n        Bidirectional(LSTM(units=62, activation=\\\"tanh\\\", return_sequences=False)),\\n        Dense(units=64, activation=\\\"relu\\\"),\\n        Dense(units=20, activation=\\\"softmax\\\"),\\n    ],\\n    name=\\\"simple\\\",\\n)\\n\\n\\nOPTIMIZER = Adam(learning_rate=0.01)\\nLOSS = SparseCategoricalCrossentropy()\\n\\n\\nmodel.compile(optimizer=OPTIMIZER, loss=LOSS, metrics=[\\\"accuracy\\\"])\\n\\nmodel.summary()\";\n",
       "                var nbb_cells = Jupyter.notebook.get_cells();\n",
       "                for (var i = 0; i < nbb_cells.length; ++i) {\n",
       "                    if (nbb_cells[i].input_prompt_number == nbb_cell_id) {\n",
       "                        if (nbb_cells[i].get_text() == nbb_unformatted_code) {\n",
       "                             nbb_cells[i].set_text(nbb_formatted_code);\n",
       "                        }\n",
       "                        break;\n",
       "                    }\n",
       "                }\n",
       "            }, 500);\n",
       "            "
      ],
      "text/plain": [
       "<IPython.core.display.Javascript object>"
      ]
     },
     "metadata": {},
     "output_type": "display_data"
    }
   ],
   "source": [
    "set_random_seed(42)\n",
    "\n",
    "INPUT_DIM = NUM_WORDS  # Usually len(vocab) + 1\n",
    "INPUT_LENGTH = MAXLEN  # Length of a sequence/sentence\n",
    "EMBEDDING_DIM = 64\n",
    "\n",
    "model = Sequential(\n",
    "    [\n",
    "        Embedding(\n",
    "            input_dim=INPUT_DIM,\n",
    "            output_dim=EMBEDDING_DIM,\n",
    "            # input_length=INPUT_LENGTH,\n",
    "            weights=None,\n",
    "            trainable=True,\n",
    "            name=\"embedding_layer\",\n",
    "            # Use masking to handle the variable sequence lengths\n",
    "            mask_zero=True,\n",
    "        ),\n",
    "        Bidirectional(\n",
    "            LSTM(units=128, activation=\"tanh\", return_sequences=True),\n",
    "        ),\n",
    "        Bidirectional(LSTM(units=64, activation=\"tanh\", return_sequences=False)),\n",
    "        Dense(units=64, activation=\"relu\"),\n",
    "        Dense(units=20, activation=\"softmax\"),\n",
    "    ],\n",
    "    name=\"simple\",\n",
    "l)\n",
    "\n",
    "\n",
    "OPTIMIZER = Adam(learning_rate=0.01)\n",
    "LOSS = SparseCategoricalCrossentropy()\n",
    "\n",
    "\n",
    "model.compile(optimizer=OPTIMIZER, loss=LOSS, metrics=[\"accuracy\"])\n",
    "\n",
    "model.summary()"
   ]
  },
  {
   "cell_type": "code",
   "execution_count": 15,
   "id": "80ee0502",
   "metadata": {},
   "outputs": [
    {
     "data": {
      "application/javascript": [
       "\n",
       "            setTimeout(function() {\n",
       "                var nbb_cell_id = 15;\n",
       "                var nbb_unformatted_code = \"def train(X_train, y_train, **kwargs):\\n    history = model.fit(X_train, y_train, **kwargs)\\n    return history\";\n",
       "                var nbb_formatted_code = \"def train(X_train, y_train, **kwargs):\\n    history = model.fit(X_train, y_train, **kwargs)\\n    return history\";\n",
       "                var nbb_cells = Jupyter.notebook.get_cells();\n",
       "                for (var i = 0; i < nbb_cells.length; ++i) {\n",
       "                    if (nbb_cells[i].input_prompt_number == nbb_cell_id) {\n",
       "                        if (nbb_cells[i].get_text() == nbb_unformatted_code) {\n",
       "                             nbb_cells[i].set_text(nbb_formatted_code);\n",
       "                        }\n",
       "                        break;\n",
       "                    }\n",
       "                }\n",
       "            }, 500);\n",
       "            "
      ],
      "text/plain": [
       "<IPython.core.display.Javascript object>"
      ]
     },
     "metadata": {},
     "output_type": "display_data"
    }
   ],
   "source": [
    "def train(X_train, y_train, **kwargs):\n",
    "    history = model.fit(X_train, y_train, **kwargs)\n",
    "    return history"
   ]
  },
  {
   "cell_type": "code",
   "execution_count": 16,
   "id": "4855eda0",
   "metadata": {},
   "outputs": [
    {
     "name": "stdout",
     "output_type": "stream",
     "text": [
      "Epoch 1/10\n",
      "71/71 [==============================] - 69s 672ms/step - loss: 2.4875 - accuracy: 0.2135 - val_loss: 1.7858 - val_accuracy: 0.4110\n",
      "Epoch 2/10\n",
      "71/71 [==============================] - 37s 528ms/step - loss: 1.2096 - accuracy: 0.6017 - val_loss: 1.1359 - val_accuracy: 0.6390\n",
      "Epoch 3/10\n",
      "71/71 [==============================] - 38s 534ms/step - loss: 0.6917 - accuracy: 0.7690 - val_loss: 0.9020 - val_accuracy: 0.7296\n",
      "Epoch 4/10\n",
      "71/71 [==============================] - 38s 540ms/step - loss: 0.4049 - accuracy: 0.8716 - val_loss: 0.7211 - val_accuracy: 0.7945\n",
      "Epoch 5/10\n",
      "71/71 [==============================] - 37s 526ms/step - loss: 0.2303 - accuracy: 0.9266 - val_loss: 0.8417 - val_accuracy: 0.8056\n",
      "Epoch 6/10\n",
      "71/71 [==============================] - 34s 473ms/step - loss: 0.1766 - accuracy: 0.9458 - val_loss: 0.7865 - val_accuracy: 0.8277\n",
      "Epoch 7/10\n",
      "71/71 [==============================] - 25s 347ms/step - loss: 0.1052 - accuracy: 0.9686 - val_loss: 0.8234 - val_accuracy: 0.8281\n",
      "Epoch 8/10\n",
      "71/71 [==============================] - 24s 344ms/step - loss: 0.0710 - accuracy: 0.9798 - val_loss: 0.8666 - val_accuracy: 0.8281\n",
      "Epoch 9/10\n",
      "71/71 [==============================] - 24s 345ms/step - loss: 0.0515 - accuracy: 0.9848 - val_loss: 0.9469 - val_accuracy: 0.8250\n",
      "Epoch 10/10\n",
      "71/71 [==============================] - 25s 346ms/step - loss: 0.0715 - accuracy: 0.9781 - val_loss: 0.8722 - val_accuracy: 0.8206\n"
     ]
    },
    {
     "data": {
      "application/javascript": [
       "\n",
       "            setTimeout(function() {\n",
       "                var nbb_cell_id = 16;\n",
       "                var nbb_unformatted_code = \"history = train(\\n    sequences_padded_train,\\n    y_train,\\n    validation_data=(sequences_padded_test, y_test),\\n    epochs=10,\\n    batch_size=128,\\n)\";\n",
       "                var nbb_formatted_code = \"history = train(\\n    sequences_padded_train,\\n    y_train,\\n    validation_data=(sequences_padded_test, y_test),\\n    epochs=10,\\n    batch_size=128,\\n)\";\n",
       "                var nbb_cells = Jupyter.notebook.get_cells();\n",
       "                for (var i = 0; i < nbb_cells.length; ++i) {\n",
       "                    if (nbb_cells[i].input_prompt_number == nbb_cell_id) {\n",
       "                        if (nbb_cells[i].get_text() == nbb_unformatted_code) {\n",
       "                             nbb_cells[i].set_text(nbb_formatted_code);\n",
       "                        }\n",
       "                        break;\n",
       "                    }\n",
       "                }\n",
       "            }, 500);\n",
       "            "
      ],
      "text/plain": [
       "<IPython.core.display.Javascript object>"
      ]
     },
     "metadata": {},
     "output_type": "display_data"
    }
   ],
   "source": [
    "history = train(\n",
    "    sequences_padded_train,\n",
    "    y_train,\n",
    "    validation_data=(sequences_padded_test, y_test),\n",
    "    epochs=10,\n",
    "    batch_size=128,\n",
    ")"
   ]
  },
  {
   "cell_type": "code",
   "execution_count": 19,
   "id": "84d43737",
   "metadata": {},
   "outputs": [
    {
     "data": {
      "image/png": "[encoded data removed]",
      "text/plain": [
       "<Figure size 1600x800 with 2 Axes>"
      ]
     },
     "metadata": {},
     "output_type": "display_data"
    },
    {
     "data": {
      "application/javascript": [
       "\n",
       "            setTimeout(function() {\n",
       "                var nbb_cell_id = 19;\n",
       "                var nbb_unformatted_code = \"fig, ax = plt.subplots(1, 2, figsize=(16, 8))\\n\\nfor idx, label in enumerate([\\\"loss\\\", \\\"accuracy\\\"]):\\n\\n    ax[idx].plot(history.history[f\\\"{label}\\\"], label=f\\\"training_{label}\\\")\\n    ax[idx].plot(\\n        history.history[f\\\"val_{label}\\\"], label=f\\\"validation_{label}\\\", linestyle=\\\"--\\\"\\n    )\\n    ax[idx].set_title(f\\\"{label}\\\")\\n    ax[idx].legend()\\n    ax[idx].grid(True)\\n\\n    ax[idx].set_xlabel(\\\"n_epochs\\\")\";\n",
       "                var nbb_formatted_code = \"fig, ax = plt.subplots(1, 2, figsize=(16, 8))\\n\\nfor idx, label in enumerate([\\\"loss\\\", \\\"accuracy\\\"]):\\n\\n    ax[idx].plot(history.history[f\\\"{label}\\\"], label=f\\\"training_{label}\\\")\\n    ax[idx].plot(\\n        history.history[f\\\"val_{label}\\\"], label=f\\\"validation_{label}\\\", linestyle=\\\"--\\\"\\n    )\\n    ax[idx].set_title(f\\\"{label}\\\")\\n    ax[idx].legend()\\n    ax[idx].grid(True)\\n\\n    ax[idx].set_xlabel(\\\"n_epochs\\\")\";\n",
       "                var nbb_cells = Jupyter.notebook.get_cells();\n",
       "                for (var i = 0; i < nbb_cells.length; ++i) {\n",
       "                    if (nbb_cells[i].input_prompt_number == nbb_cell_id) {\n",
       "                        if (nbb_cells[i].get_text() == nbb_unformatted_code) {\n",
       "                             nbb_cells[i].set_text(nbb_formatted_code);\n",
       "                        }\n",
       "                        break;\n",
       "                    }\n",
       "                }\n",
       "            }, 500);\n",
       "            "
      ],
      "text/plain": [
       "<IPython.core.display.Javascript object>"
      ]
     },
     "metadata": {},
     "output_type": "display_data"
    }
   ],
   "source": [
    "fig, ax = plt.subplots(1, 2, figsize=(16, 8))\n",
    "\n",
    "for idx, label in enumerate([\"loss\", \"accuracy\"]):\n",
    "\n",
    "    ax[idx].plot(history.history[f\"{label}\"], label=f\"training_{label}\")\n",
    "    ax[idx].plot(\n",
    "        history.history[f\"val_{label}\"], label=f\"validation_{label}\", linestyle=\"--\"\n",
    "    )\n",
    "    ax[idx].set_title(f\"{label}\")\n",
    "    ax[idx].legend()\n",
    "    ax[idx].grid(True)\n",
    "\n",
    "    ax[idx].set_xlabel(\"n_epochs\")"
   ]
  }
 ],
 "metadata": {
  "kernelspec": {
   "display_name": "Python [conda env:ml]",
   "language": "python",
   "name": "conda-env-ml-py"
  },
  "language_info": {
   "codemirror_mode": {
    "name": "ipython",
    "version": 3
   },
   "file_extension": ".py",
   "mimetype": "text/x-python",
   "name": "python",
   "nbconvert_exporter": "python",
   "pygments_lexer": "ipython3",
   "version": "3.10.8"
  }
 },
 "nbformat": 4,
 "nbformat_minor": 5
}
