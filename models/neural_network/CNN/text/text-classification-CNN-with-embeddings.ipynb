{
 "cells": [
  {
   "cell_type": "code",
   "execution_count": 1,
   "id": "b15c0c4e",
   "metadata": {},
   "outputs": [
    {
     "data": {
      "application/javascript": [
       "\n",
       "            setTimeout(function() {\n",
       "                var nbb_cell_id = 1;\n",
       "                var nbb_unformatted_code = \"%load_ext nb_black\";\n",
       "                var nbb_formatted_code = \"%load_ext nb_black\";\n",
       "                var nbb_cells = Jupyter.notebook.get_cells();\n",
       "                for (var i = 0; i < nbb_cells.length; ++i) {\n",
       "                    if (nbb_cells[i].input_prompt_number == nbb_cell_id) {\n",
       "                        if (nbb_cells[i].get_text() == nbb_unformatted_code) {\n",
       "                             nbb_cells[i].set_text(nbb_formatted_code);\n",
       "                        }\n",
       "                        break;\n",
       "                    }\n",
       "                }\n",
       "            }, 500);\n",
       "            "
      ],
      "text/plain": [
       "<IPython.core.display.Javascript object>"
      ]
     },
     "metadata": {},
     "output_type": "display_data"
    }
   ],
   "source": [
    "%load_ext nb_black"
   ]
  },
  {
   "cell_type": "code",
   "execution_count": 2,
   "id": "065cf413",
   "metadata": {},
   "outputs": [
    {
     "data": {
      "application/javascript": [
       "\n",
       "            setTimeout(function() {\n",
       "                var nbb_cell_id = 2;\n",
       "                var nbb_unformatted_code = \"import numpy as np\\nimport pandas as pd\\nimport tensorflow as tf\\nfrom sklearn.model_selection import train_test_split\\nfrom tensorflow.keras.layers import (LSTM, Activation, Conv1D, Conv2D, Dense,\\n                                     Embedding, Flatten,\\n                                     GlobalAveragePooling1D, MaxPooling1D,\\n                                     MaxPooling2D)\\nfrom tensorflow.keras.losses import SparseCategoricalCrossentropy\\nfrom tensorflow.keras.metrics import Accuracy\\nfrom tensorflow.keras.models import Sequential\\nfrom tensorflow.keras.optimizers import Adam\\nfrom tensorflow.keras.preprocessing.sequence import pad_sequences\\nfrom tensorflow.keras.preprocessing.text import (Tokenizer,\\n                                                 text_to_word_sequence)\\nfrom tensorflow.keras.utils import set_random_seed\";\n",
       "                var nbb_formatted_code = \"import numpy as np\\nimport pandas as pd\\nimport tensorflow as tf\\nfrom sklearn.model_selection import train_test_split\\nfrom tensorflow.keras.layers import (\\n    LSTM,\\n    Activation,\\n    Conv1D,\\n    Conv2D,\\n    Dense,\\n    Embedding,\\n    Flatten,\\n    GlobalAveragePooling1D,\\n    MaxPooling1D,\\n    MaxPooling2D,\\n)\\nfrom tensorflow.keras.losses import SparseCategoricalCrossentropy\\nfrom tensorflow.keras.metrics import Accuracy\\nfrom tensorflow.keras.models import Sequential\\nfrom tensorflow.keras.optimizers import Adam\\nfrom tensorflow.keras.preprocessing.sequence import pad_sequences\\nfrom tensorflow.keras.preprocessing.text import Tokenizer, text_to_word_sequence\\nfrom tensorflow.keras.utils import set_random_seed\";\n",
       "                var nbb_cells = Jupyter.notebook.get_cells();\n",
       "                for (var i = 0; i < nbb_cells.length; ++i) {\n",
       "                    if (nbb_cells[i].input_prompt_number == nbb_cell_id) {\n",
       "                        if (nbb_cells[i].get_text() == nbb_unformatted_code) {\n",
       "                             nbb_cells[i].set_text(nbb_formatted_code);\n",
       "                        }\n",
       "                        break;\n",
       "                    }\n",
       "                }\n",
       "            }, 500);\n",
       "            "
      ],
      "text/plain": [
       "<IPython.core.display.Javascript object>"
      ]
     },
     "metadata": {},
     "output_type": "display_data"
    }
   ],
   "source": [
    "import numpy as np\n",
    "import pandas as pd\n",
    "import tensorflow as tf\n",
    "from sklearn.model_selection import train_test_split\n",
    "from tensorflow.keras.layers import (\n",
    "    LSTM,\n",
    "    Activation,\n",
    "    Conv1D,\n",
    "    Conv2D,\n",
    "    Dense,\n",
    "    Embedding,\n",
    "    Flatten,\n",
    "    GlobalAveragePooling1D,\n",
    "    MaxPooling1D,\n",
    "    MaxPooling2D,\n",
    ")\n",
    "from tensorflow.keras.losses import SparseCategoricalCrossentropy\n",
    "from tensorflow.keras.metrics import Accuracy\n",
    "from tensorflow.keras.models import Sequential\n",
    "from tensorflow.keras.optimizers import Adam\n",
    "from tensorflow.keras.preprocessing.sequence import pad_sequences\n",
    "from tensorflow.keras.preprocessing.text import Tokenizer, text_to_word_sequence\n",
    "from tensorflow.keras.utils import set_random_seed"
   ]
  },
  {
   "cell_type": "code",
   "execution_count": 3,
   "id": "6277694b",
   "metadata": {},
   "outputs": [
    {
     "data": {
      "application/javascript": [
       "\n",
       "            setTimeout(function() {\n",
       "                var nbb_cell_id = 3;\n",
       "                var nbb_unformatted_code = \"from sklearn.datasets import fetch_20newsgroups\";\n",
       "                var nbb_formatted_code = \"from sklearn.datasets import fetch_20newsgroups\";\n",
       "                var nbb_cells = Jupyter.notebook.get_cells();\n",
       "                for (var i = 0; i < nbb_cells.length; ++i) {\n",
       "                    if (nbb_cells[i].input_prompt_number == nbb_cell_id) {\n",
       "                        if (nbb_cells[i].get_text() == nbb_unformatted_code) {\n",
       "                             nbb_cells[i].set_text(nbb_formatted_code);\n",
       "                        }\n",
       "                        break;\n",
       "                    }\n",
       "                }\n",
       "            }, 500);\n",
       "            "
      ],
      "text/plain": [
       "<IPython.core.display.Javascript object>"
      ]
     },
     "metadata": {},
     "output_type": "display_data"
    }
   ],
   "source": [
    "from sklearn.datasets import fetch_20newsgroups"
   ]
  },
  {
   "cell_type": "code",
   "execution_count": 4,
   "id": "ff9060fb",
   "metadata": {},
   "outputs": [
    {
     "data": {
      "application/javascript": [
       "\n",
       "            setTimeout(function() {\n",
       "                var nbb_cell_id = 4;\n",
       "                var nbb_unformatted_code = \"news = fetch_20newsgroups()\";\n",
       "                var nbb_formatted_code = \"news = fetch_20newsgroups()\";\n",
       "                var nbb_cells = Jupyter.notebook.get_cells();\n",
       "                for (var i = 0; i < nbb_cells.length; ++i) {\n",
       "                    if (nbb_cells[i].input_prompt_number == nbb_cell_id) {\n",
       "                        if (nbb_cells[i].get_text() == nbb_unformatted_code) {\n",
       "                             nbb_cells[i].set_text(nbb_formatted_code);\n",
       "                        }\n",
       "                        break;\n",
       "                    }\n",
       "                }\n",
       "            }, 500);\n",
       "            "
      ],
      "text/plain": [
       "<IPython.core.display.Javascript object>"
      ]
     },
     "metadata": {},
     "output_type": "display_data"
    }
   ],
   "source": [
    "news = fetch_20newsgroups()"
   ]
  },
  {
   "cell_type": "code",
   "execution_count": 5,
   "id": "22038492",
   "metadata": {},
   "outputs": [
    {
     "data": {
      "application/javascript": [
       "\n",
       "            setTimeout(function() {\n",
       "                var nbb_cell_id = 5;\n",
       "                var nbb_unformatted_code = \"X = news[\\\"data\\\"]\\ny = news[\\\"target\\\"]\";\n",
       "                var nbb_formatted_code = \"X = news[\\\"data\\\"]\\ny = news[\\\"target\\\"]\";\n",
       "                var nbb_cells = Jupyter.notebook.get_cells();\n",
       "                for (var i = 0; i < nbb_cells.length; ++i) {\n",
       "                    if (nbb_cells[i].input_prompt_number == nbb_cell_id) {\n",
       "                        if (nbb_cells[i].get_text() == nbb_unformatted_code) {\n",
       "                             nbb_cells[i].set_text(nbb_formatted_code);\n",
       "                        }\n",
       "                        break;\n",
       "                    }\n",
       "                }\n",
       "            }, 500);\n",
       "            "
      ],
      "text/plain": [
       "<IPython.core.display.Javascript object>"
      ]
     },
     "metadata": {},
     "output_type": "display_data"
    }
   ],
   "source": [
    "X = news[\"data\"]\n",
    "y = news[\"target\"]"
   ]
  },
  {
   "cell_type": "code",
   "execution_count": 6,
   "id": "9842c1a9",
   "metadata": {},
   "outputs": [
    {
     "data": {
      "application/javascript": [
       "\n",
       "            setTimeout(function() {\n",
       "                var nbb_cell_id = 6;\n",
       "                var nbb_unformatted_code = \"X_train, X_test, y_train, y_test = train_test_split(\\n    X, y, stratify=y, test_size=0.2, random_state=42\\n)\";\n",
       "                var nbb_formatted_code = \"X_train, X_test, y_train, y_test = train_test_split(\\n    X, y, stratify=y, test_size=0.2, random_state=42\\n)\";\n",
       "                var nbb_cells = Jupyter.notebook.get_cells();\n",
       "                for (var i = 0; i < nbb_cells.length; ++i) {\n",
       "                    if (nbb_cells[i].input_prompt_number == nbb_cell_id) {\n",
       "                        if (nbb_cells[i].get_text() == nbb_unformatted_code) {\n",
       "                             nbb_cells[i].set_text(nbb_formatted_code);\n",
       "                        }\n",
       "                        break;\n",
       "                    }\n",
       "                }\n",
       "            }, 500);\n",
       "            "
      ],
      "text/plain": [
       "<IPython.core.display.Javascript object>"
      ]
     },
     "metadata": {},
     "output_type": "display_data"
    }
   ],
   "source": [
    "X_train, X_test, y_train, y_test = train_test_split(\n",
    "    X, y, stratify=y, test_size=0.2, random_state=42\n",
    ")"
   ]
  },
  {
   "cell_type": "code",
   "execution_count": 7,
   "id": "b8237786",
   "metadata": {},
   "outputs": [
    {
     "data": {
      "application/javascript": [
       "\n",
       "            setTimeout(function() {\n",
       "                var nbb_cell_id = 7;\n",
       "                var nbb_unformatted_code = \"X_train_raw = pd.DataFrame(X_train, columns=[\\\"text\\\"])\\nX_test_raw = pd.DataFrame(X_test, columns=[\\\"text\\\"])\";\n",
       "                var nbb_formatted_code = \"X_train_raw = pd.DataFrame(X_train, columns=[\\\"text\\\"])\\nX_test_raw = pd.DataFrame(X_test, columns=[\\\"text\\\"])\";\n",
       "                var nbb_cells = Jupyter.notebook.get_cells();\n",
       "                for (var i = 0; i < nbb_cells.length; ++i) {\n",
       "                    if (nbb_cells[i].input_prompt_number == nbb_cell_id) {\n",
       "                        if (nbb_cells[i].get_text() == nbb_unformatted_code) {\n",
       "                             nbb_cells[i].set_text(nbb_formatted_code);\n",
       "                        }\n",
       "                        break;\n",
       "                    }\n",
       "                }\n",
       "            }, 500);\n",
       "            "
      ],
      "text/plain": [
       "<IPython.core.display.Javascript object>"
      ]
     },
     "metadata": {},
     "output_type": "display_data"
    }
   ],
   "source": [
    "X_train_raw = pd.DataFrame(X_train, columns=[\"text\"])\n",
    "X_test_raw = pd.DataFrame(X_test, columns=[\"text\"])"
   ]
  },
  {
   "cell_type": "code",
   "execution_count": 8,
   "id": "a51d2ee7",
   "metadata": {},
   "outputs": [
    {
     "data": {
      "text/plain": [
       "286.5551872721246"
      ]
     },
     "execution_count": 8,
     "metadata": {},
     "output_type": "execute_result"
    },
    {
     "data": {
      "application/javascript": [
       "\n",
       "            setTimeout(function() {\n",
       "                var nbb_cell_id = 8;\n",
       "                var nbb_unformatted_code = \"X_train_raw[\\\"text\\\"].apply(lambda x: len(x.split())).mean()\";\n",
       "                var nbb_formatted_code = \"X_train_raw[\\\"text\\\"].apply(lambda x: len(x.split())).mean()\";\n",
       "                var nbb_cells = Jupyter.notebook.get_cells();\n",
       "                for (var i = 0; i < nbb_cells.length; ++i) {\n",
       "                    if (nbb_cells[i].input_prompt_number == nbb_cell_id) {\n",
       "                        if (nbb_cells[i].get_text() == nbb_unformatted_code) {\n",
       "                             nbb_cells[i].set_text(nbb_formatted_code);\n",
       "                        }\n",
       "                        break;\n",
       "                    }\n",
       "                }\n",
       "            }, 500);\n",
       "            "
      ],
      "text/plain": [
       "<IPython.core.display.Javascript object>"
      ]
     },
     "metadata": {},
     "output_type": "display_data"
    }
   ],
   "source": [
    "X_train_raw[\"text\"].apply(lambda x: len(x.split())).mean()"
   ]
  },
  {
   "cell_type": "markdown",
   "id": "8aaacae9",
   "metadata": {},
   "source": [
    "# Train data"
   ]
  },
  {
   "cell_type": "markdown",
   "id": "5878d47d",
   "metadata": {},
   "source": [
    "## Set tokenizer"
   ]
  },
  {
   "cell_type": "code",
   "execution_count": 9,
   "id": "274cbbba",
   "metadata": {},
   "outputs": [
    {
     "data": {
      "application/javascript": [
       "\n",
       "            setTimeout(function() {\n",
       "                var nbb_cell_id = 9;\n",
       "                var nbb_unformatted_code = \"OOV_TOKEN = \\\"<OOV>\\\"\\nLOWER = True\\nCHAR_LEVEL = False\\nNUM_WORDS = 10000  # Number of terms which will be used for the creating the vocabulary.\\n\\n\\ntokenizer = Tokenizer(\\n    oov_token=OOV_TOKEN,\\n    split=\\\" \\\",\\n    lower=LOWER,\\n    char_level=CHAR_LEVEL,\\n    num_words=NUM_WORDS,\\n)\";\n",
       "                var nbb_formatted_code = \"OOV_TOKEN = \\\"<OOV>\\\"\\nLOWER = True\\nCHAR_LEVEL = False\\nNUM_WORDS = 10000  # Number of terms which will be used for the creating the vocabulary.\\n\\n\\ntokenizer = Tokenizer(\\n    oov_token=OOV_TOKEN,\\n    split=\\\" \\\",\\n    lower=LOWER,\\n    char_level=CHAR_LEVEL,\\n    num_words=NUM_WORDS,\\n)\";\n",
       "                var nbb_cells = Jupyter.notebook.get_cells();\n",
       "                for (var i = 0; i < nbb_cells.length; ++i) {\n",
       "                    if (nbb_cells[i].input_prompt_number == nbb_cell_id) {\n",
       "                        if (nbb_cells[i].get_text() == nbb_unformatted_code) {\n",
       "                             nbb_cells[i].set_text(nbb_formatted_code);\n",
       "                        }\n",
       "                        break;\n",
       "                    }\n",
       "                }\n",
       "            }, 500);\n",
       "            "
      ],
      "text/plain": [
       "<IPython.core.display.Javascript object>"
      ]
     },
     "metadata": {},
     "output_type": "display_data"
    }
   ],
   "source": [
    "OOV_TOKEN = \"<OOV>\"\n",
    "LOWER = True\n",
    "CHAR_LEVEL = False\n",
    "NUM_WORDS = 10000  # Number of terms which will be used for the creating the vocabulary.\n",
    "\n",
    "\n",
    "tokenizer = Tokenizer(\n",
    "    oov_token=OOV_TOKEN,\n",
    "    split=\" \",\n",
    "    lower=LOWER,\n",
    "    char_level=CHAR_LEVEL,\n",
    "    num_words=NUM_WORDS,\n",
    ")"
   ]
  },
  {
   "cell_type": "code",
   "execution_count": 10,
   "id": "c881262a",
   "metadata": {},
   "outputs": [
    {
     "data": {
      "application/javascript": [
       "\n",
       "            setTimeout(function() {\n",
       "                var nbb_cell_id = 10;\n",
       "                var nbb_unformatted_code = \"tokenizer.fit_on_texts(X_train_raw[\\\"text\\\"].values)\";\n",
       "                var nbb_formatted_code = \"tokenizer.fit_on_texts(X_train_raw[\\\"text\\\"].values)\";\n",
       "                var nbb_cells = Jupyter.notebook.get_cells();\n",
       "                for (var i = 0; i < nbb_cells.length; ++i) {\n",
       "                    if (nbb_cells[i].input_prompt_number == nbb_cell_id) {\n",
       "                        if (nbb_cells[i].get_text() == nbb_unformatted_code) {\n",
       "                             nbb_cells[i].set_text(nbb_formatted_code);\n",
       "                        }\n",
       "                        break;\n",
       "                    }\n",
       "                }\n",
       "            }, 500);\n",
       "            "
      ],
      "text/plain": [
       "<IPython.core.display.Javascript object>"
      ]
     },
     "metadata": {},
     "output_type": "display_data"
    }
   ],
   "source": [
    "tokenizer.fit_on_texts(X_train_raw[\"text\"].values)"
   ]
  },
  {
   "cell_type": "code",
   "execution_count": 11,
   "id": "fad372ba",
   "metadata": {},
   "outputs": [
    {
     "data": {
      "application/javascript": [
       "\n",
       "            setTimeout(function() {\n",
       "                var nbb_cell_id = 11;\n",
       "                var nbb_unformatted_code = \"index_word = tokenizer.index_word\\nword_index = {v: k for k, v in tokenizer.index_word.items()}\\n\\n\\nvocabulary = {i: index_word.get(i) for i in range(1, NUM_WORDS)}\\nvocabulary_inverse = {w: i for i, w in vocabulary.items()}\";\n",
       "                var nbb_formatted_code = \"index_word = tokenizer.index_word\\nword_index = {v: k for k, v in tokenizer.index_word.items()}\\n\\n\\nvocabulary = {i: index_word.get(i) for i in range(1, NUM_WORDS)}\\nvocabulary_inverse = {w: i for i, w in vocabulary.items()}\";\n",
       "                var nbb_cells = Jupyter.notebook.get_cells();\n",
       "                for (var i = 0; i < nbb_cells.length; ++i) {\n",
       "                    if (nbb_cells[i].input_prompt_number == nbb_cell_id) {\n",
       "                        if (nbb_cells[i].get_text() == nbb_unformatted_code) {\n",
       "                             nbb_cells[i].set_text(nbb_formatted_code);\n",
       "                        }\n",
       "                        break;\n",
       "                    }\n",
       "                }\n",
       "            }, 500);\n",
       "            "
      ],
      "text/plain": [
       "<IPython.core.display.Javascript object>"
      ]
     },
     "metadata": {},
     "output_type": "display_data"
    }
   ],
   "source": [
    "index_word = tokenizer.index_word\n",
    "word_index = {v: k for k, v in tokenizer.index_word.items()}\n",
    "\n",
    "\n",
    "vocabulary = {i: index_word.get(i) for i in range(1, NUM_WORDS)}\n",
    "vocabulary_inverse = {w: i for i, w in vocabulary.items()}"
   ]
  },
  {
   "cell_type": "code",
   "execution_count": 12,
   "id": "45d142af",
   "metadata": {},
   "outputs": [
    {
     "data": {
      "application/javascript": [
       "\n",
       "            setTimeout(function() {\n",
       "                var nbb_cell_id = 12;\n",
       "                var nbb_unformatted_code = \"texts_to_sequences_train = tokenizer.texts_to_sequences(X_train_raw[\\\"text\\\"].values)\";\n",
       "                var nbb_formatted_code = \"texts_to_sequences_train = tokenizer.texts_to_sequences(X_train_raw[\\\"text\\\"].values)\";\n",
       "                var nbb_cells = Jupyter.notebook.get_cells();\n",
       "                for (var i = 0; i < nbb_cells.length; ++i) {\n",
       "                    if (nbb_cells[i].input_prompt_number == nbb_cell_id) {\n",
       "                        if (nbb_cells[i].get_text() == nbb_unformatted_code) {\n",
       "                             nbb_cells[i].set_text(nbb_formatted_code);\n",
       "                        }\n",
       "                        break;\n",
       "                    }\n",
       "                }\n",
       "            }, 500);\n",
       "            "
      ],
      "text/plain": [
       "<IPython.core.display.Javascript object>"
      ]
     },
     "metadata": {},
     "output_type": "display_data"
    }
   ],
   "source": [
    "texts_to_sequences_train = tokenizer.texts_to_sequences(X_train_raw[\"text\"].values)"
   ]
  },
  {
   "cell_type": "code",
   "execution_count": 13,
   "id": "707b9067",
   "metadata": {},
   "outputs": [
    {
     "data": {
      "application/javascript": [
       "\n",
       "            setTimeout(function() {\n",
       "                var nbb_cell_id = 13;\n",
       "                var nbb_unformatted_code = \"PADDING = \\\"post\\\"\\nTRUNCATING = \\\"post\\\"\\nMAXLEN = 200\\n\\nsequences_padded_train = pad_sequences(\\n    texts_to_sequences_train, padding=PADDING, truncating=TRUNCATING, maxlen=MAXLEN\\n)\";\n",
       "                var nbb_formatted_code = \"PADDING = \\\"post\\\"\\nTRUNCATING = \\\"post\\\"\\nMAXLEN = 200\\n\\nsequences_padded_train = pad_sequences(\\n    texts_to_sequences_train, padding=PADDING, truncating=TRUNCATING, maxlen=MAXLEN\\n)\";\n",
       "                var nbb_cells = Jupyter.notebook.get_cells();\n",
       "                for (var i = 0; i < nbb_cells.length; ++i) {\n",
       "                    if (nbb_cells[i].input_prompt_number == nbb_cell_id) {\n",
       "                        if (nbb_cells[i].get_text() == nbb_unformatted_code) {\n",
       "                             nbb_cells[i].set_text(nbb_formatted_code);\n",
       "                        }\n",
       "                        break;\n",
       "                    }\n",
       "                }\n",
       "            }, 500);\n",
       "            "
      ],
      "text/plain": [
       "<IPython.core.display.Javascript object>"
      ]
     },
     "metadata": {},
     "output_type": "display_data"
    }
   ],
   "source": [
    "PADDING = \"post\"\n",
    "TRUNCATING = \"post\"\n",
    "MAXLEN = 200\n",
    "\n",
    "sequences_padded_train = pad_sequences(\n",
    "    texts_to_sequences_train, padding=PADDING, truncating=TRUNCATING, maxlen=MAXLEN\n",
    ")"
   ]
  },
  {
   "cell_type": "markdown",
   "id": "473a2b9e",
   "metadata": {},
   "source": [
    "## Test data"
   ]
  },
  {
   "cell_type": "code",
   "execution_count": 14,
   "id": "9d5113fb",
   "metadata": {},
   "outputs": [
    {
     "data": {
      "application/javascript": [
       "\n",
       "            setTimeout(function() {\n",
       "                var nbb_cell_id = 14;\n",
       "                var nbb_unformatted_code = \"texts_to_sequences_test = tokenizer.texts_to_sequences(X_test_raw[\\\"text\\\"].values)\";\n",
       "                var nbb_formatted_code = \"texts_to_sequences_test = tokenizer.texts_to_sequences(X_test_raw[\\\"text\\\"].values)\";\n",
       "                var nbb_cells = Jupyter.notebook.get_cells();\n",
       "                for (var i = 0; i < nbb_cells.length; ++i) {\n",
       "                    if (nbb_cells[i].input_prompt_number == nbb_cell_id) {\n",
       "                        if (nbb_cells[i].get_text() == nbb_unformatted_code) {\n",
       "                             nbb_cells[i].set_text(nbb_formatted_code);\n",
       "                        }\n",
       "                        break;\n",
       "                    }\n",
       "                }\n",
       "            }, 500);\n",
       "            "
      ],
      "text/plain": [
       "<IPython.core.display.Javascript object>"
      ]
     },
     "metadata": {},
     "output_type": "display_data"
    }
   ],
   "source": [
    "texts_to_sequences_test = tokenizer.texts_to_sequences(X_test_raw[\"text\"].values)"
   ]
  },
  {
   "cell_type": "code",
   "execution_count": 15,
   "id": "1013b27d",
   "metadata": {},
   "outputs": [
    {
     "data": {
      "application/javascript": [
       "\n",
       "            setTimeout(function() {\n",
       "                var nbb_cell_id = 15;\n",
       "                var nbb_unformatted_code = \"sequences_padded_test = pad_sequences(\\n    texts_to_sequences_test, padding=PADDING, truncating=TRUNCATING, maxlen=MAXLEN\\n)\";\n",
       "                var nbb_formatted_code = \"sequences_padded_test = pad_sequences(\\n    texts_to_sequences_test, padding=PADDING, truncating=TRUNCATING, maxlen=MAXLEN\\n)\";\n",
       "                var nbb_cells = Jupyter.notebook.get_cells();\n",
       "                for (var i = 0; i < nbb_cells.length; ++i) {\n",
       "                    if (nbb_cells[i].input_prompt_number == nbb_cell_id) {\n",
       "                        if (nbb_cells[i].get_text() == nbb_unformatted_code) {\n",
       "                             nbb_cells[i].set_text(nbb_formatted_code);\n",
       "                        }\n",
       "                        break;\n",
       "                    }\n",
       "                }\n",
       "            }, 500);\n",
       "            "
      ],
      "text/plain": [
       "<IPython.core.display.Javascript object>"
      ]
     },
     "metadata": {},
     "output_type": "display_data"
    }
   ],
   "source": [
    "sequences_padded_test = pad_sequences(\n",
    "    texts_to_sequences_test, padding=PADDING, truncating=TRUNCATING, maxlen=MAXLEN\n",
    ")"
   ]
  },
  {
   "cell_type": "markdown",
   "id": "79ac04ae",
   "metadata": {},
   "source": [
    "# Set model"
   ]
  },
  {
   "cell_type": "code",
   "execution_count": 50,
   "id": "6841e4b4",
   "metadata": {},
   "outputs": [
    {
     "name": "stdout",
     "output_type": "stream",
     "text": [
      "Model: \"simple\"\n",
      "_________________________________________________________________\n",
      " Layer (type)                Output Shape              Param #   \n",
      "=================================================================\n",
      " embedding_layer (Embedding)  (None, 200, 300)         3000000   \n",
      "                                                                 \n",
      " conv1d_3 (Conv1D)           (None, 196, 128)          192128    \n",
      "                                                                 \n",
      " global_average_pooling1d_10  (None, 128)              0         \n",
      "  (GlobalAveragePooling1D)                                       \n",
      "                                                                 \n",
      " dense_4 (Dense)             (None, 24)                3096      \n",
      "                                                                 \n",
      " dense_5 (Dense)             (None, 20)                500       \n",
      "                                                                 \n",
      "=================================================================\n",
      "Total params: 3,195,724\n",
      "Trainable params: 3,195,724\n",
      "Non-trainable params: 0\n",
      "_________________________________________________________________\n"
     ]
    },
    {
     "data": {
      "application/javascript": [
       "\n",
       "            setTimeout(function() {\n",
       "                var nbb_cell_id = 50;\n",
       "                var nbb_unformatted_code = \"set_random_seed(42)\\n\\nINPUT_DIM = NUM_WORDS  # Usually len(vocab) + 1\\nINPUT_LENGTH = MAXLEN  # Length of a sequence\\nEMBEDDING_DIM = 300\\n\\nmodel = Sequential(\\n    [\\n        Embedding(\\n            input_dim=INPUT_DIM,\\n            output_dim=EMBEDDING_DIM,\\n            input_length=INPUT_LENGTH,\\n            weights=None,\\n            trainable=True,\\n            name=\\\"embedding_layer\\\",\\n        ),\\n        Conv1D(\\n            filters=128, kernel_size=5, strides=1, padding=\\\"valid\\\", activation=\\\"relu\\\"\\n        ),  # tokens will be grouped into the size of kernel_size into a sliding way fashion\\n        GlobalAveragePooling1D(\\n            data_format=\\\"channels_last\\\",\\n            keepdims=False,\\n        ),  # Get the average of each dimension along columns -> (1, filters)\\n        Dense(units=24, activation=\\\"relu\\\"),\\n        Dense(units=20, activation=\\\"softmax\\\"),\\n    ],\\n    name=\\\"simple\\\",\\n)\\n\\n\\nOPTIMIZER = Adam(learning_rate=0.01)\\nLOSS = SparseCategoricalCrossentropy()\\n\\n\\nmodel.compile(optimizer=OPTIMIZER, loss=LOSS, metrics=[\\\"accuracy\\\"])\\n\\nmodel.summary()\";\n",
       "                var nbb_formatted_code = \"set_random_seed(42)\\n\\nINPUT_DIM = NUM_WORDS  # Usually len(vocab) + 1\\nINPUT_LENGTH = MAXLEN  # Length of a sequence\\nEMBEDDING_DIM = 300\\n\\nmodel = Sequential(\\n    [\\n        Embedding(\\n            input_dim=INPUT_DIM,\\n            output_dim=EMBEDDING_DIM,\\n            input_length=INPUT_LENGTH,\\n            weights=None,\\n            trainable=True,\\n            name=\\\"embedding_layer\\\",\\n        ),\\n        Conv1D(\\n            filters=128, kernel_size=5, strides=1, padding=\\\"valid\\\", activation=\\\"relu\\\"\\n        ),  # tokens will be grouped into the size of kernel_size into a sliding way fashion\\n        GlobalAveragePooling1D(\\n            data_format=\\\"channels_last\\\",\\n            keepdims=False,\\n        ),  # Get the average of each dimension along columns -> (1, filters)\\n        Dense(units=24, activation=\\\"relu\\\"),\\n        Dense(units=20, activation=\\\"softmax\\\"),\\n    ],\\n    name=\\\"simple\\\",\\n)\\n\\n\\nOPTIMIZER = Adam(learning_rate=0.01)\\nLOSS = SparseCategoricalCrossentropy()\\n\\n\\nmodel.compile(optimizer=OPTIMIZER, loss=LOSS, metrics=[\\\"accuracy\\\"])\\n\\nmodel.summary()\";\n",
       "                var nbb_cells = Jupyter.notebook.get_cells();\n",
       "                for (var i = 0; i < nbb_cells.length; ++i) {\n",
       "                    if (nbb_cells[i].input_prompt_number == nbb_cell_id) {\n",
       "                        if (nbb_cells[i].get_text() == nbb_unformatted_code) {\n",
       "                             nbb_cells[i].set_text(nbb_formatted_code);\n",
       "                        }\n",
       "                        break;\n",
       "                    }\n",
       "                }\n",
       "            }, 500);\n",
       "            "
      ],
      "text/plain": [
       "<IPython.core.display.Javascript object>"
      ]
     },
     "metadata": {},
     "output_type": "display_data"
    }
   ],
   "source": [
    "set_random_seed(42)\n",
    "\n",
    "INPUT_DIM = NUM_WORDS  # Usually len(vocab) + 1\n",
    "INPUT_LENGTH = MAXLEN  # Length of a sequence\n",
    "EMBEDDING_DIM = 300\n",
    "\n",
    "model = Sequential(\n",
    "    [\n",
    "        Embedding(\n",
    "            input_dim=INPUT_DIM,\n",
    "            output_dim=EMBEDDING_DIM,\n",
    "            input_length=INPUT_LENGTH,\n",
    "            weights=None,\n",
    "            trainable=True,\n",
    "            name=\"embedding_layer\",\n",
    "        ),\n",
    "        Conv1D(\n",
    "            filters=128, kernel_size=5, strides=1, padding=\"valid\", activation=\"relu\"\n",
    "        ),  # tokens will be grouped into the size of kernel_size into a sliding way fashion\n",
    "        GlobalAveragePooling1D(\n",
    "            data_format=\"channels_last\",\n",
    "            keepdims=False,\n",
    "        ),  # Get the average of each dimension along columns, which basically\n",
    "        #  correspond to sequential \"tokens\" in the sentence -> (1, filters)\n",
    "        Dense(units=24, activation=\"relu\"),\n",
    "        Dense(units=20, activation=\"softmax\"),\n",
    "    ],\n",
    "    name=\"simple\",\n",
    ")\n",
    "\n",
    "\n",
    "OPTIMIZER = Adam(learning_rate=0.01)\n",
    "LOSS = SparseCategoricalCrossentropy()\n",
    "\n",
    "\n",
    "model.compile(optimizer=OPTIMIZER, loss=LOSS, metrics=[\"accuracy\"])\n",
    "\n",
    "model.summary()"
   ]
  },
  {
   "cell_type": "code",
   "execution_count": 51,
   "id": "b51256f6",
   "metadata": {},
   "outputs": [
    {
     "data": {
      "application/javascript": [
       "\n",
       "            setTimeout(function() {\n",
       "                var nbb_cell_id = 51;\n",
       "                var nbb_unformatted_code = \"def train(X_train, y_train, **kwargs):\\n    history = model.fit(X_train, y_train, **kwargs)\\n    return history\";\n",
       "                var nbb_formatted_code = \"def train(X_train, y_train, **kwargs):\\n    history = model.fit(X_train, y_train, **kwargs)\\n    return history\";\n",
       "                var nbb_cells = Jupyter.notebook.get_cells();\n",
       "                for (var i = 0; i < nbb_cells.length; ++i) {\n",
       "                    if (nbb_cells[i].input_prompt_number == nbb_cell_id) {\n",
       "                        if (nbb_cells[i].get_text() == nbb_unformatted_code) {\n",
       "                             nbb_cells[i].set_text(nbb_formatted_code);\n",
       "                        }\n",
       "                        break;\n",
       "                    }\n",
       "                }\n",
       "            }, 500);\n",
       "            "
      ],
      "text/plain": [
       "<IPython.core.display.Javascript object>"
      ]
     },
     "metadata": {},
     "output_type": "display_data"
    }
   ],
   "source": [
    "def train(X_train, y_train, **kwargs):\n",
    "    history = model.fit(X_train, y_train, **kwargs)\n",
    "    return history"
   ]
  },
  {
   "cell_type": "code",
   "execution_count": 52,
   "id": "cc2d12f3",
   "metadata": {},
   "outputs": [
    {
     "name": "stdout",
     "output_type": "stream",
     "text": [
      "Epoch 1/10\n",
      "71/71 [==============================] - 3s 37ms/step - loss: 1.5331 - accuracy: 0.5248 - val_loss: 0.6663 - val_accuracy: 0.7989\n",
      "Epoch 2/10\n",
      "71/71 [==============================] - 2s 33ms/step - loss: 0.2871 - accuracy: 0.9234 - val_loss: 0.5300 - val_accuracy: 0.8542\n",
      "Epoch 3/10\n",
      "71/71 [==============================] - 2s 33ms/step - loss: 0.0709 - accuracy: 0.9823 - val_loss: 0.7186 - val_accuracy: 0.8431\n",
      "Epoch 4/10\n",
      "71/71 [==============================] - 2s 33ms/step - loss: 0.0384 - accuracy: 0.9907 - val_loss: 0.7906 - val_accuracy: 0.8475\n",
      "Epoch 5/10\n",
      "71/71 [==============================] - 2s 33ms/step - loss: 0.0267 - accuracy: 0.9948 - val_loss: 0.8238 - val_accuracy: 0.8506\n",
      "Epoch 6/10\n",
      "71/71 [==============================] - 2s 33ms/step - loss: 0.0368 - accuracy: 0.9894 - val_loss: 1.0122 - val_accuracy: 0.8356\n",
      "Epoch 7/10\n",
      "71/71 [==============================] - 2s 33ms/step - loss: 0.0738 - accuracy: 0.9791 - val_loss: 0.9728 - val_accuracy: 0.8299\n",
      "Epoch 8/10\n",
      "71/71 [==============================] - 2s 33ms/step - loss: 0.0565 - accuracy: 0.9856 - val_loss: 1.0541 - val_accuracy: 0.8294\n",
      "Epoch 9/10\n",
      "71/71 [==============================] - 2s 33ms/step - loss: 0.0467 - accuracy: 0.9873 - val_loss: 1.0651 - val_accuracy: 0.8356\n",
      "Epoch 10/10\n",
      "71/71 [==============================] - 2s 33ms/step - loss: 0.0441 - accuracy: 0.9895 - val_loss: 1.0949 - val_accuracy: 0.8303\n"
     ]
    },
    {
     "data": {
      "application/javascript": [
       "\n",
       "            setTimeout(function() {\n",
       "                var nbb_cell_id = 52;\n",
       "                var nbb_unformatted_code = \"history = train(\\n    sequences_padded_train,\\n    y_train,\\n    validation_data=(sequences_padded_test, y_test),\\n    epochs=10,\\n    batch_size=128,\\n)\";\n",
       "                var nbb_formatted_code = \"history = train(\\n    sequences_padded_train,\\n    y_train,\\n    validation_data=(sequences_padded_test, y_test),\\n    epochs=10,\\n    batch_size=128,\\n)\";\n",
       "                var nbb_cells = Jupyter.notebook.get_cells();\n",
       "                for (var i = 0; i < nbb_cells.length; ++i) {\n",
       "                    if (nbb_cells[i].input_prompt_number == nbb_cell_id) {\n",
       "                        if (nbb_cells[i].get_text() == nbb_unformatted_code) {\n",
       "                             nbb_cells[i].set_text(nbb_formatted_code);\n",
       "                        }\n",
       "                        break;\n",
       "                    }\n",
       "                }\n",
       "            }, 500);\n",
       "            "
      ],
      "text/plain": [
       "<IPython.core.display.Javascript object>"
      ]
     },
     "metadata": {},
     "output_type": "display_data"
    }
   ],
   "source": [
    "history = train(\n",
    "    sequences_padded_train,\n",
    "    y_train,\n",
    "    validation_data=(sequences_padded_test, y_test),\n",
    "    epochs=10,\n",
    "    batch_size=128,\n",
    ")"
   ]
  },
  {
   "cell_type": "markdown",
   "id": "325e7cef",
   "metadata": {},
   "source": [
    "# Model architecture concept"
   ]
  },
  {
   "cell_type": "markdown",
   "id": "70bf7e61",
   "metadata": {},
   "source": [
    "## 1.  Get a specific example"
   ]
  },
  {
   "cell_type": "code",
   "execution_count": 19,
   "id": "c7130863",
   "metadata": {},
   "outputs": [
    {
     "data": {
      "application/javascript": [
       "\n",
       "            setTimeout(function() {\n",
       "                var nbb_cell_id = 19;\n",
       "                var nbb_unformatted_code = \"preprocessed_x = tf.convert_to_tensor([[1, 20, 5, 100, 5, 6, 0, 0, 0, 0]])\";\n",
       "                var nbb_formatted_code = \"preprocessed_x = tf.convert_to_tensor([[1, 20, 5, 100, 5, 6, 0, 0, 0, 0]])\";\n",
       "                var nbb_cells = Jupyter.notebook.get_cells();\n",
       "                for (var i = 0; i < nbb_cells.length; ++i) {\n",
       "                    if (nbb_cells[i].input_prompt_number == nbb_cell_id) {\n",
       "                        if (nbb_cells[i].get_text() == nbb_unformatted_code) {\n",
       "                             nbb_cells[i].set_text(nbb_formatted_code);\n",
       "                        }\n",
       "                        break;\n",
       "                    }\n",
       "                }\n",
       "            }, 500);\n",
       "            "
      ],
      "text/plain": [
       "<IPython.core.display.Javascript object>"
      ]
     },
     "metadata": {},
     "output_type": "display_data"
    }
   ],
   "source": [
    "preprocessed_x = tf.convert_to_tensor([[1, 20, 5, 100, 5, 6, 0, 0, 0, 0]])"
   ]
  },
  {
   "cell_type": "markdown",
   "id": "f1a90b58",
   "metadata": {},
   "source": [
    "## 2. Transform each word into an embedding vector\n",
    "\n",
    "- Each token (out of 10) is converted into an embedding of size 300."
   ]
  },
  {
   "cell_type": "code",
   "execution_count": 20,
   "id": "1645fd33",
   "metadata": {},
   "outputs": [
    {
     "data": {
      "text/plain": [
       "<tf.Tensor: shape=(1, 10, 300), dtype=float32, numpy=\n",
       "array([[[-0.01138071, -0.00028052,  0.00486631, ..., -0.03133049,\n",
       "          0.00459578, -0.00654196],\n",
       "        [-0.03527732, -0.02593962, -0.00941326, ..., -0.01866294,\n",
       "          0.04566784,  0.04125491],\n",
       "        [-0.01446673, -0.04826748, -0.04033958, ...,  0.04247494,\n",
       "         -0.00073688,  0.02294165],\n",
       "        ...,\n",
       "        [ 0.04956419, -0.03067314,  0.03253037, ..., -0.04128636,\n",
       "          0.00944753, -0.01768367],\n",
       "        [ 0.04956419, -0.03067314,  0.03253037, ..., -0.04128636,\n",
       "          0.00944753, -0.01768367],\n",
       "        [ 0.04956419, -0.03067314,  0.03253037, ..., -0.04128636,\n",
       "          0.00944753, -0.01768367]]], dtype=float32)>"
      ]
     },
     "execution_count": 20,
     "metadata": {},
     "output_type": "execute_result"
    },
    {
     "data": {
      "application/javascript": [
       "\n",
       "            setTimeout(function() {\n",
       "                var nbb_cell_id = 20;\n",
       "                var nbb_unformatted_code = \"x_embeddings = Embedding(\\n    input_dim=INPUT_DIM,\\n    output_dim=EMBEDDING_DIM,\\n    input_length=10,\\n    weights=None,\\n    trainable=True,\\n    name=\\\"embedding_layer\\\",\\n)(preprocessed_x)\\n\\n\\nx_embeddings\";\n",
       "                var nbb_formatted_code = \"x_embeddings = Embedding(\\n    input_dim=INPUT_DIM,\\n    output_dim=EMBEDDING_DIM,\\n    input_length=10,\\n    weights=None,\\n    trainable=True,\\n    name=\\\"embedding_layer\\\",\\n)(preprocessed_x)\\n\\n\\nx_embeddings\";\n",
       "                var nbb_cells = Jupyter.notebook.get_cells();\n",
       "                for (var i = 0; i < nbb_cells.length; ++i) {\n",
       "                    if (nbb_cells[i].input_prompt_number == nbb_cell_id) {\n",
       "                        if (nbb_cells[i].get_text() == nbb_unformatted_code) {\n",
       "                             nbb_cells[i].set_text(nbb_formatted_code);\n",
       "                        }\n",
       "                        break;\n",
       "                    }\n",
       "                }\n",
       "            }, 500);\n",
       "            "
      ],
      "text/plain": [
       "<IPython.core.display.Javascript object>"
      ]
     },
     "metadata": {},
     "output_type": "display_data"
    }
   ],
   "source": [
    "x_embeddings = Embedding(\n",
    "    input_dim=INPUT_DIM,\n",
    "    output_dim=EMBEDDING_DIM,\n",
    "    input_length=10,\n",
    "    weights=None,\n",
    "    trainable=True,\n",
    "    name=\"embedding_layer\",\n",
    ")(preprocessed_x)\n",
    "\n",
    "\n",
    "x_embeddings"
   ]
  },
  {
   "cell_type": "markdown",
   "id": "8402c40d",
   "metadata": {},
   "source": [
    "# Convolutional layer\n",
    "\n",
    "- Group 5 (kernel_size) tokens together in a sliding fashion and apply a filter (creating a feature map)\n",
    "- Apply 128 filters in total"
   ]
  },
  {
   "cell_type": "code",
   "execution_count": 21,
   "id": "95ae558c",
   "metadata": {},
   "outputs": [
    {
     "data": {
      "text/plain": [
       "<tf.Tensor: shape=(1, 6, 128), dtype=float32, numpy=\n",
       "array([[[-5.34108169e-02,  5.47105446e-02,  1.98208597e-02,\n",
       "         -4.18145321e-02, -2.33813785e-02, -5.71361568e-04,\n",
       "          2.00376362e-02,  1.33971227e-02,  4.69140150e-02,\n",
       "         -4.71926443e-02,  4.84785251e-02,  7.59591684e-02,\n",
       "         -8.63344350e-04, -2.96909790e-02,  3.32187079e-02,\n",
       "          4.65907007e-02, -6.89424202e-02, -6.22935258e-02,\n",
       "         -4.74914163e-02, -2.16751639e-02, -3.01345773e-02,\n",
       "         -1.78914089e-02,  4.55379561e-02,  4.90763932e-02,\n",
       "          1.27896667e-02, -6.53295685e-03,  4.91316691e-02,\n",
       "          5.45761585e-02,  5.66323772e-02, -1.55160138e-02,\n",
       "         -3.11801657e-02,  3.23185660e-02,  1.54267307e-02,\n",
       "         -1.55090252e-02, -2.99233869e-02, -1.29870167e-02,\n",
       "          4.71019745e-03,  6.35879338e-02,  8.96916818e-03,\n",
       "          1.39941657e-02, -2.62946114e-02, -5.47023788e-02,\n",
       "         -2.68323272e-02, -3.58169265e-02, -6.40312955e-03,\n",
       "          2.22741328e-02, -8.18172321e-02,  4.37248452e-03,\n",
       "          7.62474397e-03,  9.68542695e-02, -3.17407660e-02,\n",
       "          1.36709176e-02,  3.53156701e-02, -1.46957990e-02,\n",
       "         -3.24165933e-02,  5.34471124e-02, -4.54277247e-02,\n",
       "         -4.30058315e-02, -1.95190161e-02,  1.30973244e-03,\n",
       "         -4.51480877e-03, -6.44318089e-02,  1.35379620e-02,\n",
       "          8.63487795e-02,  2.34884229e-02,  2.47975159e-02,\n",
       "         -2.97624599e-02, -6.86654914e-03,  2.52657756e-02,\n",
       "         -6.77289395e-03, -3.94622050e-02, -2.25999709e-02,\n",
       "          3.51529047e-02, -5.62851271e-03, -5.00684197e-04,\n",
       "          4.74732816e-02,  4.91050333e-02,  1.65924635e-02,\n",
       "          2.09693089e-02, -1.93217341e-02, -2.87814420e-02,\n",
       "          5.92698678e-02,  4.47892211e-02,  2.41487753e-02,\n",
       "          3.80648358e-04,  2.53637843e-02, -3.63638997e-03,\n",
       "          4.18607742e-02,  3.40023637e-02, -7.54131898e-02,\n",
       "          1.05762212e-02, -4.30706739e-02,  1.10085122e-02,\n",
       "          7.35726207e-03,  1.32938502e-02, -1.13018733e-02,\n",
       "          1.09255631e-02,  3.11185457e-02, -3.24441791e-02,\n",
       "          3.57623100e-02, -4.74823341e-02, -8.40007141e-03,\n",
       "          2.50613447e-02,  4.00279015e-02,  6.23419927e-03,\n",
       "         -1.28325252e-02, -1.65455160e-03, -3.34209204e-03,\n",
       "         -1.84468378e-03,  6.20794948e-03,  7.49475956e-02,\n",
       "         -4.45573032e-02,  1.26221729e-03, -2.25210823e-02,\n",
       "          1.30126467e-02, -6.04013875e-02,  2.09100619e-02,\n",
       "          7.78566208e-03, -6.55902624e-02, -2.23246161e-02,\n",
       "          3.18609476e-02, -6.05156785e-03, -2.61699408e-02,\n",
       "          1.73457917e-02, -4.55205552e-02, -8.89269859e-02,\n",
       "         -4.25264016e-02, -2.71252170e-02],\n",
       "        [ 1.55630996e-02, -5.53851016e-02, -5.75895943e-02,\n",
       "          5.88947237e-02, -3.44211534e-02, -1.03948563e-02,\n",
       "          5.24259685e-03,  3.66388611e-03,  1.69973727e-02,\n",
       "         -4.27357759e-03, -8.18120129e-03,  3.27212666e-03,\n",
       "          1.10506676e-02, -3.45034190e-02, -1.14733046e-02,\n",
       "         -5.48936166e-02,  5.90582378e-03, -1.37577970e-02,\n",
       "          2.28713285e-02,  6.21744730e-02, -2.53374707e-02,\n",
       "          3.23561169e-02,  6.80393353e-02,  3.93171981e-02,\n",
       "         -7.27631559e-05, -3.02148052e-02, -8.47981945e-02,\n",
       "         -1.76335555e-02,  1.12367505e-02, -2.25353949e-02,\n",
       "          9.40717291e-03,  7.70026967e-02,  7.38596031e-03,\n",
       "          7.56643713e-03,  5.00426628e-02, -3.75880450e-02,\n",
       "          8.30366276e-03,  3.80868725e-02, -3.64101380e-02,\n",
       "          8.00057198e-04,  1.47601059e-02, -2.78566834e-02,\n",
       "         -1.16934516e-02,  4.74540442e-02, -8.03760514e-02,\n",
       "          2.60310918e-02,  4.17506415e-03, -1.60279665e-02,\n",
       "         -1.15664704e-02,  3.22768688e-02, -1.27303526e-02,\n",
       "         -1.21709378e-02, -4.78917137e-02, -1.86031610e-02,\n",
       "         -3.84928659e-02,  1.14716087e-02, -4.50930670e-02,\n",
       "         -6.01172708e-02,  2.08168346e-02,  1.26977284e-02,\n",
       "         -3.36741772e-03,  3.88177931e-02,  3.42924111e-02,\n",
       "          1.68253370e-02, -1.00510335e-02,  5.32955267e-02,\n",
       "         -5.83254546e-02,  2.41822526e-02, -7.03770062e-03,\n",
       "          3.46699506e-02,  5.25896624e-02, -8.49305280e-03,\n",
       "         -3.21322083e-02, -1.60637610e-02,  4.46125641e-02,\n",
       "         -3.46097611e-02,  2.60995105e-02, -4.58698720e-02,\n",
       "          1.27165336e-02, -4.56321798e-03, -1.69869270e-02,\n",
       "         -4.69750389e-02, -1.43191544e-02, -3.66878286e-02,\n",
       "          2.16869581e-02, -3.37506272e-02, -2.06575412e-02,\n",
       "          1.63626820e-02, -5.95369516e-03, -7.56021775e-03,\n",
       "          1.53560350e-02, -5.67660294e-02,  7.11463508e-05,\n",
       "         -7.52487080e-03, -1.39357865e-01,  1.00195482e-02,\n",
       "         -1.83180366e-02,  4.38244417e-02,  4.86577861e-02,\n",
       "          1.15724541e-02, -2.75445078e-02, -6.36126623e-02,\n",
       "         -2.54995953e-02, -4.95267613e-03, -7.20857084e-03,\n",
       "         -5.10987267e-03,  1.43783391e-02,  1.09550692e-02,\n",
       "          2.78386213e-02,  3.77143808e-02, -1.14021292e-02,\n",
       "          9.67180822e-03, -3.92570831e-02, -6.97858483e-02,\n",
       "         -1.29548637e-02, -2.01436318e-02, -1.84484560e-03,\n",
       "          2.37286137e-03,  9.66235436e-03,  7.78063107e-03,\n",
       "         -1.69612672e-02, -5.09890579e-02, -4.97889742e-02,\n",
       "         -1.05244080e-02, -2.27334797e-02, -2.89091393e-02,\n",
       "         -4.29499187e-02, -2.87051350e-02],\n",
       "        [-1.03873745e-01,  3.16316378e-03,  1.03379609e-02,\n",
       "         -3.21458168e-02, -3.98397520e-02,  9.14259721e-03,\n",
       "         -8.95797089e-02, -3.24222296e-02,  3.01951822e-03,\n",
       "         -2.94120647e-02, -1.76903363e-02, -2.31746137e-02,\n",
       "          2.91409828e-02,  1.28394673e-02, -3.43322963e-03,\n",
       "         -3.07053188e-03, -3.19019072e-02, -4.96310703e-02,\n",
       "         -1.34400204e-02,  3.40570584e-02,  3.20186391e-02,\n",
       "         -4.72544972e-03,  4.36605401e-02,  2.88710706e-02,\n",
       "          3.91787626e-02,  4.70491238e-02,  2.64864378e-02,\n",
       "         -2.57824566e-02,  5.71310259e-02, -2.81751435e-02,\n",
       "         -5.51417358e-02,  3.78885083e-02,  2.95878816e-02,\n",
       "         -1.28167933e-02, -4.38666018e-03, -6.00743778e-02,\n",
       "          3.63892578e-02,  3.12477257e-02, -1.22006647e-02,\n",
       "          1.94469169e-02,  4.78804717e-03, -2.06358004e-02,\n",
       "          2.29491610e-02,  8.77572529e-05, -5.00115100e-03,\n",
       "          7.93660656e-02, -4.07590866e-02, -3.31621692e-02,\n",
       "         -3.06094028e-02, -3.14954147e-02,  3.71134281e-02,\n",
       "          1.43326428e-02, -1.45981330e-02,  1.96880028e-02,\n",
       "         -4.14429866e-02,  4.82726134e-02, -6.17234893e-02,\n",
       "         -6.22394728e-03,  2.21017692e-02, -9.53510636e-04,\n",
       "         -6.19505309e-02,  2.79990789e-02, -1.01393582e-02,\n",
       "          3.05717271e-02, -4.87309843e-02,  4.66503203e-02,\n",
       "          4.50433791e-02, -2.12367438e-02, -2.74286438e-02,\n",
       "         -2.41214968e-02,  2.39324868e-02,  9.23330523e-03,\n",
       "         -2.85714213e-02,  1.62248202e-02, -2.84070447e-02,\n",
       "          4.76886965e-02, -7.18462188e-03, -2.63786912e-02,\n",
       "         -5.20431846e-02,  6.33760076e-03, -1.57852452e-02,\n",
       "          2.69189700e-02, -6.82244077e-02,  1.06456531e-02,\n",
       "          1.96192935e-02, -7.12217903e-03,  2.77916677e-02,\n",
       "          8.44824500e-03,  4.61267456e-02,  2.49849446e-02,\n",
       "          2.37233508e-02, -1.45581563e-03, -9.42667201e-03,\n",
       "         -2.44116671e-02,  1.85275469e-02, -5.38880304e-02,\n",
       "         -4.66144383e-02,  3.86696234e-02,  4.36862512e-03,\n",
       "         -1.95571929e-02, -4.28061001e-02,  8.74963589e-03,\n",
       "          4.38414291e-02,  2.05764454e-02, -2.35995892e-02,\n",
       "          1.04542449e-02,  1.49696441e-02,  3.30919065e-02,\n",
       "         -2.49770260e-03,  3.16430964e-02, -6.35270309e-03,\n",
       "          1.24987336e-02, -1.53019221e-03, -1.38558187e-02,\n",
       "          8.61038342e-02, -4.52614836e-02,  2.60653924e-02,\n",
       "          1.07667306e-02, -2.94588339e-02, -4.67118658e-02,\n",
       "          7.43365884e-02,  1.00892885e-02, -1.19859260e-02,\n",
       "          2.67503280e-02, -4.19406556e-02, -1.34257823e-02,\n",
       "          9.00277682e-03,  2.89566480e-02],\n",
       "        [-4.26411023e-03, -1.81398317e-02, -3.33694834e-03,\n",
       "          4.61404473e-02,  3.81118618e-02, -1.13946460e-02,\n",
       "          3.07490043e-02,  5.65450341e-02,  6.58285692e-02,\n",
       "         -3.84878460e-03,  7.33420029e-02,  3.03663108e-02,\n",
       "          5.82881607e-02,  4.31251638e-02,  1.77954175e-02,\n",
       "         -3.64335370e-03, -2.58069634e-02, -9.18084849e-03,\n",
       "          3.35000865e-02,  3.33032608e-02,  1.19108250e-02,\n",
       "          3.83482017e-02,  4.65585552e-02, -6.33776840e-03,\n",
       "          2.00888980e-02, -3.45049612e-02, -4.57823910e-02,\n",
       "         -4.19279747e-02,  1.39454268e-02, -2.90228184e-02,\n",
       "         -3.17726471e-02,  5.35215251e-02, -4.49232869e-02,\n",
       "         -2.36776955e-02,  3.31413932e-03, -3.46395783e-02,\n",
       "          4.36197221e-02,  4.98677753e-02, -8.00580680e-02,\n",
       "         -1.11899693e-02, -1.50270830e-03, -5.37619088e-03,\n",
       "         -1.09428018e-02, -3.25312279e-02,  1.84225086e-02,\n",
       "          4.28843610e-02, -7.26903556e-03, -4.81613092e-02,\n",
       "         -9.58687067e-03, -1.77448113e-02,  4.07857522e-02,\n",
       "         -1.66387018e-02, -7.95488134e-02, -5.12991771e-02,\n",
       "         -3.64503055e-03,  2.03351043e-02, -8.59364588e-03,\n",
       "          4.71910043e-03, -2.15335470e-03, -2.86539029e-02,\n",
       "         -1.21547161e-02,  2.77849603e-02,  3.45405824e-02,\n",
       "          7.35648498e-02,  1.31868022e-02,  3.81505787e-02,\n",
       "          2.64423378e-02,  1.70076992e-02, -6.16053902e-02,\n",
       "          6.11316087e-03, -2.60290224e-02, -7.00711552e-03,\n",
       "         -4.17125784e-02, -1.17101697e-02,  1.46089736e-02,\n",
       "         -1.80586614e-02, -2.93247513e-02, -3.56796454e-03,\n",
       "          1.59300677e-03,  3.59399393e-02, -5.55228726e-05,\n",
       "         -5.66681996e-02, -2.49156673e-02, -5.52491844e-03,\n",
       "         -8.98463428e-02, -9.87386703e-03,  1.87219586e-03,\n",
       "          8.53392761e-03,  5.06726727e-02, -2.49274280e-02,\n",
       "          2.74777226e-03,  4.23652539e-03,  6.06544688e-02,\n",
       "         -2.58856807e-02,  3.03105991e-02, -5.83944730e-02,\n",
       "         -7.11839227e-03,  4.13046889e-02,  1.23630958e-02,\n",
       "          2.16999613e-02, -6.08078912e-02, -3.60563770e-02,\n",
       "         -1.28086358e-02,  1.77469070e-03,  3.49883665e-03,\n",
       "         -2.55561695e-02, -2.41823425e-03,  1.56695880e-02,\n",
       "         -2.35511493e-02, -3.74411196e-02,  2.26276480e-02,\n",
       "          2.91409492e-02,  1.78498700e-02, -3.25781964e-02,\n",
       "          3.43877073e-05, -3.10036857e-02, -1.97813176e-02,\n",
       "          2.13997662e-02, -3.31316106e-02, -6.66992925e-03,\n",
       "          1.73981059e-02, -1.32030547e-02, -1.05900755e-02,\n",
       "         -1.01715634e-02, -3.32063474e-02, -1.37709156e-02,\n",
       "         -9.42932256e-03,  2.30008755e-02],\n",
       "        [-5.85102178e-02, -4.99381088e-02,  6.46076538e-03,\n",
       "         -3.11398469e-02, -2.75295470e-02,  1.43047730e-02,\n",
       "         -5.08173406e-02,  1.47841424e-02, -1.86382197e-02,\n",
       "         -2.54121087e-02,  1.82123773e-03,  2.81043723e-02,\n",
       "          5.33258319e-02, -6.49150973e-03,  1.62851438e-02,\n",
       "         -3.75729017e-02, -1.00288838e-02, -1.07375411e-02,\n",
       "          2.26002447e-02,  2.60750595e-02,  4.02285419e-02,\n",
       "         -4.23892513e-02,  3.33966538e-02, -6.38695955e-02,\n",
       "          1.33843524e-02,  2.56461799e-02,  4.47269296e-03,\n",
       "          2.79678293e-02,  4.79117222e-02, -2.07179002e-02,\n",
       "          8.26539099e-03,  9.20831226e-03,  7.57496059e-03,\n",
       "         -5.96392415e-02, -6.87471703e-02, -3.03818882e-02,\n",
       "          1.01640411e-02, -7.07363989e-03, -1.24061629e-02,\n",
       "         -3.12111303e-02,  1.08091338e-02, -3.88502665e-02,\n",
       "          1.48482006e-02, -2.66681127e-02, -1.63045842e-02,\n",
       "         -6.01529842e-03,  2.73404345e-02, -4.61749062e-02,\n",
       "          1.96320191e-03,  2.02478580e-02,  3.63794081e-02,\n",
       "          1.22560817e-03, -1.22319786e-02, -4.14729938e-02,\n",
       "          7.53404386e-03,  3.04539241e-02, -8.69235490e-03,\n",
       "         -4.23106067e-02, -1.08340271e-02,  6.76408084e-03,\n",
       "         -1.22118266e-02,  1.56495776e-02,  1.31431958e-02,\n",
       "          3.37937810e-02, -3.79295722e-02,  2.81660799e-02,\n",
       "         -1.51315574e-02,  1.44896768e-02, -4.88152951e-02,\n",
       "         -2.01921035e-02, -2.64322087e-02, -1.40074631e-02,\n",
       "          1.57040507e-02,  2.74137612e-02, -4.81311269e-02,\n",
       "          2.90683890e-03, -4.59246198e-03, -1.03678070e-02,\n",
       "          5.98331541e-03,  1.19634969e-02, -2.40060743e-02,\n",
       "         -3.06062270e-02, -6.16017357e-02,  3.76545861e-02,\n",
       "         -8.41600001e-02,  1.83623824e-02,  2.50772573e-02,\n",
       "          8.31152275e-02,  6.67323619e-02,  6.05077390e-03,\n",
       "          2.01999880e-02,  3.04594357e-02,  1.28652779e-02,\n",
       "          2.49502938e-02, -2.20043380e-02, -6.64784610e-02,\n",
       "         -8.37123096e-02,  1.61486119e-02, -3.18235643e-02,\n",
       "         -4.85005267e-02, -3.95645536e-02,  1.59465261e-02,\n",
       "          3.17060053e-02,  6.16801865e-02, -1.09118046e-02,\n",
       "         -1.80860851e-02, -1.36354035e-02,  4.45029251e-02,\n",
       "         -4.57141511e-02,  4.31650653e-02,  5.63551635e-02,\n",
       "          2.81613227e-02,  7.16913342e-02, -2.78274417e-02,\n",
       "         -6.08606497e-03, -4.98791449e-02, -1.05351501e-03,\n",
       "         -2.43842974e-03,  4.75480268e-03, -1.15951775e-02,\n",
       "          6.39955103e-02,  1.74234733e-02,  5.68234138e-02,\n",
       "          2.53067911e-02, -2.15766467e-02,  1.95683837e-02,\n",
       "          3.17568146e-02,  1.10824937e-02],\n",
       "        [-2.31269002e-02, -5.07562011e-02,  2.31016278e-02,\n",
       "          3.54903489e-02,  1.21248532e-02, -1.12296110e-02,\n",
       "         -1.32414456e-02,  1.30993621e-02,  7.34836375e-03,\n",
       "          4.08221409e-02,  9.87534821e-02,  3.17087956e-02,\n",
       "          8.13818946e-02, -2.10366882e-02,  4.91994210e-02,\n",
       "         -5.36022000e-02, -1.88992601e-02, -7.91278109e-03,\n",
       "          2.74571925e-02,  3.35358158e-02,  2.24776026e-02,\n",
       "         -1.24445781e-02,  4.95205857e-02, -1.02130674e-01,\n",
       "         -3.60106416e-02,  3.80893145e-03, -3.77342701e-02,\n",
       "          3.58342156e-02,  1.32143339e-02, -2.14652643e-02,\n",
       "         -8.49613175e-03,  6.26763422e-03, -3.06911469e-02,\n",
       "         -4.85029118e-03, -5.62123433e-02, -2.75932788e-03,\n",
       "          2.40656137e-02, -1.55931991e-02, -1.27699869e-02,\n",
       "         -2.51549408e-02, -7.16092298e-03,  4.14338447e-02,\n",
       "          9.25451797e-03, -2.77030449e-02,  3.86027321e-02,\n",
       "          4.62618656e-02,  2.03626398e-02, -8.68900958e-03,\n",
       "          1.22750401e-02,  2.67104413e-02,  1.40927471e-02,\n",
       "          4.46957070e-03,  4.40076139e-04, -4.39130049e-03,\n",
       "          2.89482325e-02,  1.47220585e-02,  2.54422333e-02,\n",
       "         -4.82576084e-04, -5.87188341e-02, -5.64568564e-02,\n",
       "          3.38942669e-02,  1.32160010e-02,  1.27261821e-02,\n",
       "          3.23873200e-02, -3.95500846e-02,  1.88060310e-02,\n",
       "         -2.30182875e-02,  1.90261565e-02, -3.82711478e-02,\n",
       "          1.33644529e-02, -1.25574712e-02,  9.93370265e-03,\n",
       "          4.04386260e-02,  4.27347682e-02, -9.44818556e-03,\n",
       "         -2.72436207e-03, -7.08796957e-04, -4.07333486e-02,\n",
       "          1.26928668e-02, -2.11478528e-02, -2.14134846e-02,\n",
       "          4.06860560e-02, -3.14080007e-02,  4.04041484e-02,\n",
       "         -8.91540498e-02,  1.27252461e-02, -6.85491832e-03,\n",
       "          6.67912886e-02,  7.00308606e-02,  8.23467039e-03,\n",
       "          3.43827270e-02,  2.43344884e-02,  1.68422237e-02,\n",
       "          2.98831332e-02,  4.46734428e-02, -2.24443860e-02,\n",
       "         -7.77091831e-02, -3.04165129e-02, -3.11660697e-03,\n",
       "          1.16001284e-02, -9.20945127e-03,  9.14995652e-03,\n",
       "         -5.64471120e-03,  1.89322587e-02,  5.56401629e-03,\n",
       "         -6.71443492e-02, -4.47151549e-02,  3.38429213e-02,\n",
       "         -1.71665363e-02,  8.60399846e-03,  2.75987796e-02,\n",
       "          6.36329427e-02,  3.99672128e-02,  2.26516370e-02,\n",
       "         -2.37304512e-02, -7.26448819e-02,  1.07763624e-02,\n",
       "          1.59171186e-02,  1.94386709e-02,  2.13837847e-02,\n",
       "          3.51954512e-02, -2.59183533e-02,  1.08226407e-02,\n",
       "          2.16714460e-02, -3.14667560e-02,  4.75633107e-02,\n",
       "          3.18377875e-02, -1.69177502e-02]]], dtype=float32)>"
      ]
     },
     "execution_count": 21,
     "metadata": {},
     "output_type": "execute_result"
    },
    {
     "data": {
      "application/javascript": [
       "\n",
       "            setTimeout(function() {\n",
       "                var nbb_cell_id = 21;\n",
       "                var nbb_unformatted_code = \"x_embeddings_conv = Conv1D(filters=128, kernel_size=5, strides=1)(x_embeddings)\\nx_embeddings_conv\";\n",
       "                var nbb_formatted_code = \"x_embeddings_conv = Conv1D(filters=128, kernel_size=5, strides=1)(x_embeddings)\\nx_embeddings_conv\";\n",
       "                var nbb_cells = Jupyter.notebook.get_cells();\n",
       "                for (var i = 0; i < nbb_cells.length; ++i) {\n",
       "                    if (nbb_cells[i].input_prompt_number == nbb_cell_id) {\n",
       "                        if (nbb_cells[i].get_text() == nbb_unformatted_code) {\n",
       "                             nbb_cells[i].set_text(nbb_formatted_code);\n",
       "                        }\n",
       "                        break;\n",
       "                    }\n",
       "                }\n",
       "            }, 500);\n",
       "            "
      ],
      "text/plain": [
       "<IPython.core.display.Javascript object>"
      ]
     },
     "metadata": {},
     "output_type": "display_data"
    }
   ],
   "source": [
    "x_embeddings_conv = Conv1D(filters=128, kernel_size=5, strides=1)(x_embeddings)\n",
    "x_embeddings_conv"
   ]
  },
  {
   "cell_type": "markdown",
   "id": "629b82a8",
   "metadata": {},
   "source": [
    "# Apply GlobalAveragePooling\n",
    "\n",
    "- Apply mean across each column on the vector of shape (6, 128) -> (1, 128)"
   ]
  },
  {
   "cell_type": "code",
   "execution_count": 53,
   "id": "c62ff81c",
   "metadata": {},
   "outputs": [
    {
     "data": {
      "text/plain": [
       "<tf.Tensor: shape=(1, 128), dtype=float32, numpy=\n",
       "array([[-0.03793712, -0.01939092, -0.00020089,  0.00590422, -0.01248919,\n",
       "        -0.00169052, -0.01626821,  0.01151122,  0.02024494, -0.01155284,\n",
       "         0.03275395,  0.02437269,  0.0387207 , -0.00595966,  0.01693203,\n",
       "        -0.01769865, -0.0249456 , -0.02558559,  0.0075829 ,  0.02791175,\n",
       "         0.00852726, -0.0011244 ,  0.04778561, -0.0091789 ,  0.00822638,\n",
       "         0.00087525, -0.01470401,  0.0055057 ,  0.03334527, -0.02290542,\n",
       "        -0.01815302,  0.03603454, -0.00260648, -0.01815443, -0.01765213,\n",
       "        -0.02973837,  0.02120875,  0.02668724, -0.02414597, -0.00555248,\n",
       "        -0.00076683, -0.01766458, -0.00040278, -0.01252959, -0.00850995,\n",
       "         0.0351337 , -0.01299454, -0.02464048, -0.00498329,  0.02114153,\n",
       "         0.01398337,  0.00081485, -0.01975248, -0.0184624 , -0.01325253,\n",
       "         0.02978374, -0.02401468, -0.02457019, -0.0080511 , -0.01088212,\n",
       "        -0.01005084,  0.00983927,  0.01635016,  0.04558197, -0.01659774,\n",
       "         0.03497768, -0.00912534,  0.00776708, -0.0263154 ,  0.00051018,\n",
       "        -0.00465979, -0.0054901 , -0.00185344,  0.00882848, -0.00454425,\n",
       "         0.00711267,  0.00556565, -0.01838754,  0.00031864,  0.00153471,\n",
       "        -0.01783811, -0.00122909, -0.02594662,  0.0117734 , -0.03691225,\n",
       "         0.00095079,  0.00393205,  0.03751869,  0.04360189, -0.01143841,\n",
       "         0.01783102, -0.00704368,  0.01533583,  0.00072808, -0.00909279,\n",
       "        -0.03374794, -0.03709113,  0.02344157, -0.00033247,  0.00209619,\n",
       "        -0.03790247, -0.0123705 ,  0.00944264,  0.02300647, -0.00440382,\n",
       "        -0.01971246, -0.00551256,  0.02245339, -0.01048927,  0.01498223,\n",
       "         0.02729573,  0.01642474,  0.01499723, -0.02398612,  0.00939658,\n",
       "        -0.0465557 ,  0.00584536,  0.00930062, -0.01572081, -0.00968953,\n",
       "         0.03430422, -0.01144154, -0.00514814,  0.01172973, -0.03274074,\n",
       "        -0.01298352, -0.00371804, -0.00161801]], dtype=float32)>"
      ]
     },
     "execution_count": 53,
     "metadata": {},
     "output_type": "execute_result"
    },
    {
     "data": {
      "application/javascript": [
       "\n",
       "            setTimeout(function() {\n",
       "                var nbb_cell_id = 53;\n",
       "                var nbb_unformatted_code = \"GlobalAveragePooling1D(data_format=\\\"channels_last\\\", keepdims=False)(x_embeddings_conv)\";\n",
       "                var nbb_formatted_code = \"GlobalAveragePooling1D(data_format=\\\"channels_last\\\", keepdims=False)(x_embeddings_conv)\";\n",
       "                var nbb_cells = Jupyter.notebook.get_cells();\n",
       "                for (var i = 0; i < nbb_cells.length; ++i) {\n",
       "                    if (nbb_cells[i].input_prompt_number == nbb_cell_id) {\n",
       "                        if (nbb_cells[i].get_text() == nbb_unformatted_code) {\n",
       "                             nbb_cells[i].set_text(nbb_formatted_code);\n",
       "                        }\n",
       "                        break;\n",
       "                    }\n",
       "                }\n",
       "            }, 500);\n",
       "            "
      ],
      "text/plain": [
       "<IPython.core.display.Javascript object>"
      ]
     },
     "metadata": {},
     "output_type": "display_data"
    }
   ],
   "source": [
    "GlobalAveragePooling1D(data_format=\"channels_last\", keepdims=False)(x_embeddings_conv)"
   ]
  },
  {
   "cell_type": "code",
   "execution_count": 60,
   "id": "6162c559",
   "metadata": {},
   "outputs": [
    {
     "data": {
      "text/plain": [
       "-0.037937116"
      ]
     },
     "execution_count": 60,
     "metadata": {},
     "output_type": "execute_result"
    },
    {
     "data": {
      "application/javascript": [
       "\n",
       "            setTimeout(function() {\n",
       "                var nbb_cell_id = 60;\n",
       "                var nbb_unformatted_code = \"x_embeddings_conv[0, :, 0].numpy().mean()\";\n",
       "                var nbb_formatted_code = \"x_embeddings_conv[0, :, 0].numpy().mean()\";\n",
       "                var nbb_cells = Jupyter.notebook.get_cells();\n",
       "                for (var i = 0; i < nbb_cells.length; ++i) {\n",
       "                    if (nbb_cells[i].input_prompt_number == nbb_cell_id) {\n",
       "                        if (nbb_cells[i].get_text() == nbb_unformatted_code) {\n",
       "                             nbb_cells[i].set_text(nbb_formatted_code);\n",
       "                        }\n",
       "                        break;\n",
       "                    }\n",
       "                }\n",
       "            }, 500);\n",
       "            "
      ],
      "text/plain": [
       "<IPython.core.display.Javascript object>"
      ]
     },
     "metadata": {},
     "output_type": "display_data"
    }
   ],
   "source": [
    "x_embeddings_conv[0, :, 0].numpy().mean()"
   ]
  },
  {
   "cell_type": "code",
   "execution_count": null,
   "id": "b313e44c",
   "metadata": {},
   "outputs": [],
   "source": []
  }
 ],
 "metadata": {
  "kernelspec": {
   "display_name": "Python [conda env:ml]",
   "language": "python",
   "name": "conda-env-ml-py"
  },
  "language_info": {
   "codemirror_mode": {
    "name": "ipython",
    "version": 3
   },
   "file_extension": ".py",
   "mimetype": "text/x-python",
   "name": "python",
   "nbconvert_exporter": "python",
   "pygments_lexer": "ipython3",
   "version": "3.10.8"
  }
 },
 "nbformat": 4,
 "nbformat_minor": 5
}
