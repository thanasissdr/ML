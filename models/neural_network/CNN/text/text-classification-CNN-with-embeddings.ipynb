{
 "cells": [
  {
   "cell_type": "code",
   "execution_count": 1,
   "id": "b15c0c4e",
   "metadata": {},
   "outputs": [
    {
     "data": {
      "application/javascript": [
       "\n",
       "            setTimeout(function() {\n",
       "                var nbb_cell_id = 1;\n",
       "                var nbb_unformatted_code = \"%load_ext nb_black\";\n",
       "                var nbb_formatted_code = \"%load_ext nb_black\";\n",
       "                var nbb_cells = Jupyter.notebook.get_cells();\n",
       "                for (var i = 0; i < nbb_cells.length; ++i) {\n",
       "                    if (nbb_cells[i].input_prompt_number == nbb_cell_id) {\n",
       "                        if (nbb_cells[i].get_text() == nbb_unformatted_code) {\n",
       "                             nbb_cells[i].set_text(nbb_formatted_code);\n",
       "                        }\n",
       "                        break;\n",
       "                    }\n",
       "                }\n",
       "            }, 500);\n",
       "            "
      ],
      "text/plain": [
       "<IPython.core.display.Javascript object>"
      ]
     },
     "metadata": {},
     "output_type": "display_data"
    }
   ],
   "source": [
    "%load_ext nb_black"
   ]
  },
  {
   "cell_type": "code",
   "execution_count": 2,
   "id": "065cf413",
   "metadata": {},
   "outputs": [
    {
     "data": {
      "application/javascript": [
       "\n",
       "            setTimeout(function() {\n",
       "                var nbb_cell_id = 2;\n",
       "                var nbb_unformatted_code = \"import numpy as np\\nimport pandas as pd\\n\\nimport tensorflow as tf\\n\\nfrom sklearn.model_selection import train_test_split\\n\\nfrom tensorflow.keras.layers import (\\n    Activation,\\n    Dense,\\n    Embedding,\\n    Conv1D,\\n    Conv2D,\\n    Flatten,\\n    GlobalAveragePooling1D,\\n    LSTM,\\n    MaxPooling1D,\\n    MaxPooling2D,\\n\\n)\\nfrom tensorflow.keras.models import Sequential\\nfrom tensorflow.keras.preprocessing.sequence import pad_sequences\\nfrom tensorflow.keras.preprocessing.text import Tokenizer, text_to_word_sequence\\n\\nfrom tensorflow.keras.losses import SparseCategoricalCrossentropy\\nfrom tensorflow.keras.metrics import Accuracy\\nfrom tensorflow.keras.optimizers import Adam\\nfrom tensorflow.keras.utils import set_random_seed\";\n",
       "                var nbb_formatted_code = \"import numpy as np\\nimport pandas as pd\\n\\nimport tensorflow as tf\\n\\nfrom sklearn.model_selection import train_test_split\\n\\nfrom tensorflow.keras.layers import (\\n    Activation,\\n    Dense,\\n    Embedding,\\n    Conv1D,\\n    Conv2D,\\n    Flatten,\\n    GlobalAveragePooling1D,\\n    LSTM,\\n    MaxPooling1D,\\n    MaxPooling2D,\\n)\\nfrom tensorflow.keras.models import Sequential\\nfrom tensorflow.keras.preprocessing.sequence import pad_sequences\\nfrom tensorflow.keras.preprocessing.text import Tokenizer, text_to_word_sequence\\n\\nfrom tensorflow.keras.losses import SparseCategoricalCrossentropy\\nfrom tensorflow.keras.metrics import Accuracy\\nfrom tensorflow.keras.optimizers import Adam\\nfrom tensorflow.keras.utils import set_random_seed\";\n",
       "                var nbb_cells = Jupyter.notebook.get_cells();\n",
       "                for (var i = 0; i < nbb_cells.length; ++i) {\n",
       "                    if (nbb_cells[i].input_prompt_number == nbb_cell_id) {\n",
       "                        if (nbb_cells[i].get_text() == nbb_unformatted_code) {\n",
       "                             nbb_cells[i].set_text(nbb_formatted_code);\n",
       "                        }\n",
       "                        break;\n",
       "                    }\n",
       "                }\n",
       "            }, 500);\n",
       "            "
      ],
      "text/plain": [
       "<IPython.core.display.Javascript object>"
      ]
     },
     "metadata": {},
     "output_type": "display_data"
    }
   ],
   "source": [
    "import numpy as np\n",
    "import pandas as pd\n",
    "import tensorflow as tf\n",
    "from sklearn.model_selection import train_test_split\n",
    "from tensorflow.keras.layers import (LSTM, Activation, Conv1D, Conv2D, Dense,\n",
    "                                     Embedding, Flatten,\n",
    "                                     GlobalAveragePooling1D, MaxPooling1D,\n",
    "                                     MaxPooling2D)\n",
    "from tensorflow.keras.losses import SparseCategoricalCrossentropy\n",
    "from tensorflow.keras.metrics import Accuracy\n",
    "from tensorflow.keras.models import Sequential\n",
    "from tensorflow.keras.optimizers import Adam\n",
    "from tensorflow.keras.preprocessing.sequence import pad_sequences\n",
    "from tensorflow.keras.preprocessing.text import (Tokenizer,\n",
    "                                                 text_to_word_sequence)\n",
    "from tensorflow.keras.utils import set_random_seed"
   ]
  },
  {
   "cell_type": "code",
   "execution_count": 3,
   "id": "6277694b",
   "metadata": {},
   "outputs": [
    {
     "data": {
      "application/javascript": [
       "\n",
       "            setTimeout(function() {\n",
       "                var nbb_cell_id = 3;\n",
       "                var nbb_unformatted_code = \"from sklearn.datasets import fetch_20newsgroups\";\n",
       "                var nbb_formatted_code = \"from sklearn.datasets import fetch_20newsgroups\";\n",
       "                var nbb_cells = Jupyter.notebook.get_cells();\n",
       "                for (var i = 0; i < nbb_cells.length; ++i) {\n",
       "                    if (nbb_cells[i].input_prompt_number == nbb_cell_id) {\n",
       "                        if (nbb_cells[i].get_text() == nbb_unformatted_code) {\n",
       "                             nbb_cells[i].set_text(nbb_formatted_code);\n",
       "                        }\n",
       "                        break;\n",
       "                    }\n",
       "                }\n",
       "            }, 500);\n",
       "            "
      ],
      "text/plain": [
       "<IPython.core.display.Javascript object>"
      ]
     },
     "metadata": {},
     "output_type": "display_data"
    }
   ],
   "source": [
    "from sklearn.datasets import fetch_20newsgroups"
   ]
  },
  {
   "cell_type": "code",
   "execution_count": 4,
   "id": "ff9060fb",
   "metadata": {},
   "outputs": [
    {
     "data": {
      "application/javascript": [
       "\n",
       "            setTimeout(function() {\n",
       "                var nbb_cell_id = 4;\n",
       "                var nbb_unformatted_code = \"news = fetch_20newsgroups()\";\n",
       "                var nbb_formatted_code = \"news = fetch_20newsgroups()\";\n",
       "                var nbb_cells = Jupyter.notebook.get_cells();\n",
       "                for (var i = 0; i < nbb_cells.length; ++i) {\n",
       "                    if (nbb_cells[i].input_prompt_number == nbb_cell_id) {\n",
       "                        if (nbb_cells[i].get_text() == nbb_unformatted_code) {\n",
       "                             nbb_cells[i].set_text(nbb_formatted_code);\n",
       "                        }\n",
       "                        break;\n",
       "                    }\n",
       "                }\n",
       "            }, 500);\n",
       "            "
      ],
      "text/plain": [
       "<IPython.core.display.Javascript object>"
      ]
     },
     "metadata": {},
     "output_type": "display_data"
    }
   ],
   "source": [
    "news = fetch_20newsgroups()"
   ]
  },
  {
   "cell_type": "code",
   "execution_count": 5,
   "id": "22038492",
   "metadata": {},
   "outputs": [
    {
     "data": {
      "application/javascript": [
       "\n",
       "            setTimeout(function() {\n",
       "                var nbb_cell_id = 5;\n",
       "                var nbb_unformatted_code = \"X = news[\\\"data\\\"]\\ny = news[\\\"target\\\"]\";\n",
       "                var nbb_formatted_code = \"X = news[\\\"data\\\"]\\ny = news[\\\"target\\\"]\";\n",
       "                var nbb_cells = Jupyter.notebook.get_cells();\n",
       "                for (var i = 0; i < nbb_cells.length; ++i) {\n",
       "                    if (nbb_cells[i].input_prompt_number == nbb_cell_id) {\n",
       "                        if (nbb_cells[i].get_text() == nbb_unformatted_code) {\n",
       "                             nbb_cells[i].set_text(nbb_formatted_code);\n",
       "                        }\n",
       "                        break;\n",
       "                    }\n",
       "                }\n",
       "            }, 500);\n",
       "            "
      ],
      "text/plain": [
       "<IPython.core.display.Javascript object>"
      ]
     },
     "metadata": {},
     "output_type": "display_data"
    }
   ],
   "source": [
    "X = news[\"data\"]\n",
    "y = news[\"target\"]"
   ]
  },
  {
   "cell_type": "code",
   "execution_count": 6,
   "id": "9842c1a9",
   "metadata": {},
   "outputs": [
    {
     "data": {
      "application/javascript": [
       "\n",
       "            setTimeout(function() {\n",
       "                var nbb_cell_id = 6;\n",
       "                var nbb_unformatted_code = \"X_train, X_test, y_train, y_test = train_test_split(\\n    X, y, stratify=y, test_size=0.2, random_state=42\\n)\";\n",
       "                var nbb_formatted_code = \"X_train, X_test, y_train, y_test = train_test_split(\\n    X, y, stratify=y, test_size=0.2, random_state=42\\n)\";\n",
       "                var nbb_cells = Jupyter.notebook.get_cells();\n",
       "                for (var i = 0; i < nbb_cells.length; ++i) {\n",
       "                    if (nbb_cells[i].input_prompt_number == nbb_cell_id) {\n",
       "                        if (nbb_cells[i].get_text() == nbb_unformatted_code) {\n",
       "                             nbb_cells[i].set_text(nbb_formatted_code);\n",
       "                        }\n",
       "                        break;\n",
       "                    }\n",
       "                }\n",
       "            }, 500);\n",
       "            "
      ],
      "text/plain": [
       "<IPython.core.display.Javascript object>"
      ]
     },
     "metadata": {},
     "output_type": "display_data"
    }
   ],
   "source": [
    "X_train, X_test, y_train, y_test = train_test_split(\n",
    "    X, y, stratify=y, test_size=0.2, random_state=42\n",
    ")"
   ]
  },
  {
   "cell_type": "code",
   "execution_count": 7,
   "id": "b8237786",
   "metadata": {},
   "outputs": [
    {
     "data": {
      "application/javascript": [
       "\n",
       "            setTimeout(function() {\n",
       "                var nbb_cell_id = 7;\n",
       "                var nbb_unformatted_code = \"X_train_raw = pd.DataFrame(X_train, columns=[\\\"text\\\"])\\nX_test_raw = pd.DataFrame(X_test, columns=[\\\"text\\\"])\";\n",
       "                var nbb_formatted_code = \"X_train_raw = pd.DataFrame(X_train, columns=[\\\"text\\\"])\\nX_test_raw = pd.DataFrame(X_test, columns=[\\\"text\\\"])\";\n",
       "                var nbb_cells = Jupyter.notebook.get_cells();\n",
       "                for (var i = 0; i < nbb_cells.length; ++i) {\n",
       "                    if (nbb_cells[i].input_prompt_number == nbb_cell_id) {\n",
       "                        if (nbb_cells[i].get_text() == nbb_unformatted_code) {\n",
       "                             nbb_cells[i].set_text(nbb_formatted_code);\n",
       "                        }\n",
       "                        break;\n",
       "                    }\n",
       "                }\n",
       "            }, 500);\n",
       "            "
      ],
      "text/plain": [
       "<IPython.core.display.Javascript object>"
      ]
     },
     "metadata": {},
     "output_type": "display_data"
    }
   ],
   "source": [
    "X_train_raw = pd.DataFrame(X_train, columns=[\"text\"])\n",
    "X_test_raw = pd.DataFrame(X_test, columns=[\"text\"])"
   ]
  },
  {
   "cell_type": "code",
   "execution_count": 8,
   "id": "a51d2ee7",
   "metadata": {},
   "outputs": [
    {
     "data": {
      "text/plain": [
       "286.5551872721246"
      ]
     },
     "execution_count": 8,
     "metadata": {},
     "output_type": "execute_result"
    },
    {
     "data": {
      "application/javascript": [
       "\n",
       "            setTimeout(function() {\n",
       "                var nbb_cell_id = 8;\n",
       "                var nbb_unformatted_code = \"X_train_raw[\\\"text\\\"].apply(lambda x: len(x.split())).mean()\";\n",
       "                var nbb_formatted_code = \"X_train_raw[\\\"text\\\"].apply(lambda x: len(x.split())).mean()\";\n",
       "                var nbb_cells = Jupyter.notebook.get_cells();\n",
       "                for (var i = 0; i < nbb_cells.length; ++i) {\n",
       "                    if (nbb_cells[i].input_prompt_number == nbb_cell_id) {\n",
       "                        if (nbb_cells[i].get_text() == nbb_unformatted_code) {\n",
       "                             nbb_cells[i].set_text(nbb_formatted_code);\n",
       "                        }\n",
       "                        break;\n",
       "                    }\n",
       "                }\n",
       "            }, 500);\n",
       "            "
      ],
      "text/plain": [
       "<IPython.core.display.Javascript object>"
      ]
     },
     "metadata": {},
     "output_type": "display_data"
    }
   ],
   "source": [
    "X_train_raw[\"text\"].apply(lambda x: len(x.split())).mean()"
   ]
  },
  {
   "cell_type": "markdown",
   "id": "8aaacae9",
   "metadata": {},
   "source": [
    "# Train data"
   ]
  },
  {
   "cell_type": "markdown",
   "id": "5878d47d",
   "metadata": {},
   "source": [
    "## Set tokenizer"
   ]
  },
  {
   "cell_type": "code",
   "execution_count": 9,
   "id": "274cbbba",
   "metadata": {},
   "outputs": [
    {
     "data": {
      "application/javascript": [
       "\n",
       "            setTimeout(function() {\n",
       "                var nbb_cell_id = 9;\n",
       "                var nbb_unformatted_code = \"OOV_TOKEN = \\\"<OOV>\\\"\\nLOWER = True\\nCHAR_LEVEL = False\\nNUM_WORDS = 10000  # Number of terms which will be used for the creating the vocabulary.\\n\\n\\ntokenizer = Tokenizer(\\n    oov_token=OOV_TOKEN,\\n    split=\\\" \\\",\\n    lower=LOWER,\\n    char_level=CHAR_LEVEL,\\n    num_words=NUM_WORDS,\\n)\";\n",
       "                var nbb_formatted_code = \"OOV_TOKEN = \\\"<OOV>\\\"\\nLOWER = True\\nCHAR_LEVEL = False\\nNUM_WORDS = 10000  # Number of terms which will be used for the creating the vocabulary.\\n\\n\\ntokenizer = Tokenizer(\\n    oov_token=OOV_TOKEN,\\n    split=\\\" \\\",\\n    lower=LOWER,\\n    char_level=CHAR_LEVEL,\\n    num_words=NUM_WORDS,\\n)\";\n",
       "                var nbb_cells = Jupyter.notebook.get_cells();\n",
       "                for (var i = 0; i < nbb_cells.length; ++i) {\n",
       "                    if (nbb_cells[i].input_prompt_number == nbb_cell_id) {\n",
       "                        if (nbb_cells[i].get_text() == nbb_unformatted_code) {\n",
       "                             nbb_cells[i].set_text(nbb_formatted_code);\n",
       "                        }\n",
       "                        break;\n",
       "                    }\n",
       "                }\n",
       "            }, 500);\n",
       "            "
      ],
      "text/plain": [
       "<IPython.core.display.Javascript object>"
      ]
     },
     "metadata": {},
     "output_type": "display_data"
    }
   ],
   "source": [
    "OOV_TOKEN = \"<OOV>\"\n",
    "LOWER = True\n",
    "CHAR_LEVEL = False\n",
    "NUM_WORDS = 10000  # Number of terms which will be used for the creating the vocabulary.\n",
    "\n",
    "\n",
    "tokenizer = Tokenizer(\n",
    "    oov_token=OOV_TOKEN,\n",
    "    split=\" \",\n",
    "    lower=LOWER,\n",
    "    char_level=CHAR_LEVEL,\n",
    "    num_words=NUM_WORDS,\n",
    ")"
   ]
  },
  {
   "cell_type": "code",
   "execution_count": 10,
   "id": "c881262a",
   "metadata": {},
   "outputs": [
    {
     "data": {
      "application/javascript": [
       "\n",
       "            setTimeout(function() {\n",
       "                var nbb_cell_id = 10;\n",
       "                var nbb_unformatted_code = \"tokenizer.fit_on_texts(X_train_raw[\\\"text\\\"].values)\";\n",
       "                var nbb_formatted_code = \"tokenizer.fit_on_texts(X_train_raw[\\\"text\\\"].values)\";\n",
       "                var nbb_cells = Jupyter.notebook.get_cells();\n",
       "                for (var i = 0; i < nbb_cells.length; ++i) {\n",
       "                    if (nbb_cells[i].input_prompt_number == nbb_cell_id) {\n",
       "                        if (nbb_cells[i].get_text() == nbb_unformatted_code) {\n",
       "                             nbb_cells[i].set_text(nbb_formatted_code);\n",
       "                        }\n",
       "                        break;\n",
       "                    }\n",
       "                }\n",
       "            }, 500);\n",
       "            "
      ],
      "text/plain": [
       "<IPython.core.display.Javascript object>"
      ]
     },
     "metadata": {},
     "output_type": "display_data"
    }
   ],
   "source": [
    "tokenizer.fit_on_texts(X_train_raw[\"text\"].values)"
   ]
  },
  {
   "cell_type": "code",
   "execution_count": 11,
   "id": "fad372ba",
   "metadata": {},
   "outputs": [
    {
     "data": {
      "application/javascript": [
       "\n",
       "            setTimeout(function() {\n",
       "                var nbb_cell_id = 11;\n",
       "                var nbb_unformatted_code = \"index_word = tokenizer.index_word\\nword_index = {v: k for k, v in tokenizer.index_word.items()}\\n\\n\\nvocabulary = {i: index_word.get(i) for i in range(1, NUM_WORDS)}\\nvocabulary_inverse = {w: i for i, w in vocabulary.items()}\";\n",
       "                var nbb_formatted_code = \"index_word = tokenizer.index_word\\nword_index = {v: k for k, v in tokenizer.index_word.items()}\\n\\n\\nvocabulary = {i: index_word.get(i) for i in range(1, NUM_WORDS)}\\nvocabulary_inverse = {w: i for i, w in vocabulary.items()}\";\n",
       "                var nbb_cells = Jupyter.notebook.get_cells();\n",
       "                for (var i = 0; i < nbb_cells.length; ++i) {\n",
       "                    if (nbb_cells[i].input_prompt_number == nbb_cell_id) {\n",
       "                        if (nbb_cells[i].get_text() == nbb_unformatted_code) {\n",
       "                             nbb_cells[i].set_text(nbb_formatted_code);\n",
       "                        }\n",
       "                        break;\n",
       "                    }\n",
       "                }\n",
       "            }, 500);\n",
       "            "
      ],
      "text/plain": [
       "<IPython.core.display.Javascript object>"
      ]
     },
     "metadata": {},
     "output_type": "display_data"
    }
   ],
   "source": [
    "index_word = tokenizer.index_word\n",
    "word_index = {v: k for k, v in tokenizer.index_word.items()}\n",
    "\n",
    "\n",
    "vocabulary = {i: index_word.get(i) for i in range(1, NUM_WORDS)}\n",
    "vocabulary_inverse = {w: i for i, w in vocabulary.items()}"
   ]
  },
  {
   "cell_type": "code",
   "execution_count": 12,
   "id": "45d142af",
   "metadata": {},
   "outputs": [
    {
     "data": {
      "application/javascript": [
       "\n",
       "            setTimeout(function() {\n",
       "                var nbb_cell_id = 12;\n",
       "                var nbb_unformatted_code = \"texts_to_sequences_train = tokenizer.texts_to_sequences(X_train_raw[\\\"text\\\"].values)\";\n",
       "                var nbb_formatted_code = \"texts_to_sequences_train = tokenizer.texts_to_sequences(X_train_raw[\\\"text\\\"].values)\";\n",
       "                var nbb_cells = Jupyter.notebook.get_cells();\n",
       "                for (var i = 0; i < nbb_cells.length; ++i) {\n",
       "                    if (nbb_cells[i].input_prompt_number == nbb_cell_id) {\n",
       "                        if (nbb_cells[i].get_text() == nbb_unformatted_code) {\n",
       "                             nbb_cells[i].set_text(nbb_formatted_code);\n",
       "                        }\n",
       "                        break;\n",
       "                    }\n",
       "                }\n",
       "            }, 500);\n",
       "            "
      ],
      "text/plain": [
       "<IPython.core.display.Javascript object>"
      ]
     },
     "metadata": {},
     "output_type": "display_data"
    }
   ],
   "source": [
    "texts_to_sequences_train = tokenizer.texts_to_sequences(X_train_raw[\"text\"].values)"
   ]
  },
  {
   "cell_type": "code",
   "execution_count": 13,
   "id": "707b9067",
   "metadata": {},
   "outputs": [
    {
     "data": {
      "application/javascript": [
       "\n",
       "            setTimeout(function() {\n",
       "                var nbb_cell_id = 13;\n",
       "                var nbb_unformatted_code = \"PADDING = \\\"post\\\"\\nTRUNCATING = \\\"post\\\"\\nMAXLEN = 200\\n\\nsequences_padded_train = pad_sequences(\\n    texts_to_sequences_train, padding=PADDING, truncating=TRUNCATING, maxlen=MAXLEN\\n)\";\n",
       "                var nbb_formatted_code = \"PADDING = \\\"post\\\"\\nTRUNCATING = \\\"post\\\"\\nMAXLEN = 200\\n\\nsequences_padded_train = pad_sequences(\\n    texts_to_sequences_train, padding=PADDING, truncating=TRUNCATING, maxlen=MAXLEN\\n)\";\n",
       "                var nbb_cells = Jupyter.notebook.get_cells();\n",
       "                for (var i = 0; i < nbb_cells.length; ++i) {\n",
       "                    if (nbb_cells[i].input_prompt_number == nbb_cell_id) {\n",
       "                        if (nbb_cells[i].get_text() == nbb_unformatted_code) {\n",
       "                             nbb_cells[i].set_text(nbb_formatted_code);\n",
       "                        }\n",
       "                        break;\n",
       "                    }\n",
       "                }\n",
       "            }, 500);\n",
       "            "
      ],
      "text/plain": [
       "<IPython.core.display.Javascript object>"
      ]
     },
     "metadata": {},
     "output_type": "display_data"
    }
   ],
   "source": [
    "PADDING = \"post\"\n",
    "TRUNCATING = \"post\"\n",
    "MAXLEN = 200\n",
    "\n",
    "sequences_padded_train = pad_sequences(\n",
    "    texts_to_sequences_train, padding=PADDING, truncating=TRUNCATING, maxlen=MAXLEN\n",
    ")"
   ]
  },
  {
   "cell_type": "markdown",
   "id": "473a2b9e",
   "metadata": {},
   "source": [
    "## Test data"
   ]
  },
  {
   "cell_type": "code",
   "execution_count": 14,
   "id": "9d5113fb",
   "metadata": {},
   "outputs": [
    {
     "data": {
      "application/javascript": [
       "\n",
       "            setTimeout(function() {\n",
       "                var nbb_cell_id = 14;\n",
       "                var nbb_unformatted_code = \"texts_to_sequences_test = tokenizer.texts_to_sequences(X_test_raw[\\\"text\\\"].values)\";\n",
       "                var nbb_formatted_code = \"texts_to_sequences_test = tokenizer.texts_to_sequences(X_test_raw[\\\"text\\\"].values)\";\n",
       "                var nbb_cells = Jupyter.notebook.get_cells();\n",
       "                for (var i = 0; i < nbb_cells.length; ++i) {\n",
       "                    if (nbb_cells[i].input_prompt_number == nbb_cell_id) {\n",
       "                        if (nbb_cells[i].get_text() == nbb_unformatted_code) {\n",
       "                             nbb_cells[i].set_text(nbb_formatted_code);\n",
       "                        }\n",
       "                        break;\n",
       "                    }\n",
       "                }\n",
       "            }, 500);\n",
       "            "
      ],
      "text/plain": [
       "<IPython.core.display.Javascript object>"
      ]
     },
     "metadata": {},
     "output_type": "display_data"
    }
   ],
   "source": [
    "texts_to_sequences_test = tokenizer.texts_to_sequences(X_test_raw[\"text\"].values)"
   ]
  },
  {
   "cell_type": "code",
   "execution_count": 15,
   "id": "1013b27d",
   "metadata": {},
   "outputs": [
    {
     "data": {
      "application/javascript": [
       "\n",
       "            setTimeout(function() {\n",
       "                var nbb_cell_id = 15;\n",
       "                var nbb_unformatted_code = \"sequences_padded_test = pad_sequences(\\n    texts_to_sequences_test, padding=PADDING, truncating=TRUNCATING, maxlen=MAXLEN\\n)\";\n",
       "                var nbb_formatted_code = \"sequences_padded_test = pad_sequences(\\n    texts_to_sequences_test, padding=PADDING, truncating=TRUNCATING, maxlen=MAXLEN\\n)\";\n",
       "                var nbb_cells = Jupyter.notebook.get_cells();\n",
       "                for (var i = 0; i < nbb_cells.length; ++i) {\n",
       "                    if (nbb_cells[i].input_prompt_number == nbb_cell_id) {\n",
       "                        if (nbb_cells[i].get_text() == nbb_unformatted_code) {\n",
       "                             nbb_cells[i].set_text(nbb_formatted_code);\n",
       "                        }\n",
       "                        break;\n",
       "                    }\n",
       "                }\n",
       "            }, 500);\n",
       "            "
      ],
      "text/plain": [
       "<IPython.core.display.Javascript object>"
      ]
     },
     "metadata": {},
     "output_type": "display_data"
    }
   ],
   "source": [
    "sequences_padded_test = pad_sequences(\n",
    "    texts_to_sequences_test, padding=PADDING, truncating=TRUNCATING, maxlen=MAXLEN\n",
    ")"
   ]
  },
  {
   "cell_type": "markdown",
   "id": "79ac04ae",
   "metadata": {},
   "source": [
    "# Set model"
   ]
  },
  {
   "cell_type": "code",
   "execution_count": 16,
   "id": "6841e4b4",
   "metadata": {},
   "outputs": [
    {
     "name": "stdout",
     "output_type": "stream",
     "text": [
      "Model: \"simple\"\n",
      "_________________________________________________________________\n",
      " Layer (type)                Output Shape              Param #   \n",
      "=================================================================\n",
      " embedding_layer (Embedding)  (None, 200, 300)         3000000   \n",
      "                                                                 \n",
      " conv1d (Conv1D)             (None, 196, 128)          192128    \n",
      "                                                                 \n",
      " global_average_pooling1d (G  (None, 128)              0         \n",
      " lobalAveragePooling1D)                                          \n",
      "                                                                 \n",
      " dense (Dense)               (None, 24)                3096      \n",
      "                                                                 \n",
      " dense_1 (Dense)             (None, 20)                500       \n",
      "                                                                 \n",
      "=================================================================\n",
      "Total params: 3,195,724\n",
      "Trainable params: 3,195,724\n",
      "Non-trainable params: 0\n",
      "_________________________________________________________________\n"
     ]
    },
    {
     "data": {
      "application/javascript": [
       "\n",
       "            setTimeout(function() {\n",
       "                var nbb_cell_id = 16;\n",
       "                var nbb_unformatted_code = \"set_random_seed(42)\\n\\nINPUT_DIM = NUM_WORDS  # Usually len(vocab) + 1\\nINPUT_LENGTH = MAXLEN  # Length of a sequence\\nEMBEDDING_DIM = 300\\n\\nmodel = Sequential(\\n    [\\n        Embedding(\\n            input_dim=INPUT_DIM,\\n            output_dim=EMBEDDING_DIM,\\n            input_length=INPUT_LENGTH,\\n            weights=None,\\n            trainable=True,\\n            name=\\\"embedding_layer\\\",\\n        ),\\n        Conv1D(\\n            filters=128, kernel_size=5, strides=1, padding=\\\"valid\\\", activation=\\\"relu\\\"\\n        ),  # tokens will be grouped into the size of kernel_size into a sliding way fashion\\n        GlobalAveragePooling1D(\\n            data_format=\\\"channels_last\\\",\\n            keepdims=False,\\n        ),  # Get the average of each dimension along columns -> (1, EMBEDDING_DIM)\\n        Dense(units=24, activation=\\\"relu\\\"),\\n        Dense(units=20, activation=\\\"softmax\\\"),\\n    ],\\n    name=\\\"simple\\\",\\n)\\n\\n\\nOPTIMIZER = Adam(learning_rate=0.01)\\nLOSS = SparseCategoricalCrossentropy()\\n\\n\\nmodel.compile(optimizer=OPTIMIZER, loss=LOSS, metrics=[\\\"accuracy\\\"])\\n\\nmodel.summary()\";\n",
       "                var nbb_formatted_code = \"set_random_seed(42)\\n\\nINPUT_DIM = NUM_WORDS  # Usually len(vocab) + 1\\nINPUT_LENGTH = MAXLEN  # Length of a sequence\\nEMBEDDING_DIM = 300\\n\\nmodel = Sequential(\\n    [\\n        Embedding(\\n            input_dim=INPUT_DIM,\\n            output_dim=EMBEDDING_DIM,\\n            input_length=INPUT_LENGTH,\\n            weights=None,\\n            trainable=True,\\n            name=\\\"embedding_layer\\\",\\n        ),\\n        Conv1D(\\n            filters=128, kernel_size=5, strides=1, padding=\\\"valid\\\", activation=\\\"relu\\\"\\n        ),  # tokens will be grouped into the size of kernel_size into a sliding way fashion\\n        GlobalAveragePooling1D(\\n            data_format=\\\"channels_last\\\",\\n            keepdims=False,\\n        ),  # Get the average of each dimension along columns -> (1, EMBEDDING_DIM)\\n        Dense(units=24, activation=\\\"relu\\\"),\\n        Dense(units=20, activation=\\\"softmax\\\"),\\n    ],\\n    name=\\\"simple\\\",\\n)\\n\\n\\nOPTIMIZER = Adam(learning_rate=0.01)\\nLOSS = SparseCategoricalCrossentropy()\\n\\n\\nmodel.compile(optimizer=OPTIMIZER, loss=LOSS, metrics=[\\\"accuracy\\\"])\\n\\nmodel.summary()\";\n",
       "                var nbb_cells = Jupyter.notebook.get_cells();\n",
       "                for (var i = 0; i < nbb_cells.length; ++i) {\n",
       "                    if (nbb_cells[i].input_prompt_number == nbb_cell_id) {\n",
       "                        if (nbb_cells[i].get_text() == nbb_unformatted_code) {\n",
       "                             nbb_cells[i].set_text(nbb_formatted_code);\n",
       "                        }\n",
       "                        break;\n",
       "                    }\n",
       "                }\n",
       "            }, 500);\n",
       "            "
      ],
      "text/plain": [
       "<IPython.core.display.Javascript object>"
      ]
     },
     "metadata": {},
     "output_type": "display_data"
    }
   ],
   "source": [
    "set_random_seed(42)\n",
    "\n",
    "INPUT_DIM = NUM_WORDS  # Usually len(vocab) + 1\n",
    "INPUT_LENGTH = MAXLEN  # Length of a sequence\n",
    "EMBEDDING_DIM = 300\n",
    "\n",
    "model = Sequential(\n",
    "    [\n",
    "        Embedding(\n",
    "            input_dim=INPUT_DIM,\n",
    "            output_dim=EMBEDDING_DIM,\n",
    "            input_length=INPUT_LENGTH,\n",
    "            weights=None,\n",
    "            trainable=True,\n",
    "            name=\"embedding_layer\",\n",
    "        ),\n",
    "        Conv1D(\n",
    "            filters=128, kernel_size=5, strides=1, padding=\"valid\", activation=\"relu\"\n",
    "        ),  # tokens will be grouped into the size of kernel_size into a sliding way fashion\n",
    "        GlobalAveragePooling1D(\n",
    "            data_format=\"channels_last\",\n",
    "            keepdims=False,\n",
    "        ),  # Get the average of each dimension along columns -> (1, EMBEDDING_DIM)\n",
    "        Dense(units=24, activation=\"relu\"),\n",
    "        Dense(units=20, activation=\"softmax\"),\n",
    "    ],\n",
    "    name=\"simple\",\n",
    ")\n",
    "\n",
    "\n",
    "OPTIMIZER = Adam(learning_rate=0.01)\n",
    "LOSS = SparseCategoricalCrossentropy()\n",
    "\n",
    "\n",
    "model.compile(optimizer=OPTIMIZER, loss=LOSS, metrics=[\"accuracy\"])\n",
    "\n",
    "model.summary()"
   ]
  },
  {
   "cell_type": "code",
   "execution_count": 17,
   "id": "b51256f6",
   "metadata": {},
   "outputs": [
    {
     "data": {
      "application/javascript": [
       "\n",
       "            setTimeout(function() {\n",
       "                var nbb_cell_id = 17;\n",
       "                var nbb_unformatted_code = \"def train(X_train, y_train, **kwargs):\\n    history = model.fit(X_train, y_train, **kwargs)\\n    return history\";\n",
       "                var nbb_formatted_code = \"def train(X_train, y_train, **kwargs):\\n    history = model.fit(X_train, y_train, **kwargs)\\n    return history\";\n",
       "                var nbb_cells = Jupyter.notebook.get_cells();\n",
       "                for (var i = 0; i < nbb_cells.length; ++i) {\n",
       "                    if (nbb_cells[i].input_prompt_number == nbb_cell_id) {\n",
       "                        if (nbb_cells[i].get_text() == nbb_unformatted_code) {\n",
       "                             nbb_cells[i].set_text(nbb_formatted_code);\n",
       "                        }\n",
       "                        break;\n",
       "                    }\n",
       "                }\n",
       "            }, 500);\n",
       "            "
      ],
      "text/plain": [
       "<IPython.core.display.Javascript object>"
      ]
     },
     "metadata": {},
     "output_type": "display_data"
    }
   ],
   "source": [
    "def train(X_train, y_train, **kwargs):\n",
    "    history = model.fit(X_train, y_train, **kwargs)\n",
    "    return history"
   ]
  },
  {
   "cell_type": "code",
   "execution_count": 18,
   "id": "cc2d12f3",
   "metadata": {},
   "outputs": [
    {
     "name": "stdout",
     "output_type": "stream",
     "text": [
      "Epoch 1/10\n",
      "71/71 [==============================] - 8s 106ms/step - loss: 1.6956 - accuracy: 0.4787 - val_loss: 0.7517 - val_accuracy: 0.7777\n",
      "Epoch 2/10\n",
      "71/71 [==============================] - 8s 110ms/step - loss: 0.3224 - accuracy: 0.9119 - val_loss: 0.5900 - val_accuracy: 0.8458\n",
      "Epoch 3/10\n",
      "71/71 [==============================] - 8s 109ms/step - loss: 0.0876 - accuracy: 0.9767 - val_loss: 0.7641 - val_accuracy: 0.8383\n",
      "Epoch 4/10\n",
      "71/71 [==============================] - 8s 113ms/step - loss: 0.0486 - accuracy: 0.9903 - val_loss: 0.7940 - val_accuracy: 0.8480\n",
      "Epoch 5/10\n",
      "71/71 [==============================] - 8s 110ms/step - loss: 0.0259 - accuracy: 0.9950 - val_loss: 0.8912 - val_accuracy: 0.8436\n",
      "Epoch 6/10\n",
      "71/71 [==============================] - 8s 110ms/step - loss: 0.0260 - accuracy: 0.9944 - val_loss: 1.0648 - val_accuracy: 0.8268\n",
      "Epoch 7/10\n",
      "71/71 [==============================] - 8s 109ms/step - loss: 0.0456 - accuracy: 0.9873 - val_loss: 1.1225 - val_accuracy: 0.8188\n",
      "Epoch 8/10\n",
      "71/71 [==============================] - 8s 113ms/step - loss: 0.0779 - accuracy: 0.9785 - val_loss: 1.0819 - val_accuracy: 0.8334\n",
      "Epoch 9/10\n",
      "71/71 [==============================] - 8s 112ms/step - loss: 0.0873 - accuracy: 0.9753 - val_loss: 1.1985 - val_accuracy: 0.8153\n",
      "Epoch 10/10\n",
      "71/71 [==============================] - 8s 110ms/step - loss: 0.0726 - accuracy: 0.9796 - val_loss: 1.3294 - val_accuracy: 0.8246\n"
     ]
    },
    {
     "data": {
      "application/javascript": [
       "\n",
       "            setTimeout(function() {\n",
       "                var nbb_cell_id = 18;\n",
       "                var nbb_unformatted_code = \"history = train(\\n    sequences_padded_train,\\n    y_train,\\n    validation_data=(sequences_padded_test, y_test),\\n    epochs=10,\\n    batch_size=128,\\n)\";\n",
       "                var nbb_formatted_code = \"history = train(\\n    sequences_padded_train,\\n    y_train,\\n    validation_data=(sequences_padded_test, y_test),\\n    epochs=10,\\n    batch_size=128,\\n)\";\n",
       "                var nbb_cells = Jupyter.notebook.get_cells();\n",
       "                for (var i = 0; i < nbb_cells.length; ++i) {\n",
       "                    if (nbb_cells[i].input_prompt_number == nbb_cell_id) {\n",
       "                        if (nbb_cells[i].get_text() == nbb_unformatted_code) {\n",
       "                             nbb_cells[i].set_text(nbb_formatted_code);\n",
       "                        }\n",
       "                        break;\n",
       "                    }\n",
       "                }\n",
       "            }, 500);\n",
       "            "
      ],
      "text/plain": [
       "<IPython.core.display.Javascript object>"
      ]
     },
     "metadata": {},
     "output_type": "display_data"
    }
   ],
   "source": [
    "history = train(\n",
    "    sequences_padded_train,\n",
    "    y_train,\n",
    "    validation_data=(sequences_padded_test, y_test),\n",
    "    epochs=10,\n",
    "    batch_size=128,\n",
    ")"
   ]
  },
  {
   "cell_type": "markdown",
   "id": "325e7cef",
   "metadata": {},
   "source": [
    "# Model architecture concept"
   ]
  },
  {
   "cell_type": "markdown",
   "id": "70bf7e61",
   "metadata": {},
   "source": [
    "## 1.  Get a specific example"
   ]
  },
  {
   "cell_type": "code",
   "execution_count": 82,
   "id": "c7130863",
   "metadata": {},
   "outputs": [
    {
     "data": {
      "application/javascript": [
       "\n",
       "            setTimeout(function() {\n",
       "                var nbb_cell_id = 82;\n",
       "                var nbb_unformatted_code = \"preprocessed_x = tf.convert_to_tensor([[1, 20, 5, 100, 5, 6, 0, 0, 0, 0]])\";\n",
       "                var nbb_formatted_code = \"preprocessed_x = tf.convert_to_tensor([[1, 20, 5, 100, 5, 6, 0, 0, 0, 0]])\";\n",
       "                var nbb_cells = Jupyter.notebook.get_cells();\n",
       "                for (var i = 0; i < nbb_cells.length; ++i) {\n",
       "                    if (nbb_cells[i].input_prompt_number == nbb_cell_id) {\n",
       "                        if (nbb_cells[i].get_text() == nbb_unformatted_code) {\n",
       "                             nbb_cells[i].set_text(nbb_formatted_code);\n",
       "                        }\n",
       "                        break;\n",
       "                    }\n",
       "                }\n",
       "            }, 500);\n",
       "            "
      ],
      "text/plain": [
       "<IPython.core.display.Javascript object>"
      ]
     },
     "metadata": {},
     "output_type": "display_data"
    }
   ],
   "source": [
    "preprocessed_x = tf.convert_to_tensor([[1, 20, 5, 100, 5, 6, 0, 0, 0, 0]])"
   ]
  },
  {
   "cell_type": "markdown",
   "id": "f1a90b58",
   "metadata": {},
   "source": [
    "## 2. Transform each word into an embedding vector\n",
    "\n",
    "- Each token (out of 10) is converted into an embedding of size 300."
   ]
  },
  {
   "cell_type": "code",
   "execution_count": 83,
   "id": "1645fd33",
   "metadata": {},
   "outputs": [
    {
     "data": {
      "text/plain": [
       "<tf.Tensor: shape=(1, 10, 300), dtype=float32, numpy=\n",
       "array([[[-0.03792673,  0.01216624,  0.04102094, ..., -0.01477361,\n",
       "         -0.04610056, -0.01698422],\n",
       "        [-0.01894388, -0.0339001 , -0.02878075, ..., -0.03635576,\n",
       "          0.04231792,  0.01827201],\n",
       "        [ 0.04776961, -0.04850559, -0.02631692, ...,  0.01916956,\n",
       "          0.00996971, -0.01479719],\n",
       "        ...,\n",
       "        [ 0.03692415, -0.00588097,  0.03930279, ..., -0.00416108,\n",
       "          0.00596811, -0.03943629],\n",
       "        [ 0.03692415, -0.00588097,  0.03930279, ..., -0.00416108,\n",
       "          0.00596811, -0.03943629],\n",
       "        [ 0.03692415, -0.00588097,  0.03930279, ..., -0.00416108,\n",
       "          0.00596811, -0.03943629]]], dtype=float32)>"
      ]
     },
     "execution_count": 83,
     "metadata": {},
     "output_type": "execute_result"
    },
    {
     "data": {
      "application/javascript": [
       "\n",
       "            setTimeout(function() {\n",
       "                var nbb_cell_id = 83;\n",
       "                var nbb_unformatted_code = \"x_embeddings = Embedding(\\n    input_dim=INPUT_DIM,\\n    output_dim=EMBEDDING_DIM,\\n    input_length=10,\\n    weights=None,\\n    trainable=True,\\n    name=\\\"embedding_layer\\\",\\n)(preprocessed_x)\\n\\n\\nx_embeddings\";\n",
       "                var nbb_formatted_code = \"x_embeddings = Embedding(\\n    input_dim=INPUT_DIM,\\n    output_dim=EMBEDDING_DIM,\\n    input_length=10,\\n    weights=None,\\n    trainable=True,\\n    name=\\\"embedding_layer\\\",\\n)(preprocessed_x)\\n\\n\\nx_embeddings\";\n",
       "                var nbb_cells = Jupyter.notebook.get_cells();\n",
       "                for (var i = 0; i < nbb_cells.length; ++i) {\n",
       "                    if (nbb_cells[i].input_prompt_number == nbb_cell_id) {\n",
       "                        if (nbb_cells[i].get_text() == nbb_unformatted_code) {\n",
       "                             nbb_cells[i].set_text(nbb_formatted_code);\n",
       "                        }\n",
       "                        break;\n",
       "                    }\n",
       "                }\n",
       "            }, 500);\n",
       "            "
      ],
      "text/plain": [
       "<IPython.core.display.Javascript object>"
      ]
     },
     "metadata": {},
     "output_type": "display_data"
    }
   ],
   "source": [
    "x_embeddings = Embedding(\n",
    "    input_dim=INPUT_DIM,\n",
    "    output_dim=EMBEDDING_DIM,\n",
    "    input_length=10,\n",
    "    weights=None,\n",
    "    trainable=True,\n",
    "    name=\"embedding_layer\",\n",
    ")(preprocessed_x)\n",
    "\n",
    "\n",
    "x_embeddings"
   ]
  },
  {
   "cell_type": "markdown",
   "id": "8402c40d",
   "metadata": {},
   "source": [
    "# Convolutional layer\n",
    "\n",
    "- Group 5 (kernel_size) tokens together in a sliding fashion and apply a filter (creating a feature map)\n",
    "- Apply 128 filters in total"
   ]
  },
  {
   "cell_type": "code",
   "execution_count": 84,
   "id": "95ae558c",
   "metadata": {},
   "outputs": [
    {
     "data": {
      "text/plain": [
       "<tf.Tensor: shape=(1, 6, 128), dtype=float32, numpy=\n",
       "array([[[ 2.64654662e-02,  1.06289654e-05, -1.30135454e-02,\n",
       "         -2.79547684e-02,  2.34610531e-02,  3.97426337e-02,\n",
       "          3.68155316e-02,  4.94785048e-02,  2.91928705e-02,\n",
       "         -3.15566473e-02,  1.38124311e-02,  1.90439336e-02,\n",
       "          4.89882454e-02, -2.47744191e-03, -3.07232095e-03,\n",
       "         -2.79719252e-02,  2.07156893e-02,  8.27492774e-03,\n",
       "          1.23292804e-02,  9.28917900e-03, -6.77116960e-02,\n",
       "         -1.85454898e-02,  6.34525344e-02, -1.16845500e-02,\n",
       "         -6.65146019e-03, -2.90338136e-02, -5.14927730e-02,\n",
       "         -8.54387656e-02, -1.15467841e-02, -1.13069443e-02,\n",
       "         -1.21714929e-02,  4.29453552e-02, -4.84831333e-02,\n",
       "         -6.04208447e-02,  2.25669276e-02, -2.36066412e-02,\n",
       "          1.12904310e-02, -1.17048752e-02,  3.95711288e-02,\n",
       "         -1.61402242e-03,  3.94231230e-02,  5.35211042e-02,\n",
       "          2.70236991e-02, -1.67256277e-02,  1.27258720e-02,\n",
       "         -4.29503284e-02,  1.31317060e-02, -3.55020650e-02,\n",
       "         -1.54243903e-02,  2.62548421e-02,  2.38025915e-02,\n",
       "          3.82543430e-02,  1.95229892e-02, -3.28308679e-02,\n",
       "         -4.49447148e-03, -1.24613512e-02, -1.55071318e-02,\n",
       "         -9.25278384e-03,  2.60306336e-02,  2.52446178e-02,\n",
       "         -1.98604576e-02,  8.84818509e-02, -1.83132552e-02,\n",
       "         -1.67617500e-02,  3.19635496e-02, -4.80495254e-03,\n",
       "         -3.91823649e-02, -6.86479220e-03,  7.68608600e-03,\n",
       "          2.37592496e-02,  9.01618227e-03, -5.04043251e-02,\n",
       "         -4.30541821e-02, -2.12980770e-02,  7.41319358e-03,\n",
       "          3.48552354e-02,  1.94317326e-02, -1.78262554e-02,\n",
       "         -1.26238326e-02,  6.03287481e-02,  5.62827364e-02,\n",
       "          1.46933477e-02, -4.63683680e-02,  2.52792668e-02,\n",
       "         -1.24920979e-02, -1.86746940e-02, -2.59584766e-02,\n",
       "         -6.37927353e-02, -5.42310216e-02,  2.28856727e-02,\n",
       "          2.92265154e-02, -2.88505983e-02, -4.32790890e-02,\n",
       "          3.87150794e-02,  5.25997113e-03,  1.84038077e-02,\n",
       "          3.08620045e-03,  8.83923750e-03,  4.61600488e-03,\n",
       "         -1.13169113e-02, -1.30003579e-02, -4.60883565e-02,\n",
       "         -3.13770911e-03, -2.55980622e-02,  1.20609708e-03,\n",
       "          1.46876769e-02, -2.27115732e-02, -9.12909396e-03,\n",
       "         -6.81251734e-02, -7.68171716e-03, -6.00869767e-02,\n",
       "         -6.06067386e-03, -2.10023932e-02,  8.90004449e-03,\n",
       "          5.76265231e-02,  1.61069296e-02,  2.26036161e-02,\n",
       "         -2.30125915e-02, -1.29783954e-02, -1.55202774e-02,\n",
       "         -2.96866540e-02,  1.01336939e-02,  4.91139553e-02,\n",
       "         -1.96087025e-02,  6.57418370e-02,  3.86551507e-02,\n",
       "          2.51885783e-02, -2.02867016e-02],\n",
       "        [-3.28834467e-02,  3.23717576e-03, -1.56349316e-02,\n",
       "         -3.79906446e-02, -4.97113504e-02, -3.31796095e-04,\n",
       "         -1.55373067e-02, -2.83905473e-02,  3.92309576e-02,\n",
       "          3.15032597e-03, -8.48603714e-03,  9.33507271e-03,\n",
       "         -2.85991561e-02,  1.26891742e-02, -7.14357104e-03,\n",
       "         -2.57125427e-03,  4.58341725e-02, -7.03783380e-03,\n",
       "         -5.30749448e-02,  5.74988574e-02, -5.39538190e-02,\n",
       "          4.81090136e-02, -3.42179686e-02, -5.35999611e-02,\n",
       "          1.48288989e-02,  2.46395115e-02, -5.54090999e-02,\n",
       "         -2.90522818e-03, -7.41338590e-04, -3.54929231e-02,\n",
       "          3.92286256e-02,  1.82574652e-02,  1.62337814e-02,\n",
       "          3.64975482e-02,  3.12343817e-02, -2.01644469e-02,\n",
       "          6.17745239e-03, -1.73136666e-02,  4.36195824e-03,\n",
       "          2.09808666e-02,  4.94721197e-02, -1.27426591e-02,\n",
       "          3.32685895e-02,  3.74349542e-02, -2.63868948e-04,\n",
       "          9.50365141e-03, -3.76504697e-02, -9.23362374e-03,\n",
       "         -7.66615896e-03,  3.21591087e-02, -1.10987816e-02,\n",
       "         -2.97415089e-02, -1.59666445e-02,  6.18161820e-02,\n",
       "          2.24783700e-02, -4.36374545e-02,  3.49184647e-02,\n",
       "         -4.42859866e-02, -5.51245362e-02, -8.22171476e-03,\n",
       "          4.34033163e-02,  1.56724826e-02,  7.72604300e-03,\n",
       "          1.39442710e-02, -4.87610288e-02, -2.05587801e-02,\n",
       "         -9.90566518e-03, -2.33107284e-02,  1.61029827e-02,\n",
       "         -4.73727509e-02, -1.57032311e-02, -1.72027722e-02,\n",
       "          3.88329849e-03, -7.95158520e-02, -3.83397825e-02,\n",
       "         -9.30161402e-03, -1.32808266e-02,  2.74762828e-02,\n",
       "          2.85553280e-02, -1.03142345e-02, -3.55896465e-02,\n",
       "          2.15190426e-02, -5.48330019e-04,  7.71420426e-04,\n",
       "          4.51597609e-02, -4.48293239e-02,  7.09756045e-03,\n",
       "          5.45759536e-02,  1.08006885e-02, -1.94610655e-02,\n",
       "         -4.12828363e-02, -6.22559711e-02,  2.54574679e-02,\n",
       "         -9.82078910e-03, -5.57224527e-02, -1.35369804e-02,\n",
       "         -5.28966449e-03, -1.17036281e-03, -6.96595460e-02,\n",
       "         -1.84494289e-04,  2.17704521e-03, -4.81494404e-02,\n",
       "          1.68538820e-02, -3.83646153e-02,  7.21159354e-02,\n",
       "          2.07065474e-02,  1.31136337e-02, -5.78441331e-03,\n",
       "         -2.08852366e-02, -1.07708760e-02,  3.48326527e-02,\n",
       "         -8.67467746e-03,  1.27436360e-04,  2.11837217e-02,\n",
       "         -5.90789877e-02, -1.35491127e-02,  6.49815127e-02,\n",
       "         -4.97668274e-02,  2.80992463e-02, -3.16040926e-02,\n",
       "          5.60837053e-02,  2.05413662e-02,  4.22874913e-02,\n",
       "         -1.31989717e-02,  1.70068238e-02,  1.78191755e-02,\n",
       "         -6.04183897e-02,  4.63167466e-02],\n",
       "        [-2.01496389e-02,  3.46012972e-02,  2.36319657e-02,\n",
       "          2.08015349e-02,  3.07013653e-02, -2.68393173e-03,\n",
       "         -2.28089709e-02, -3.72543093e-03,  5.40487953e-02,\n",
       "          2.66669765e-02, -3.07260491e-02, -1.70606263e-02,\n",
       "          7.37640588e-03, -3.86552401e-02,  1.05756801e-03,\n",
       "         -4.57937270e-02, -2.67182626e-02, -1.07751237e-02,\n",
       "          2.17963997e-02,  1.67979468e-02, -3.91050242e-02,\n",
       "          2.92229764e-02,  7.56725147e-02,  3.23923305e-03,\n",
       "          6.65484667e-02,  9.35629290e-03, -4.91795093e-02,\n",
       "         -9.47849359e-03,  2.88969241e-02,  7.51060108e-03,\n",
       "          4.55356203e-02,  4.26926427e-02,  2.16765422e-02,\n",
       "         -9.35739372e-03, -3.59432735e-02,  3.95299122e-02,\n",
       "         -1.06208483e-02,  3.00691035e-02, -3.00798919e-02,\n",
       "          5.23366556e-02,  3.59318429e-03,  4.88368236e-02,\n",
       "          2.01251954e-02, -3.36103104e-02, -7.17811808e-02,\n",
       "         -1.35582117e-02, -1.17953569e-01,  1.82135132e-04,\n",
       "          1.82623900e-02, -1.99225340e-02, -2.22868379e-03,\n",
       "         -4.68762852e-02,  3.03376243e-02, -1.41387209e-02,\n",
       "          3.71770076e-02,  6.90881582e-03, -9.70349181e-03,\n",
       "          4.40787710e-02,  2.31578667e-02, -2.25479975e-02,\n",
       "          3.11206747e-02,  7.37862587e-02, -7.23374635e-02,\n",
       "          3.37721035e-02,  1.90220792e-02,  6.55855890e-03,\n",
       "          9.75786056e-03, -3.15242968e-02,  6.48475019e-03,\n",
       "          1.09830787e-02,  5.32117300e-02,  2.24350225e-02,\n",
       "         -1.35513740e-02, -2.56869551e-02,  8.50313380e-02,\n",
       "         -4.02445607e-02,  7.34922802e-03, -4.02404144e-02,\n",
       "         -3.22625041e-02, -6.45907316e-03,  3.06409951e-02,\n",
       "          1.81186069e-02, -4.36253060e-04,  9.63795185e-03,\n",
       "         -7.06222793e-03,  1.18421949e-03, -2.34945063e-02,\n",
       "         -2.93342639e-02, -2.15910915e-02, -2.69923899e-02,\n",
       "         -7.27891643e-03,  1.23207280e-02,  5.34870476e-03,\n",
       "          9.00142454e-03, -2.42184717e-02, -4.83298674e-02,\n",
       "         -3.87757970e-03,  4.36243927e-03, -8.46921280e-03,\n",
       "          4.04100446e-03,  4.35330421e-02, -1.27889831e-02,\n",
       "          3.45383137e-02,  2.84037814e-02,  5.13754180e-03,\n",
       "         -1.71952657e-02, -1.67805224e-03, -1.73578341e-03,\n",
       "         -2.02195775e-02, -2.59644836e-02, -3.84768844e-03,\n",
       "         -1.55170346e-02, -3.51883583e-02,  1.49197793e-02,\n",
       "         -1.86527409e-02,  8.55874270e-03,  4.97430377e-02,\n",
       "         -7.52711594e-02, -3.78763564e-02,  2.22403146e-02,\n",
       "          1.14423977e-02, -1.20997736e-02, -1.73614509e-02,\n",
       "         -3.61815318e-02, -7.64839305e-03,  5.72489724e-02,\n",
       "          3.81167210e-03, -8.33177660e-03],\n",
       "        [-7.64157949e-03,  3.34993750e-02,  1.62579038e-03,\n",
       "         -4.94883116e-03,  1.02896504e-02, -1.33090708e-02,\n",
       "         -1.56428814e-02,  2.05721073e-02,  2.20410600e-02,\n",
       "         -1.70505643e-02,  4.81700711e-02, -3.77698243e-02,\n",
       "         -2.84409579e-02,  2.32483838e-02,  6.12778850e-02,\n",
       "          1.97492093e-02,  9.09761246e-03,  6.37684809e-03,\n",
       "          1.48630319e-02,  3.98674943e-02, -6.51586354e-02,\n",
       "          2.46150158e-02,  2.46605221e-02,  2.72089057e-02,\n",
       "          2.81337500e-02,  5.75194173e-02, -1.25626791e-02,\n",
       "          2.43380331e-02, -2.08947212e-02, -1.45033933e-02,\n",
       "         -2.22414080e-02, -2.22167160e-04,  5.82058216e-03,\n",
       "         -7.29597965e-03,  2.36494783e-02,  4.03133817e-02,\n",
       "          2.71351151e-02,  1.34505592e-02, -3.60758938e-02,\n",
       "          1.30091086e-01,  3.32135260e-02,  5.04109748e-02,\n",
       "          2.67391000e-03,  4.86763252e-04, -5.43949977e-02,\n",
       "         -5.55707663e-02,  3.79045866e-02, -6.70154928e-04,\n",
       "         -3.59756313e-02, -1.70009695e-02, -1.67829711e-02,\n",
       "          6.00540452e-03,  2.97683440e-02,  3.48274373e-02,\n",
       "         -2.85580885e-02, -4.81951609e-02,  3.32072489e-02,\n",
       "         -6.33489415e-02,  2.99138613e-02,  5.12139536e-02,\n",
       "          5.54581098e-02,  7.82836825e-02, -3.78554352e-02,\n",
       "         -5.11096232e-02,  1.42974760e-02,  8.76634102e-03,\n",
       "         -2.31983536e-03, -1.31365256e-02, -5.85640362e-03,\n",
       "          3.68512869e-02,  6.87391981e-02,  2.35780049e-02,\n",
       "          3.33118811e-03, -2.26788297e-02,  4.53073308e-02,\n",
       "         -1.35142924e-02, -3.42373960e-02,  1.24754664e-02,\n",
       "         -2.27787476e-02, -4.53588516e-02, -9.73472896e-04,\n",
       "          2.81247832e-02,  2.70659234e-02, -3.54562700e-02,\n",
       "          3.70002948e-02, -1.98357180e-02,  1.88055392e-02,\n",
       "          1.28621012e-02, -5.55824190e-02,  3.61228734e-02,\n",
       "         -1.09605147e-02,  1.72365848e-02,  1.56865790e-02,\n",
       "         -2.39158198e-02,  1.99696887e-02, -5.30691221e-02,\n",
       "         -3.06858476e-02, -1.53171569e-02,  1.12254797e-02,\n",
       "          1.81418844e-02,  7.71437883e-02,  8.89632199e-03,\n",
       "          3.31704430e-02, -1.77469291e-02,  7.08395168e-02,\n",
       "         -1.35156680e-02,  1.87956914e-02, -2.38450170e-02,\n",
       "         -1.64305922e-02,  2.70942622e-03,  2.89211422e-02,\n",
       "          2.45201141e-02,  7.05484394e-03, -7.14264661e-02,\n",
       "         -1.02120591e-02,  2.03276630e-02,  8.22324585e-03,\n",
       "         -5.88101111e-02, -3.93352397e-02, -1.04658166e-02,\n",
       "          2.49221474e-02, -4.27125469e-02,  3.08091263e-03,\n",
       "         -5.94996475e-02, -3.24211689e-03,  7.14742541e-02,\n",
       "         -5.62474392e-02,  2.37801904e-03],\n",
       "        [ 1.65369883e-02,  6.19485676e-02, -1.45892445e-02,\n",
       "          4.22295034e-02,  4.18838114e-02, -1.65445507e-02,\n",
       "         -7.54355267e-02,  4.10717999e-04, -9.23909619e-03,\n",
       "          1.44613283e-02,  5.81830591e-02, -4.57897037e-02,\n",
       "         -3.28945331e-02, -1.79420318e-02,  1.84223242e-02,\n",
       "         -4.27514799e-02,  2.36515049e-02,  1.48144020e-02,\n",
       "         -8.01768503e-04,  1.25396820e-02, -2.16342490e-02,\n",
       "          4.64091636e-02, -7.89924525e-04,  2.92869154e-02,\n",
       "          5.16479909e-02,  5.35241254e-02, -7.79683760e-04,\n",
       "          3.08833993e-03, -4.06411886e-02,  6.61447737e-03,\n",
       "         -4.36558761e-02,  4.99309301e-02,  6.21416233e-02,\n",
       "         -2.73028910e-02,  2.89652962e-02,  2.65409350e-02,\n",
       "          5.00901602e-03,  7.45273195e-03, -8.77557099e-02,\n",
       "          6.54184744e-02, -2.44380198e-02,  2.74397135e-02,\n",
       "         -3.74625379e-04,  4.28371243e-02, -5.20330593e-02,\n",
       "         -4.95702624e-02, -1.15037384e-02,  5.59170218e-03,\n",
       "         -3.39422673e-02,  6.91925129e-03, -5.96292168e-02,\n",
       "          1.21678207e-02, -2.93724961e-03,  3.22704315e-02,\n",
       "          6.38025813e-03,  4.81194863e-03,  3.37110385e-02,\n",
       "         -1.22059872e-02,  3.25323977e-02, -1.87483355e-02,\n",
       "          3.10148671e-02,  6.79361299e-02, -3.31908166e-02,\n",
       "          1.81190707e-02, -4.99320924e-02,  1.93961076e-02,\n",
       "          1.01770721e-02, -4.55993563e-02,  2.34641302e-02,\n",
       "          7.91922305e-03,  4.21046242e-02,  7.95915797e-02,\n",
       "          1.97909437e-02,  3.59170395e-03, -5.81794567e-02,\n",
       "         -8.63288119e-02, -1.01780370e-02, -2.77681984e-02,\n",
       "         -6.47179335e-02, -7.49981478e-02, -3.32471691e-02,\n",
       "         -8.82256590e-03, -4.76953993e-03, -2.09741807e-03,\n",
       "         -5.32007869e-03, -1.77136844e-03, -3.63463573e-02,\n",
       "         -3.83166187e-02, -2.59563350e-03, -5.76408161e-03,\n",
       "         -5.99736441e-03,  7.23899752e-02, -7.00997608e-03,\n",
       "         -1.87818927e-03,  2.39239447e-02, -4.33091074e-02,\n",
       "          9.73437633e-03, -2.56021824e-02,  3.97385657e-02,\n",
       "         -2.41000168e-02, -2.73518842e-02,  4.59241495e-02,\n",
       "          6.14670254e-02, -1.96509250e-02,  3.44154909e-02,\n",
       "          5.95022179e-03, -2.66908519e-02,  1.84388198e-02,\n",
       "          2.78450418e-02,  1.20048467e-02,  3.39796059e-02,\n",
       "          6.07691444e-02, -9.00194701e-03,  1.00455582e-02,\n",
       "          1.66230690e-04, -3.81132700e-02,  1.09826699e-02,\n",
       "         -5.50293662e-02, -4.42044064e-03,  3.57952574e-03,\n",
       "          2.81818323e-02, -5.49004003e-02, -3.98001745e-02,\n",
       "         -8.31817612e-02, -1.97030921e-02, -9.91234183e-03,\n",
       "         -3.38131972e-02,  3.60639696e-03],\n",
       "        [ 1.52925802e-02,  7.45592266e-02,  1.01815751e-02,\n",
       "          3.22703533e-02,  1.64139271e-02, -5.45986965e-02,\n",
       "          1.44313211e-02,  2.44969819e-02,  3.25404853e-02,\n",
       "         -2.20312998e-02,  4.00456339e-02, -8.80265012e-02,\n",
       "         -7.58754928e-03,  1.28196189e-02,  3.34568620e-02,\n",
       "          1.97695754e-02, -3.53479162e-02,  2.53598988e-02,\n",
       "         -6.61933469e-03,  3.16643827e-02, -7.74835655e-03,\n",
       "          1.13377906e-02, -5.31556504e-03, -4.87033278e-03,\n",
       "          4.64360043e-02,  5.20264320e-02, -1.90408677e-02,\n",
       "         -4.91095334e-02,  5.27196517e-03,  2.87038926e-02,\n",
       "         -3.45403440e-02,  3.11203077e-02, -2.21732887e-03,\n",
       "         -1.16110640e-02,  1.15885315e-02,  2.24085450e-02,\n",
       "          3.60509101e-03,  7.71177486e-02, -6.19790107e-02,\n",
       "          8.02511945e-02, -3.85080762e-02,  1.67024285e-02,\n",
       "         -1.93112716e-02,  3.50289419e-02, -2.49330252e-02,\n",
       "         -3.11881807e-02, -1.29766613e-02,  1.51810879e-02,\n",
       "         -8.99863895e-03,  3.06314998e-03, -1.46771781e-03,\n",
       "          1.10179493e-02,  8.53885151e-03, -6.18578382e-02,\n",
       "         -1.16807828e-02, -1.84652433e-02,  2.60100011e-02,\n",
       "         -2.07329299e-02,  3.15041356e-02, -5.96264750e-03,\n",
       "          3.72234583e-02,  5.17766029e-02, -5.15402295e-03,\n",
       "         -5.64618176e-03, -5.46147674e-02,  1.88384522e-02,\n",
       "          3.39296870e-02, -3.38809043e-02, -2.40869075e-02,\n",
       "         -3.52903013e-03,  3.33671533e-02,  7.49763995e-02,\n",
       "          2.71390639e-02,  2.63694264e-02, -4.84195165e-02,\n",
       "         -4.95165214e-02, -4.43217456e-02, -2.71793548e-02,\n",
       "         -6.42618239e-02, -4.48947661e-02, -1.42262150e-02,\n",
       "         -1.31017193e-02, -1.79512706e-02, -3.18895131e-02,\n",
       "          3.83365154e-02,  5.25026955e-02, -2.65196804e-02,\n",
       "         -1.29507026e-02, -2.48705968e-02,  4.61250171e-02,\n",
       "         -2.40085069e-02,  7.23705292e-02, -2.72779446e-02,\n",
       "          2.02457644e-02,  1.80751588e-02, -5.09625338e-02,\n",
       "          2.32608207e-02, -1.00057488e-02,  1.60828754e-02,\n",
       "         -2.07424443e-02,  1.14796963e-02,  1.73271205e-02,\n",
       "          4.73471694e-02,  3.83623387e-03,  7.07567483e-02,\n",
       "          1.48652187e-02,  2.93236487e-02, -1.34745566e-02,\n",
       "          2.39192341e-02, -3.75021100e-02,  1.98504608e-02,\n",
       "          4.62359115e-02, -5.85506624e-03, -9.67004150e-03,\n",
       "         -1.26089463e-02,  1.28021473e-02, -2.64422838e-02,\n",
       "         -4.44326401e-02,  1.56279486e-02, -1.94467045e-03,\n",
       "          3.65591720e-02, -9.96306688e-02, -1.00638496e-03,\n",
       "         -5.95159270e-02,  3.65315899e-02, -1.35878637e-03,\n",
       "         -5.17994799e-02,  4.76604886e-02]]], dtype=float32)>"
      ]
     },
     "execution_count": 84,
     "metadata": {},
     "output_type": "execute_result"
    },
    {
     "data": {
      "application/javascript": [
       "\n",
       "            setTimeout(function() {\n",
       "                var nbb_cell_id = 84;\n",
       "                var nbb_unformatted_code = \"x_embeddings_conv = Conv1D(filters=128, kernel_size=5, strides=1)(x_embeddings)\\nx_embeddings_conv\";\n",
       "                var nbb_formatted_code = \"x_embeddings_conv = Conv1D(filters=128, kernel_size=5, strides=1)(x_embeddings)\\nx_embeddings_conv\";\n",
       "                var nbb_cells = Jupyter.notebook.get_cells();\n",
       "                for (var i = 0; i < nbb_cells.length; ++i) {\n",
       "                    if (nbb_cells[i].input_prompt_number == nbb_cell_id) {\n",
       "                        if (nbb_cells[i].get_text() == nbb_unformatted_code) {\n",
       "                             nbb_cells[i].set_text(nbb_formatted_code);\n",
       "                        }\n",
       "                        break;\n",
       "                    }\n",
       "                }\n",
       "            }, 500);\n",
       "            "
      ],
      "text/plain": [
       "<IPython.core.display.Javascript object>"
      ]
     },
     "metadata": {},
     "output_type": "display_data"
    }
   ],
   "source": [
    "x_embeddings_conv = Conv1D(filters=128, kernel_size=5, strides=1)(x_embeddings)\n",
    "x_embeddings_conv"
   ]
  },
  {
   "cell_type": "markdown",
   "id": "629b82a8",
   "metadata": {},
   "source": [
    "# Apply GlobalAveragePooling\n",
    "\n",
    "- Apply mean across each column on the vector of shape (6, 128) -> (1, 128)"
   ]
  },
  {
   "cell_type": "code",
   "execution_count": 85,
   "id": "c62ff81c",
   "metadata": {},
   "outputs": [
    {
     "data": {
      "text/plain": [
       "<tf.Tensor: shape=(1, 128), dtype=float32, numpy=\n",
       "array([[-0.00039661,  0.03464271, -0.00129973,  0.00406786,  0.01217308,\n",
       "        -0.00795424, -0.01302964,  0.01047372,  0.02796918, -0.00439331,\n",
       "         0.02016652, -0.02671128, -0.00685959, -0.00171959,  0.01733313,\n",
       "        -0.0132616 ,  0.00620547,  0.00616885, -0.00191789,  0.02794292,\n",
       "        -0.04255196,  0.02352474,  0.02057702, -0.00173663,  0.03349061,\n",
       "         0.02800533, -0.03141077, -0.01991761, -0.00660919, -0.00307905,\n",
       "        -0.00464081,  0.03078742,  0.00919534, -0.01324844,  0.01367689,\n",
       "         0.01417028,  0.00709938,  0.01651193, -0.02865957,  0.05791071,\n",
       "         0.01045931,  0.03069473,  0.01056758,  0.01090864, -0.03178004,\n",
       "        -0.03055568, -0.02150802, -0.00407515, -0.01395745,  0.00524548,\n",
       "        -0.01123413, -0.00152871,  0.01154399,  0.00334777,  0.00355038,\n",
       "        -0.01850641,  0.01710602, -0.01762464,  0.01466906,  0.00349631,\n",
       "         0.02972666,  0.06265616, -0.02652083, -0.00128035, -0.0146708 ,\n",
       "         0.00469929,  0.00040946, -0.02571943,  0.00396577,  0.00476851,\n",
       "         0.03178928,  0.02216232, -0.00041018, -0.01986976, -0.00119781,\n",
       "        -0.02734176, -0.01253951, -0.01217708, -0.02801492, -0.02028272,\n",
       "         0.0004812 ,  0.01008858, -0.00716797, -0.00562576,  0.01593703,\n",
       "        -0.00523737, -0.01440265, -0.01282605, -0.02467834,  0.00881934,\n",
       "        -0.01005027,  0.01386854, -0.00517904,  0.00539125, -0.00211869,\n",
       "        -0.03180064, -0.00062862, -0.0064823 , -0.00107764, -0.0056935 ,\n",
       "         0.01566355, -0.0058132 ,  0.03170652, -0.01152008,  0.04241188,\n",
       "         0.00424979,  0.00169208, -0.00592167, -0.01231605, -0.01120082,\n",
       "         0.00894153,  0.0168788 , -0.01064425, -0.00434123, -0.00712666,\n",
       "         0.00102218,  0.02168196, -0.05105378, -0.00848054, -0.00561917,\n",
       "         0.02125043, -0.02977805,  0.00605239, -0.04519776,  0.01478111,\n",
       "         0.02898774, -0.02887971,  0.01189053]], dtype=float32)>"
      ]
     },
     "execution_count": 85,
     "metadata": {},
     "output_type": "execute_result"
    },
    {
     "data": {
      "application/javascript": [
       "\n",
       "            setTimeout(function() {\n",
       "                var nbb_cell_id = 85;\n",
       "                var nbb_unformatted_code = \"GlobalAveragePooling1D(data_format=\\\"channels_last\\\", keepdims=False)(x_embeddings_conv)\";\n",
       "                var nbb_formatted_code = \"GlobalAveragePooling1D(data_format=\\\"channels_last\\\", keepdims=False)(x_embeddings_conv)\";\n",
       "                var nbb_cells = Jupyter.notebook.get_cells();\n",
       "                for (var i = 0; i < nbb_cells.length; ++i) {\n",
       "                    if (nbb_cells[i].input_prompt_number == nbb_cell_id) {\n",
       "                        if (nbb_cells[i].get_text() == nbb_unformatted_code) {\n",
       "                             nbb_cells[i].set_text(nbb_formatted_code);\n",
       "                        }\n",
       "                        break;\n",
       "                    }\n",
       "                }\n",
       "            }, 500);\n",
       "            "
      ],
      "text/plain": [
       "<IPython.core.display.Javascript object>"
      ]
     },
     "metadata": {},
     "output_type": "display_data"
    }
   ],
   "source": [
    "GlobalAveragePooling1D(data_format=\"channels_last\", keepdims=False)(x_embeddings_conv)"
   ]
  },
  {
   "cell_type": "code",
   "execution_count": 73,
   "id": "22d6b3c7",
   "metadata": {},
   "outputs": [
    {
     "data": {
      "text/plain": [
       "True"
      ]
     },
     "execution_count": 73,
     "metadata": {},
     "output_type": "execute_result"
    },
    {
     "data": {
      "application/javascript": [
       "\n",
       "            setTimeout(function() {\n",
       "                var nbb_cell_id = 73;\n",
       "                var nbb_unformatted_code = \"(\\n    GlobalAveragePooling1D(data_format=\\\"channels_last\\\", keepdims=False)(\\n        x_embeddings_conv\\n    ).numpy()\\n    == np.mean(x_embeddings_conv, axis=1)\\n).all()\";\n",
       "                var nbb_formatted_code = \"(\\n    GlobalAveragePooling1D(data_format=\\\"channels_last\\\", keepdims=False)(\\n        x_embeddings_conv\\n    ).numpy()\\n    == np.mean(x_embeddings_conv, axis=1)\\n).all()\";\n",
       "                var nbb_cells = Jupyter.notebook.get_cells();\n",
       "                for (var i = 0; i < nbb_cells.length; ++i) {\n",
       "                    if (nbb_cells[i].input_prompt_number == nbb_cell_id) {\n",
       "                        if (nbb_cells[i].get_text() == nbb_unformatted_code) {\n",
       "                             nbb_cells[i].set_text(nbb_formatted_code);\n",
       "                        }\n",
       "                        break;\n",
       "                    }\n",
       "                }\n",
       "            }, 500);\n",
       "            "
      ],
      "text/plain": [
       "<IPython.core.display.Javascript object>"
      ]
     },
     "metadata": {},
     "output_type": "display_data"
    }
   ],
   "source": [
    "(\n",
    "    GlobalAveragePooling1D(data_format=\"channels_last\", keepdims=False)(\n",
    "        x_embeddings_conv\n",
    "    ).numpy()\n",
    "    == np.mean(x_embeddings_conv, axis=1)\n",
    ").all()"
   ]
  },
  {
   "cell_type": "code",
   "execution_count": null,
   "id": "6162c559",
   "metadata": {},
   "outputs": [],
   "source": []
  }
 ],
 "metadata": {
  "kernelspec": {
   "display_name": "Python [conda env:NLP]",
   "language": "python",
   "name": "conda-env-NLP-py"
  },
  "language_info": {
   "codemirror_mode": {
    "name": "ipython",
    "version": 3
   },
   "file_extension": ".py",
   "mimetype": "text/x-python",
   "name": "python",
   "nbconvert_exporter": "python",
   "pygments_lexer": "ipython3",
   "version": "3.10.6"
  }
 },
 "nbformat": 4,
 "nbformat_minor": 5
}
