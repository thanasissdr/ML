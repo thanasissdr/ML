{
 "cells": [
  {
   "cell_type": "code",
   "execution_count": 1,
   "id": "b15c0c4e",
   "metadata": {},
   "outputs": [
    {
     "data": {
      "application/javascript": [
       "\n",
       "            setTimeout(function() {\n",
       "                var nbb_cell_id = 1;\n",
       "                var nbb_unformatted_code = \"%load_ext nb_black\";\n",
       "                var nbb_formatted_code = \"%load_ext nb_black\";\n",
       "                var nbb_cells = Jupyter.notebook.get_cells();\n",
       "                for (var i = 0; i < nbb_cells.length; ++i) {\n",
       "                    if (nbb_cells[i].input_prompt_number == nbb_cell_id) {\n",
       "                        if (nbb_cells[i].get_text() == nbb_unformatted_code) {\n",
       "                             nbb_cells[i].set_text(nbb_formatted_code);\n",
       "                        }\n",
       "                        break;\n",
       "                    }\n",
       "                }\n",
       "            }, 500);\n",
       "            "
      ],
      "text/plain": [
       "<IPython.core.display.Javascript object>"
      ]
     },
     "metadata": {},
     "output_type": "display_data"
    }
   ],
   "source": [
    "%load_ext nb_black"
   ]
  },
  {
   "cell_type": "code",
   "execution_count": 2,
   "id": "065cf413",
   "metadata": {},
   "outputs": [
    {
     "data": {
      "application/javascript": [
       "\n",
       "            setTimeout(function() {\n",
       "                var nbb_cell_id = 2;\n",
       "                var nbb_unformatted_code = \"import numpy as np\\nimport pandas as pd\\n\\nimport tensorflow as tf\\n\\nfrom sklearn.model_selection import train_test_split\\n\\nfrom tensorflow.keras.layers import (\\n    Activation,\\n    Dense,\\n    Embedding,\\n    Conv1D,\\n    Conv2D,\\n    Flatten,\\n    GlobalAveragePooling1D,\\n    LSTM,\\n    MaxPooling1D,\\n    MaxPooling2D,\\n\\n)\\nfrom tensorflow.keras.models import Sequential\\nfrom tensorflow.keras.preprocessing.sequence import pad_sequences\\nfrom tensorflow.keras.preprocessing.text import Tokenizer, text_to_word_sequence\\n\\nfrom tensorflow.keras.losses import SparseCategoricalCrossentropy\\nfrom tensorflow.keras.metrics import Accuracy\\nfrom tensorflow.keras.optimizers import Adam\\nfrom tensorflow.keras.utils import set_random_seed\";\n",
       "                var nbb_formatted_code = \"import numpy as np\\nimport pandas as pd\\n\\nimport tensorflow as tf\\n\\nfrom sklearn.model_selection import train_test_split\\n\\nfrom tensorflow.keras.layers import (\\n    Activation,\\n    Dense,\\n    Embedding,\\n    Conv1D,\\n    Conv2D,\\n    Flatten,\\n    GlobalAveragePooling1D,\\n    LSTM,\\n    MaxPooling1D,\\n    MaxPooling2D,\\n)\\nfrom tensorflow.keras.models import Sequential\\nfrom tensorflow.keras.preprocessing.sequence import pad_sequences\\nfrom tensorflow.keras.preprocessing.text import Tokenizer, text_to_word_sequence\\n\\nfrom tensorflow.keras.losses import SparseCategoricalCrossentropy\\nfrom tensorflow.keras.metrics import Accuracy\\nfrom tensorflow.keras.optimizers import Adam\\nfrom tensorflow.keras.utils import set_random_seed\";\n",
       "                var nbb_cells = Jupyter.notebook.get_cells();\n",
       "                for (var i = 0; i < nbb_cells.length; ++i) {\n",
       "                    if (nbb_cells[i].input_prompt_number == nbb_cell_id) {\n",
       "                        if (nbb_cells[i].get_text() == nbb_unformatted_code) {\n",
       "                             nbb_cells[i].set_text(nbb_formatted_code);\n",
       "                        }\n",
       "                        break;\n",
       "                    }\n",
       "                }\n",
       "            }, 500);\n",
       "            "
      ],
      "text/plain": [
       "<IPython.core.display.Javascript object>"
      ]
     },
     "metadata": {},
     "output_type": "display_data"
    }
   ],
   "source": [
    "import numpy as np\n",
    "import pandas as pd\n",
    "\n",
    "import tensorflow as tf\n",
    "\n",
    "from sklearn.model_selection import train_test_split\n",
    "\n",
    "from tensorflow.keras.layers import (\n",
    "    Activation,\n",
    "    Dense,\n",
    "    Embedding,\n",
    "    Conv1D,\n",
    "    Conv2D,\n",
    "    Flatten,\n",
    "    GlobalAveragePooling1D,\n",
    "    LSTM,\n",
    "    MaxPooling1D,\n",
    "    MaxPooling2D,\n",
    "\n",
    ")\n",
    "from tensorflow.keras.models import Sequential\n",
    "from tensorflow.keras.preprocessing.sequence import pad_sequences\n",
    "from tensorflow.keras.preprocessing.text import Tokenizer, text_to_word_sequence\n",
    "\n",
    "from tensorflow.keras.losses import SparseCategoricalCrossentropy\n",
    "from tensorflow.keras.metrics import Accuracy\n",
    "from tensorflow.keras.optimizers import Adam\n",
    "from tensorflow.keras.utils import set_random_seed\n"
   ]
  },
  {
   "cell_type": "code",
   "execution_count": 3,
   "id": "6277694b",
   "metadata": {},
   "outputs": [
    {
     "data": {
      "application/javascript": [
       "\n",
       "            setTimeout(function() {\n",
       "                var nbb_cell_id = 3;\n",
       "                var nbb_unformatted_code = \"from sklearn.datasets import fetch_20newsgroups\";\n",
       "                var nbb_formatted_code = \"from sklearn.datasets import fetch_20newsgroups\";\n",
       "                var nbb_cells = Jupyter.notebook.get_cells();\n",
       "                for (var i = 0; i < nbb_cells.length; ++i) {\n",
       "                    if (nbb_cells[i].input_prompt_number == nbb_cell_id) {\n",
       "                        if (nbb_cells[i].get_text() == nbb_unformatted_code) {\n",
       "                             nbb_cells[i].set_text(nbb_formatted_code);\n",
       "                        }\n",
       "                        break;\n",
       "                    }\n",
       "                }\n",
       "            }, 500);\n",
       "            "
      ],
      "text/plain": [
       "<IPython.core.display.Javascript object>"
      ]
     },
     "metadata": {},
     "output_type": "display_data"
    }
   ],
   "source": [
    "from sklearn.datasets import fetch_20newsgroups"
   ]
  },
  {
   "cell_type": "code",
   "execution_count": 4,
   "id": "ff9060fb",
   "metadata": {},
   "outputs": [
    {
     "data": {
      "application/javascript": [
       "\n",
       "            setTimeout(function() {\n",
       "                var nbb_cell_id = 4;\n",
       "                var nbb_unformatted_code = \"news = fetch_20newsgroups()\";\n",
       "                var nbb_formatted_code = \"news = fetch_20newsgroups()\";\n",
       "                var nbb_cells = Jupyter.notebook.get_cells();\n",
       "                for (var i = 0; i < nbb_cells.length; ++i) {\n",
       "                    if (nbb_cells[i].input_prompt_number == nbb_cell_id) {\n",
       "                        if (nbb_cells[i].get_text() == nbb_unformatted_code) {\n",
       "                             nbb_cells[i].set_text(nbb_formatted_code);\n",
       "                        }\n",
       "                        break;\n",
       "                    }\n",
       "                }\n",
       "            }, 500);\n",
       "            "
      ],
      "text/plain": [
       "<IPython.core.display.Javascript object>"
      ]
     },
     "metadata": {},
     "output_type": "display_data"
    }
   ],
   "source": [
    "news = fetch_20newsgroups()"
   ]
  },
  {
   "cell_type": "code",
   "execution_count": 5,
   "id": "22038492",
   "metadata": {},
   "outputs": [
    {
     "data": {
      "application/javascript": [
       "\n",
       "            setTimeout(function() {\n",
       "                var nbb_cell_id = 5;\n",
       "                var nbb_unformatted_code = \"X = news[\\\"data\\\"]\\ny = news[\\\"target\\\"]\";\n",
       "                var nbb_formatted_code = \"X = news[\\\"data\\\"]\\ny = news[\\\"target\\\"]\";\n",
       "                var nbb_cells = Jupyter.notebook.get_cells();\n",
       "                for (var i = 0; i < nbb_cells.length; ++i) {\n",
       "                    if (nbb_cells[i].input_prompt_number == nbb_cell_id) {\n",
       "                        if (nbb_cells[i].get_text() == nbb_unformatted_code) {\n",
       "                             nbb_cells[i].set_text(nbb_formatted_code);\n",
       "                        }\n",
       "                        break;\n",
       "                    }\n",
       "                }\n",
       "            }, 500);\n",
       "            "
      ],
      "text/plain": [
       "<IPython.core.display.Javascript object>"
      ]
     },
     "metadata": {},
     "output_type": "display_data"
    }
   ],
   "source": [
    "X = news[\"data\"]\n",
    "y = news[\"target\"]"
   ]
  },
  {
   "cell_type": "code",
   "execution_count": 6,
   "id": "9842c1a9",
   "metadata": {},
   "outputs": [
    {
     "data": {
      "application/javascript": [
       "\n",
       "            setTimeout(function() {\n",
       "                var nbb_cell_id = 6;\n",
       "                var nbb_unformatted_code = \"X_train, X_test, y_train, y_test = train_test_split(\\n    X, y, stratify=y, test_size=0.2, random_state=42\\n)\";\n",
       "                var nbb_formatted_code = \"X_train, X_test, y_train, y_test = train_test_split(\\n    X, y, stratify=y, test_size=0.2, random_state=42\\n)\";\n",
       "                var nbb_cells = Jupyter.notebook.get_cells();\n",
       "                for (var i = 0; i < nbb_cells.length; ++i) {\n",
       "                    if (nbb_cells[i].input_prompt_number == nbb_cell_id) {\n",
       "                        if (nbb_cells[i].get_text() == nbb_unformatted_code) {\n",
       "                             nbb_cells[i].set_text(nbb_formatted_code);\n",
       "                        }\n",
       "                        break;\n",
       "                    }\n",
       "                }\n",
       "            }, 500);\n",
       "            "
      ],
      "text/plain": [
       "<IPython.core.display.Javascript object>"
      ]
     },
     "metadata": {},
     "output_type": "display_data"
    }
   ],
   "source": [
    "X_train, X_test, y_train, y_test = train_test_split(\n",
    "    X, y, stratify=y, test_size=0.2, random_state=42\n",
    ")"
   ]
  },
  {
   "cell_type": "code",
   "execution_count": 7,
   "id": "b8237786",
   "metadata": {},
   "outputs": [
    {
     "data": {
      "application/javascript": [
       "\n",
       "            setTimeout(function() {\n",
       "                var nbb_cell_id = 7;\n",
       "                var nbb_unformatted_code = \"X_train_raw = pd.DataFrame(X_train, columns=[\\\"text\\\"])\\nX_test_raw = pd.DataFrame(X_test, columns=[\\\"text\\\"])\";\n",
       "                var nbb_formatted_code = \"X_train_raw = pd.DataFrame(X_train, columns=[\\\"text\\\"])\\nX_test_raw = pd.DataFrame(X_test, columns=[\\\"text\\\"])\";\n",
       "                var nbb_cells = Jupyter.notebook.get_cells();\n",
       "                for (var i = 0; i < nbb_cells.length; ++i) {\n",
       "                    if (nbb_cells[i].input_prompt_number == nbb_cell_id) {\n",
       "                        if (nbb_cells[i].get_text() == nbb_unformatted_code) {\n",
       "                             nbb_cells[i].set_text(nbb_formatted_code);\n",
       "                        }\n",
       "                        break;\n",
       "                    }\n",
       "                }\n",
       "            }, 500);\n",
       "            "
      ],
      "text/plain": [
       "<IPython.core.display.Javascript object>"
      ]
     },
     "metadata": {},
     "output_type": "display_data"
    }
   ],
   "source": [
    "X_train_raw = pd.DataFrame(X_train, columns=[\"text\"])\n",
    "X_test_raw = pd.DataFrame(X_test, columns=[\"text\"])"
   ]
  },
  {
   "cell_type": "markdown",
   "id": "8aaacae9",
   "metadata": {},
   "source": [
    "# Train data"
   ]
  },
  {
   "cell_type": "markdown",
   "id": "5878d47d",
   "metadata": {},
   "source": [
    "## Set tokenizer"
   ]
  },
  {
   "cell_type": "code",
   "execution_count": 8,
   "id": "274cbbba",
   "metadata": {},
   "outputs": [
    {
     "data": {
      "application/javascript": [
       "\n",
       "            setTimeout(function() {\n",
       "                var nbb_cell_id = 8;\n",
       "                var nbb_unformatted_code = \"OOV_TOKEN = \\\"<OOV>\\\"\\nLOWER = True\\nCHAR_LEVEL = False\\nNUM_WORDS = 10000  # Number of terms which will be used for the creating the vocabulary.\\n\\n\\ntokenizer = Tokenizer(\\n    oov_token=OOV_TOKEN,\\n    split=\\\" \\\",\\n    lower=LOWER,\\n    char_level=CHAR_LEVEL,\\n    num_words=NUM_WORDS,\\n)\";\n",
       "                var nbb_formatted_code = \"OOV_TOKEN = \\\"<OOV>\\\"\\nLOWER = True\\nCHAR_LEVEL = False\\nNUM_WORDS = 10000  # Number of terms which will be used for the creating the vocabulary.\\n\\n\\ntokenizer = Tokenizer(\\n    oov_token=OOV_TOKEN,\\n    split=\\\" \\\",\\n    lower=LOWER,\\n    char_level=CHAR_LEVEL,\\n    num_words=NUM_WORDS,\\n)\";\n",
       "                var nbb_cells = Jupyter.notebook.get_cells();\n",
       "                for (var i = 0; i < nbb_cells.length; ++i) {\n",
       "                    if (nbb_cells[i].input_prompt_number == nbb_cell_id) {\n",
       "                        if (nbb_cells[i].get_text() == nbb_unformatted_code) {\n",
       "                             nbb_cells[i].set_text(nbb_formatted_code);\n",
       "                        }\n",
       "                        break;\n",
       "                    }\n",
       "                }\n",
       "            }, 500);\n",
       "            "
      ],
      "text/plain": [
       "<IPython.core.display.Javascript object>"
      ]
     },
     "metadata": {},
     "output_type": "display_data"
    }
   ],
   "source": [
    "OOV_TOKEN = \"<OOV>\"\n",
    "LOWER = True\n",
    "CHAR_LEVEL = False\n",
    "NUM_WORDS = 10000  # Number of terms which will be used for the creating the vocabulary.\n",
    "\n",
    "\n",
    "tokenizer = Tokenizer(\n",
    "    oov_token=OOV_TOKEN,\n",
    "    split=\" \",\n",
    "    lower=LOWER,\n",
    "    char_level=CHAR_LEVEL,\n",
    "    num_words=NUM_WORDS,\n",
    ")"
   ]
  },
  {
   "cell_type": "code",
   "execution_count": 9,
   "id": "c881262a",
   "metadata": {},
   "outputs": [
    {
     "data": {
      "application/javascript": [
       "\n",
       "            setTimeout(function() {\n",
       "                var nbb_cell_id = 9;\n",
       "                var nbb_unformatted_code = \"tokenizer.fit_on_texts(X_train_raw[\\\"text\\\"].values)\";\n",
       "                var nbb_formatted_code = \"tokenizer.fit_on_texts(X_train_raw[\\\"text\\\"].values)\";\n",
       "                var nbb_cells = Jupyter.notebook.get_cells();\n",
       "                for (var i = 0; i < nbb_cells.length; ++i) {\n",
       "                    if (nbb_cells[i].input_prompt_number == nbb_cell_id) {\n",
       "                        if (nbb_cells[i].get_text() == nbb_unformatted_code) {\n",
       "                             nbb_cells[i].set_text(nbb_formatted_code);\n",
       "                        }\n",
       "                        break;\n",
       "                    }\n",
       "                }\n",
       "            }, 500);\n",
       "            "
      ],
      "text/plain": [
       "<IPython.core.display.Javascript object>"
      ]
     },
     "metadata": {},
     "output_type": "display_data"
    }
   ],
   "source": [
    "tokenizer.fit_on_texts(X_train_raw[\"text\"].values)"
   ]
  },
  {
   "cell_type": "code",
   "execution_count": 10,
   "id": "fad372ba",
   "metadata": {},
   "outputs": [
    {
     "data": {
      "application/javascript": [
       "\n",
       "            setTimeout(function() {\n",
       "                var nbb_cell_id = 10;\n",
       "                var nbb_unformatted_code = \"index_word = tokenizer.index_word\\nword_index = {v: k for k, v in tokenizer.index_word.items()}\\n\\n\\nvocabulary = {i: index_word.get(i) for i in range(1, NUM_WORDS)}\\nvocabulary_inverse = {w: i for i, w in vocabulary.items()}\";\n",
       "                var nbb_formatted_code = \"index_word = tokenizer.index_word\\nword_index = {v: k for k, v in tokenizer.index_word.items()}\\n\\n\\nvocabulary = {i: index_word.get(i) for i in range(1, NUM_WORDS)}\\nvocabulary_inverse = {w: i for i, w in vocabulary.items()}\";\n",
       "                var nbb_cells = Jupyter.notebook.get_cells();\n",
       "                for (var i = 0; i < nbb_cells.length; ++i) {\n",
       "                    if (nbb_cells[i].input_prompt_number == nbb_cell_id) {\n",
       "                        if (nbb_cells[i].get_text() == nbb_unformatted_code) {\n",
       "                             nbb_cells[i].set_text(nbb_formatted_code);\n",
       "                        }\n",
       "                        break;\n",
       "                    }\n",
       "                }\n",
       "            }, 500);\n",
       "            "
      ],
      "text/plain": [
       "<IPython.core.display.Javascript object>"
      ]
     },
     "metadata": {},
     "output_type": "display_data"
    }
   ],
   "source": [
    "index_word = tokenizer.index_word\n",
    "word_index = {v: k for k, v in tokenizer.index_word.items()}\n",
    "\n",
    "\n",
    "vocabulary = {i: index_word.get(i) for i in range(1, NUM_WORDS)}\n",
    "vocabulary_inverse = {w: i for i, w in vocabulary.items()}"
   ]
  },
  {
   "cell_type": "code",
   "execution_count": 11,
   "id": "45d142af",
   "metadata": {},
   "outputs": [
    {
     "data": {
      "application/javascript": [
       "\n",
       "            setTimeout(function() {\n",
       "                var nbb_cell_id = 11;\n",
       "                var nbb_unformatted_code = \"texts_to_sequences_train = tokenizer.texts_to_sequences(X_train_raw[\\\"text\\\"].values)\";\n",
       "                var nbb_formatted_code = \"texts_to_sequences_train = tokenizer.texts_to_sequences(X_train_raw[\\\"text\\\"].values)\";\n",
       "                var nbb_cells = Jupyter.notebook.get_cells();\n",
       "                for (var i = 0; i < nbb_cells.length; ++i) {\n",
       "                    if (nbb_cells[i].input_prompt_number == nbb_cell_id) {\n",
       "                        if (nbb_cells[i].get_text() == nbb_unformatted_code) {\n",
       "                             nbb_cells[i].set_text(nbb_formatted_code);\n",
       "                        }\n",
       "                        break;\n",
       "                    }\n",
       "                }\n",
       "            }, 500);\n",
       "            "
      ],
      "text/plain": [
       "<IPython.core.display.Javascript object>"
      ]
     },
     "metadata": {},
     "output_type": "display_data"
    }
   ],
   "source": [
    "texts_to_sequences_train = tokenizer.texts_to_sequences(X_train_raw[\"text\"].values)"
   ]
  },
  {
   "cell_type": "code",
   "execution_count": 12,
   "id": "707b9067",
   "metadata": {},
   "outputs": [
    {
     "data": {
      "application/javascript": [
       "\n",
       "            setTimeout(function() {\n",
       "                var nbb_cell_id = 12;\n",
       "                var nbb_unformatted_code = \"PADDING = \\\"post\\\"\\nTRUNCATING = \\\"post\\\"\\nMAXLEN = 10\\n\\nsequences_padded_train = pad_sequences(\\n    texts_to_sequences_train, padding=PADDING, truncating=TRUNCATING, maxlen=MAXLEN\\n)\";\n",
       "                var nbb_formatted_code = \"PADDING = \\\"post\\\"\\nTRUNCATING = \\\"post\\\"\\nMAXLEN = 10\\n\\nsequences_padded_train = pad_sequences(\\n    texts_to_sequences_train, padding=PADDING, truncating=TRUNCATING, maxlen=MAXLEN\\n)\";\n",
       "                var nbb_cells = Jupyter.notebook.get_cells();\n",
       "                for (var i = 0; i < nbb_cells.length; ++i) {\n",
       "                    if (nbb_cells[i].input_prompt_number == nbb_cell_id) {\n",
       "                        if (nbb_cells[i].get_text() == nbb_unformatted_code) {\n",
       "                             nbb_cells[i].set_text(nbb_formatted_code);\n",
       "                        }\n",
       "                        break;\n",
       "                    }\n",
       "                }\n",
       "            }, 500);\n",
       "            "
      ],
      "text/plain": [
       "<IPython.core.display.Javascript object>"
      ]
     },
     "metadata": {},
     "output_type": "display_data"
    }
   ],
   "source": [
    "PADDING = \"post\"\n",
    "TRUNCATING = \"post\"\n",
    "MAXLEN = 10\n",
    "\n",
    "sequences_padded_train = pad_sequences(\n",
    "    texts_to_sequences_train, padding=PADDING, truncating=TRUNCATING, maxlen=MAXLEN\n",
    ")"
   ]
  },
  {
   "cell_type": "markdown",
   "id": "473a2b9e",
   "metadata": {},
   "source": [
    "## Test data"
   ]
  },
  {
   "cell_type": "code",
   "execution_count": 13,
   "id": "9d5113fb",
   "metadata": {},
   "outputs": [
    {
     "data": {
      "application/javascript": [
       "\n",
       "            setTimeout(function() {\n",
       "                var nbb_cell_id = 13;\n",
       "                var nbb_unformatted_code = \"texts_to_sequences_test = tokenizer.texts_to_sequences(X_test_raw[\\\"text\\\"].values)\";\n",
       "                var nbb_formatted_code = \"texts_to_sequences_test = tokenizer.texts_to_sequences(X_test_raw[\\\"text\\\"].values)\";\n",
       "                var nbb_cells = Jupyter.notebook.get_cells();\n",
       "                for (var i = 0; i < nbb_cells.length; ++i) {\n",
       "                    if (nbb_cells[i].input_prompt_number == nbb_cell_id) {\n",
       "                        if (nbb_cells[i].get_text() == nbb_unformatted_code) {\n",
       "                             nbb_cells[i].set_text(nbb_formatted_code);\n",
       "                        }\n",
       "                        break;\n",
       "                    }\n",
       "                }\n",
       "            }, 500);\n",
       "            "
      ],
      "text/plain": [
       "<IPython.core.display.Javascript object>"
      ]
     },
     "metadata": {},
     "output_type": "display_data"
    }
   ],
   "source": [
    "texts_to_sequences_test = tokenizer.texts_to_sequences(X_test_raw[\"text\"].values)"
   ]
  },
  {
   "cell_type": "code",
   "execution_count": 14,
   "id": "1013b27d",
   "metadata": {},
   "outputs": [
    {
     "data": {
      "application/javascript": [
       "\n",
       "            setTimeout(function() {\n",
       "                var nbb_cell_id = 14;\n",
       "                var nbb_unformatted_code = \"sequences_padded_test = pad_sequences(\\n    texts_to_sequences_test, padding=PADDING, truncating=TRUNCATING, maxlen=MAXLEN\\n)\";\n",
       "                var nbb_formatted_code = \"sequences_padded_test = pad_sequences(\\n    texts_to_sequences_test, padding=PADDING, truncating=TRUNCATING, maxlen=MAXLEN\\n)\";\n",
       "                var nbb_cells = Jupyter.notebook.get_cells();\n",
       "                for (var i = 0; i < nbb_cells.length; ++i) {\n",
       "                    if (nbb_cells[i].input_prompt_number == nbb_cell_id) {\n",
       "                        if (nbb_cells[i].get_text() == nbb_unformatted_code) {\n",
       "                             nbb_cells[i].set_text(nbb_formatted_code);\n",
       "                        }\n",
       "                        break;\n",
       "                    }\n",
       "                }\n",
       "            }, 500);\n",
       "            "
      ],
      "text/plain": [
       "<IPython.core.display.Javascript object>"
      ]
     },
     "metadata": {},
     "output_type": "display_data"
    }
   ],
   "source": [
    "sequences_padded_test = pad_sequences(\n",
    "    texts_to_sequences_test, padding=PADDING, truncating=TRUNCATING, maxlen=MAXLEN\n",
    ")"
   ]
  },
  {
   "cell_type": "markdown",
   "id": "79ac04ae",
   "metadata": {},
   "source": [
    "# Set model"
   ]
  },
  {
   "cell_type": "code",
   "execution_count": 15,
   "id": "6841e4b4",
   "metadata": {},
   "outputs": [
    {
     "name": "stdout",
     "output_type": "stream",
     "text": [
      "Model: \"simple\"\n",
      "_________________________________________________________________\n",
      " Layer (type)                Output Shape              Param #   \n",
      "=================================================================\n",
      " embedding_layer (Embedding)  (None, 10, 300)          3000000   \n",
      "                                                                 \n",
      " global_average_pooling1d (G  (None, 300)              0         \n",
      " lobalAveragePooling1D)                                          \n",
      "                                                                 \n",
      " dense (Dense)               (None, 6)                 1806      \n",
      "                                                                 \n",
      " dense_1 (Dense)             (None, 20)                140       \n",
      "                                                                 \n",
      "=================================================================\n",
      "Total params: 3,001,946\n",
      "Trainable params: 3,001,946\n",
      "Non-trainable params: 0\n",
      "_________________________________________________________________\n"
     ]
    },
    {
     "data": {
      "application/javascript": [
       "\n",
       "            setTimeout(function() {\n",
       "                var nbb_cell_id = 15;\n",
       "                var nbb_unformatted_code = \"set_random_seed(42)\\n\\nINPUT_DIM = NUM_WORDS  # Usually len(vocab) + 1\\nINPUT_LENGTH = 10  # Length of a sequence\\nEMBEDDING_DIM = 300\\n\\nmodel = Sequential(\\n    [\\n        Embedding(\\n            input_dim=INPUT_DIM,\\n            output_dim=EMBEDDING_DIM,\\n            input_length=INPUT_LENGTH,\\n            weights=None,\\n            trainable=True,\\n            name=\\\"embedding_layer\\\",\\n        ),\\n        GlobalAveragePooling1D(\\n            data_format=\\\"channels_last\\\",\\n            keepdims=False,\\n        ),  # Get the average of each dimension along columns -> (1, 300)\\n        Dense(units=6, activation=\\\"relu\\\"),\\n        Dense(units=20, activation=\\\"softmax\\\"),\\n    ],\\n    name=\\\"simple\\\",\\n)\\n\\n\\nOPTIMIZER = Adam(learning_rate=0.01)\\nLOSS = SparseCategoricalCrossentropy()\\n\\n\\nmodel.compile(optimizer=OPTIMIZER, loss=LOSS, metrics=[\\\"accuracy\\\"])\\n\\nmodel.summary()\";\n",
       "                var nbb_formatted_code = \"set_random_seed(42)\\n\\nINPUT_DIM = NUM_WORDS  # Usually len(vocab) + 1\\nINPUT_LENGTH = 10  # Length of a sequence\\nEMBEDDING_DIM = 300\\n\\nmodel = Sequential(\\n    [\\n        Embedding(\\n            input_dim=INPUT_DIM,\\n            output_dim=EMBEDDING_DIM,\\n            input_length=INPUT_LENGTH,\\n            weights=None,\\n            trainable=True,\\n            name=\\\"embedding_layer\\\",\\n        ),\\n        GlobalAveragePooling1D(\\n            data_format=\\\"channels_last\\\",\\n            keepdims=False,\\n        ),  # Get the average of each dimension along columns -> (1, 300)\\n        Dense(units=6, activation=\\\"relu\\\"),\\n        Dense(units=20, activation=\\\"softmax\\\"),\\n    ],\\n    name=\\\"simple\\\",\\n)\\n\\n\\nOPTIMIZER = Adam(learning_rate=0.01)\\nLOSS = SparseCategoricalCrossentropy()\\n\\n\\nmodel.compile(optimizer=OPTIMIZER, loss=LOSS, metrics=[\\\"accuracy\\\"])\\n\\nmodel.summary()\";\n",
       "                var nbb_cells = Jupyter.notebook.get_cells();\n",
       "                for (var i = 0; i < nbb_cells.length; ++i) {\n",
       "                    if (nbb_cells[i].input_prompt_number == nbb_cell_id) {\n",
       "                        if (nbb_cells[i].get_text() == nbb_unformatted_code) {\n",
       "                             nbb_cells[i].set_text(nbb_formatted_code);\n",
       "                        }\n",
       "                        break;\n",
       "                    }\n",
       "                }\n",
       "            }, 500);\n",
       "            "
      ],
      "text/plain": [
       "<IPython.core.display.Javascript object>"
      ]
     },
     "metadata": {},
     "output_type": "display_data"
    }
   ],
   "source": [
    "set_random_seed(42)\n",
    "\n",
    "INPUT_DIM = NUM_WORDS  # Usually len(vocab) + 1\n",
    "INPUT_LENGTH = 10  # Length of a sequence\n",
    "EMBEDDING_DIM = 300\n",
    "\n",
    "model = Sequential(\n",
    "    [\n",
    "        Embedding(\n",
    "            input_dim=INPUT_DIM,\n",
    "            output_dim=EMBEDDING_DIM,\n",
    "            input_length=INPUT_LENGTH,\n",
    "            weights=None,\n",
    "            trainable=True,\n",
    "            name=\"embedding_layer\",\n",
    "        ),\n",
    "        GlobalAveragePooling1D(\n",
    "            data_format=\"channels_last\",\n",
    "            keepdims=False,\n",
    "        ),  # Get the average of each dimension along columns -> (1, 300)\n",
    "        Dense(units=6, activation=\"relu\"),\n",
    "        Dense(units=20, activation=\"softmax\"),\n",
    "    ],\n",
    "    name=\"simple\",\n",
    ")\n",
    "\n",
    "\n",
    "OPTIMIZER = Adam(learning_rate=0.01)\n",
    "LOSS = SparseCategoricalCrossentropy()\n",
    "\n",
    "\n",
    "model.compile(optimizer=OPTIMIZER, loss=LOSS, metrics=[\"accuracy\"])\n",
    "\n",
    "model.summary()"
   ]
  },
  {
   "cell_type": "code",
   "execution_count": 16,
   "id": "b51256f6",
   "metadata": {},
   "outputs": [
    {
     "data": {
      "application/javascript": [
       "\n",
       "            setTimeout(function() {\n",
       "                var nbb_cell_id = 16;\n",
       "                var nbb_unformatted_code = \"def train(X_train, y_train, **kwargs):\\n    history = model.fit(X_train, y_train, **kwargs)\\n    return history\";\n",
       "                var nbb_formatted_code = \"def train(X_train, y_train, **kwargs):\\n    history = model.fit(X_train, y_train, **kwargs)\\n    return history\";\n",
       "                var nbb_cells = Jupyter.notebook.get_cells();\n",
       "                for (var i = 0; i < nbb_cells.length; ++i) {\n",
       "                    if (nbb_cells[i].input_prompt_number == nbb_cell_id) {\n",
       "                        if (nbb_cells[i].get_text() == nbb_unformatted_code) {\n",
       "                             nbb_cells[i].set_text(nbb_formatted_code);\n",
       "                        }\n",
       "                        break;\n",
       "                    }\n",
       "                }\n",
       "            }, 500);\n",
       "            "
      ],
      "text/plain": [
       "<IPython.core.display.Javascript object>"
      ]
     },
     "metadata": {},
     "output_type": "display_data"
    }
   ],
   "source": [
    "def train(X_train, y_train, **kwargs):\n",
    "    history = model.fit(X_train, y_train, **kwargs)\n",
    "    return history"
   ]
  },
  {
   "cell_type": "code",
   "execution_count": 17,
   "id": "cc2d12f3",
   "metadata": {},
   "outputs": [
    {
     "name": "stdout",
     "output_type": "stream",
     "text": [
      "Epoch 1/10\n",
      "71/71 [==============================] - 2s 19ms/step - loss: 2.6610 - accuracy: 0.1812 - val_loss: 2.3097 - val_accuracy: 0.3067\n",
      "Epoch 2/10\n",
      "71/71 [==============================] - 1s 15ms/step - loss: 1.9038 - accuracy: 0.4338 - val_loss: 2.0363 - val_accuracy: 0.4158\n",
      "Epoch 3/10\n",
      "71/71 [==============================] - 1s 15ms/step - loss: 1.4347 - accuracy: 0.5798 - val_loss: 1.9964 - val_accuracy: 0.4631\n",
      "Epoch 4/10\n",
      "71/71 [==============================] - 1s 15ms/step - loss: 1.1905 - accuracy: 0.6573 - val_loss: 2.1374 - val_accuracy: 0.4843\n",
      "Epoch 5/10\n",
      "71/71 [==============================] - 1s 16ms/step - loss: 1.0406 - accuracy: 0.6936 - val_loss: 2.2442 - val_accuracy: 0.4980\n",
      "Epoch 6/10\n",
      "71/71 [==============================] - 1s 17ms/step - loss: 0.9462 - accuracy: 0.7230 - val_loss: 2.3652 - val_accuracy: 0.4905\n",
      "Epoch 7/10\n",
      "71/71 [==============================] - 1s 15ms/step - loss: 0.8874 - accuracy: 0.7348 - val_loss: 2.4925 - val_accuracy: 0.4932\n",
      "Epoch 8/10\n",
      "71/71 [==============================] - 1s 15ms/step - loss: 0.8278 - accuracy: 0.7533 - val_loss: 2.5562 - val_accuracy: 0.4993\n",
      "Epoch 9/10\n",
      "71/71 [==============================] - 1s 16ms/step - loss: 0.7840 - accuracy: 0.7607 - val_loss: 2.8240 - val_accuracy: 0.5029\n",
      "Epoch 10/10\n",
      "71/71 [==============================] - 1s 16ms/step - loss: 0.7685 - accuracy: 0.7615 - val_loss: 2.8684 - val_accuracy: 0.4985\n"
     ]
    },
    {
     "data": {
      "application/javascript": [
       "\n",
       "            setTimeout(function() {\n",
       "                var nbb_cell_id = 17;\n",
       "                var nbb_unformatted_code = \"history = train(\\n    sequences_padded_train,\\n    y_train,\\n    validation_data=(sequences_padded_test, y_test),\\n    epochs=10,\\n    batch_size=128,\\n)\";\n",
       "                var nbb_formatted_code = \"history = train(\\n    sequences_padded_train,\\n    y_train,\\n    validation_data=(sequences_padded_test, y_test),\\n    epochs=10,\\n    batch_size=128,\\n)\";\n",
       "                var nbb_cells = Jupyter.notebook.get_cells();\n",
       "                for (var i = 0; i < nbb_cells.length; ++i) {\n",
       "                    if (nbb_cells[i].input_prompt_number == nbb_cell_id) {\n",
       "                        if (nbb_cells[i].get_text() == nbb_unformatted_code) {\n",
       "                             nbb_cells[i].set_text(nbb_formatted_code);\n",
       "                        }\n",
       "                        break;\n",
       "                    }\n",
       "                }\n",
       "            }, 500);\n",
       "            "
      ],
      "text/plain": [
       "<IPython.core.display.Javascript object>"
      ]
     },
     "metadata": {},
     "output_type": "display_data"
    }
   ],
   "source": [
    "history = train(\n",
    "    sequences_padded_train,\n",
    "    y_train,\n",
    "    validation_data=(sequences_padded_test, y_test),\n",
    "    epochs=10,\n",
    "    batch_size=128,\n",
    ")"
   ]
  }
 ],
 "metadata": {
  "kernelspec": {
   "display_name": "Python [conda env:NLP]",
   "language": "python",
   "name": "conda-env-NLP-py"
  },
  "language_info": {
   "codemirror_mode": {
    "name": "ipython",
    "version": 3
   },
   "file_extension": ".py",
   "mimetype": "text/x-python",
   "name": "python",
   "nbconvert_exporter": "python",
   "pygments_lexer": "ipython3",
   "version": "3.10.6"
  }
 },
 "nbformat": 4,
 "nbformat_minor": 5
}
