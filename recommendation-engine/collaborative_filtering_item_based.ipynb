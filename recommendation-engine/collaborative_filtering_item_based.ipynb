{
 "cells": [
  {
   "cell_type": "code",
   "execution_count": 1,
   "id": "a58e7275",
   "metadata": {},
   "outputs": [
    {
     "data": {
      "application/javascript": [
       "\n",
       "            setTimeout(function() {\n",
       "                var nbb_cell_id = 1;\n",
       "                var nbb_unformatted_code = \"%load_ext nb_black\";\n",
       "                var nbb_formatted_code = \"%load_ext nb_black\";\n",
       "                var nbb_cells = Jupyter.notebook.get_cells();\n",
       "                for (var i = 0; i < nbb_cells.length; ++i) {\n",
       "                    if (nbb_cells[i].input_prompt_number == nbb_cell_id) {\n",
       "                        if (nbb_cells[i].get_text() == nbb_unformatted_code) {\n",
       "                             nbb_cells[i].set_text(nbb_formatted_code);\n",
       "                        }\n",
       "                        break;\n",
       "                    }\n",
       "                }\n",
       "            }, 500);\n",
       "            "
      ],
      "text/plain": [
       "<IPython.core.display.Javascript object>"
      ]
     },
     "metadata": {},
     "output_type": "display_data"
    }
   ],
   "source": [
    "%load_ext nb_black"
   ]
  },
  {
   "cell_type": "code",
   "execution_count": 112,
   "id": "0e8748da",
   "metadata": {},
   "outputs": [
    {
     "data": {
      "application/javascript": [
       "\n",
       "            setTimeout(function() {\n",
       "                var nbb_cell_id = 112;\n",
       "                var nbb_unformatted_code = \"import math\\n\\nimport numpy as np\\nimport pandas as pd\\n\\nfrom sklearn.metrics.pairwise import cosine_similarity\\nfrom surprise import Dataset, KNNBasic, KNNWithMeans, Reader\";\n",
       "                var nbb_formatted_code = \"import math\\n\\nimport numpy as np\\nimport pandas as pd\\n\\nfrom sklearn.metrics.pairwise import cosine_similarity\\nfrom surprise import Dataset, KNNBasic, KNNWithMeans, Reader\";\n",
       "                var nbb_cells = Jupyter.notebook.get_cells();\n",
       "                for (var i = 0; i < nbb_cells.length; ++i) {\n",
       "                    if (nbb_cells[i].input_prompt_number == nbb_cell_id) {\n",
       "                        if (nbb_cells[i].get_text() == nbb_unformatted_code) {\n",
       "                             nbb_cells[i].set_text(nbb_formatted_code);\n",
       "                        }\n",
       "                        break;\n",
       "                    }\n",
       "                }\n",
       "            }, 500);\n",
       "            "
      ],
      "text/plain": [
       "<IPython.core.display.Javascript object>"
      ]
     },
     "metadata": {},
     "output_type": "display_data"
    }
   ],
   "source": [
    "import math\n",
    "\n",
    "import numpy as np\n",
    "import pandas as pd\n",
    "\n",
    "from sklearn.metrics.pairwise import cosine_similarity\n",
    "from surprise import Dataset, KNNBasic, KNNWithMeans, Reader"
   ]
  },
  {
   "cell_type": "markdown",
   "id": "e491f755",
   "metadata": {},
   "source": [
    "# Data"
   ]
  },
  {
   "cell_type": "code",
   "execution_count": 133,
   "id": "b3b2b6a0",
   "metadata": {},
   "outputs": [
    {
     "data": {
      "text/html": [
       "<div>\n",
       "<style scoped>\n",
       "    .dataframe tbody tr th:only-of-type {\n",
       "        vertical-align: middle;\n",
       "    }\n",
       "\n",
       "    .dataframe tbody tr th {\n",
       "        vertical-align: top;\n",
       "    }\n",
       "\n",
       "    .dataframe thead th {\n",
       "        text-align: right;\n",
       "    }\n",
       "</style>\n",
       "<table border=\"1\" class=\"dataframe\">\n",
       "  <thead>\n",
       "    <tr style=\"text-align: right;\">\n",
       "      <th></th>\n",
       "      <th>user_id</th>\n",
       "      <th>item_id</th>\n",
       "      <th>rating</th>\n",
       "    </tr>\n",
       "  </thead>\n",
       "  <tbody>\n",
       "    <tr>\n",
       "      <th>0</th>\n",
       "      <td>1</td>\n",
       "      <td>1</td>\n",
       "      <td>1</td>\n",
       "    </tr>\n",
       "    <tr>\n",
       "      <th>1</th>\n",
       "      <td>1</td>\n",
       "      <td>2</td>\n",
       "      <td>2</td>\n",
       "    </tr>\n",
       "    <tr>\n",
       "      <th>2</th>\n",
       "      <td>2</td>\n",
       "      <td>1</td>\n",
       "      <td>3</td>\n",
       "    </tr>\n",
       "    <tr>\n",
       "      <th>3</th>\n",
       "      <td>2</td>\n",
       "      <td>2</td>\n",
       "      <td>5</td>\n",
       "    </tr>\n",
       "  </tbody>\n",
       "</table>\n",
       "</div>"
      ],
      "text/plain": [
       "   user_id  item_id  rating\n",
       "0        1        1       1\n",
       "1        1        2       2\n",
       "2        2        1       3\n",
       "3        2        2       5"
      ]
     },
     "execution_count": 133,
     "metadata": {},
     "output_type": "execute_result"
    },
    {
     "data": {
      "application/javascript": [
       "\n",
       "            setTimeout(function() {\n",
       "                var nbb_cell_id = 133;\n",
       "                var nbb_unformatted_code = \"USER_IDS = [1, 1, 2,  2]\\nITEM_IDS = [1, 2, 1, 2]\\nRATINGS = [1, 2, 3,  5]\\n\\n\\ndf = pd.DataFrame({\\\"user_id\\\": USER_IDS, \\\"item_id\\\": ITEM_IDS, \\\"rating\\\": RATINGS})\\ndf\";\n",
       "                var nbb_formatted_code = \"USER_IDS = [1, 1, 2, 2]\\nITEM_IDS = [1, 2, 1, 2]\\nRATINGS = [1, 2, 3, 5]\\n\\n\\ndf = pd.DataFrame({\\\"user_id\\\": USER_IDS, \\\"item_id\\\": ITEM_IDS, \\\"rating\\\": RATINGS})\\ndf\";\n",
       "                var nbb_cells = Jupyter.notebook.get_cells();\n",
       "                for (var i = 0; i < nbb_cells.length; ++i) {\n",
       "                    if (nbb_cells[i].input_prompt_number == nbb_cell_id) {\n",
       "                        if (nbb_cells[i].get_text() == nbb_unformatted_code) {\n",
       "                             nbb_cells[i].set_text(nbb_formatted_code);\n",
       "                        }\n",
       "                        break;\n",
       "                    }\n",
       "                }\n",
       "            }, 500);\n",
       "            "
      ],
      "text/plain": [
       "<IPython.core.display.Javascript object>"
      ]
     },
     "metadata": {},
     "output_type": "display_data"
    }
   ],
   "source": [
    "USER_IDS = [1, 1, 2, 2]\n",
    "ITEM_IDS = [1, 2, 1, 2]\n",
    "RATINGS = [1, 2, 3, 5]\n",
    "\n",
    "\n",
    "df = pd.DataFrame({\"user_id\": USER_IDS, \"item_id\": ITEM_IDS, \"rating\": RATINGS})\n",
    "df"
   ]
  },
  {
   "cell_type": "markdown",
   "id": "bc9f15da",
   "metadata": {},
   "source": [
    "# Surprise"
   ]
  },
  {
   "cell_type": "code",
   "execution_count": 134,
   "id": "f638ba88",
   "metadata": {},
   "outputs": [
    {
     "data": {
      "application/javascript": [
       "\n",
       "            setTimeout(function() {\n",
       "                var nbb_cell_id = 134;\n",
       "                var nbb_unformatted_code = \"reader = Reader()\\ndata = Dataset.load_from_df(df, reader)\";\n",
       "                var nbb_formatted_code = \"reader = Reader()\\ndata = Dataset.load_from_df(df, reader)\";\n",
       "                var nbb_cells = Jupyter.notebook.get_cells();\n",
       "                for (var i = 0; i < nbb_cells.length; ++i) {\n",
       "                    if (nbb_cells[i].input_prompt_number == nbb_cell_id) {\n",
       "                        if (nbb_cells[i].get_text() == nbb_unformatted_code) {\n",
       "                             nbb_cells[i].set_text(nbb_formatted_code);\n",
       "                        }\n",
       "                        break;\n",
       "                    }\n",
       "                }\n",
       "            }, 500);\n",
       "            "
      ],
      "text/plain": [
       "<IPython.core.display.Javascript object>"
      ]
     },
     "metadata": {},
     "output_type": "display_data"
    }
   ],
   "source": [
    "reader = Reader()\n",
    "data = Dataset.load_from_df(df, reader)\n"
   ]
  },
  {
   "cell_type": "code",
   "execution_count": 151,
   "id": "e97b3d09",
   "metadata": {},
   "outputs": [
    {
     "data": {
      "application/javascript": [
       "\n",
       "            setTimeout(function() {\n",
       "                var nbb_cell_id = 151;\n",
       "                var nbb_unformatted_code = \"sim_options = {\\\"name\\\": \\\"cosine\\\", \\\"user_based\\\": True}\\n\\nalgo = KNNBasic(k=3, sim_options=sim_options)\";\n",
       "                var nbb_formatted_code = \"sim_options = {\\\"name\\\": \\\"cosine\\\", \\\"user_based\\\": True}\\n\\nalgo = KNNBasic(k=3, sim_options=sim_options)\";\n",
       "                var nbb_cells = Jupyter.notebook.get_cells();\n",
       "                for (var i = 0; i < nbb_cells.length; ++i) {\n",
       "                    if (nbb_cells[i].input_prompt_number == nbb_cell_id) {\n",
       "                        if (nbb_cells[i].get_text() == nbb_unformatted_code) {\n",
       "                             nbb_cells[i].set_text(nbb_formatted_code);\n",
       "                        }\n",
       "                        break;\n",
       "                    }\n",
       "                }\n",
       "            }, 500);\n",
       "            "
      ],
      "text/plain": [
       "<IPython.core.display.Javascript object>"
      ]
     },
     "metadata": {},
     "output_type": "display_data"
    }
   ],
   "source": [
    "sim_options = {\"name\": \"cosine\", \"user_based\": True}\n",
    "\n",
    "algo = KNNBasic(k=3, sim_options=sim_options)"
   ]
  },
  {
   "cell_type": "code",
   "execution_count": 152,
   "id": "b63875af",
   "metadata": {},
   "outputs": [
    {
     "name": "stdout",
     "output_type": "stream",
     "text": [
      "Computing the cosine similarity matrix...\n",
      "Done computing similarity matrix.\n"
     ]
    },
    {
     "data": {
      "text/plain": [
       "<surprise.prediction_algorithms.knns.KNNBasic at 0x1a94d811ca0>"
      ]
     },
     "execution_count": 152,
     "metadata": {},
     "output_type": "execute_result"
    },
    {
     "data": {
      "application/javascript": [
       "\n",
       "            setTimeout(function() {\n",
       "                var nbb_cell_id = 152;\n",
       "                var nbb_unformatted_code = \"trainset = data.build_full_trainset()\\nalgo.fit(trainset)\";\n",
       "                var nbb_formatted_code = \"trainset = data.build_full_trainset()\\nalgo.fit(trainset)\";\n",
       "                var nbb_cells = Jupyter.notebook.get_cells();\n",
       "                for (var i = 0; i < nbb_cells.length; ++i) {\n",
       "                    if (nbb_cells[i].input_prompt_number == nbb_cell_id) {\n",
       "                        if (nbb_cells[i].get_text() == nbb_unformatted_code) {\n",
       "                             nbb_cells[i].set_text(nbb_formatted_code);\n",
       "                        }\n",
       "                        break;\n",
       "                    }\n",
       "                }\n",
       "            }, 500);\n",
       "            "
      ],
      "text/plain": [
       "<IPython.core.display.Javascript object>"
      ]
     },
     "metadata": {},
     "output_type": "display_data"
    }
   ],
   "source": [
    "trainset = data.build_full_trainset()\n",
    "algo.fit(trainset)"
   ]
  },
  {
   "cell_type": "code",
   "execution_count": 153,
   "id": "00290f61",
   "metadata": {},
   "outputs": [
    {
     "data": {
      "text/plain": [
       "Prediction(uid=1, iid=1, r_ui=None, est=1.998525070537733, details={'actual_k': 2, 'was_impossible': False})"
      ]
     },
     "execution_count": 153,
     "metadata": {},
     "output_type": "execute_result"
    },
    {
     "data": {
      "application/javascript": [
       "\n",
       "            setTimeout(function() {\n",
       "                var nbb_cell_id = 153;\n",
       "                var nbb_unformatted_code = \"pred = algo.predict(uid=1, iid=1)\\npred\";\n",
       "                var nbb_formatted_code = \"pred = algo.predict(uid=1, iid=1)\\npred\";\n",
       "                var nbb_cells = Jupyter.notebook.get_cells();\n",
       "                for (var i = 0; i < nbb_cells.length; ++i) {\n",
       "                    if (nbb_cells[i].input_prompt_number == nbb_cell_id) {\n",
       "                        if (nbb_cells[i].get_text() == nbb_unformatted_code) {\n",
       "                             nbb_cells[i].set_text(nbb_formatted_code);\n",
       "                        }\n",
       "                        break;\n",
       "                    }\n",
       "                }\n",
       "            }, 500);\n",
       "            "
      ],
      "text/plain": [
       "<IPython.core.display.Javascript object>"
      ]
     },
     "metadata": {},
     "output_type": "display_data"
    }
   ],
   "source": [
    "pred = algo.predict(uid=1, iid=1)\n",
    "pred"
   ]
  },
  {
   "cell_type": "markdown",
   "id": "1441b865",
   "metadata": {},
   "source": [
    "# Item based"
   ]
  },
  {
   "cell_type": "code",
   "execution_count": 138,
   "id": "d5508031",
   "metadata": {},
   "outputs": [
    {
     "data": {
      "text/html": [
       "<div>\n",
       "<style scoped>\n",
       "    .dataframe tbody tr th:only-of-type {\n",
       "        vertical-align: middle;\n",
       "    }\n",
       "\n",
       "    .dataframe tbody tr th {\n",
       "        vertical-align: top;\n",
       "    }\n",
       "\n",
       "    .dataframe thead th {\n",
       "        text-align: right;\n",
       "    }\n",
       "</style>\n",
       "<table border=\"1\" class=\"dataframe\">\n",
       "  <thead>\n",
       "    <tr style=\"text-align: right;\">\n",
       "      <th>user_id</th>\n",
       "      <th>1</th>\n",
       "      <th>2</th>\n",
       "    </tr>\n",
       "    <tr>\n",
       "      <th>item_id</th>\n",
       "      <th></th>\n",
       "      <th></th>\n",
       "    </tr>\n",
       "  </thead>\n",
       "  <tbody>\n",
       "    <tr>\n",
       "      <th>1</th>\n",
       "      <td>1</td>\n",
       "      <td>3</td>\n",
       "    </tr>\n",
       "    <tr>\n",
       "      <th>2</th>\n",
       "      <td>2</td>\n",
       "      <td>5</td>\n",
       "    </tr>\n",
       "  </tbody>\n",
       "</table>\n",
       "</div>"
      ],
      "text/plain": [
       "user_id  1  2\n",
       "item_id      \n",
       "1        1  3\n",
       "2        2  5"
      ]
     },
     "execution_count": 138,
     "metadata": {},
     "output_type": "execute_result"
    },
    {
     "data": {
      "application/javascript": [
       "\n",
       "            setTimeout(function() {\n",
       "                var nbb_cell_id = 138;\n",
       "                var nbb_unformatted_code = \"item_user_matrix = df.pivot_table(index=\\\"item_id\\\", columns=\\\"user_id\\\", values=\\\"rating\\\")\\nitem_user_matrix\";\n",
       "                var nbb_formatted_code = \"item_user_matrix = df.pivot_table(index=\\\"item_id\\\", columns=\\\"user_id\\\", values=\\\"rating\\\")\\nitem_user_matrix\";\n",
       "                var nbb_cells = Jupyter.notebook.get_cells();\n",
       "                for (var i = 0; i < nbb_cells.length; ++i) {\n",
       "                    if (nbb_cells[i].input_prompt_number == nbb_cell_id) {\n",
       "                        if (nbb_cells[i].get_text() == nbb_unformatted_code) {\n",
       "                             nbb_cells[i].set_text(nbb_formatted_code);\n",
       "                        }\n",
       "                        break;\n",
       "                    }\n",
       "                }\n",
       "            }, 500);\n",
       "            "
      ],
      "text/plain": [
       "<IPython.core.display.Javascript object>"
      ]
     },
     "metadata": {},
     "output_type": "display_data"
    }
   ],
   "source": [
    "item_user_matrix = df.pivot_table(index=\"item_id\", columns=\"user_id\", values=\"rating\")\n",
    "item_user_matrix"
   ]
  },
  {
   "cell_type": "code",
   "execution_count": 139,
   "id": "eacc6d85",
   "metadata": {},
   "outputs": [
    {
     "data": {
      "application/javascript": [
       "\n",
       "            setTimeout(function() {\n",
       "                var nbb_cell_id = 139;\n",
       "                var nbb_unformatted_code = \"def get_cosine_similarity(df: pd.DataFrame) -> pd.DataFrame:\\n    df.fillna(0, inplace=True)\\n\\n    # create an empty dataframe to store the similarity score\\n    similarity_df = pd.DataFrame(index=df.index, columns=df.index)\\n\\n    # compute the cosine similarity\\n    for i in range(0, len(similarity_df.columns)):\\n        for j in range(0, len(similarity_df.columns)):\\n            similarity_df.iloc[i, j] = np.dot(df.iloc[i], df.iloc[j]) / (\\n                np.sqrt(np.dot(df.iloc[i], df.iloc[i]))\\n                * np.sqrt(np.dot(df.iloc[j], df.iloc[j]))\\n            )\\n\\n    return similarity_df\";\n",
       "                var nbb_formatted_code = \"def get_cosine_similarity(df: pd.DataFrame) -> pd.DataFrame:\\n    df.fillna(0, inplace=True)\\n\\n    # create an empty dataframe to store the similarity score\\n    similarity_df = pd.DataFrame(index=df.index, columns=df.index)\\n\\n    # compute the cosine similarity\\n    for i in range(0, len(similarity_df.columns)):\\n        for j in range(0, len(similarity_df.columns)):\\n            similarity_df.iloc[i, j] = np.dot(df.iloc[i], df.iloc[j]) / (\\n                np.sqrt(np.dot(df.iloc[i], df.iloc[i]))\\n                * np.sqrt(np.dot(df.iloc[j], df.iloc[j]))\\n            )\\n\\n    return similarity_df\";\n",
       "                var nbb_cells = Jupyter.notebook.get_cells();\n",
       "                for (var i = 0; i < nbb_cells.length; ++i) {\n",
       "                    if (nbb_cells[i].input_prompt_number == nbb_cell_id) {\n",
       "                        if (nbb_cells[i].get_text() == nbb_unformatted_code) {\n",
       "                             nbb_cells[i].set_text(nbb_formatted_code);\n",
       "                        }\n",
       "                        break;\n",
       "                    }\n",
       "                }\n",
       "            }, 500);\n",
       "            "
      ],
      "text/plain": [
       "<IPython.core.display.Javascript object>"
      ]
     },
     "metadata": {},
     "output_type": "display_data"
    }
   ],
   "source": [
    "def get_cosine_similarity(df: pd.DataFrame) -> pd.DataFrame:\n",
    "    df.fillna(0, inplace=True)\n",
    "\n",
    "    # create an empty dataframe to store the similarity score\n",
    "    similarity_df = pd.DataFrame(index=df.index, columns=df.index)\n",
    "\n",
    "    # compute the cosine similarity\n",
    "    for i in range(0, len(similarity_df.columns)):\n",
    "        for j in range(0, len(similarity_df.columns)):\n",
    "            similarity_df.iloc[i, j] = np.dot(df.iloc[i], df.iloc[j]) / (\n",
    "                np.sqrt(np.dot(df.iloc[i], df.iloc[i]))\n",
    "                * np.sqrt(np.dot(df.iloc[j], df.iloc[j]))\n",
    "            )\n",
    "\n",
    "    return similarity_df"
   ]
  },
  {
   "cell_type": "code",
   "execution_count": 140,
   "id": "060f9175",
   "metadata": {},
   "outputs": [
    {
     "data": {
      "text/html": [
       "<div>\n",
       "<style scoped>\n",
       "    .dataframe tbody tr th:only-of-type {\n",
       "        vertical-align: middle;\n",
       "    }\n",
       "\n",
       "    .dataframe tbody tr th {\n",
       "        vertical-align: top;\n",
       "    }\n",
       "\n",
       "    .dataframe thead th {\n",
       "        text-align: right;\n",
       "    }\n",
       "</style>\n",
       "<table border=\"1\" class=\"dataframe\">\n",
       "  <thead>\n",
       "    <tr style=\"text-align: right;\">\n",
       "      <th>item_id</th>\n",
       "      <th>1</th>\n",
       "      <th>2</th>\n",
       "    </tr>\n",
       "    <tr>\n",
       "      <th>item_id</th>\n",
       "      <th></th>\n",
       "      <th></th>\n",
       "    </tr>\n",
       "  </thead>\n",
       "  <tbody>\n",
       "    <tr>\n",
       "      <th>1</th>\n",
       "      <td>1.0</td>\n",
       "      <td>0.998274</td>\n",
       "    </tr>\n",
       "    <tr>\n",
       "      <th>2</th>\n",
       "      <td>0.998274</td>\n",
       "      <td>1.0</td>\n",
       "    </tr>\n",
       "  </tbody>\n",
       "</table>\n",
       "</div>"
      ],
      "text/plain": [
       "item_id         1         2\n",
       "item_id                    \n",
       "1             1.0  0.998274\n",
       "2        0.998274       1.0"
      ]
     },
     "execution_count": 140,
     "metadata": {},
     "output_type": "execute_result"
    },
    {
     "data": {
      "application/javascript": [
       "\n",
       "            setTimeout(function() {\n",
       "                var nbb_cell_id = 140;\n",
       "                var nbb_unformatted_code = \"similarity_df = get_cosine_similarity(item_user_matrix, )\\nsimilarity_df\";\n",
       "                var nbb_formatted_code = \"similarity_df = get_cosine_similarity(\\n    item_user_matrix,\\n)\\nsimilarity_df\";\n",
       "                var nbb_cells = Jupyter.notebook.get_cells();\n",
       "                for (var i = 0; i < nbb_cells.length; ++i) {\n",
       "                    if (nbb_cells[i].input_prompt_number == nbb_cell_id) {\n",
       "                        if (nbb_cells[i].get_text() == nbb_unformatted_code) {\n",
       "                             nbb_cells[i].set_text(nbb_formatted_code);\n",
       "                        }\n",
       "                        break;\n",
       "                    }\n",
       "                }\n",
       "            }, 500);\n",
       "            "
      ],
      "text/plain": [
       "<IPython.core.display.Javascript object>"
      ]
     },
     "metadata": {},
     "output_type": "display_data"
    }
   ],
   "source": [
    "similarity_df = get_cosine_similarity(\n",
    "    item_user_matrix,\n",
    ")\n",
    "similarity_df"
   ]
  },
  {
   "cell_type": "code",
   "execution_count": 141,
   "id": "8fc77afa",
   "metadata": {},
   "outputs": [
    {
     "data": {
      "text/plain": [
       "array([[1.        , 0.99827437],\n",
       "       [0.99827437, 1.        ]])"
      ]
     },
     "execution_count": 141,
     "metadata": {},
     "output_type": "execute_result"
    },
    {
     "data": {
      "application/javascript": [
       "\n",
       "            setTimeout(function() {\n",
       "                var nbb_cell_id = 141;\n",
       "                var nbb_unformatted_code = \"np.round(cosine_similarity(item_user_matrix.fillna(0)), 10)\";\n",
       "                var nbb_formatted_code = \"np.round(cosine_similarity(item_user_matrix.fillna(0)), 10)\";\n",
       "                var nbb_cells = Jupyter.notebook.get_cells();\n",
       "                for (var i = 0; i < nbb_cells.length; ++i) {\n",
       "                    if (nbb_cells[i].input_prompt_number == nbb_cell_id) {\n",
       "                        if (nbb_cells[i].get_text() == nbb_unformatted_code) {\n",
       "                             nbb_cells[i].set_text(nbb_formatted_code);\n",
       "                        }\n",
       "                        break;\n",
       "                    }\n",
       "                }\n",
       "            }, 500);\n",
       "            "
      ],
      "text/plain": [
       "<IPython.core.display.Javascript object>"
      ]
     },
     "metadata": {},
     "output_type": "display_data"
    }
   ],
   "source": [
    "np.round(cosine_similarity(item_user_matrix.fillna(0)), 10)"
   ]
  },
  {
   "cell_type": "code",
   "execution_count": 142,
   "id": "c590790b",
   "metadata": {},
   "outputs": [
    {
     "data": {
      "application/javascript": [
       "\n",
       "            setTimeout(function() {\n",
       "                var nbb_cell_id = 142;\n",
       "                var nbb_unformatted_code = \"def predict_rating(iid: int, uid: int) -> float:\\n    global item_user_matrix\\n\\n    similarity_matrix = np.round(cosine_similarity(item_user_matrix.fillna(0)), 10)\\n\\n    similarity_df_index = similarity_matrix.shape[0] + 1\\n    similarity_df = pd.DataFrame(\\n        similarity_matrix,\\n        index=range(1, similarity_df_index),\\n        columns=range(1, similarity_df_index),\\n    )\\n\\n    # Get the similar items to the given item\\n    similar_items = similarity_df[iid]\\n\\n    # Get the ratings of the similar items by the given user\\n    ratings = item_user_matrix[uid]\\n\\n    # Get the indices of the non-NA ratings\\n    idx = ratings.notna()\\n\\n    # Calculate the predicted rating\\n    pred = similar_items[idx].dot(ratings[idx]) / similar_items[idx].sum()\\n\\n    return pred\";\n",
       "                var nbb_formatted_code = \"def predict_rating(iid: int, uid: int) -> float:\\n    global item_user_matrix\\n\\n    similarity_matrix = np.round(cosine_similarity(item_user_matrix.fillna(0)), 10)\\n\\n    similarity_df_index = similarity_matrix.shape[0] + 1\\n    similarity_df = pd.DataFrame(\\n        similarity_matrix,\\n        index=range(1, similarity_df_index),\\n        columns=range(1, similarity_df_index),\\n    )\\n\\n    # Get the similar items to the given item\\n    similar_items = similarity_df[iid]\\n\\n    # Get the ratings of the similar items by the given user\\n    ratings = item_user_matrix[uid]\\n\\n    # Get the indices of the non-NA ratings\\n    idx = ratings.notna()\\n\\n    # Calculate the predicted rating\\n    pred = similar_items[idx].dot(ratings[idx]) / similar_items[idx].sum()\\n\\n    return pred\";\n",
       "                var nbb_cells = Jupyter.notebook.get_cells();\n",
       "                for (var i = 0; i < nbb_cells.length; ++i) {\n",
       "                    if (nbb_cells[i].input_prompt_number == nbb_cell_id) {\n",
       "                        if (nbb_cells[i].get_text() == nbb_unformatted_code) {\n",
       "                             nbb_cells[i].set_text(nbb_formatted_code);\n",
       "                        }\n",
       "                        break;\n",
       "                    }\n",
       "                }\n",
       "            }, 500);\n",
       "            "
      ],
      "text/plain": [
       "<IPython.core.display.Javascript object>"
      ]
     },
     "metadata": {},
     "output_type": "display_data"
    }
   ],
   "source": [
    "def predict_rating(iid: int, uid: int) -> float:\n",
    "    global item_user_matrix\n",
    "\n",
    "    similarity_matrix = np.round(cosine_similarity(item_user_matrix.fillna(0)), 10)\n",
    "\n",
    "    similarity_df_index = similarity_matrix.shape[0] + 1\n",
    "    similarity_df = pd.DataFrame(\n",
    "        similarity_matrix,\n",
    "        index=range(1, similarity_df_index),\n",
    "        columns=range(1, similarity_df_index),\n",
    "    )\n",
    "\n",
    "    # Get the similar items to the given item\n",
    "    similar_items = similarity_df[iid]\n",
    "\n",
    "    # Get the ratings of the similar items by the given user\n",
    "    ratings = item_user_matrix[uid]\n",
    "\n",
    "    # Get the indices of the non-NA ratings\n",
    "    idx = ratings.notna()\n",
    "\n",
    "    # Calculate the predicted rating\n",
    "    pred = similar_items[idx].dot(ratings[idx]) / similar_items[idx].sum()\n",
    "\n",
    "    return pred"
   ]
  },
  {
   "cell_type": "code",
   "execution_count": 143,
   "id": "d6596247",
   "metadata": {},
   "outputs": [
    {
     "name": "stdout",
     "output_type": "stream",
     "text": [
      "1.4995682207550818\n"
     ]
    },
    {
     "data": {
      "application/javascript": [
       "\n",
       "            setTimeout(function() {\n",
       "                var nbb_cell_id = 143;\n",
       "                var nbb_unformatted_code = \"IID = 1\\nUID = 1\\nprint(\\n    predict_rating(iid=IID, uid=UID)\\n)  # prints the predicted rating for item 1 by user 1\";\n",
       "                var nbb_formatted_code = \"IID = 1\\nUID = 1\\nprint(\\n    predict_rating(iid=IID, uid=UID)\\n)  # prints the predicted rating for item 1 by user 1\";\n",
       "                var nbb_cells = Jupyter.notebook.get_cells();\n",
       "                for (var i = 0; i < nbb_cells.length; ++i) {\n",
       "                    if (nbb_cells[i].input_prompt_number == nbb_cell_id) {\n",
       "                        if (nbb_cells[i].get_text() == nbb_unformatted_code) {\n",
       "                             nbb_cells[i].set_text(nbb_formatted_code);\n",
       "                        }\n",
       "                        break;\n",
       "                    }\n",
       "                }\n",
       "            }, 500);\n",
       "            "
      ],
      "text/plain": [
       "<IPython.core.display.Javascript object>"
      ]
     },
     "metadata": {},
     "output_type": "display_data"
    }
   ],
   "source": [
    "IID = 1\n",
    "UID = 1\n",
    "print(\n",
    "    predict_rating(iid=IID, uid=UID)\n",
    ")  # prints the predicted rating for item 1 by user 1"
   ]
  },
  {
   "cell_type": "code",
   "execution_count": 144,
   "id": "b1ba4cb9",
   "metadata": {},
   "outputs": [
    {
     "data": {
      "text/plain": [
       "2.4811369420821174"
      ]
     },
     "execution_count": 144,
     "metadata": {},
     "output_type": "execute_result"
    },
    {
     "data": {
      "application/javascript": [
       "\n",
       "            setTimeout(function() {\n",
       "                var nbb_cell_id = 144;\n",
       "                var nbb_unformatted_code = \"(0.99827437 * 2 + 0.31622777 * 4) / (0.99827437 + 0.31622777)\";\n",
       "                var nbb_formatted_code = \"(0.99827437 * 2 + 0.31622777 * 4) / (0.99827437 + 0.31622777)\";\n",
       "                var nbb_cells = Jupyter.notebook.get_cells();\n",
       "                for (var i = 0; i < nbb_cells.length; ++i) {\n",
       "                    if (nbb_cells[i].input_prompt_number == nbb_cell_id) {\n",
       "                        if (nbb_cells[i].get_text() == nbb_unformatted_code) {\n",
       "                             nbb_cells[i].set_text(nbb_formatted_code);\n",
       "                        }\n",
       "                        break;\n",
       "                    }\n",
       "                }\n",
       "            }, 500);\n",
       "            "
      ],
      "text/plain": [
       "<IPython.core.display.Javascript object>"
      ]
     },
     "metadata": {},
     "output_type": "display_data"
    }
   ],
   "source": [
    "(0.99827437 * 2 + 0.31622777 * 4) / (0.99827437 + 0.31622777)"
   ]
  },
  {
   "cell_type": "code",
   "execution_count": 145,
   "id": "43c62b97",
   "metadata": {},
   "outputs": [
    {
     "data": {
      "text/html": [
       "<div>\n",
       "<style scoped>\n",
       "    .dataframe tbody tr th:only-of-type {\n",
       "        vertical-align: middle;\n",
       "    }\n",
       "\n",
       "    .dataframe tbody tr th {\n",
       "        vertical-align: top;\n",
       "    }\n",
       "\n",
       "    .dataframe thead th {\n",
       "        text-align: right;\n",
       "    }\n",
       "</style>\n",
       "<table border=\"1\" class=\"dataframe\">\n",
       "  <thead>\n",
       "    <tr style=\"text-align: right;\">\n",
       "      <th>item_id</th>\n",
       "      <th>1</th>\n",
       "      <th>2</th>\n",
       "    </tr>\n",
       "    <tr>\n",
       "      <th>item_id</th>\n",
       "      <th></th>\n",
       "      <th></th>\n",
       "    </tr>\n",
       "  </thead>\n",
       "  <tbody>\n",
       "    <tr>\n",
       "      <th>1</th>\n",
       "      <td>1.0</td>\n",
       "      <td>0.998274</td>\n",
       "    </tr>\n",
       "    <tr>\n",
       "      <th>2</th>\n",
       "      <td>0.998274</td>\n",
       "      <td>1.0</td>\n",
       "    </tr>\n",
       "  </tbody>\n",
       "</table>\n",
       "</div>"
      ],
      "text/plain": [
       "item_id         1         2\n",
       "item_id                    \n",
       "1             1.0  0.998274\n",
       "2        0.998274       1.0"
      ]
     },
     "metadata": {},
     "output_type": "display_data"
    },
    {
     "data": {
      "text/plain": [
       "item_id\n",
       "1         1.0\n",
       "2    0.998274\n",
       "Name: 1, dtype: object"
      ]
     },
     "metadata": {},
     "output_type": "display_data"
    },
    {
     "data": {
      "text/plain": [
       "1.499572129892357"
      ]
     },
     "execution_count": 145,
     "metadata": {},
     "output_type": "execute_result"
    },
    {
     "data": {
      "application/javascript": [
       "\n",
       "            setTimeout(function() {\n",
       "                var nbb_cell_id = 145;\n",
       "                var nbb_unformatted_code = \"similarity_df = get_cosine_similarity(item_user_matrix)\\ndisplay(similarity_df)\\n\\nweights = similarity_df.loc[IID, :]  # cosine similarity of items with item IID\\ndisplay(weights)\\n\\nnp.round(np.dot(item_user_matrix.loc[:, UID], weights), 5) / np.round(weights.sum(), 5)\";\n",
       "                var nbb_formatted_code = \"similarity_df = get_cosine_similarity(item_user_matrix)\\ndisplay(similarity_df)\\n\\nweights = similarity_df.loc[IID, :]  # cosine similarity of items with item IID\\ndisplay(weights)\\n\\nnp.round(np.dot(item_user_matrix.loc[:, UID], weights), 5) / np.round(weights.sum(), 5)\";\n",
       "                var nbb_cells = Jupyter.notebook.get_cells();\n",
       "                for (var i = 0; i < nbb_cells.length; ++i) {\n",
       "                    if (nbb_cells[i].input_prompt_number == nbb_cell_id) {\n",
       "                        if (nbb_cells[i].get_text() == nbb_unformatted_code) {\n",
       "                             nbb_cells[i].set_text(nbb_formatted_code);\n",
       "                        }\n",
       "                        break;\n",
       "                    }\n",
       "                }\n",
       "            }, 500);\n",
       "            "
      ],
      "text/plain": [
       "<IPython.core.display.Javascript object>"
      ]
     },
     "metadata": {},
     "output_type": "display_data"
    }
   ],
   "source": [
    "similarity_df = get_cosine_similarity(item_user_matrix)\n",
    "display(similarity_df)\n",
    "\n",
    "weights = similarity_df.loc[IID, :]  # cosine similarity of items with item IID\n",
    "display(weights)\n",
    "\n",
    "np.round(np.dot(item_user_matrix.loc[:, UID], weights), 5) / np.round(weights.sum(), 5)"
   ]
  },
  {
   "cell_type": "markdown",
   "id": "7df931f5",
   "metadata": {},
   "source": [
    "# User based"
   ]
  },
  {
   "cell_type": "code",
   "execution_count": 146,
   "id": "a38540e8",
   "metadata": {},
   "outputs": [
    {
     "data": {
      "text/html": [
       "<div>\n",
       "<style scoped>\n",
       "    .dataframe tbody tr th:only-of-type {\n",
       "        vertical-align: middle;\n",
       "    }\n",
       "\n",
       "    .dataframe tbody tr th {\n",
       "        vertical-align: top;\n",
       "    }\n",
       "\n",
       "    .dataframe thead th {\n",
       "        text-align: right;\n",
       "    }\n",
       "</style>\n",
       "<table border=\"1\" class=\"dataframe\">\n",
       "  <thead>\n",
       "    <tr style=\"text-align: right;\">\n",
       "      <th>item_id</th>\n",
       "      <th>1</th>\n",
       "      <th>2</th>\n",
       "    </tr>\n",
       "    <tr>\n",
       "      <th>user_id</th>\n",
       "      <th></th>\n",
       "      <th></th>\n",
       "    </tr>\n",
       "  </thead>\n",
       "  <tbody>\n",
       "    <tr>\n",
       "      <th>1</th>\n",
       "      <td>1</td>\n",
       "      <td>2</td>\n",
       "    </tr>\n",
       "    <tr>\n",
       "      <th>2</th>\n",
       "      <td>3</td>\n",
       "      <td>5</td>\n",
       "    </tr>\n",
       "  </tbody>\n",
       "</table>\n",
       "</div>"
      ],
      "text/plain": [
       "item_id  1  2\n",
       "user_id      \n",
       "1        1  2\n",
       "2        3  5"
      ]
     },
     "execution_count": 146,
     "metadata": {},
     "output_type": "execute_result"
    },
    {
     "data": {
      "application/javascript": [
       "\n",
       "            setTimeout(function() {\n",
       "                var nbb_cell_id = 146;\n",
       "                var nbb_unformatted_code = \"user_item_matrix = df.pivot_table(index=\\\"user_id\\\", columns=\\\"item_id\\\", values=\\\"rating\\\")\\nuser_item_matrix\";\n",
       "                var nbb_formatted_code = \"user_item_matrix = df.pivot_table(index=\\\"user_id\\\", columns=\\\"item_id\\\", values=\\\"rating\\\")\\nuser_item_matrix\";\n",
       "                var nbb_cells = Jupyter.notebook.get_cells();\n",
       "                for (var i = 0; i < nbb_cells.length; ++i) {\n",
       "                    if (nbb_cells[i].input_prompt_number == nbb_cell_id) {\n",
       "                        if (nbb_cells[i].get_text() == nbb_unformatted_code) {\n",
       "                             nbb_cells[i].set_text(nbb_formatted_code);\n",
       "                        }\n",
       "                        break;\n",
       "                    }\n",
       "                }\n",
       "            }, 500);\n",
       "            "
      ],
      "text/plain": [
       "<IPython.core.display.Javascript object>"
      ]
     },
     "metadata": {},
     "output_type": "display_data"
    }
   ],
   "source": [
    "user_item_matrix = df.pivot_table(index=\"user_id\", columns=\"item_id\", values=\"rating\")\n",
    "user_item_matrix"
   ]
  },
  {
   "cell_type": "code",
   "execution_count": 154,
   "id": "b7d0537d",
   "metadata": {},
   "outputs": [
    {
     "data": {
      "text/plain": [
       "1.9985248270702747"
      ]
     },
     "execution_count": 154,
     "metadata": {},
     "output_type": "execute_result"
    },
    {
     "data": {
      "application/javascript": [
       "\n",
       "            setTimeout(function() {\n",
       "                var nbb_cell_id = 154;\n",
       "                var nbb_unformatted_code = \"def get_prediction(uid: int, iid: int) -> float:\\n    global user_item_matrix\\n\\n    similarity_matrix = np.round(cosine_similarity(user_item_matrix.fillna(0)), 6)\\n\\n    similarity_df_index = similarity_matrix.shape[0] + 1\\n    similarity_df = pd.DataFrame(\\n        similarity_matrix,\\n        index=range(1, similarity_df_index),\\n        columns=range(1, similarity_df_index),\\n    )\\n\\n    # Get similar users\\n    similar_users = similarity_df[uid]\\n\\n    # Get ratings from similar users\\n    ratings = user_item_matrix[iid]\\n\\n    # Get the indices of the non-NA ratings\\n    idx = ratings.notna()\\n\\n    # Calculate the predicted rating\\n    pred = similar_users[idx].dot(ratings[idx]) / similar_users[idx].sum()\\n\\n    return pred\\n\\n\\nUID = 1\\nIID = 1\\n\\nget_prediction(uid=UID, iid=IID)\";\n",
       "                var nbb_formatted_code = \"def get_prediction(uid: int, iid: int) -> float:\\n    global user_item_matrix\\n\\n    similarity_matrix = np.round(cosine_similarity(user_item_matrix.fillna(0)), 6)\\n\\n    similarity_df_index = similarity_matrix.shape[0] + 1\\n    similarity_df = pd.DataFrame(\\n        similarity_matrix,\\n        index=range(1, similarity_df_index),\\n        columns=range(1, similarity_df_index),\\n    )\\n\\n    # Get similar users\\n    similar_users = similarity_df[uid]\\n\\n    # Get ratings from similar users\\n    ratings = user_item_matrix[iid]\\n\\n    # Get the indices of the non-NA ratings\\n    idx = ratings.notna()\\n\\n    # Calculate the predicted rating\\n    pred = similar_users[idx].dot(ratings[idx]) / similar_users[idx].sum()\\n\\n    return pred\\n\\n\\nUID = 1\\nIID = 1\\n\\nget_prediction(uid=UID, iid=IID)\";\n",
       "                var nbb_cells = Jupyter.notebook.get_cells();\n",
       "                for (var i = 0; i < nbb_cells.length; ++i) {\n",
       "                    if (nbb_cells[i].input_prompt_number == nbb_cell_id) {\n",
       "                        if (nbb_cells[i].get_text() == nbb_unformatted_code) {\n",
       "                             nbb_cells[i].set_text(nbb_formatted_code);\n",
       "                        }\n",
       "                        break;\n",
       "                    }\n",
       "                }\n",
       "            }, 500);\n",
       "            "
      ],
      "text/plain": [
       "<IPython.core.display.Javascript object>"
      ]
     },
     "metadata": {},
     "output_type": "display_data"
    }
   ],
   "source": [
    "def get_prediction(uid: int, iid: int) -> float:\n",
    "    global user_item_matrix\n",
    "\n",
    "    similarity_matrix = np.round(cosine_similarity(user_item_matrix.fillna(0)), 6)\n",
    "\n",
    "    similarity_df_index = similarity_matrix.shape[0] + 1\n",
    "    similarity_df = pd.DataFrame(\n",
    "        similarity_matrix,\n",
    "        index=range(1, similarity_df_index),\n",
    "        columns=range(1, similarity_df_index),\n",
    "    )\n",
    "\n",
    "    # Get similar users\n",
    "    similar_users = similarity_df[uid]\n",
    "\n",
    "    # Get ratings from similar users\n",
    "    ratings = user_item_matrix[iid]\n",
    "\n",
    "    # Get the indices of the non-NA ratings\n",
    "    idx = ratings.notna()\n",
    "\n",
    "    # Calculate the predicted rating\n",
    "    pred = similar_users[idx].dot(ratings[idx]) / similar_users[idx].sum()\n",
    "\n",
    "    return pred\n",
    "\n",
    "\n",
    "UID = 1\n",
    "IID = 1\n",
    "\n",
    "get_prediction(uid=UID, iid=IID)"
   ]
  },
  {
   "cell_type": "code",
   "execution_count": null,
   "id": "1556fa78",
   "metadata": {},
   "outputs": [],
   "source": []
  }
 ],
 "metadata": {
  "kernelspec": {
   "display_name": "Python [conda env:recsys]",
   "language": "python",
   "name": "conda-env-recsys-py"
  },
  "language_info": {
   "codemirror_mode": {
    "name": "ipython",
    "version": 3
   },
   "file_extension": ".py",
   "mimetype": "text/x-python",
   "name": "python",
   "nbconvert_exporter": "python",
   "pygments_lexer": "ipython3",
   "version": "3.9.15"
  }
 },
 "nbformat": 4,
 "nbformat_minor": 5
}
