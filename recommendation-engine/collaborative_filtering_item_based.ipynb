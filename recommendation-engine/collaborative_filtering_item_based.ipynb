{
 "cells": [
  {
   "cell_type": "code",
   "execution_count": 1,
   "id": "99a7a379",
   "metadata": {},
   "outputs": [
    {
     "data": {
      "application/javascript": [
       "\n",
       "            setTimeout(function() {\n",
       "                var nbb_cell_id = 1;\n",
       "                var nbb_unformatted_code = \"%load_ext nb_black\";\n",
       "                var nbb_formatted_code = \"%load_ext nb_black\";\n",
       "                var nbb_cells = Jupyter.notebook.get_cells();\n",
       "                for (var i = 0; i < nbb_cells.length; ++i) {\n",
       "                    if (nbb_cells[i].input_prompt_number == nbb_cell_id) {\n",
       "                        if (nbb_cells[i].get_text() == nbb_unformatted_code) {\n",
       "                             nbb_cells[i].set_text(nbb_formatted_code);\n",
       "                        }\n",
       "                        break;\n",
       "                    }\n",
       "                }\n",
       "            }, 500);\n",
       "            "
      ],
      "text/plain": [
       "<IPython.core.display.Javascript object>"
      ]
     },
     "metadata": {},
     "output_type": "display_data"
    }
   ],
   "source": [
    "%load_ext nb_black"
   ]
  },
  {
   "cell_type": "code",
   "execution_count": 2,
   "id": "970caecb",
   "metadata": {},
   "outputs": [
    {
     "data": {
      "application/javascript": [
       "\n",
       "            setTimeout(function() {\n",
       "                var nbb_cell_id = 2;\n",
       "                var nbb_unformatted_code = \"import math\\n\\nimport numpy as np\\nimport pandas as pd\\n\\nfrom sklearn.metrics.pairwise import cosine_similarity\\nfrom surprise import Dataset, KNNBasic, Reader\";\n",
       "                var nbb_formatted_code = \"import math\\n\\nimport numpy as np\\nimport pandas as pd\\n\\nfrom sklearn.metrics.pairwise import cosine_similarity\\nfrom surprise import Dataset, KNNBasic, Reader\";\n",
       "                var nbb_cells = Jupyter.notebook.get_cells();\n",
       "                for (var i = 0; i < nbb_cells.length; ++i) {\n",
       "                    if (nbb_cells[i].input_prompt_number == nbb_cell_id) {\n",
       "                        if (nbb_cells[i].get_text() == nbb_unformatted_code) {\n",
       "                             nbb_cells[i].set_text(nbb_formatted_code);\n",
       "                        }\n",
       "                        break;\n",
       "                    }\n",
       "                }\n",
       "            }, 500);\n",
       "            "
      ],
      "text/plain": [
       "<IPython.core.display.Javascript object>"
      ]
     },
     "metadata": {},
     "output_type": "display_data"
    }
   ],
   "source": [
    "import math\n",
    "\n",
    "import numpy as np\n",
    "import pandas as pd\n",
    "\n",
    "from sklearn.metrics.pairwise import cosine_similarity\n",
    "from surprise import Dataset, KNNBasic, Reader"
   ]
  },
  {
   "cell_type": "markdown",
   "id": "7548a58e",
   "metadata": {},
   "source": [
    "# Data"
   ]
  },
  {
   "cell_type": "code",
   "execution_count": 3,
   "id": "81228d52",
   "metadata": {},
   "outputs": [
    {
     "data": {
      "text/html": [
       "<div>\n",
       "<style scoped>\n",
       "    .dataframe tbody tr th:only-of-type {\n",
       "        vertical-align: middle;\n",
       "    }\n",
       "\n",
       "    .dataframe tbody tr th {\n",
       "        vertical-align: top;\n",
       "    }\n",
       "\n",
       "    .dataframe thead th {\n",
       "        text-align: right;\n",
       "    }\n",
       "</style>\n",
       "<table border=\"1\" class=\"dataframe\">\n",
       "  <thead>\n",
       "    <tr style=\"text-align: right;\">\n",
       "      <th></th>\n",
       "      <th>user_id</th>\n",
       "      <th>item_id</th>\n",
       "      <th>rating</th>\n",
       "    </tr>\n",
       "  </thead>\n",
       "  <tbody>\n",
       "    <tr>\n",
       "      <th>0</th>\n",
       "      <td>1</td>\n",
       "      <td>1</td>\n",
       "      <td>1</td>\n",
       "    </tr>\n",
       "    <tr>\n",
       "      <th>1</th>\n",
       "      <td>1</td>\n",
       "      <td>2</td>\n",
       "      <td>2</td>\n",
       "    </tr>\n",
       "    <tr>\n",
       "      <th>2</th>\n",
       "      <td>2</td>\n",
       "      <td>1</td>\n",
       "      <td>3</td>\n",
       "    </tr>\n",
       "    <tr>\n",
       "      <th>3</th>\n",
       "      <td>1</td>\n",
       "      <td>3</td>\n",
       "      <td>4</td>\n",
       "    </tr>\n",
       "    <tr>\n",
       "      <th>4</th>\n",
       "      <td>2</td>\n",
       "      <td>2</td>\n",
       "      <td>5</td>\n",
       "    </tr>\n",
       "  </tbody>\n",
       "</table>\n",
       "</div>"
      ],
      "text/plain": [
       "   user_id  item_id  rating\n",
       "0        1        1       1\n",
       "1        1        2       2\n",
       "2        2        1       3\n",
       "3        1        3       4\n",
       "4        2        2       5"
      ]
     },
     "execution_count": 3,
     "metadata": {},
     "output_type": "execute_result"
    },
    {
     "data": {
      "application/javascript": [
       "\n",
       "            setTimeout(function() {\n",
       "                var nbb_cell_id = 3;\n",
       "                var nbb_unformatted_code = \"USER_IDS = [1, 1, 2, 1, 2]\\nITEM_IDS = [1, 2, 1, 3, 2]\\nRATINGS = [1, 2, 3, 4, 5]\\n\\n\\ndf = pd.DataFrame({\\\"user_id\\\": USER_IDS, \\\"item_id\\\": ITEM_IDS, \\\"rating\\\": RATINGS})\\ndf\";\n",
       "                var nbb_formatted_code = \"USER_IDS = [1, 1, 2, 1, 2]\\nITEM_IDS = [1, 2, 1, 3, 2]\\nRATINGS = [1, 2, 3, 4, 5]\\n\\n\\ndf = pd.DataFrame({\\\"user_id\\\": USER_IDS, \\\"item_id\\\": ITEM_IDS, \\\"rating\\\": RATINGS})\\ndf\";\n",
       "                var nbb_cells = Jupyter.notebook.get_cells();\n",
       "                for (var i = 0; i < nbb_cells.length; ++i) {\n",
       "                    if (nbb_cells[i].input_prompt_number == nbb_cell_id) {\n",
       "                        if (nbb_cells[i].get_text() == nbb_unformatted_code) {\n",
       "                             nbb_cells[i].set_text(nbb_formatted_code);\n",
       "                        }\n",
       "                        break;\n",
       "                    }\n",
       "                }\n",
       "            }, 500);\n",
       "            "
      ],
      "text/plain": [
       "<IPython.core.display.Javascript object>"
      ]
     },
     "metadata": {},
     "output_type": "display_data"
    }
   ],
   "source": [
    "USER_IDS = [1, 1, 2, 1, 2]\n",
    "ITEM_IDS = [1, 2, 1, 3, 2]\n",
    "RATINGS = [1, 2, 3, 4, 5]\n",
    "\n",
    "\n",
    "df = pd.DataFrame({\"user_id\": USER_IDS, \"item_id\": ITEM_IDS, \"rating\": RATINGS})\n",
    "df"
   ]
  },
  {
   "cell_type": "markdown",
   "id": "8b5e2787",
   "metadata": {},
   "source": [
    "# Surprise"
   ]
  },
  {
   "cell_type": "code",
   "execution_count": 4,
   "id": "d146b1b3",
   "metadata": {},
   "outputs": [
    {
     "data": {
      "application/javascript": [
       "\n",
       "            setTimeout(function() {\n",
       "                var nbb_cell_id = 4;\n",
       "                var nbb_unformatted_code = \"reader = Reader()\\ndata = Dataset.load_from_df(df, reader)\";\n",
       "                var nbb_formatted_code = \"reader = Reader()\\ndata = Dataset.load_from_df(df, reader)\";\n",
       "                var nbb_cells = Jupyter.notebook.get_cells();\n",
       "                for (var i = 0; i < nbb_cells.length; ++i) {\n",
       "                    if (nbb_cells[i].input_prompt_number == nbb_cell_id) {\n",
       "                        if (nbb_cells[i].get_text() == nbb_unformatted_code) {\n",
       "                             nbb_cells[i].set_text(nbb_formatted_code);\n",
       "                        }\n",
       "                        break;\n",
       "                    }\n",
       "                }\n",
       "            }, 500);\n",
       "            "
      ],
      "text/plain": [
       "<IPython.core.display.Javascript object>"
      ]
     },
     "metadata": {},
     "output_type": "display_data"
    }
   ],
   "source": [
    "reader = Reader()\n",
    "data = Dataset.load_from_df(df, reader)\n"
   ]
  },
  {
   "cell_type": "code",
   "execution_count": 5,
   "id": "74d61aef",
   "metadata": {},
   "outputs": [
    {
     "data": {
      "application/javascript": [
       "\n",
       "            setTimeout(function() {\n",
       "                var nbb_cell_id = 5;\n",
       "                var nbb_unformatted_code = \"sim_options = {\\\"name\\\": \\\"cosine\\\", \\\"user_based\\\": False}\\n\\nalgo = KNNBasic(sim_options=sim_options)\";\n",
       "                var nbb_formatted_code = \"sim_options = {\\\"name\\\": \\\"cosine\\\", \\\"user_based\\\": False}\\n\\nalgo = KNNBasic(sim_options=sim_options)\";\n",
       "                var nbb_cells = Jupyter.notebook.get_cells();\n",
       "                for (var i = 0; i < nbb_cells.length; ++i) {\n",
       "                    if (nbb_cells[i].input_prompt_number == nbb_cell_id) {\n",
       "                        if (nbb_cells[i].get_text() == nbb_unformatted_code) {\n",
       "                             nbb_cells[i].set_text(nbb_formatted_code);\n",
       "                        }\n",
       "                        break;\n",
       "                    }\n",
       "                }\n",
       "            }, 500);\n",
       "            "
      ],
      "text/plain": [
       "<IPython.core.display.Javascript object>"
      ]
     },
     "metadata": {},
     "output_type": "display_data"
    }
   ],
   "source": [
    "sim_options = {\"name\": \"cosine\", \"user_based\": False}\n",
    "\n",
    "algo = KNNBasic(sim_options=sim_options)"
   ]
  },
  {
   "cell_type": "code",
   "execution_count": 6,
   "id": "59954813",
   "metadata": {},
   "outputs": [
    {
     "name": "stdout",
     "output_type": "stream",
     "text": [
      "Computing the cosine similarity matrix...\n",
      "Done computing similarity matrix.\n"
     ]
    },
    {
     "data": {
      "text/plain": [
       "<surprise.prediction_algorithms.knns.KNNBasic at 0x1a94d790310>"
      ]
     },
     "execution_count": 6,
     "metadata": {},
     "output_type": "execute_result"
    },
    {
     "data": {
      "application/javascript": [
       "\n",
       "            setTimeout(function() {\n",
       "                var nbb_cell_id = 6;\n",
       "                var nbb_unformatted_code = \"trainset = data.build_full_trainset()\\nalgo.fit(trainset)\";\n",
       "                var nbb_formatted_code = \"trainset = data.build_full_trainset()\\nalgo.fit(trainset)\";\n",
       "                var nbb_cells = Jupyter.notebook.get_cells();\n",
       "                for (var i = 0; i < nbb_cells.length; ++i) {\n",
       "                    if (nbb_cells[i].input_prompt_number == nbb_cell_id) {\n",
       "                        if (nbb_cells[i].get_text() == nbb_unformatted_code) {\n",
       "                             nbb_cells[i].set_text(nbb_formatted_code);\n",
       "                        }\n",
       "                        break;\n",
       "                    }\n",
       "                }\n",
       "            }, 500);\n",
       "            "
      ],
      "text/plain": [
       "<IPython.core.display.Javascript object>"
      ]
     },
     "metadata": {},
     "output_type": "display_data"
    }
   ],
   "source": [
    "trainset = data.build_full_trainset()\n",
    "algo.fit(trainset)"
   ]
  },
  {
   "cell_type": "code",
   "execution_count": 7,
   "id": "5b692ac5",
   "metadata": {},
   "outputs": [
    {
     "data": {
      "text/plain": [
       "Prediction(uid=1, iid=1, r_ui=None, est=2.3335251799991403, details={'actual_k': 3, 'was_impossible': False})"
      ]
     },
     "execution_count": 7,
     "metadata": {},
     "output_type": "execute_result"
    },
    {
     "data": {
      "application/javascript": [
       "\n",
       "            setTimeout(function() {\n",
       "                var nbb_cell_id = 7;\n",
       "                var nbb_unformatted_code = \"pred = algo.predict(uid=1, iid=1)\\npred\";\n",
       "                var nbb_formatted_code = \"pred = algo.predict(uid=1, iid=1)\\npred\";\n",
       "                var nbb_cells = Jupyter.notebook.get_cells();\n",
       "                for (var i = 0; i < nbb_cells.length; ++i) {\n",
       "                    if (nbb_cells[i].input_prompt_number == nbb_cell_id) {\n",
       "                        if (nbb_cells[i].get_text() == nbb_unformatted_code) {\n",
       "                             nbb_cells[i].set_text(nbb_formatted_code);\n",
       "                        }\n",
       "                        break;\n",
       "                    }\n",
       "                }\n",
       "            }, 500);\n",
       "            "
      ],
      "text/plain": [
       "<IPython.core.display.Javascript object>"
      ]
     },
     "metadata": {},
     "output_type": "display_data"
    }
   ],
   "source": [
    "pred = algo.predict(uid=1, iid=1)\n",
    "pred"
   ]
  },
  {
   "cell_type": "markdown",
   "id": "a081007b",
   "metadata": {},
   "source": [
    "# Item based"
   ]
  },
  {
   "cell_type": "code",
   "execution_count": 25,
   "id": "cda3a61b",
   "metadata": {},
   "outputs": [
    {
     "data": {
      "text/html": [
       "<div>\n",
       "<style scoped>\n",
       "    .dataframe tbody tr th:only-of-type {\n",
       "        vertical-align: middle;\n",
       "    }\n",
       "\n",
       "    .dataframe tbody tr th {\n",
       "        vertical-align: top;\n",
       "    }\n",
       "\n",
       "    .dataframe thead th {\n",
       "        text-align: right;\n",
       "    }\n",
       "</style>\n",
       "<table border=\"1\" class=\"dataframe\">\n",
       "  <thead>\n",
       "    <tr style=\"text-align: right;\">\n",
       "      <th>user_id</th>\n",
       "      <th>1</th>\n",
       "      <th>2</th>\n",
       "    </tr>\n",
       "    <tr>\n",
       "      <th>item_id</th>\n",
       "      <th></th>\n",
       "      <th></th>\n",
       "    </tr>\n",
       "  </thead>\n",
       "  <tbody>\n",
       "    <tr>\n",
       "      <th>1</th>\n",
       "      <td>1.0</td>\n",
       "      <td>3.0</td>\n",
       "    </tr>\n",
       "    <tr>\n",
       "      <th>2</th>\n",
       "      <td>2.0</td>\n",
       "      <td>5.0</td>\n",
       "    </tr>\n",
       "    <tr>\n",
       "      <th>3</th>\n",
       "      <td>4.0</td>\n",
       "      <td>NaN</td>\n",
       "    </tr>\n",
       "  </tbody>\n",
       "</table>\n",
       "</div>"
      ],
      "text/plain": [
       "user_id    1    2\n",
       "item_id          \n",
       "1        1.0  3.0\n",
       "2        2.0  5.0\n",
       "3        4.0  NaN"
      ]
     },
     "execution_count": 25,
     "metadata": {},
     "output_type": "execute_result"
    },
    {
     "data": {
      "application/javascript": [
       "\n",
       "            setTimeout(function() {\n",
       "                var nbb_cell_id = 25;\n",
       "                var nbb_unformatted_code = \"item_user_matrix = df.pivot_table(index=\\\"item_id\\\", columns=\\\"user_id\\\", values=\\\"rating\\\")\\nitem_user_matrix\";\n",
       "                var nbb_formatted_code = \"item_user_matrix = df.pivot_table(index=\\\"item_id\\\", columns=\\\"user_id\\\", values=\\\"rating\\\")\\nitem_user_matrix\";\n",
       "                var nbb_cells = Jupyter.notebook.get_cells();\n",
       "                for (var i = 0; i < nbb_cells.length; ++i) {\n",
       "                    if (nbb_cells[i].input_prompt_number == nbb_cell_id) {\n",
       "                        if (nbb_cells[i].get_text() == nbb_unformatted_code) {\n",
       "                             nbb_cells[i].set_text(nbb_formatted_code);\n",
       "                        }\n",
       "                        break;\n",
       "                    }\n",
       "                }\n",
       "            }, 500);\n",
       "            "
      ],
      "text/plain": [
       "<IPython.core.display.Javascript object>"
      ]
     },
     "metadata": {},
     "output_type": "display_data"
    }
   ],
   "source": [
    "item_user_matrix = df.pivot_table(index=\"item_id\", columns=\"user_id\", values=\"rating\")\n",
    "item_user_matrix"
   ]
  },
  {
   "cell_type": "code",
   "execution_count": 26,
   "id": "07ace0ad",
   "metadata": {},
   "outputs": [
    {
     "data": {
      "application/javascript": [
       "\n",
       "            setTimeout(function() {\n",
       "                var nbb_cell_id = 26;\n",
       "                var nbb_unformatted_code = \"def get_cosine_similarity(df: pd.DataFrame) -> pd.DataFrame:\\n    df.fillna(0, inplace=True)\\n\\n    # create an empty dataframe to store the similarity score\\n    similarity_df = pd.DataFrame(index=df.index, columns=df.index)\\n\\n    # compute the cosine similarity\\n    for i in range(0, len(similarity_df.columns)):\\n        for j in range(0, len(similarity_df.columns)):\\n            similarity_df.iloc[i, j] = np.dot(df.iloc[i], df.iloc[j]) / (\\n                np.sqrt(np.dot(df.iloc[i], df.iloc[i]))\\n                * np.sqrt(np.dot(df.iloc[j], df.iloc[j]))\\n            )\\n\\n    return similarity_df\";\n",
       "                var nbb_formatted_code = \"def get_cosine_similarity(df: pd.DataFrame) -> pd.DataFrame:\\n    df.fillna(0, inplace=True)\\n\\n    # create an empty dataframe to store the similarity score\\n    similarity_df = pd.DataFrame(index=df.index, columns=df.index)\\n\\n    # compute the cosine similarity\\n    for i in range(0, len(similarity_df.columns)):\\n        for j in range(0, len(similarity_df.columns)):\\n            similarity_df.iloc[i, j] = np.dot(df.iloc[i], df.iloc[j]) / (\\n                np.sqrt(np.dot(df.iloc[i], df.iloc[i]))\\n                * np.sqrt(np.dot(df.iloc[j], df.iloc[j]))\\n            )\\n\\n    return similarity_df\";\n",
       "                var nbb_cells = Jupyter.notebook.get_cells();\n",
       "                for (var i = 0; i < nbb_cells.length; ++i) {\n",
       "                    if (nbb_cells[i].input_prompt_number == nbb_cell_id) {\n",
       "                        if (nbb_cells[i].get_text() == nbb_unformatted_code) {\n",
       "                             nbb_cells[i].set_text(nbb_formatted_code);\n",
       "                        }\n",
       "                        break;\n",
       "                    }\n",
       "                }\n",
       "            }, 500);\n",
       "            "
      ],
      "text/plain": [
       "<IPython.core.display.Javascript object>"
      ]
     },
     "metadata": {},
     "output_type": "display_data"
    }
   ],
   "source": [
    "def get_cosine_similarity(df: pd.DataFrame) -> pd.DataFrame:\n",
    "    df.fillna(0, inplace=True)\n",
    "\n",
    "    # create an empty dataframe to store the similarity score\n",
    "    similarity_df = pd.DataFrame(index=df.index, columns=df.index)\n",
    "\n",
    "    # compute the cosine similarity\n",
    "    for i in range(0, len(similarity_df.columns)):\n",
    "        for j in range(0, len(similarity_df.columns)):\n",
    "            similarity_df.iloc[i, j] = np.dot(df.iloc[i], df.iloc[j]) / (\n",
    "                np.sqrt(np.dot(df.iloc[i], df.iloc[i]))\n",
    "                * np.sqrt(np.dot(df.iloc[j], df.iloc[j]))\n",
    "            )\n",
    "\n",
    "    return similarity_df"
   ]
  },
  {
   "cell_type": "code",
   "execution_count": 56,
   "id": "a6e0d039",
   "metadata": {},
   "outputs": [
    {
     "data": {
      "text/html": [
       "<div>\n",
       "<style scoped>\n",
       "    .dataframe tbody tr th:only-of-type {\n",
       "        vertical-align: middle;\n",
       "    }\n",
       "\n",
       "    .dataframe tbody tr th {\n",
       "        vertical-align: top;\n",
       "    }\n",
       "\n",
       "    .dataframe thead th {\n",
       "        text-align: right;\n",
       "    }\n",
       "</style>\n",
       "<table border=\"1\" class=\"dataframe\">\n",
       "  <thead>\n",
       "    <tr style=\"text-align: right;\">\n",
       "      <th>item_id</th>\n",
       "      <th>1</th>\n",
       "      <th>2</th>\n",
       "      <th>3</th>\n",
       "    </tr>\n",
       "    <tr>\n",
       "      <th>item_id</th>\n",
       "      <th></th>\n",
       "      <th></th>\n",
       "      <th></th>\n",
       "    </tr>\n",
       "  </thead>\n",
       "  <tbody>\n",
       "    <tr>\n",
       "      <th>1</th>\n",
       "      <td>1.0</td>\n",
       "      <td>0.998274</td>\n",
       "      <td>0.316228</td>\n",
       "    </tr>\n",
       "    <tr>\n",
       "      <th>2</th>\n",
       "      <td>0.998274</td>\n",
       "      <td>1.0</td>\n",
       "      <td>0.371391</td>\n",
       "    </tr>\n",
       "    <tr>\n",
       "      <th>3</th>\n",
       "      <td>0.316228</td>\n",
       "      <td>0.371391</td>\n",
       "      <td>1.0</td>\n",
       "    </tr>\n",
       "  </tbody>\n",
       "</table>\n",
       "</div>"
      ],
      "text/plain": [
       "item_id         1         2         3\n",
       "item_id                              \n",
       "1             1.0  0.998274  0.316228\n",
       "2        0.998274       1.0  0.371391\n",
       "3        0.316228  0.371391       1.0"
      ]
     },
     "execution_count": 56,
     "metadata": {},
     "output_type": "execute_result"
    },
    {
     "data": {
      "application/javascript": [
       "\n",
       "            setTimeout(function() {\n",
       "                var nbb_cell_id = 56;\n",
       "                var nbb_unformatted_code = \"similarity_df = get_cosine_similarity(item_user_matrix)\\nsimilarity_df\";\n",
       "                var nbb_formatted_code = \"similarity_df = get_cosine_similarity(item_user_matrix)\\nsimilarity_df\";\n",
       "                var nbb_cells = Jupyter.notebook.get_cells();\n",
       "                for (var i = 0; i < nbb_cells.length; ++i) {\n",
       "                    if (nbb_cells[i].input_prompt_number == nbb_cell_id) {\n",
       "                        if (nbb_cells[i].get_text() == nbb_unformatted_code) {\n",
       "                             nbb_cells[i].set_text(nbb_formatted_code);\n",
       "                        }\n",
       "                        break;\n",
       "                    }\n",
       "                }\n",
       "            }, 500);\n",
       "            "
      ],
      "text/plain": [
       "<IPython.core.display.Javascript object>"
      ]
     },
     "metadata": {},
     "output_type": "display_data"
    }
   ],
   "source": [
    "similarity_df = get_cosine_similarity(item_user_matrix)\n",
    "similarity_df"
   ]
  },
  {
   "cell_type": "code",
   "execution_count": 55,
   "id": "b3262952",
   "metadata": {},
   "outputs": [
    {
     "data": {
      "text/plain": [
       "array([[1.      , 0.998274, 0.316228],\n",
       "       [0.998274, 1.      , 0.371391],\n",
       "       [0.316228, 0.371391, 1.      ]])"
      ]
     },
     "execution_count": 55,
     "metadata": {},
     "output_type": "execute_result"
    },
    {
     "data": {
      "application/javascript": [
       "\n",
       "            setTimeout(function() {\n",
       "                var nbb_cell_id = 55;\n",
       "                var nbb_unformatted_code = \"np.round(cosine_similarity(item_user_matrix.fillna(0)), 6)\";\n",
       "                var nbb_formatted_code = \"np.round(cosine_similarity(item_user_matrix.fillna(0)), 6)\";\n",
       "                var nbb_cells = Jupyter.notebook.get_cells();\n",
       "                for (var i = 0; i < nbb_cells.length; ++i) {\n",
       "                    if (nbb_cells[i].input_prompt_number == nbb_cell_id) {\n",
       "                        if (nbb_cells[i].get_text() == nbb_unformatted_code) {\n",
       "                             nbb_cells[i].set_text(nbb_formatted_code);\n",
       "                        }\n",
       "                        break;\n",
       "                    }\n",
       "                }\n",
       "            }, 500);\n",
       "            "
      ],
      "text/plain": [
       "<IPython.core.display.Javascript object>"
      ]
     },
     "metadata": {},
     "output_type": "display_data"
    }
   ],
   "source": [
    "np.round(cosine_similarity(item_user_matrix.fillna(0)), 6)"
   ]
  },
  {
   "cell_type": "code",
   "execution_count": 81,
   "id": "3fb789e0",
   "metadata": {},
   "outputs": [
    {
     "data": {
      "application/javascript": [
       "\n",
       "            setTimeout(function() {\n",
       "                var nbb_cell_id = 81;\n",
       "                var nbb_unformatted_code = \"def predict_rating(iid: int, uid: int) -> float:\\n    \\n    global item_user_matrix\\n    \\n    similarity_matrix = np.round(cosine_similarity(item_user_matrix.fillna(0)), 6)\\n    \\n    similarity_df_index = similarity_matrix.shape[0] + 1\\n    similarity_df = pd.DataFrame(similarity_matrix, index=range(1, similarity_df_index), columns=range(1, similarity_df_index))\\n    \\n    # Get the similar items to the given item\\n    similar_items = similarity_df[iid]\\n\\n    # Get the ratings of the similar items by the given user\\n    ratings = item_user_matrix[uid]\\n\\n    # Get the indices of the non-NA ratings\\n    idx = ratings.notna()\\n\\n    # Calculate the predicted rating\\n    pred = similar_items[idx].dot(ratings[idx]) / similar_items[idx].sum()\\n\\n    return pred\";\n",
       "                var nbb_formatted_code = \"def predict_rating(iid: int, uid: int) -> float:\\n    global item_user_matrix\\n\\n    similarity_matrix = np.round(cosine_similarity(item_user_matrix.fillna(0)), 6)\\n\\n    similarity_df_index = similarity_matrix.shape[0] + 1\\n    similarity_df = pd.DataFrame(\\n        similarity_matrix,\\n        index=range(1, similarity_df_index),\\n        columns=range(1, similarity_df_index),\\n    )\\n\\n    # Get the similar items to the given item\\n    similar_items = similarity_df[iid]\\n\\n    # Get the ratings of the similar items by the given user\\n    ratings = item_user_matrix[uid]\\n\\n    # Get the indices of the non-NA ratings\\n    idx = ratings.notna()\\n\\n    # Calculate the predicted rating\\n    pred = similar_items[idx].dot(ratings[idx]) / similar_items[idx].sum()\\n\\n    return pred\";\n",
       "                var nbb_cells = Jupyter.notebook.get_cells();\n",
       "                for (var i = 0; i < nbb_cells.length; ++i) {\n",
       "                    if (nbb_cells[i].input_prompt_number == nbb_cell_id) {\n",
       "                        if (nbb_cells[i].get_text() == nbb_unformatted_code) {\n",
       "                             nbb_cells[i].set_text(nbb_formatted_code);\n",
       "                        }\n",
       "                        break;\n",
       "                    }\n",
       "                }\n",
       "            }, 500);\n",
       "            "
      ],
      "text/plain": [
       "<IPython.core.display.Javascript object>"
      ]
     },
     "metadata": {},
     "output_type": "display_data"
    }
   ],
   "source": [
    "def predict_rating(iid: int, uid: int) -> float:\n",
    "    \n",
    "    global item_user_matrix\n",
    "    \n",
    "    similarity_matrix = np.round(cosine_similarity(item_user_matrix.fillna(0)), 6)\n",
    "    \n",
    "    similarity_df_index = similarity_matrix.shape[0] + 1\n",
    "    similarity_df = pd.DataFrame(similarity_matrix, index=range(1, similarity_df_index), columns=range(1, similarity_df_index))\n",
    "    \n",
    "    # Get the similar items to the given item\n",
    "    similar_items = similarity_df[iid]\n",
    "\n",
    "    # Get the ratings of the similar items by the given user\n",
    "    ratings = item_user_matrix[uid]\n",
    "\n",
    "    # Get the indices of the non-NA ratings\n",
    "    idx = ratings.notna()\n",
    "\n",
    "    # Calculate the predicted rating\n",
    "    pred = similar_items[idx].dot(ratings[idx]) / similar_items[idx].sum()\n",
    "\n",
    "    return pred\n",
    "\n",
    "\n"
   ]
  },
  {
   "cell_type": "code",
   "execution_count": 80,
   "id": "c64461c5",
   "metadata": {},
   "outputs": [
    {
     "name": "stdout",
     "output_type": "stream",
     "text": [
      "1.892182228289653\n"
     ]
    },
    {
     "data": {
      "application/javascript": [
       "\n",
       "            setTimeout(function() {\n",
       "                var nbb_cell_id = 80;\n",
       "                var nbb_unformatted_code = \"IID = 2\\nUID = 1\\nprint(predict_rating(iid=IID, uid=UID)) # prints the predicted rating for item 1 by user 1\";\n",
       "                var nbb_formatted_code = \"IID = 2\\nUID = 1\\nprint(\\n    predict_rating(iid=IID, uid=UID)\\n)  # prints the predicted rating for item 1 by user 1\";\n",
       "                var nbb_cells = Jupyter.notebook.get_cells();\n",
       "                for (var i = 0; i < nbb_cells.length; ++i) {\n",
       "                    if (nbb_cells[i].input_prompt_number == nbb_cell_id) {\n",
       "                        if (nbb_cells[i].get_text() == nbb_unformatted_code) {\n",
       "                             nbb_cells[i].set_text(nbb_formatted_code);\n",
       "                        }\n",
       "                        break;\n",
       "                    }\n",
       "                }\n",
       "            }, 500);\n",
       "            "
      ],
      "text/plain": [
       "<IPython.core.display.Javascript object>"
      ]
     },
     "metadata": {},
     "output_type": "display_data"
    }
   ],
   "source": [
    "IID = 2\n",
    "UID = 1\n",
    "print(\n",
    "    predict_rating(iid=IID, uid=UID)\n",
    ")  # prints the predicted rating for item 1 by user 1"
   ]
  },
  {
   "cell_type": "code",
   "execution_count": 77,
   "id": "c642bbbe",
   "metadata": {},
   "outputs": [
    {
     "data": {
      "text/html": [
       "<div>\n",
       "<style scoped>\n",
       "    .dataframe tbody tr th:only-of-type {\n",
       "        vertical-align: middle;\n",
       "    }\n",
       "\n",
       "    .dataframe tbody tr th {\n",
       "        vertical-align: top;\n",
       "    }\n",
       "\n",
       "    .dataframe thead th {\n",
       "        text-align: right;\n",
       "    }\n",
       "</style>\n",
       "<table border=\"1\" class=\"dataframe\">\n",
       "  <thead>\n",
       "    <tr style=\"text-align: right;\">\n",
       "      <th>item_id</th>\n",
       "      <th>1</th>\n",
       "      <th>2</th>\n",
       "      <th>3</th>\n",
       "    </tr>\n",
       "    <tr>\n",
       "      <th>item_id</th>\n",
       "      <th></th>\n",
       "      <th></th>\n",
       "      <th></th>\n",
       "    </tr>\n",
       "  </thead>\n",
       "  <tbody>\n",
       "    <tr>\n",
       "      <th>1</th>\n",
       "      <td>1.0</td>\n",
       "      <td>0.998274</td>\n",
       "      <td>0.316228</td>\n",
       "    </tr>\n",
       "    <tr>\n",
       "      <th>2</th>\n",
       "      <td>0.998274</td>\n",
       "      <td>1.0</td>\n",
       "      <td>0.371391</td>\n",
       "    </tr>\n",
       "    <tr>\n",
       "      <th>3</th>\n",
       "      <td>0.316228</td>\n",
       "      <td>0.371391</td>\n",
       "      <td>1.0</td>\n",
       "    </tr>\n",
       "  </tbody>\n",
       "</table>\n",
       "</div>"
      ],
      "text/plain": [
       "item_id         1         2         3\n",
       "item_id                              \n",
       "1             1.0  0.998274  0.316228\n",
       "2        0.998274       1.0  0.371391\n",
       "3        0.316228  0.371391       1.0"
      ]
     },
     "metadata": {},
     "output_type": "display_data"
    },
    {
     "data": {
      "text/plain": [
       "item_id\n",
       "1    0.998274\n",
       "2         1.0\n",
       "3    0.371391\n",
       "Name: 2, dtype: object"
      ]
     },
     "metadata": {},
     "output_type": "display_data"
    },
    {
     "data": {
      "text/plain": [
       "1.8921790797874807"
      ]
     },
     "execution_count": 77,
     "metadata": {},
     "output_type": "execute_result"
    },
    {
     "data": {
      "application/javascript": [
       "\n",
       "            setTimeout(function() {\n",
       "                var nbb_cell_id = 77;\n",
       "                var nbb_unformatted_code = \"similarity_df = get_cosine_similarity(item_user_matrix)\\ndisplay(similarity_df)\\n\\nweights = similarity_df.loc[IID, :]  # cosine similarity of items with item IID\\ndisplay(weights)\\n\\nnp.round(np.dot(item_user_matrix.loc[:, UID], weights), 5) / np.round(weights.sum(), 5)\";\n",
       "                var nbb_formatted_code = \"similarity_df = get_cosine_similarity(item_user_matrix)\\ndisplay(similarity_df)\\n\\nweights = similarity_df.loc[IID, :]  # cosine similarity of items with item IID\\ndisplay(weights)\\n\\nnp.round(np.dot(item_user_matrix.loc[:, UID], weights), 5) / np.round(weights.sum(), 5)\";\n",
       "                var nbb_cells = Jupyter.notebook.get_cells();\n",
       "                for (var i = 0; i < nbb_cells.length; ++i) {\n",
       "                    if (nbb_cells[i].input_prompt_number == nbb_cell_id) {\n",
       "                        if (nbb_cells[i].get_text() == nbb_unformatted_code) {\n",
       "                             nbb_cells[i].set_text(nbb_formatted_code);\n",
       "                        }\n",
       "                        break;\n",
       "                    }\n",
       "                }\n",
       "            }, 500);\n",
       "            "
      ],
      "text/plain": [
       "<IPython.core.display.Javascript object>"
      ]
     },
     "metadata": {},
     "output_type": "display_data"
    }
   ],
   "source": [
    "similarity_df = get_cosine_similarity(item_user_matrix)\n",
    "display(similarity_df)\n",
    "\n",
    "weights = similarity_df.loc[IID, :]  # cosine similarity of items with item IID\n",
    "display(weights)\n",
    "\n",
    "np.round(np.dot(item_user_matrix.loc[:, UID], weights), 5) / np.round(weights.sum(), 5)"
   ]
  },
  {
   "cell_type": "markdown",
   "id": "a335ae27",
   "metadata": {},
   "source": [
    "# User based"
   ]
  },
  {
   "cell_type": "code",
   "execution_count": 14,
   "id": "f11efe58",
   "metadata": {},
   "outputs": [
    {
     "data": {
      "text/html": [
       "<div>\n",
       "<style scoped>\n",
       "    .dataframe tbody tr th:only-of-type {\n",
       "        vertical-align: middle;\n",
       "    }\n",
       "\n",
       "    .dataframe tbody tr th {\n",
       "        vertical-align: top;\n",
       "    }\n",
       "\n",
       "    .dataframe thead th {\n",
       "        text-align: right;\n",
       "    }\n",
       "</style>\n",
       "<table border=\"1\" class=\"dataframe\">\n",
       "  <thead>\n",
       "    <tr style=\"text-align: right;\">\n",
       "      <th>item_id</th>\n",
       "      <th>1</th>\n",
       "      <th>2</th>\n",
       "      <th>3</th>\n",
       "    </tr>\n",
       "    <tr>\n",
       "      <th>user_id</th>\n",
       "      <th></th>\n",
       "      <th></th>\n",
       "      <th></th>\n",
       "    </tr>\n",
       "  </thead>\n",
       "  <tbody>\n",
       "    <tr>\n",
       "      <th>1</th>\n",
       "      <td>1.0</td>\n",
       "      <td>2.0</td>\n",
       "      <td>4.0</td>\n",
       "    </tr>\n",
       "    <tr>\n",
       "      <th>2</th>\n",
       "      <td>3.0</td>\n",
       "      <td>5.0</td>\n",
       "      <td>NaN</td>\n",
       "    </tr>\n",
       "  </tbody>\n",
       "</table>\n",
       "</div>"
      ],
      "text/plain": [
       "item_id    1    2    3\n",
       "user_id               \n",
       "1        1.0  2.0  4.0\n",
       "2        3.0  5.0  NaN"
      ]
     },
     "execution_count": 14,
     "metadata": {},
     "output_type": "execute_result"
    },
    {
     "data": {
      "application/javascript": [
       "\n",
       "            setTimeout(function() {\n",
       "                var nbb_cell_id = 14;\n",
       "                var nbb_unformatted_code = \"user_item_matrix = df.pivot_table(index=\\\"user_id\\\", columns=\\\"item_id\\\", values=\\\"rating\\\")\\nuser_item_matrix\";\n",
       "                var nbb_formatted_code = \"user_item_matrix = df.pivot_table(index=\\\"user_id\\\", columns=\\\"item_id\\\", values=\\\"rating\\\")\\nuser_item_matrix\";\n",
       "                var nbb_cells = Jupyter.notebook.get_cells();\n",
       "                for (var i = 0; i < nbb_cells.length; ++i) {\n",
       "                    if (nbb_cells[i].input_prompt_number == nbb_cell_id) {\n",
       "                        if (nbb_cells[i].get_text() == nbb_unformatted_code) {\n",
       "                             nbb_cells[i].set_text(nbb_formatted_code);\n",
       "                        }\n",
       "                        break;\n",
       "                    }\n",
       "                }\n",
       "            }, 500);\n",
       "            "
      ],
      "text/plain": [
       "<IPython.core.display.Javascript object>"
      ]
     },
     "metadata": {},
     "output_type": "display_data"
    }
   ],
   "source": [
    "user_item_matrix = df.pivot_table(index=\"user_id\", columns=\"item_id\", values=\"rating\")\n",
    "user_item_matrix"
   ]
  },
  {
   "cell_type": "code",
   "execution_count": 79,
   "id": "07ca79db",
   "metadata": {},
   "outputs": [
    {
     "data": {
      "text/plain": [
       "1.6545694521339538"
      ]
     },
     "execution_count": 79,
     "metadata": {},
     "output_type": "execute_result"
    },
    {
     "data": {
      "application/javascript": [
       "\n",
       "            setTimeout(function() {\n",
       "                var nbb_cell_id = 79;\n",
       "                var nbb_unformatted_code = \"def get_prediction(uid: int, iid: int) -> float:\\n    global user_item_matrix\\n\\n    similarity_matrix = np.round(cosine_similarity(user_item_matrix.fillna(0)), 6)\\n    \\n    similarity_df_index = similarity_matrix.shape[0] + 1\\n    similarity_df = pd.DataFrame(similarity_matrix, index=range(1, similarity_df_index), columns=range(1, similarity_df_index))\\n    \\n\\n    # Get similar users\\n    similar_users = similarity_df[uid]\\n\\n    # Get ratings from similar users\\n    ratings = user_item_matrix[iid]\\n\\n    # Get the indices of the non-NA ratings\\n    idx = ratings.notna()\\n\\n    # Calculate the predicted rating\\n    pred = similar_users[idx].dot(ratings[idx]) / similar_users[idx].sum()\\n\\n    return pred\\n\\n\\nget_prediction(uid=1, iid=1)\";\n",
       "                var nbb_formatted_code = \"def get_prediction(uid: int, iid: int) -> float:\\n    global user_item_matrix\\n\\n    similarity_matrix = np.round(cosine_similarity(user_item_matrix.fillna(0)), 6)\\n\\n    similarity_df_index = similarity_matrix.shape[0] + 1\\n    similarity_df = pd.DataFrame(\\n        similarity_matrix,\\n        index=range(1, similarity_df_index),\\n        columns=range(1, similarity_df_index),\\n    )\\n\\n    # Get similar users\\n    similar_users = similarity_df[uid]\\n\\n    # Get ratings from similar users\\n    ratings = user_item_matrix[iid]\\n\\n    # Get the indices of the non-NA ratings\\n    idx = ratings.notna()\\n\\n    # Calculate the predicted rating\\n    pred = similar_users[idx].dot(ratings[idx]) / similar_users[idx].sum()\\n\\n    return pred\\n\\n\\nget_prediction(uid=1, iid=1)\";\n",
       "                var nbb_cells = Jupyter.notebook.get_cells();\n",
       "                for (var i = 0; i < nbb_cells.length; ++i) {\n",
       "                    if (nbb_cells[i].input_prompt_number == nbb_cell_id) {\n",
       "                        if (nbb_cells[i].get_text() == nbb_unformatted_code) {\n",
       "                             nbb_cells[i].set_text(nbb_formatted_code);\n",
       "                        }\n",
       "                        break;\n",
       "                    }\n",
       "                }\n",
       "            }, 500);\n",
       "            "
      ],
      "text/plain": [
       "<IPython.core.display.Javascript object>"
      ]
     },
     "metadata": {},
     "output_type": "display_data"
    }
   ],
   "source": [
    "def get_prediction(uid: int, iid: int) -> float:\n",
    "    global user_item_matrix\n",
    "\n",
    "    similarity_matrix = np.round(cosine_similarity(user_item_matrix.fillna(0)), 6)\n",
    "\n",
    "    similarity_df_index = similarity_matrix.shape[0] + 1\n",
    "    similarity_df = pd.DataFrame(\n",
    "        similarity_matrix,\n",
    "        index=range(1, similarity_df_index),\n",
    "        columns=range(1, similarity_df_index),\n",
    "    )\n",
    "\n",
    "    # Get similar users\n",
    "    similar_users = similarity_df[uid]\n",
    "\n",
    "    # Get ratings from similar users\n",
    "    ratings = user_item_matrix[iid]\n",
    "\n",
    "    # Get the indices of the non-NA ratings\n",
    "    idx = ratings.notna()\n",
    "\n",
    "    # Calculate the predicted rating\n",
    "    pred = similar_users[idx].dot(ratings[idx]) / similar_users[idx].sum()\n",
    "\n",
    "    return pred\n",
    "\n",
    "\n",
    "get_prediction(uid=1, iid=1)"
   ]
  },
  {
   "cell_type": "code",
   "execution_count": null,
   "id": "bef72873",
   "metadata": {},
   "outputs": [],
   "source": []
  }
 ],
 "metadata": {
  "kernelspec": {
   "display_name": "Python [conda env:recsys]",
   "language": "python",
   "name": "conda-env-recsys-py"
  },
  "language_info": {
   "codemirror_mode": {
    "name": "ipython",
    "version": 3
   },
   "file_extension": ".py",
   "mimetype": "text/x-python",
   "name": "python",
   "nbconvert_exporter": "python",
   "pygments_lexer": "ipython3",
   "version": "3.9.15"
  }
 },
 "nbformat": 4,
 "nbformat_minor": 5
}
